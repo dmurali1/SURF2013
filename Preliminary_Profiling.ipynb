{
 "metadata": {
  "name": "Preliminary_Profiling"
 },
 "nbformat": 3,
 "nbformat_minor": 0,
 "worksheets": [
  {
   "cells": [
    {
     "cell_type": "markdown",
     "metadata": {},
     "source": [
      "Initial fiPy code for a coupled diffusion problem"
     ]
    },
    {
     "cell_type": "code",
     "collapsed": false,
     "input": [
      "from fipy import Grid1D, CellVariable, TransientTerm, DiffusionTerm, Viewer\n",
      "import cProfile\n",
      "import pstats "
     ],
     "language": "python",
     "metadata": {},
     "outputs": [],
     "prompt_number": 1
    },
    {
     "cell_type": "code",
     "collapsed": false,
     "input": [
      "def Coupled(nx=100):\n",
      "\n",
      "    m = Grid1D(nx=nx, Lx=1.)\n",
      "\n",
      "           \n",
      "    v = CellVariable(mesh=m, hasOld=True, value=[[0.5], [0.5]], elementshape=(2,))\n",
      "                    \n",
      "    v.constrain([[0], [1]], m.facesLeft)\n",
      "    v.constrain([[1], [0]], m.facesRight)\n",
      "                    \n",
      "    eqn = TransientTerm([[1,0], [0,1]]) == DiffusionTerm([[[0.01, -1], [1, 0.01]]])\n",
      "                    \n",
      "    for t in range(10):\n",
      "        v.updateOld()\n",
      "        eqn.solve(var=v, dt=1.e-3)\n",
      "       \n"
     ],
     "language": "python",
     "metadata": {},
     "outputs": [],
     "prompt_number": 2
    },
    {
     "cell_type": "markdown",
     "metadata": {},
     "source": [
      "Runs python profiler and prints first 20 lines of output "
     ]
    },
    {
     "cell_type": "code",
     "collapsed": false,
     "input": [
      "def getProfileStats(nx=100, regenerate=False):\n",
      "    import os \n",
      "    filename = \"data/coupled{nx}.stats\".format(nx=nx)\n",
      "    if not os.path.exists(filename) or regenerate:\n",
      "        cProfile.run('Coupled(nx={nx})'.format(nx=nx), filename=filename)\n",
      "    return pstats.Stats(filename)\n",
      "              "
     ],
     "language": "python",
     "metadata": {},
     "outputs": [],
     "prompt_number": 49
    },
    {
     "cell_type": "code",
     "collapsed": false,
     "input": [
      "print getProfileStats().stats\n"
     ],
     "language": "python",
     "metadata": {},
     "outputs": [
      {
       "output_type": "stream",
       "stream": "stdout",
       "text": [
        "{('/users/ddm1/fipy/fipy/meshes/topologies/gridTopology.py', 77, '_globalOverlappingCellIDs'): (14, 14, 3.4999999999999997e-05, 6.8999999999999997e-05, {('/users/ddm1/fipy/fipy/meshes/abstractMesh.py', 552, '_globalOverlappingCellIDs'): (14, 14, 3.4999999999999997e-05, 6.8999999999999997e-05)}), ('/users/ddm1/fipy/fipy/tools/dimensions/physicalField.py', 1576, '__truediv__'): (2, 2, 3.1000000000000001e-05, 8.7000000000000001e-05, {('/users/ddm1/fipy/fipy/tools/dimensions/physicalField.py', 397, '__truediv__'): (2, 2, 3.1000000000000001e-05, 8.7000000000000001e-05)}), ('/users/ddm1/fipy/fipy/variables/operatorVariable.py', 228, 'shape'): (239, 239, 0.00012299999999999998, 0.00012299999999999998, {('/usr/lib/pymodules/python2.6/numpy/core/fromnumeric.py', 1147, 'shape'): (2, 2, 0.0, 0.0), ('/users/ddm1/fipy/fipy/variables/meshVariable.py', 625, '_getitemClass'): (8, 8, 4.9999999999999996e-06, 4.9999999999999996e-06), ('/users/ddm1/fipy/fipy/variables/variable.py', 1098, '_BinaryOperatorVariable'): (38, 38, 2.4000000000000001e-05, 2.4000000000000001e-05), ('/users/ddm1/fipy/fipy/variables/variable.py', 1556, '__getitem__'): (16, 16, 1.2999999999999999e-05, 1.2999999999999999e-05), ('/users/ddm1/fipy/fipy/variables/variable.py', 1008, '_broadcastShape'): (48, 48, 2.4999999999999998e-05, 2.4999999999999998e-05), ('/users/ddm1/fipy/fipy/variables/variable.py', 1054, '_UnaryOperatorVariable'): (1, 1, 0.0, 0.0), ('/users/ddm1/fipy/fipy/variables/addOverFacesVariable.py', 42, '__init__'): (3, 3, 1.9999999999999999e-06, 1.9999999999999999e-06), ('/users/ddm1/fipy/fipy/tools/numerix.py', 199, 'getShape'): (35, 35, 1.2999999999999999e-05, 1.2999999999999999e-05), ('/users/ddm1/fipy/fipy/variables/faceVariable.py', 82, 'divergence'): (3, 3, 1.9999999999999999e-06, 1.9999999999999999e-06), ('~', 0, '<hasattr>'): (35, 35, 1.7e-05, 1.7e-05), ('/users/ddm1/fipy/fipy/variables/variable.py', 1520, '_axisOperator'): (46, 46, 1.8999999999999998e-05, 1.8999999999999998e-05), ('/users/ddm1/fipy/fipy/terms/abstractDiffusionTerm.py', 281, '_buildMatrix'): (1, 1, 9.9999999999999995e-07, 9.9999999999999995e-07), ('/users/ddm1/fipy/fipy/variables/meshVariable.py', 614, '_axisClass'): (3, 3, 1.9999999999999999e-06, 1.9999999999999999e-06)}), ('/usr/lib/pymodules/python2.6/numpy/ma/core.py', 2777, '__array_finalize__'): (1437, 1437, 0.0044939999999999997, 0.034880000000000001, {('/usr/lib/pymodules/python2.6/numpy/ma/core.py', 2624, '__new__'): (1437, 1437, 0.0044939999999999997, 0.034880000000000001)}), ('/users/ddm1/fipy/fipy/meshes/builders/utilityClasses.py', 158, '<lambda>'): (1, 1, 9.9999999999999995e-07, 9.9999999999999995e-07, {('~', 0, '<map>'): (1, 1, 9.9999999999999995e-07, 9.9999999999999995e-07)}), ('/users/ddm1/fipy/fipy/meshes/uniformGrid1D.py', 294, '_maxFacesPerCell'): (30, 30, 7.9999999999999996e-06, 7.9999999999999996e-06, {('/users/ddm1/fipy/fipy/terms/abstractDiffusionTerm.py', 358, '__higherOrderbuildMatrix'): (10, 10, 9.9999999999999995e-07, 9.9999999999999995e-07), ('/users/ddm1/fipy/fipy/terms/abstractDiffusionTerm.py', 208, '__getCoefficientMatrix'): (10, 10, 3.9999999999999998e-06, 3.9999999999999998e-06), ('/users/ddm1/fipy/fipy/variables/gaussCellGradVariable.py', 110, '_calcValue'): (10, 10, 3.0000000000000001e-06, 3.0000000000000001e-06)}), ('/users/ddm1/fipy/fipy/tools/dimensions/physicalField.py', 972, 'numericValue'): (4, 4, 3.9999999999999998e-06, 1.4e-05, {('/users/ddm1/fipy/fipy/variables/variable.py', 668, '_makeValue'): (4, 4, 3.9999999999999998e-06, 1.4e-05)}), ('/users/ddm1/fipy/fipy/meshes/uniformGrid.py', 47, '_scaledCellVolumes'): (45, 45, 5.5999999999999999e-05, 0.00070599999999999992, {('/users/ddm1/fipy/fipy/meshes/abstractMesh.py', 128, '<lambda>'): (45, 45, 5.5999999999999999e-05, 0.00070599999999999992)}), ('/users/ddm1/fipy/fipy/variables/meshVariable.py', 517, '_shapeClassAndOther'): (20, 20, 0.00013999999999999999, 0.0057609999999999996, {('/users/ddm1/fipy/fipy/variables/variable.py', 1098, '_BinaryOperatorVariable'): (20, 20, 0.00013999999999999999, 0.0057609999999999996)}), ('/users/ddm1/fipy/fipy/variables/variable.py', 1164, '__truediv__'): (2, 2, 3.0000000000000001e-06, 0.0023159999999999999, {('/users/ddm1/fipy/fipy/terms/abstractDiffusionTerm.py', 281, '_buildMatrix'): (1, 1, 9.9999999999999995e-07, 0.001003), ('/users/ddm1/fipy/fipy/terms/abstractDiffusionTerm.py', 151, '_calcGeomCoeff'): (1, 1, 1.9999999999999999e-06, 0.0013129999999999999)}), ('/users/ddm1/fipy/fipy/terms/abstractDiffusionTerm.py', 49, '__init__'): (2, 4, 5.8e-05, 0.00038499999999999998, {('<ipython-input-2-c8f75f664a5c>', 1, 'Coupled'): (1, 1, 2.4999999999999998e-05, 0.00027499999999999996), ('/users/ddm1/fipy/fipy/terms/abstractDiffusionTerm.py', 49, '__init__'): (2, 2, 1.2e-05, 1.5999999999999999e-05), ('/users/ddm1/fipy/fipy/terms/abstractDiffusionTerm.py', 87, '__neg__'): (1, 1, 2.0999999999999999e-05, 0.00010999999999999999)}), ('/users/ddm1/fipy/fipy/variables/variable.py', 355, '_setName'): (121, 121, 5.3000000000000001e-05, 5.3000000000000001e-05, {('/users/ddm1/fipy/fipy/variables/operatorVariable.py', 45, '__init__'): (121, 121, 5.3000000000000001e-05, 5.3000000000000001e-05)}), ('/users/ddm1/fipy/fipy/variables/cellVariable.py', 136, 'copy'): (1, 1, 1.1e-05, 0.00055400000000000002, {('/users/ddm1/fipy/fipy/variables/cellVariable.py', 67, '__init__'): (1, 1, 1.1e-05, 0.00055400000000000002)}), ('/users/ddm1/fipy/fipy/variables/cellVariable.py', 165, 'setValue'): (10, 10, 4.8000000000000001e-05, 0.0056839999999999998, {('/users/ddm1/fipy/fipy/variables/variable.py', 565, '_setValueProperty'): (10, 10, 4.8000000000000001e-05, 0.0056839999999999998)}), ('/users/ddm1/fipy/fipy/variables/variable.py', 844, '_calcValue'): (1, 1, 0.0, 0.0, {('/users/ddm1/fipy/fipy/variables/variable.py', 522, '_getValue'): (1, 1, 0.0, 0.0)}), ('/usr/lib/pymodules/python2.6/numpy/core/numerictypes.py', 503, '_python_type'): (20, 20, 5.1999999999999997e-05, 6.0999999999999999e-05, {('/usr/lib/pymodules/python2.6/numpy/core/numerictypes.py', 548, 'obj2sctype'): (20, 20, 5.1999999999999997e-05, 6.0999999999999999e-05)}), ('/usr/lib/pymodules/python2.6/numpy/core/fromnumeric.py', 1427, 'alltrue'): (21, 21, 2.3e-05, 0.00012299999999999998, {('/users/ddm1/fipy/fipy/tools/dimensions/physicalField.py', 1479, '_checkSame'): (21, 21, 2.3e-05, 0.00012299999999999998)}), ('/users/ddm1/fipy/fipy/variables/faceVariable.py', 55, '_getArithmeticBaseClass'): (19, 44, 3.1999999999999999e-05, 0.00075900000000000002, {('/users/ddm1/fipy/fipy/variables/variable.py', 1080, '_shapeClassAndOther'): (16, 16, 2.4000000000000001e-05, 0.00075900000000000002), ('/users/ddm1/fipy/fipy/variables/variable.py', 1026, '_getArithmeticBaseClass'): (28, 28, 7.9999999999999996e-06, 7.9999999999999996e-06)}), ('~', 0, \"<method 'sum' of 'numpy.ndarray' objects>\"): (10, 10, 9.7e-05, 9.7e-05, {('/users/ddm1/fipy/fipy/terms/abstractDiffusionTerm.py', 281, '_buildMatrix'): (10, 10, 9.7e-05, 9.7e-05)}), ('/users/ddm1/fipy/fipy/tools/dimensions/NumberDict.py', 54, '__sub__'): (2, 2, 2.1999999999999999e-05, 4.1999999999999998e-05, {('/users/ddm1/fipy/fipy/tools/dimensions/physicalField.py', 1576, '__truediv__'): (2, 2, 2.1999999999999999e-05, 4.1999999999999998e-05)}), ('/users/ddm1/fipy/fipy/variables/faceVariable.py', 44, '_variableClass'): (21, 21, 1.2e-05, 1.2e-05, {('/users/ddm1/fipy/fipy/variables/variable.py', 1048, '_OperatorVariableClass'): (14, 14, 6.0000000000000002e-06, 6.0000000000000002e-06), ('/users/ddm1/fipy/fipy/variables/constraintMask.py', 41, '_ConstraintMask'): (2, 2, 9.9999999999999995e-07, 9.9999999999999995e-07), ('/users/ddm1/fipy/fipy/variables/meshVariable.py', 517, '_shapeClassAndOther'): (5, 5, 4.9999999999999996e-06, 4.9999999999999996e-06)}), ('/users/ddm1/fipy/fipy/meshes/uniformGrid1D.py', 186, '_orientedFaceNormals'): (11, 11, 1.4999999999999999e-05, 0.00021699999999999999, {('/users/ddm1/fipy/fipy/terms/abstractDiffusionTerm.py', 281, '_buildMatrix'): (1, 1, 1.9999999999999999e-06, 2.0999999999999999e-05), ('/users/ddm1/fipy/fipy/variables/faceGradVariable.py', 137, '_calcValueNoInline'): (10, 10, 1.2999999999999999e-05, 0.00019599999999999999)}), ('/users/ddm1/fipy/fipy/variables/variable.py', 132, '__array_wrap__'): (20, 20, 0.000113, 0.0044759999999999999, {('/users/ddm1/fipy/fipy/terms/cellTerm.py', 145, '_buildMatrixNoInline_'): (10, 10, 0.000107, 0.00447), ('/usr/lib/pymodules/python2.6/numpy/core/fromnumeric.py', 32, '_wrapit'): (10, 10, 6.0000000000000002e-06, 6.0000000000000002e-06)}), ('/users/ddm1/fipy/fipy/terms/abstractBinaryTerm.py', 69, '_addNone'): (20, 20, 1.1e-05, 1.1e-05, {('/users/ddm1/fipy/fipy/terms/binaryTerm.py', 101, '_getTransientGeomCoeff'): (10, 10, 6.0000000000000002e-06, 6.0000000000000002e-06), ('/users/ddm1/fipy/fipy/terms/binaryTerm.py', 104, '_getDiffusionGeomCoeff'): (10, 10, 4.9999999999999996e-06, 4.9999999999999996e-06)}), ('~', 0, '<built-in method to_csr>'): (10, 10, 4.3999999999999999e-05, 4.3999999999999999e-05, {('/users/ddm1/fipy/fipy/solvers/pysparse/linearLUSolver.py', 82, '_solve_'): (10, 10, 4.3999999999999999e-05, 4.3999999999999999e-05)}), ('/users/ddm1/fipy/fipy/meshes/builders/grid1DBuilder.py', 53, '_packOverlap'): (1, 1, 9.9999999999999995e-07, 9.9999999999999995e-07, {('/users/ddm1/fipy/fipy/meshes/builders/abstractGridBuilder.py', 274, '_buildOverlap'): (1, 1, 9.9999999999999995e-07, 9.9999999999999995e-07)}), ('/users/ddm1/fipy/fipy/variables/meshVariable.py', 564, '_MeshOperatorVariable'): (36, 36, 0.000117, 0.0012649999999999998, {('/users/ddm1/fipy/fipy/variables/meshVariable.py', 561, '_OperatorVariableClass'): (36, 36, 0.000117, 0.0012649999999999998)}), ('/users/ddm1/fipy/fipy/meshes/abstractMesh.py', 693, 'facesLeft'): (2, 2, 1.2999999999999999e-05, 0.0042269999999999999, {('/users/ddm1/fipy/fipy/meshes/uniformGrid1D.py', 113, '_setTopology'): (1, 1, 7.9999999999999996e-06, 0.0023289999999999999), ('<ipython-input-2-c8f75f664a5c>', 1, 'Coupled'): (1, 1, 4.9999999999999996e-06, 0.0018979999999999999)}), ('/users/ddm1/fipy/fipy/tools/dimensions/physicalField.py', 637, '__makePhysical'): (2, 2, 6.0000000000000002e-06, 2.8e-05, {('/users/ddm1/fipy/fipy/tools/dimensions/physicalField.py', 614, '__array_wrap__'): (2, 2, 6.0000000000000002e-06, 2.8e-05)}), ('~', 0, \"<method 'copy' of 'numpy.ndarray' objects>\"): (169, 169, 0.00028299999999999999, 0.00028299999999999999, {('/users/ddm1/fipy/fipy/tools/numerix.py', 631, 'indices'): (82, 82, 0.000127, 0.000127), ('/users/ddm1/fipy/fipy/variables/variable.py', 713, 'setValue'): (10, 10, 3.1000000000000001e-05, 3.1000000000000001e-05), ('/users/ddm1/fipy/fipy/variables/cellVariable.py', 526, 'updateOld'): (10, 10, 1.4e-05, 1.4e-05), ('/users/ddm1/fipy/fipy/variables/variable.py', 522, '_getValue'): (67, 67, 0.000111, 0.000111)}), ('/users/ddm1/fipy/fipy/variables/variable.py', 565, '_setValueProperty'): (10, 10, 1.8999999999999998e-05, 0.0057029999999999997, {('/users/ddm1/fipy/fipy/variables/cellVariable.py', 526, 'updateOld'): (10, 10, 1.8999999999999998e-05, 0.0057029999999999997)}), ('/users/ddm1/fipy/fipy/terms/abstractBinaryTerm.py', 90, '_calcVars'): (1, 1, 9.0000000000000002e-06, 1.1e-05, {('/users/ddm1/fipy/fipy/terms/abstractBinaryTerm.py', 93, '_vars'): (1, 1, 9.0000000000000002e-06, 1.1e-05)}), ('/users/ddm1/fipy/fipy/meshes/factoryMeshes.py', 169, 'Grid1D'): (1, 1, 2.4000000000000001e-05, 0.0056949999999999995, {('<ipython-input-2-c8f75f664a5c>', 1, 'Coupled'): (1, 1, 2.4000000000000001e-05, 0.0056949999999999995)}), ('/users/ddm1/fipy/fipy/terms/transientTerm.py', 120, '_getTransientGeomCoeff'): (10, 10, 1.9999999999999998e-05, 0.00089499999999999996, {('/users/ddm1/fipy/fipy/terms/binaryTerm.py', 101, '_getTransientGeomCoeff'): (10, 10, 1.9999999999999998e-05, 0.00089499999999999996)}), ('/usr/lib/pymodules/python2.6/numpy/ma/core.py', 3234, '_get_data'): (41, 41, 6.9999999999999994e-05, 6.9999999999999994e-05, {('/usr/lib/pymodules/python2.6/numpy/ma/core.py', 3343, 'filled'): (41, 41, 6.9999999999999994e-05, 6.9999999999999994e-05)}), ('/users/ddm1/fipy/fipy/matrices/pysparseMatrix.py', 46, '__init__'): (40, 40, 2.5999999999999998e-05, 2.5999999999999998e-05, {('/users/ddm1/fipy/fipy/matrices/pysparseMatrix.py', 124, '__mul__'): (10, 10, 7.9999999999999996e-06, 7.9999999999999996e-06), ('/users/ddm1/fipy/fipy/matrices/pysparseMatrix.py', 279, '__init__'): (30, 30, 1.8e-05, 1.8e-05)}), ('/users/ddm1/fipy/fipy/tools/dimensions/physicalField.py', 361, '__mul__'): (1, 1, 1.4999999999999999e-05, 7.0999999999999991e-05, {('/users/ddm1/fipy/fipy/tools/dimensions/physicalField.py', 614, '__array_wrap__'): (1, 1, 1.4999999999999999e-05, 7.0999999999999991e-05)}), ('/users/ddm1/fipy/fipy/variables/variable.py', 879, '_markFresh'): (1193, 1193, 0.0012869999999999999, 0.0080599999999999995, {('/users/ddm1/fipy/fipy/variables/variable.py', 713, 'setValue'): (10, 10, 1.1e-05, 3.1999999999999999e-05), ('/users/ddm1/fipy/fipy/variables/variable.py', 522, '_getValue'): (938, 938, 0.0010119999999999999, 0.0066419999999999995), ('/users/ddm1/fipy/fipy/variables/variable.py', 82, '__init__'): (225, 225, 0.00024099999999999998, 0.00070799999999999997), ('/users/ddm1/fipy/fipy/variables/variable.py', 485, '__setitem__'): (20, 20, 2.3e-05, 0.000678)}), ('/users/ddm1/fipy/fipy/meshes/uniformGrid1D.py', 249, '_faceToCellDistanceRatio'): (10, 10, 7.0999999999999991e-05, 0.00014999999999999999, {('/users/ddm1/fipy/fipy/variables/cellToFaceVariable.py', 47, '_calcValue'): (10, 10, 7.0999999999999991e-05, 0.00014999999999999999)}), ('/users/ddm1/fipy/fipy/variables/addOverFacesVariable.py', 91, '_calcValueNoInline'): (31, 31, 0.0010479999999999999, 0.091167999999999999, {('/users/ddm1/fipy/fipy/variables/addOverFacesVariable.py', 49, '_calcValue'): (31, 31, 0.0010479999999999999, 0.091167999999999999)}), ('/users/ddm1/fipy/fipy/variables/variable.py', 883, '_markStale'): (1015, 1510, 0.0012389999999999999, 0.003313, {('/users/ddm1/fipy/fipy/variables/variable.py', 888, '_requires'): (167, 167, 0.000176, 0.00043299999999999995), ('/users/ddm1/fipy/fipy/variables/variable.py', 868, '__markStale'): (1341, 846, 0.0010609999999999999, 0.0028779999999999999), ('/users/ddm1/fipy/fipy/variables/cellVariable.py', 599, 'constrain'): (2, 2, 1.9999999999999999e-06, 1.9999999999999999e-06)}), ('/users/ddm1/fipy/fipy/variables/variable.py', 149, '__makeVariable'): (20, 20, 3.6000000000000001e-05, 0.00069999999999999999, {('/users/ddm1/fipy/fipy/variables/variable.py', 132, '__array_wrap__'): (20, 20, 3.6000000000000001e-05, 0.00069999999999999999)}), ('/users/ddm1/fipy/fipy/terms/unaryTerm.py', 44, '_vars'): (2, 2, 1.9999999999999999e-06, 1.9999999999999999e-06, {('/users/ddm1/fipy/fipy/terms/abstractBinaryTerm.py', 90, '_calcVars'): (2, 2, 1.9999999999999999e-06, 1.9999999999999999e-06)}), ('/usr/lib/pymodules/python2.6/numpy/core/numeric.py', 201, 'asarray'): (518, 518, 0.00053499999999999999, 0.011108, {('/usr/lib/pymodules/python2.6/numpy/core/fromnumeric.py', 32, '_wrapit'): (20, 20, 2.4000000000000001e-05, 0.00035500000000000001), ('/usr/lib/pymodules/python2.6/numpy/core/numeric.py', 860, 'tensordot'): (324, 324, 0.00029700000000000001, 0.00061699999999999993), ('/usr/lib/pymodules/python2.6/numpy/core/fromnumeric.py', 1010, 'ravel'): (124, 124, 0.000134, 0.00027700000000000001), ('/users/ddm1/fipy/fipy/variables/constraintMask.py', 49, '_calcValue'): (50, 50, 7.9999999999999993e-05, 0.0098589999999999997)}), ('/users/ddm1/fipy/fipy/variables/variable.py', 1354, '__iter__'): (4, 4, 6.9999999999999999e-06, 0.00035299999999999996, {('~', 0, '<min>'): (2, 2, 4.9999999999999996e-06, 0.00018099999999999998), ('~', 0, '<max>'): (2, 2, 1.9999999999999999e-06, 0.00017199999999999998)}), ('/usr/lib/pymodules/python2.6/numpy/ma/core.py', 2624, '__new__'): (1437, 1437, 0.012466, 0.056825000000000001, {('/usr/lib/pymodules/python2.6/numpy/ma/core.py', 5476, 'array'): (1437, 1437, 0.012466, 0.056825000000000001)}), ('/users/ddm1/fipy/fipy/meshes/uniformGrid1D.py', 177, '_faceNormals'): (24, 24, 0.00027499999999999996, 0.000437, {('/users/ddm1/fipy/fipy/meshes/uniformGrid1D.py', 186, '_orientedFaceNormals'): (11, 11, 0.000125, 0.000202), ('/users/ddm1/fipy/fipy/meshes/uniformGrid1D.py', 258, '_areaProjections'): (13, 13, 0.00014999999999999999, 0.00023499999999999999)}), ('/users/ddm1/.virtualenvs/venv1/lib/python2.6/re.py', 139, 'search'): (157, 157, 0.00026899999999999998, 0.00096999999999999994, {('/users/ddm1/fipy/fipy/tools/decorators.py', 225, 'new_name_old_name'): (157, 157, 0.00026899999999999998, 0.00096999999999999994)}), ('/users/ddm1/fipy/fipy/variables/cellVariable.py', 67, '__init__'): (14, 15, 6.3e-05, 0.0032819999999999998, {('/users/ddm1/fipy/fipy/variables/meshVariable.py', 517, '_shapeClassAndOther'): (3, 3, 1.2999999999999999e-05, 0.0013549999999999999), ('<ipython-input-2-c8f75f664a5c>', 1, 'Coupled'): (1, 1, 4.9999999999999996e-06, 0.00074199999999999993), ('/users/ddm1/fipy/fipy/variables/operatorVariable.py', 45, '__init__'): (6, 6, 2.3e-05, 0.00049399999999999997), ('/users/ddm1/fipy/fipy/variables/cellVariable.py', 136, 'copy'): (1, 1, 3.9999999999999998e-06, 0.00053499999999999999), ('/users/ddm1/fipy/fipy/variables/addOverFacesVariable.py', 42, '__init__'): (3, 3, 1.4e-05, 0.00052700000000000002), ('/users/ddm1/fipy/fipy/variables/gaussCellGradVariable.py', 74, '__init__'): (1, 1, 3.9999999999999998e-06, 0.000164)}), ('/usr/lib/pymodules/python2.6/numpy/core/numeric.py', 860, 'tensordot'): (162, 162, 0.0029559999999999999, 0.0057489999999999998, {('/users/ddm1/fipy/fipy/tools/numerix.py', 245, 'sum'): (131, 131, 0.0023699999999999997, 0.0045899999999999995), ('/users/ddm1/fipy/fipy/variables/addOverFacesVariable.py', 91, '_calcValueNoInline'): (31, 31, 0.00058599999999999993, 0.0011589999999999999)}), ('/usr/lib/pymodules/python2.6/numpy/core/fromnumeric.py', 378, 'swapaxes'): (41, 41, 3.7999999999999995e-05, 7.7000000000000001e-05, {('/users/ddm1/fipy/fipy/tools/numerix.py', 631, 'indices'): (41, 41, 3.7999999999999995e-05, 7.7000000000000001e-05)}), ('/users/ddm1/fipy/fipy/variables/variable.py', 650, '_isCached'): (2738, 2738, 0.0019139999999999999, 0.0019139999999999999, {('/users/ddm1/fipy/fipy/variables/operatorVariable.py', 84, '_isCached'): (1469, 1469, 0.000959, 0.000959), ('/users/ddm1/fipy/fipy/variables/variable.py', 522, '_getValue'): (1269, 1269, 0.0009549999999999999, 0.0009549999999999999)}), ('/users/ddm1/fipy/fipy/tools/dimensions/physicalField.py', 614, '__array_wrap__'): (1, 1, 1.1e-05, 0.000113, {('/users/ddm1/fipy/fipy/meshes/builders/grid1DBuilder.py', 66, '_calcPhysicalShape'): (1, 1, 1.1e-05, 0.000113)}), ('/users/ddm1/fipy/fipy/terms/abstractBinaryTerm.py', 47, '__init__'): (1, 1, 6.9999999999999999e-06, 2.5999999999999998e-05, {('/users/ddm1/fipy/fipy/terms/term.py', 402, '__add__'): (1, 1, 6.9999999999999999e-06, 2.5999999999999998e-05)}), ('/users/ddm1/fipy/fipy/variables/unaryOperatorVariable.py', 38, 'unOp'): (86, 86, 0.00015099999999999998, 0.00015099999999999998, {('/users/ddm1/fipy/fipy/variables/unaryOperatorVariable.py', 37, '_UnaryOperatorVariable'): (86, 86, 0.00015099999999999998, 0.00015099999999999998)}), ('/users/ddm1/fipy/fipy/terms/term.py', 473, '_getTransientGeomCoeff'): (10, 10, 3.9999999999999998e-06, 3.9999999999999998e-06, {('/users/ddm1/fipy/fipy/terms/binaryTerm.py', 101, '_getTransientGeomCoeff'): (10, 10, 3.9999999999999998e-06, 3.9999999999999998e-06)}), ('/users/ddm1/fipy/fipy/matrices/offsetSparseMatrix.py', 40, 'OffsetSparseMatrix'): (10, 10, 0.00026600000000000001, 0.00028899999999999998, {('/users/ddm1/fipy/fipy/terms/term.py', 137, '_getMatrixClass'): (10, 10, 0.00026600000000000001, 0.00028899999999999998)}), ('/users/ddm1/fipy/fipy/variables/variable.py', 888, '_requires'): (167, 167, 0.00052399999999999994, 0.0026229999999999999, {('/users/ddm1/fipy/fipy/variables/cellToFaceVariable.py', 43, '__init__'): (1, 1, 3.9999999999999998e-06, 1.4e-05), ('/users/ddm1/fipy/fipy/variables/faceGradContributionsVariable.py', 75, '__init__'): (1, 1, 9.9999999999999995e-07, 1.2999999999999999e-05), ('/users/ddm1/fipy/fipy/variables/faceGradVariable.py', 74, '__init__'): (1, 1, 3.9999999999999998e-06, 1.2999999999999999e-05), ('/users/ddm1/fipy/fipy/variables/cellVariable.py', 599, 'constrain'): (2, 2, 1.8e-05, 0.00043599999999999997), ('/users/ddm1/fipy/fipy/variables/operatorVariable.py', 45, '__init__'): (156, 156, 0.00047799999999999996, 0.0020709999999999999), ('/users/ddm1/fipy/fipy/variables/constraintMask.py', 43, '__init__'): (2, 2, 6.0000000000000002e-06, 2.3e-05), ('/users/ddm1/fipy/fipy/variables/addOverFacesVariable.py', 42, '__init__'): (3, 3, 9.9999999999999991e-06, 3.8999999999999999e-05), ('/users/ddm1/fipy/fipy/variables/gaussCellGradVariable.py', 74, '__init__'): (1, 1, 3.0000000000000001e-06, 1.4e-05)}), ('/users/ddm1/fipy/fipy/matrices/pysparseMatrix.py', 230, 'takeDiagonal'): (10, 10, 3.6999999999999998e-05, 0.00016099999999999998, {('/users/ddm1/fipy/fipy/solvers/pysparse/linearLUSolver.py', 82, '_solve_'): (10, 10, 3.6999999999999998e-05, 0.00016099999999999998)}), ('/users/ddm1/fipy/fipy/tools/numerix.py', 1172, '_broadcastShapes'): (160, 160, 0.0012519999999999999, 0.0040720000000000001, {('/users/ddm1/fipy/fipy/variables/variable.py', 1008, '_broadcastShape'): (66, 66, 0.00057799999999999995, 0.001691), ('/users/ddm1/fipy/fipy/tools/numerix.py', 1205, '_broadcastShape'): (94, 94, 0.00067400000000000001, 0.0023809999999999999)}), ('/users/ddm1/fipy/fipy/variables/variable.py', 1514, 'ravel'): (70, 70, 0.00015099999999999998, 0.10414899999999999, {('/users/ddm1/fipy/fipy/terms/abstractDiffusionTerm.py', 358, '__higherOrderbuildMatrix'): (10, 10, 2.4999999999999998e-05, 8.2999999999999998e-05), ('/users/ddm1/fipy/fipy/terms/cellTerm.py', 145, '_buildMatrixNoInline_'): (40, 40, 8.2000000000000001e-05, 0.0098009999999999989), ('/users/ddm1/fipy/fipy/terms/abstractDiffusionTerm.py', 281, '_buildMatrix'): (20, 20, 4.3999999999999999e-05, 0.094265000000000002)}), ('/users/ddm1/fipy/fipy/variables/variable.py', 911, '_variableClass'): (60, 60, 1.9999999999999998e-05, 1.9999999999999998e-05, {('/users/ddm1/fipy/fipy/variables/variable.py', 1048, '_OperatorVariableClass'): (60, 60, 1.9999999999999998e-05, 1.9999999999999998e-05)}), ('/users/ddm1/fipy/fipy/variables/variable.py', 1141, '<lambda>'): (10, 10, 5.1999999999999997e-05, 5.1999999999999997e-05, {('/users/ddm1/fipy/fipy/variables/binaryOperatorVariable.py', 72, '_calcValue_'): (10, 10, 5.1999999999999997e-05, 5.1999999999999997e-05)}), ('/users/ddm1/fipy/fipy/variables/meshVariable.py', 600, 'rank'): (138, 138, 0.00018999999999999998, 0.00075900000000000002, {('/users/ddm1/fipy/fipy/terms/cellTerm.py', 68, '_checkCoeff'): (3, 3, 4.9999999999999996e-06, 1.7e-05), ('/users/ddm1/fipy/fipy/terms/transientTerm.py', 113, '_calcGeomCoeff'): (1, 1, 9.9999999999999995e-07, 4.9999999999999996e-06), ('/users/ddm1/fipy/fipy/terms/abstractDiffusionTerm.py', 151, '_calcGeomCoeff'): (2, 2, 3.9999999999999998e-06, 1.8e-05), ('/users/ddm1/fipy/fipy/terms/term.py', 131, '_vectorSize'): (132, 132, 0.00017999999999999998, 0.00071900000000000002)}), ('~', 0, '<built-in method take>'): (10, 10, 3.4e-05, 3.4e-05, {('/users/ddm1/fipy/fipy/matrices/pysparseMatrix.py', 225, 'take'): (10, 10, 3.4e-05, 3.4e-05)}), ('/users/ddm1/fipy/fipy/variables/faceGradContributionsVariable.py', 75, '__init__'): (1, 1, 6.0000000000000002e-06, 0.00017899999999999999, {('/users/ddm1/fipy/fipy/variables/gaussCellGradVariable.py', 74, '__init__'): (1, 1, 6.0000000000000002e-06, 0.00017899999999999999)}), ('/users/ddm1/fipy/fipy/terms/term.py', 470, '_getDiffusionGeomCoeff'): (10, 10, 6.0000000000000002e-06, 6.0000000000000002e-06, {('/users/ddm1/fipy/fipy/terms/binaryTerm.py', 104, '_getDiffusionGeomCoeff'): (10, 10, 6.0000000000000002e-06, 6.0000000000000002e-06)}), ('~', 0, '<pysparse.spmatrix.matrixmultiply>'): (10, 10, 0.000457, 0.000457, {('/users/ddm1/fipy/fipy/matrices/pysparseMatrix.py', 124, '__mul__'): (10, 10, 0.000457, 0.000457)}), ('/users/ddm1/fipy/fipy/variables/constraintMask.py', 41, '_ConstraintMask'): (2, 2, 4.8000000000000001e-05, 0.000415, {('/users/ddm1/fipy/fipy/variables/meshVariable.py', 200, 'constraintMask'): (2, 2, 4.8000000000000001e-05, 0.000415)}), ('/usr/lib/pymodules/python2.6/numpy/ma/core.py', 5476, 'array'): (1437, 1437, 0.0054729999999999996, 0.062297999999999999, {('/users/ddm1/fipy/fipy/tools/numerix.py', 245, 'sum'): (131, 131, 0.000504, 0.0057619999999999998), ('/users/ddm1/fipy/fipy/meshes/uniformGrid1D.py', 290, '_cellFaceIDs'): (41, 41, 0.00015899999999999999, 0.0017749999999999999), ('/users/ddm1/fipy/fipy/variables/variable.py', 668, '_makeValue'): (1134, 1134, 0.0043369999999999997, 0.049307999999999998), ('/users/ddm1/fipy/fipy/tools/numerix.py', 590, 'take'): (131, 131, 0.000473, 0.0054529999999999995)}), ('~', 0, '<max>'): (352, 352, 0.00046699999999999997, 0.00063899999999999992, {('/users/ddm1/fipy/fipy/tools/numerix.py', 1192, 'maxzero'): (309, 309, 0.00012799999999999999, 0.00012799999999999999), ('/users/ddm1/fipy/fipy/solvers/pysparse/linearLUSolver.py', 82, '_solve_'): (10, 10, 0.00029, 0.00029), ('/users/ddm1/fipy/fipy/meshes/builders/abstractGridBuilder.py', 50, 'buildGridData'): (1, 1, 9.9999999999999995e-07, 9.9999999999999995e-07), ('/users/ddm1/fipy/fipy/meshes/abstractMesh.py', 1422, '_madmax'): (2, 2, 3.1999999999999999e-05, 0.000204), ('/users/ddm1/fipy/fipy/matrices/pysparseMatrix.py', 279, '__init__'): (30, 30, 1.5999999999999999e-05, 1.5999999999999999e-05)}), ('/users/ddm1/fipy/fipy/meshes/abstractMesh.py', 120, 'faceCenters'): (4, 4, 4.8999999999999998e-05, 0.0030149999999999999, {('/users/ddm1/fipy/fipy/meshes/abstractMesh.py', 693, 'facesLeft'): (2, 2, 2.5999999999999998e-05, 0.0015849999999999998), ('/users/ddm1/fipy/fipy/meshes/abstractMesh.py', 713, 'facesRight'): (2, 2, 2.3e-05, 0.0014299999999999998)}), ('~', 0, \"<method 'transpose' of 'numpy.ndarray' objects>\"): (324, 324, 0.00031499999999999996, 0.00031499999999999996, {('/usr/lib/pymodules/python2.6/numpy/core/numeric.py', 860, 'tensordot'): (324, 324, 0.00031499999999999996, 0.00031499999999999996)}), ('/users/ddm1/fipy/fipy/terms/cellTerm.py', 99, '_calcCoeffVectors_'): (1, 1, 1.2e-05, 0.0017499999999999998, {('/users/ddm1/fipy/fipy/terms/cellTerm.py', 114, '_getCoeffVectors_'): (1, 1, 1.2e-05, 0.0017499999999999998)}), ('/users/ddm1/fipy/fipy/variables/cellVariable.py', 76, '_variableClass'): (5, 5, 0.0, 0.0, {('/users/ddm1/fipy/fipy/variables/variable.py', 1048, '_OperatorVariableClass'): (2, 2, 0.0, 0.0), ('/users/ddm1/fipy/fipy/variables/meshVariable.py', 517, '_shapeClassAndOther'): (3, 3, 0.0, 0.0)}), ('/users/ddm1/fipy/fipy/tools/dimensions/DictWithDefault.py', 21, '__getitem__'): (9, 9, 1.2e-05, 1.2e-05, {('/users/ddm1/fipy/fipy/tools/dimensions/NumberDict.py', 44, '__add__'): (3, 3, 3.9999999999999998e-06, 3.9999999999999998e-06), ('/users/ddm1/fipy/fipy/tools/dimensions/NumberDict.py', 54, '__sub__'): (6, 6, 7.9999999999999996e-06, 7.9999999999999996e-06)}), ('/users/ddm1/fipy/fipy/tools/numerix.py', 245, 'sum'): (131, 131, 0.0012599999999999998, 0.013901, {('/users/ddm1/fipy/fipy/variables/variable.py', 1540, '<lambda>'): (51, 51, 0.00048799999999999999, 0.0056059999999999999), ('/users/ddm1/fipy/fipy/variables/gaussCellGradVariable.py', 105, '_calcValueNoInline'): (10, 10, 0.00010899999999999999, 0.0010609999999999999), ('/users/ddm1/fipy/fipy/solvers/pysparse/linearLUSolver.py', 82, '_solve_'): (30, 30, 0.00029499999999999996, 0.0031379999999999997), ('/users/ddm1/fipy/fipy/variables/faceGradVariable.py', 137, '_calcValueNoInline'): (40, 40, 0.000368, 0.0040959999999999998)}), ('/users/ddm1/.virtualenvs/venv1/lib/python2.6/UserDict.py', 69, '__contains__'): (40, 40, 2.9e-05, 2.9e-05, {('/users/ddm1/fipy/fipy/terms/term.py', 148, '_prepareLinearSystem'): (20, 20, 9.0000000000000002e-06, 9.0000000000000002e-06), ('/users/ddm1/fipy/fipy/solvers/pysparse/linearLUSolver.py', 82, '_solve_'): (10, 10, 1.2999999999999999e-05, 1.2999999999999999e-05), ('/users/ddm1/fipy/fipy/terms/binaryTerm.py', 50, '_buildAndAddMatrices'): (10, 10, 6.9999999999999999e-06, 6.9999999999999999e-06)}), ('/usr/lib/pymodules/python2.6/numpy/core/fromnumeric.py', 1147, 'shape'): (77, 77, 5.1999999999999997e-05, 5.1999999999999997e-05, {('/users/ddm1/fipy/fipy/matrices/pysparseMatrix.py', 124, '__mul__'): (40, 40, 2.8e-05, 2.8e-05), ('/users/ddm1/fipy/fipy/variables/cellVariable.py', 599, 'constrain'): (2, 2, 6.9999999999999999e-06, 6.9999999999999999e-06), ('/users/ddm1/fipy/fipy/variables/meshVariable.py', 50, '__init__'): (35, 35, 1.7e-05, 1.7e-05)}), ('/users/ddm1/fipy/fipy/terms/diffusionTermNoCorrection.py', 45, '_treatMeshAsOrthogonal'): (1, 1, 9.9999999999999995e-07, 9.9999999999999995e-07, {('/users/ddm1/fipy/fipy/terms/abstractDiffusionTerm.py', 151, '_calcGeomCoeff'): (1, 1, 9.9999999999999995e-07, 9.9999999999999995e-07)}), ('~', 0, '<built-in method group>'): (471, 471, 0.00014300000000000001, 0.00014300000000000001, {('/users/ddm1/fipy/fipy/tools/decorators.py', 225, 'new_name_old_name'): (471, 471, 0.00014300000000000001, 0.00014300000000000001)}), ('/users/ddm1/fipy/fipy/terms/term.py', 417, '__sub__'): (1, 1, 6.9999999999999999e-06, 0.00018999999999999998, {('/users/ddm1/fipy/fipy/terms/term.py', 423, '__eq__'): (1, 1, 6.9999999999999999e-06, 0.00018999999999999998)}), ('/users/ddm1/fipy/fipy/matrices/pysparseMatrix.py', 302, '__init__'): (30, 30, 0.000146, 0.00044499999999999997, {('/users/ddm1/fipy/fipy/matrices/offsetSparseMatrix.py', 49, '__init__'): (30, 30, 0.000146, 0.00044499999999999997)}), ('/users/ddm1/fipy/fipy/terms/abstractDiffusionTerm.py', 456, '_getDiffusionGeomCoeff'): (10, 10, 1.8999999999999998e-05, 0.0034909999999999997, {('/users/ddm1/fipy/fipy/terms/binaryTerm.py', 104, '_getDiffusionGeomCoeff'): (10, 10, 1.8999999999999998e-05, 0.0034909999999999997)}), ('/users/ddm1/fipy/fipy/meshes/abstractMesh.py', 552, '_globalOverlappingCellIDs'): (14, 14, 2.4999999999999998e-05, 9.3999999999999994e-05, {('/users/ddm1/fipy/fipy/variables/cellVariable.py', 147, '_globalOverlappingIDs'): (14, 14, 2.4999999999999998e-05, 9.3999999999999994e-05)}), ('/users/ddm1/fipy/fipy/tools/numerix.py', 199, 'getShape'): (653, 757, 0.00072499999999999995, 0.001364, {('/users/ddm1/fipy/fipy/variables/variable.py', 1008, '_broadcastShape'): (66, 66, 9.7999999999999997e-05, 0.00041799999999999997), ('/users/ddm1/fipy/fipy/variables/meshVariable.py', 517, '_shapeClassAndOther'): (20, 20, 2.9999999999999997e-05, 0.000121), ('/users/ddm1/fipy/fipy/variables/variable.py', 796, '_getShape'): (622, 622, 0.00053600000000000002, 0.00084699999999999999), ('/users/ddm1/fipy/fipy/variables/variable.py', 713, 'setValue'): (10, 10, 7.9999999999999996e-06, 1.2999999999999999e-05), ('/users/ddm1/fipy/fipy/meshes/factoryMeshes.py', 169, 'Grid1D'): (1, 1, 6.0000000000000002e-06, 7.9999999999999996e-06), ('/users/ddm1/fipy/fipy/terms/abstractDiffusionTerm.py', 151, '_calcGeomCoeff'): (1, 1, 1.9999999999999999e-06, 1.1e-05), ('/users/ddm1/fipy/fipy/variables/meshVariable.py', 50, '__init__'): (27, 27, 2.3e-05, 3.4999999999999997e-05), ('/users/ddm1/fipy/fipy/terms/transientTerm.py', 154, '_checkDt'): (10, 10, 2.1999999999999999e-05, 3.6999999999999998e-05)}), ('/users/ddm1/fipy/fipy/variables/variable.py', 1175, '<lambda>'): (36, 36, 0.00015699999999999999, 0.00015699999999999999, {('/users/ddm1/fipy/fipy/variables/unaryOperatorVariable.py', 42, 'unit'): (6, 6, 3.0000000000000001e-06, 3.0000000000000001e-06), ('/users/ddm1/fipy/fipy/variables/unaryOperatorVariable.py', 39, '_calcValue_'): (30, 30, 0.000154, 0.000154)}), ('/users/ddm1/fipy/fipy/variables/variable.py', 668, '_makeValue'): (1173, 1173, 0.008397, 0.062605999999999995, {('/users/ddm1/fipy/fipy/variables/variable.py', 665, '_setValueInternal'): (1163, 1163, 0.0083090000000000004, 0.062036999999999995), ('/users/ddm1/fipy/fipy/variables/variable.py', 713, 'setValue'): (10, 10, 8.7999999999999998e-05, 0.00056899999999999995)}), ('~', 0, \"<method 'ravel' of 'numpy.ndarray' objects>\"): (374, 374, 0.00040099999999999999, 0.00040099999999999999, {('/users/ddm1/fipy/fipy/terms/cellTerm.py', 145, '_buildMatrixNoInline_'): (40, 40, 6.3999999999999997e-05, 6.3999999999999997e-05), ('/users/ddm1/fipy/fipy/terms/cellTerm.py', 152, '_buildMatrix'): (10, 10, 1.1e-05, 1.1e-05), ('/users/ddm1/fipy/fipy/terms/abstractDiffusionTerm.py', 281, '_buildMatrix'): (30, 30, 3.1999999999999999e-05, 3.1999999999999999e-05), ('/users/ddm1/fipy/fipy/terms/abstractDiffusionTerm.py', 208, '__getCoefficientMatrix'): (90, 90, 0.000112, 0.000112), ('/users/ddm1/fipy/fipy/solvers/pysparse/pysparseSolver.py', 88, '_solve'): (10, 10, 9.9999999999999991e-06, 9.9999999999999991e-06), ('/users/ddm1/fipy/fipy/variables/variable.py', 1514, 'ravel'): (70, 70, 6.3999999999999997e-05, 6.3999999999999997e-05), ('/usr/lib/pymodules/python2.6/numpy/core/fromnumeric.py', 1010, 'ravel'): (124, 124, 0.000108, 0.000108)}), ('/users/ddm1/fipy/fipy/variables/variable.py', 485, '__setitem__'): (20, 20, 0.000136, 0.00081399999999999994, {('/users/ddm1/fipy/fipy/solvers/pysparse/pysparseSolver.py', 88, '_solve'): (10, 10, 3.9999999999999996e-05, 0.00068799999999999992), ('/users/ddm1/fipy/fipy/meshes/uniformGrid1D.py', 116, '_interiorFaces'): (10, 10, 9.6000000000000002e-05, 0.000126)}), ('/users/ddm1/fipy/fipy/meshes/builders/grid1DBuilder.py', 130, 'buildGridData'): (1, 1, 6.9999999999999999e-06, 0.00036399999999999996, {('/users/ddm1/fipy/fipy/meshes/uniformGrid1D.py', 62, '__init__'): (1, 1, 6.9999999999999999e-06, 0.00036399999999999996)}), ('/users/ddm1/fipy/fipy/terms/term.py', 131, '_vectorSize'): (132, 132, 0.00027700000000000001, 0.0014649999999999999, {('/users/ddm1/fipy/fipy/terms/term.py', 137, '_getMatrixClass'): (30, 30, 6.3e-05, 0.00032299999999999999), ('/users/ddm1/fipy/fipy/terms/unaryTerm.py', 109, '_reshapeIDs'): (82, 82, 0.00017199999999999998, 0.00089499999999999996), ('/users/ddm1/fipy/fipy/terms/unaryTerm.py', 117, '_getDefaultSolver'): (20, 20, 4.1999999999999998e-05, 0.00024699999999999999)}), ('/users/ddm1/fipy/fipy/variables/variable.py', 1048, '_OperatorVariableClass'): (121, 121, 0.00068300000000000001, 0.0083599999999999994, {('/users/ddm1/fipy/fipy/variables/variable.py', 1517, '_axisClass'): (20, 20, 0.000113, 0.0012489999999999999), ('/users/ddm1/fipy/fipy/variables/meshVariable.py', 625, '_getitemClass'): (10, 10, 5.1e-05, 0.00069200000000000002), ('/users/ddm1/fipy/fipy/variables/variable.py', 1553, '_getitemClass'): (40, 40, 0.00025099999999999998, 0.0028119999999999998), ('/users/ddm1/fipy/fipy/variables/variable.py', 1098, '_BinaryOperatorVariable'): (15, 15, 6.9999999999999994e-05, 0.00094399999999999996), ('/users/ddm1/fipy/fipy/variables/meshVariable.py', 561, '_OperatorVariableClass'): (36, 36, 0.00019799999999999999, 0.002663)}), ('/users/ddm1/fipy/fipy/variables/faceGradVariable.py', 74, '__init__'): (1, 1, 6.9999999999999999e-06, 0.00018099999999999998, {('/users/ddm1/fipy/fipy/variables/cellVariable.py', 459, 'faceGrad'): (1, 1, 6.9999999999999999e-06, 0.00018099999999999998)}), ('~', 0, '<len>'): (6589, 6617, 0.0013189999999999999, 0.0022129999999999997, {('/users/ddm1/fipy/fipy/tools/numerix.py', 245, 'sum'): (131, 131, 3.6000000000000001e-05, 3.6000000000000001e-05), ('/usr/lib/pymodules/python2.6/numpy/core/fromnumeric.py', 791, 'resize'): (124, 124, 2.0999999999999999e-05, 2.0999999999999999e-05), ('/users/ddm1/fipy/fipy/solvers/pysparse/linearLUSolver.py', 82, '_solve_'): (10, 10, 6.9999999999999999e-06, 6.9999999999999999e-06), ('/users/ddm1/fipy/fipy/meshes/abstractMesh.py', 1416, '_madmin'): (2, 2, 3.9999999999999998e-06, 0.00020699999999999999), ('/usr/lib/pymodules/python2.6/numpy/core/numeric.py', 860, 'tensordot'): (648, 648, 0.000261, 0.000261), ('/users/ddm1/fipy/fipy/tools/numerix.py', 631, 'indices'): (82, 82, 9.0000000000000002e-06, 9.0000000000000002e-06), ('/users/ddm1/fipy/fipy/meshes/uniformGrid1D.py', 200, '_cellDistances'): (12, 12, 1.9999999999999999e-06, 1.9999999999999999e-06), ('/users/ddm1/fipy/fipy/meshes/abstractMesh.py', 1422, '_madmax'): (2, 2, 3.0000000000000001e-06, 0.000203), ('/users/ddm1/fipy/fipy/variables/meshVariable.py', 614, '_axisClass'): (3, 3, 0.0, 0.0), ('/users/ddm1/fipy/fipy/variables/variable.py', 1357, '__len__'): (5, 5, 1.9999999999999999e-06, 1.9999999999999999e-06), ('/users/ddm1/fipy/fipy/variables/meshVariable.py', 625, '_getitemClass'): (20, 20, 4.9999999999999996e-06, 4.9999999999999996e-06), ('/users/ddm1/fipy/fipy/variables/faceGradVariable.py', 137, '_calcValueNoInline'): (10, 10, 3.0000000000000001e-06, 3.0000000000000001e-06), ('/users/ddm1/fipy/fipy/variables/meshVariable.py', 517, '_shapeClassAndOther'): (8, 8, 9.9999999999999995e-07, 9.9999999999999995e-07), ('/users/ddm1/fipy/fipy/terms/abstractDiffusionTerm.py', 49, '__init__'): (8, 8, 0.0, 0.0), ('/users/ddm1/fipy/fipy/variables/meshVariable.py', 50, '__init__'): (10, 10, 0.0, 0.0), ('/users/ddm1/fipy/fipy/variables/variable.py', 132, '__array_wrap__'): (20, 20, 3.9999999999999998e-06, 3.9999999999999998e-06), ('/users/ddm1/fipy/fipy/tools/numerix.py', 1172, '_broadcastShapes'): (742, 742, 0.000111, 0.000111), ('/users/ddm1/fipy/fipy/variables/operatorVariable.py', 84, '_isCached'): (1469, 1469, 0.00024399999999999999, 0.00024399999999999999), ('/users/ddm1/fipy/fipy/terms/cellTerm.py', 68, '_checkCoeff'): (3, 3, 0.0, 0.0), ('/users/ddm1/fipy/fipy/meshes/uniformGrid1D.py', 249, '_faceToCellDistanceRatio'): (10, 10, 4.9999999999999996e-06, 4.9999999999999996e-06), ('/users/ddm1/fipy/fipy/terms/abstractDiffusionTerm.py', 358, '__higherOrderbuildMatrix'): (10, 10, 9.9999999999999995e-07, 9.9999999999999995e-07), ('/users/ddm1/fipy/fipy/variables/meshVariable.py', 600, 'rank'): (138, 138, 2.8e-05, 2.8e-05), ('/users/ddm1/fipy/fipy/terms/abstractDiffusionTerm.py', 281, '_buildMatrix'): (2, 2, 0.0, 0.0), ('/users/ddm1/fipy/fipy/variables/addOverFacesVariable.py', 91, '_calcValueNoInline'): (31, 31, 6.9999999999999999e-06, 6.9999999999999999e-06), ('/users/ddm1/fipy/fipy/meshes/builders/abstractGridBuilder.py', 226, '_calcGlobalNumFaces'): (2, 2, 9.9999999999999995e-07, 9.9999999999999995e-07), ('/users/ddm1/fipy/fipy/matrices/pysparseMatrix.py', 225, 'take'): (10, 10, 0.0, 0.0), ('/users/ddm1/fipy/fipy/variables/faceVariable.py', 82, 'divergence'): (3, 3, 1.9999999999999999e-06, 1.9999999999999999e-06), ('/users/ddm1/fipy/fipy/variables/faceGradContributionsVariable.py', 79, '_calcValue'): (10, 10, 9.9999999999999995e-07, 9.9999999999999995e-07), ('/users/ddm1/fipy/fipy/terms/abstractDiffusionTerm.py', 151, '_calcGeomCoeff'): (1, 1, 0.0, 0.0), ('/users/ddm1/fipy/fipy/variables/variable.py', 522, '_getValue'): (2199, 2199, 0.00041599999999999997, 0.00041599999999999997), ('/users/ddm1/fipy/fipy/solvers/pysparse/pysparseSolver.py', 88, '_solve'): (10, 10, 3.0000000000000001e-06, 3.0000000000000001e-06), ('/users/ddm1/fipy/fipy/tools/numerix.py', 956, '_compressIndexSubspaces'): (118, 118, 1.7e-05, 1.7e-05), ('/users/ddm1/fipy/fipy/tools/numerix.py', 983, '_indexShape'): (691, 691, 0.000106, 0.000106), ('/users/ddm1/fipy/fipy/terms/abstractDiffusionTerm.py', 142, '__calcAnisotropySource'): (1, 1, 3.0000000000000001e-06, 0.00050000000000000001), ('/users/ddm1/fipy/fipy/meshes/builders/abstractGridBuilder.py', 50, 'buildGridData'): (2, 2, 0.0, 0.0), ('/users/ddm1/fipy/fipy/variables/variable.py', 1098, '_BinaryOperatorVariable'): (70, 70, 1.5999999999999999e-05, 1.5999999999999999e-05)}), ('~', 0, '<built-in method __new__ of type object at 0x82f680>'): (225, 225, 0.00010399999999999999, 0.00010399999999999999, {('/users/ddm1/fipy/fipy/variables/variable.py', 79, '__new__'): (225, 225, 0.00010399999999999999, 0.00010399999999999999)}), ('/usr/lib/pymodules/python2.6/numpy/core/numeric.py', 1764, 'ones'): (305, 305, 0.00046999999999999999, 0.0022409999999999999, {('/users/ddm1/fipy/fipy/tools/numerix.py', 245, 'sum'): (131, 131, 0.00019999999999999998, 0.00099799999999999997), ('/users/ddm1/fipy/fipy/meshes/uniformGrid1D.py', 249, '_faceToCellDistanceRatio'): (10, 10, 9.9999999999999991e-06, 7.3999999999999996e-05), ('/users/ddm1/fipy/fipy/meshes/uniformGrid1D.py', 241, '_cellVolumes'): (45, 45, 6.9999999999999994e-05, 0.00032399999999999996), ('/users/ddm1/fipy/fipy/meshes/uniformGrid1D.py', 169, '_faceAreas'): (1, 1, 9.9999999999999995e-07, 9.0000000000000002e-06), ('/users/ddm1/fipy/fipy/variables/addOverFacesVariable.py', 91, '_calcValueNoInline'): (31, 31, 5.1e-05, 0.00021999999999999998), ('/users/ddm1/fipy/fipy/meshes/uniformGrid1D.py', 200, '_cellDistances'): (12, 12, 2.4000000000000001e-05, 9.6000000000000002e-05), ('/users/ddm1/fipy/fipy/meshes/uniformGrid1D.py', 123, '_cellToFaceOrientations'): (41, 41, 5.9999999999999995e-05, 0.00028399999999999996), ('/users/ddm1/fipy/fipy/matrices/pysparseMatrix.py', 124, '__mul__'): (10, 10, 1.4e-05, 7.3999999999999996e-05), ('/users/ddm1/fipy/fipy/meshes/uniformGrid1D.py', 177, '_faceNormals'): (24, 24, 3.9999999999999996e-05, 0.00016199999999999998)}), ('/users/ddm1/fipy/fipy/variables/constraintMask.py', 49, '_calcValue'): (25, 25, 0.00038199999999999996, 0.010503999999999999, {('/users/ddm1/fipy/fipy/variables/variable.py', 522, '_getValue'): (25, 25, 0.00038199999999999996, 0.010503999999999999)}), ('/users/ddm1/fipy/fipy/terms/cellTerm.py', 152, '_buildMatrix'): (10, 10, 0.000113, 0.029411999999999997, {('/users/ddm1/fipy/fipy/terms/unaryTerm.py', 75, '_buildAndAddMatrices'): (10, 10, 0.000113, 0.029411999999999997)}), ('/users/ddm1/fipy/fipy/tools/decorators.py', 219, '__init__'): (157, 157, 0.00052499999999999997, 0.00077399999999999995, {('/users/ddm1/fipy/fipy/tools/decorators.py', 233, 'getsetDeprecated'): (157, 157, 0.00052499999999999997, 0.00077399999999999995)}), ('/users/ddm1/fipy/fipy/variables/faceVariable.py', 105, '_globalOverlappingIDs'): (11, 11, 1.5999999999999999e-05, 8.2999999999999998e-05, {('/users/ddm1/fipy/fipy/variables/meshVariable.py', 135, '_globalToLocalValue'): (11, 11, 1.5999999999999999e-05, 8.2999999999999998e-05)}), ('/users/ddm1/fipy/fipy/variables/meshVariable.py', 50, '__init__'): (71, 71, 0.001031, 0.014851999999999999, {('/users/ddm1/fipy/fipy/meshes/uniformGrid1D.py', 116, '_interiorFaces'): (10, 10, 0.00017999999999999998, 0.0017239999999999998), ('/users/ddm1/fipy/fipy/variables/cellToFaceVariable.py', 43, '__init__'): (1, 1, 1.7e-05, 0.00015899999999999999), ('/users/ddm1/fipy/fipy/meshes/abstractMesh.py', 120, 'faceCenters'): (4, 4, 9.2e-05, 0.0028519999999999999), ('/users/ddm1/fipy/fipy/variables/meshVariable.py', 517, '_shapeClassAndOther'): (5, 5, 9.2e-05, 0.0023839999999999998), ('/users/ddm1/fipy/fipy/variables/cellVariable.py', 67, '__init__'): (15, 15, 0.000184, 0.0031999999999999997), ('/users/ddm1/fipy/fipy/terms/abstractDiffusionTerm.py', 281, '_buildMatrix'): (1, 1, 1.4e-05, 0.00052899999999999996), ('/users/ddm1/fipy/fipy/terms/abstractDiffusionTerm.py', 151, '_calcGeomCoeff'): (1, 1, 1.8e-05, 0.00062999999999999992), ('/users/ddm1/fipy/fipy/variables/faceGradContributionsVariable.py', 75, '__init__'): (1, 1, 1.5999999999999999e-05, 0.000156), ('/users/ddm1/fipy/fipy/variables/faceGradVariable.py', 74, '__init__'): (1, 1, 1.2999999999999999e-05, 0.00015699999999999999), ('/users/ddm1/fipy/fipy/variables/operatorVariable.py', 45, '__init__'): (30, 30, 0.00037199999999999999, 0.0027429999999999998), ('/users/ddm1/fipy/fipy/variables/constraintMask.py', 43, '__init__'): (2, 2, 3.2999999999999996e-05, 0.00031799999999999998)}), ('~', 0, \"<method 'reduce' of 'numpy.ufunc' objects>\"): (603, 603, 0.0045820000000000001, 0.0045820000000000001, {('/usr/lib/pymodules/python2.6/numpy/core/fromnumeric.py', 791, 'resize'): (124, 124, 0.001369, 0.001369), ('/users/ddm1/fipy/fipy/tools/numerix.py', 1172, '_broadcastShapes'): (160, 160, 0.001895, 0.001895), ('/users/ddm1/fipy/fipy/tools/dimensions/physicalField.py', 1804, 'isDimensionless'): (319, 319, 0.0013179999999999999, 0.0013179999999999999)}), ('/usr/lib/pymodules/python2.6/numpy/core/fromnumeric.py', 32, '_wrapit'): (10, 10, 6.5999999999999992e-05, 0.00046699999999999997, {('/usr/lib/pymodules/python2.6/numpy/core/fromnumeric.py', 1067, 'nonzero'): (10, 10, 6.5999999999999992e-05, 0.00046699999999999997)}), ('~', 0, '<locals>'): (71, 71, 0.000107, 0.000107, {('/users/ddm1/fipy/fipy/variables/meshVariable.py', 50, '__init__'): (71, 71, 0.000107, 0.000107)}), ('/users/ddm1/fipy/fipy/terms/term.py', 194, 'solve'): (10, 10, 3.4e-05, 0.188497, {('<ipython-input-2-c8f75f664a5c>', 1, 'Coupled'): (10, 10, 3.4e-05, 0.188497)}), ('~', 0, \"<method 'take' of 'numpy.ndarray' objects>\"): (131, 131, 0.00035799999999999997, 0.00035799999999999997, {('/usr/lib/pymodules/python2.6/numpy/core/fromnumeric.py', 45, 'take'): (90, 90, 0.00019699999999999999, 0.00019699999999999999), ('/usr/lib/pymodules/python2.6/numpy/ma/core.py', 5684, '__call__'): (41, 41, 0.00016099999999999998, 0.00016099999999999998)}), ('/users/ddm1/fipy/fipy/variables/cellVariable.py', 269, 'gaussGrad'): (10, 10, 2.4999999999999998e-05, 0.00040199999999999996, {('/users/ddm1/fipy/fipy/variables/cellVariable.py', 257, 'grad'): (10, 10, 2.4999999999999998e-05, 0.00040199999999999996)}), ('/users/ddm1/fipy/fipy/variables/variable.py', 784, 'numericValue'): (21, 31, 6.7000000000000002e-05, 0.0093480000000000004, {('/users/ddm1/fipy/fipy/solvers/pysparse/pysparseSolver.py', 88, '_solve'): (10, 10, 1.7e-05, 7.7999999999999999e-05), ('/users/ddm1/fipy/fipy/variables/variable.py', 821, 'getsctype'): (1, 1, 1.2e-05, 1.8e-05), ('/users/ddm1/fipy/fipy/variables/faceGradContributionsVariable.py', 79, '_calcValue'): (10, 10, 2.1999999999999999e-05, 0.0041989999999999996), ('/users/ddm1/fipy/fipy/variables/faceGradVariable.py', 137, '_calcValueNoInline'): (10, 10, 1.5999999999999999e-05, 0.0092519999999999998)}), ('~', 0, '<setattr>'): (23, 23, 1.1e-05, 1.1e-05, {('/users/ddm1/fipy/fipy/variables/variable.py', 1520, '_axisOperator'): (23, 23, 1.1e-05, 1.1e-05)}), ('~', 0, '<numpy.core._dotblas.dot>'): (162, 162, 0.00063400000000000001, 0.00063400000000000001, {('/usr/lib/pymodules/python2.6/numpy/core/numeric.py', 860, 'tensordot'): (162, 162, 0.00063400000000000001, 0.00063400000000000001)}), ('/users/ddm1/fipy/fipy/meshes/abstractMesh.py', 1422, '_madmax'): (2, 2, 3.9999999999999998e-06, 0.00041099999999999996, {('/users/ddm1/fipy/fipy/meshes/abstractMesh.py', 713, 'facesRight'): (2, 2, 3.9999999999999998e-06, 0.00041099999999999996)}), ('/users/ddm1/fipy/fipy/meshes/abstractMesh.py', 713, 'facesRight'): (2, 2, 9.9999999999999991e-06, 0.0039769999999999996, {('/users/ddm1/fipy/fipy/meshes/uniformGrid1D.py', 113, '_setTopology'): (1, 1, 4.9999999999999996e-06, 0.0020769999999999999), ('<ipython-input-2-c8f75f664a5c>', 1, 'Coupled'): (1, 1, 4.9999999999999996e-06, 0.0019)}), ('/users/ddm1/fipy/fipy/terms/term.py', 115, '_verifyVar'): (10, 10, 4.9999999999999996e-06, 4.9999999999999996e-06, {('/users/ddm1/fipy/fipy/terms/term.py', 148, '_prepareLinearSystem'): (10, 10, 4.9999999999999996e-06, 4.9999999999999996e-06)}), ('/users/ddm1/fipy/fipy/matrices/offsetSparseMatrix.py', 45, 'OffsetSparseMatrixClass'): (10, 10, 2.3e-05, 2.3e-05, {('/users/ddm1/fipy/fipy/matrices/offsetSparseMatrix.py', 40, 'OffsetSparseMatrix'): (10, 10, 2.3e-05, 2.3e-05)}), ('~', 0, '<zip>'): (321, 321, 0.00045199999999999998, 0.00045199999999999998, {('/users/ddm1/fipy/fipy/meshes/builders/abstractGridBuilder.py', 50, 'buildGridData'): (1, 1, 9.9999999999999995e-07, 9.9999999999999995e-07), ('/users/ddm1/fipy/fipy/tools/numerix.py', 1172, '_broadcastShapes'): (320, 320, 0.00045099999999999996, 0.00045099999999999996)}), ('/users/ddm1/fipy/fipy/terms/term.py', 423, '__eq__'): (1, 1, 3.0000000000000001e-06, 0.000193, {('<ipython-input-2-c8f75f664a5c>', 1, 'Coupled'): (1, 1, 3.0000000000000001e-06, 0.000193)}), ('/users/ddm1/fipy/fipy/solvers/pysparse/linearLUSolver.py', 82, '_solve_'): (10, 10, 0.00084399999999999992, 0.0074469999999999996, {('/users/ddm1/fipy/fipy/solvers/pysparse/pysparseSolver.py', 88, '_solve'): (10, 10, 0.00084399999999999992, 0.0074469999999999996)}), ('/users/ddm1/fipy/fipy/matrices/pysparseMatrix.py', 279, '__init__'): (30, 30, 0.00015699999999999999, 0.000299, {('/users/ddm1/fipy/fipy/matrices/pysparseMatrix.py', 302, '__init__'): (30, 30, 0.00015699999999999999, 0.000299)}), ('/users/ddm1/fipy/fipy/tools/decorators.py', 85, '_set_function_name'): (157, 157, 8.599999999999999e-05, 8.599999999999999e-05, {('/users/ddm1/fipy/fipy/tools/decorators.py', 125, '__call__'): (157, 157, 8.599999999999999e-05, 8.599999999999999e-05)}), ('~', 0, \"<method 'keys' of 'dict' objects>\"): (6, 6, 3.9999999999999998e-06, 3.9999999999999998e-06, {('/users/ddm1/fipy/fipy/tools/dimensions/NumberDict.py', 44, '__add__'): (2, 2, 9.9999999999999995e-07, 9.9999999999999995e-07), ('/users/ddm1/fipy/fipy/tools/dimensions/NumberDict.py', 54, '__sub__'): (4, 4, 3.0000000000000001e-06, 3.0000000000000001e-06)}), ('/users/ddm1/fipy/fipy/meshes/builders/abstractGridBuilder.py', 274, '_buildOverlap'): (1, 1, 3.0000000000000001e-06, 3.9999999999999998e-06, {('/users/ddm1/fipy/fipy/meshes/builders/abstractGridBuilder.py', 50, 'buildGridData'): (1, 1, 3.0000000000000001e-06, 3.9999999999999998e-06)}), ('/users/ddm1/fipy/fipy/matrices/offsetSparseMatrix.py', 57, 'addAt'): (70, 70, 0.00090299999999999994, 0.0014419999999999999, {('/users/ddm1/fipy/fipy/terms/cellTerm.py', 145, '_buildMatrixNoInline_'): (20, 20, 0.00029799999999999998, 0.00045599999999999997), ('/users/ddm1/fipy/fipy/terms/abstractDiffusionTerm.py', 281, '_buildMatrix'): (10, 10, 0.00013099999999999999, 0.00018199999999999998), ('/users/ddm1/fipy/fipy/terms/abstractDiffusionTerm.py', 208, '__getCoefficientMatrix'): (40, 40, 0.00047399999999999997, 0.00080399999999999992)}), ('/users/ddm1/fipy/fipy/tools/numerix.py', 101, '_isPhysical'): (388, 388, 0.0029919999999999999, 0.0033959999999999997, {('/users/ddm1/fipy/fipy/tools/numerix.py', 245, 'sum'): (131, 131, 0.001096, 0.001255), ('/users/ddm1/fipy/fipy/variables/meshVariable.py', 50, '__init__'): (35, 35, 0.00027499999999999996, 0.00031299999999999996), ('/users/ddm1/fipy/fipy/tools/numerix.py', 166, 'reshape'): (10, 10, 7.7000000000000001e-05, 8.599999999999999e-05), ('/users/ddm1/fipy/fipy/tools/numerix.py', 590, 'take'): (212, 212, 0.001544, 0.0017419999999999998)}), ('/users/ddm1/fipy/fipy/meshes/builders/grid1DBuilder.py', 125, '__init__'): (1, 1, 3.9999999999999998e-06, 3.9999999999999998e-06, {('/users/ddm1/fipy/fipy/meshes/uniformGrid1D.py', 62, '__init__'): (1, 1, 3.9999999999999998e-06, 3.9999999999999998e-06)}), ('/users/ddm1/fipy/fipy/matrices/pysparseMatrix.py', 322, '__mul__'): (10, 10, 3.1000000000000001e-05, 0.00081999999999999998, {('/users/ddm1/fipy/fipy/solvers/pysparse/linearLUSolver.py', 82, '_solve_'): (10, 10, 3.1000000000000001e-05, 0.00081999999999999998)}), ('/users/ddm1/fipy/fipy/terms/transientTerm.py', 105, '_getWeight'): (1, 1, 9.9999999999999995e-07, 9.9999999999999995e-07, {('/users/ddm1/fipy/fipy/terms/cellTerm.py', 99, '_calcCoeffVectors_'): (1, 1, 9.9999999999999995e-07, 9.9999999999999995e-07)}), ('/users/ddm1/fipy/fipy/variables/constraintMask.py', 43, '__init__'): (2, 2, 1.2e-05, 0.00035999999999999997, {('/users/ddm1/fipy/fipy/variables/constraintMask.py', 41, '_ConstraintMask'): (2, 2, 1.2e-05, 0.00035999999999999997)}), ('/users/ddm1/fipy/fipy/tools/dimensions/physicalField.py', 1488, '__eq__'): (21, 21, 2.4000000000000001e-05, 0.00031099999999999997, {('/users/ddm1/fipy/fipy/tools/dimensions/physicalField.py', 117, '__init__'): (21, 21, 2.4000000000000001e-05, 0.00031099999999999997)}), ('/users/ddm1/fipy/fipy/tools/decorators.py', 125, '__call__'): (157, 157, 0.0016279999999999999, 0.0039150000000000001, {('/users/ddm1/fipy/fipy/tools/decorators.py', 233, 'getsetDeprecated'): (157, 157, 0.0016279999999999999, 0.0039150000000000001)}), ('/users/ddm1/fipy/fipy/variables/cellVariable.py', 556, '_getArithmeticBaseClass'): (5, 13, 6.0000000000000002e-06, 0.000194, {('/users/ddm1/fipy/fipy/variables/cellVariable.py', 136, 'copy'): (1, 1, 0.0, 0.0), ('/users/ddm1/fipy/fipy/variables/variable.py', 1080, '_shapeClassAndOther'): (4, 4, 4.9999999999999996e-06, 0.000194), ('/users/ddm1/fipy/fipy/variables/variable.py', 1026, '_getArithmeticBaseClass'): (8, 8, 9.9999999999999995e-07, 9.9999999999999995e-07)}), ('~', 0, '<reduce>'): (39, 39, 3.9999999999999996e-05, 4.9999999999999996e-05, {('/users/ddm1/fipy/fipy/variables/meshVariable.py', 565, '__init__'): (36, 36, 3.6000000000000001e-05, 4.6e-05), ('/users/ddm1/fipy/fipy/meshes/builders/abstractGridBuilder.py', 50, 'buildGridData'): (3, 3, 3.9999999999999998e-06, 3.9999999999999998e-06)}), ('/users/ddm1/fipy/fipy/boundaryConditions/constraint.py', 42, '__init__'): (2, 2, 1.9999999999999999e-06, 1.9999999999999999e-06, {('/users/ddm1/fipy/fipy/variables/cellVariable.py', 599, 'constrain'): (2, 2, 1.9999999999999999e-06, 1.9999999999999999e-06)}), ('/users/ddm1/fipy/fipy/tools/inline.py', 43, '_operatorVariableComment'): (121, 121, 5.4999999999999995e-05, 5.4999999999999995e-05, {('/users/ddm1/fipy/fipy/variables/variable.py', 1098, '_BinaryOperatorVariable'): (35, 35, 1.8999999999999998e-05, 1.8999999999999998e-05), ('/users/ddm1/fipy/fipy/variables/variable.py', 1054, '_UnaryOperatorVariable'): (86, 86, 3.6000000000000001e-05, 3.6000000000000001e-05)}), ('/users/ddm1/fipy/fipy/meshes/abstractMesh.py', 95, '_getCellFaceIDsInternal'): (41, 41, 5.3999999999999998e-05, 0.0034919999999999999, {('/users/ddm1/fipy/fipy/variables/gaussCellGradVariable.py', 110, '_calcValue'): (10, 10, 9.9999999999999991e-06, 0.00083099999999999992), ('/users/ddm1/fipy/fipy/variables/addOverFacesVariable.py', 91, '_calcValueNoInline'): (31, 31, 4.3999999999999999e-05, 0.0026609999999999997)}), ('/users/ddm1/fipy/fipy/terms/term.py', 137, '_getMatrixClass'): (10, 10, 0.000102, 0.00071900000000000002, {('/users/ddm1/fipy/fipy/terms/term.py', 148, '_prepareLinearSystem'): (10, 10, 0.000102, 0.00071900000000000002)}), ('/users/ddm1/fipy/fipy/variables/cellToFaceVariable.py', 43, '__init__'): (1, 1, 6.0000000000000002e-06, 0.000183, {('/users/ddm1/fipy/fipy/variables/cellVariable.py', 333, 'arithmeticFaceValue'): (1, 1, 6.0000000000000002e-06, 0.000183)}), ('/users/ddm1/fipy/fipy/terms/unaryTerm.py', 117, '_getDefaultSolver'): (20, 20, 0.00013899999999999999, 0.00048499999999999997, {('/users/ddm1/fipy/fipy/terms/binaryTerm.py', 83, '_getDefaultSolver'): (20, 20, 0.00013899999999999999, 0.00048499999999999997)}), ('/users/ddm1/fipy/fipy/variables/variable.py', 1136, '__sub__'): (1, 1, 7.9999999999999996e-06, 0.00063400000000000001, {('/users/ddm1/fipy/fipy/terms/abstractDiffusionTerm.py', 281, '_buildMatrix'): (1, 1, 7.9999999999999996e-06, 0.00063400000000000001)}), ('/users/ddm1/fipy/fipy/variables/variable.py', 1026, '_getArithmeticBaseClass'): (38, 75, 0.00030199999999999997, 0.0017329999999999999, {('/users/ddm1/fipy/fipy/variables/variable.py', 1026, '_getArithmeticBaseClass'): (37, 37, 9.0000000000000002e-06, 9.0000000000000002e-06), ('/users/ddm1/fipy/fipy/variables/variable.py', 1080, '_shapeClassAndOther'): (18, 18, 0.00013300000000000001, 0.00080899999999999993), ('/users/ddm1/fipy/fipy/variables/faceVariable.py', 55, '_getArithmeticBaseClass'): (16, 16, 0.000126, 0.00073499999999999998), ('/users/ddm1/fipy/fipy/variables/cellVariable.py', 556, '_getArithmeticBaseClass'): (4, 4, 3.4e-05, 0.00018899999999999999)}), ('~', 0, \"<method 'indices' of 'slice' objects>\"): (129, 129, 5.4999999999999995e-05, 5.4999999999999995e-05, {('/users/ddm1/fipy/fipy/tools/numerix.py', 983, '_indexShape'): (129, 129, 5.4999999999999995e-05, 5.4999999999999995e-05)}), ('/users/ddm1/fipy/fipy/meshes/builders/utilityClasses.py', 50, 'calcOrigin'): (1, 1, 1.9999999999999998e-05, 0.00011399999999999999, {('/users/ddm1/fipy/fipy/meshes/builders/grid1DBuilder.py', 130, 'buildGridData'): (1, 1, 1.9999999999999998e-05, 0.00011399999999999999)}), ('/users/ddm1/fipy/fipy/variables/operatorVariable.py', 43, '_OperatorVariableClass'): (121, 121, 0.0024719999999999998, 0.0076509999999999998, {('/users/ddm1/fipy/fipy/variables/variable.py', 1048, '_OperatorVariableClass'): (121, 121, 0.0024719999999999998, 0.0076509999999999998)}), ('/users/ddm1/fipy/fipy/variables/variable.py', 1538, 'sum'): (23, 23, 3.6999999999999998e-05, 0.0086389999999999991, {('/users/ddm1/fipy/fipy/terms/cellTerm.py', 145, '_buildMatrixNoInline_'): (20, 20, 3.2999999999999996e-05, 0.0055999999999999999), ('/users/ddm1/fipy/fipy/variables/meshVariable.py', 476, 'sum'): (3, 3, 3.9999999999999998e-06, 0.003039)}), ('/users/ddm1/fipy/fipy/meshes/uniformGrid1D.py', 123, '_cellToFaceOrientations'): (41, 41, 0.000348, 0.00063199999999999997, {('/users/ddm1/fipy/fipy/variables/gaussCellGradVariable.py', 110, '_calcValue'): (10, 10, 8.2999999999999998e-05, 0.00015099999999999998), ('/users/ddm1/fipy/fipy/variables/addOverFacesVariable.py', 91, '_calcValueNoInline'): (31, 31, 0.00026499999999999999, 0.00048099999999999998)}), ('/users/ddm1/fipy/fipy/matrices/pysparseMatrix.py', 234, 'addAt'): (70, 70, 0.00011399999999999999, 0.00053899999999999998, {('/users/ddm1/fipy/fipy/matrices/offsetSparseMatrix.py', 57, 'addAt'): (70, 70, 0.00011399999999999999, 0.00053899999999999998)}), ('~', 0, '<callable>'): (1, 1, 9.9999999999999995e-07, 9.9999999999999995e-07, {('/users/ddm1/fipy/fipy/tools/dimensions/physicalField.py', 614, '__array_wrap__'): (1, 1, 9.9999999999999995e-07, 9.9999999999999995e-07)}), ('/users/ddm1/fipy/fipy/meshes/abstractMesh.py', 128, '<lambda>'): (45, 45, 5.5999999999999999e-05, 0.00076199999999999998, {('/users/ddm1/fipy/fipy/variables/addOverFacesVariable.py', 91, '_calcValueNoInline'): (31, 31, 3.8999999999999999e-05, 0.00052599999999999999), ('/users/ddm1/fipy/fipy/terms/transientTerm.py', 113, '_calcGeomCoeff'): (1, 1, 3.0000000000000001e-06, 3.1999999999999999e-05), ('/users/ddm1/fipy/fipy/terms/abstractDiffusionTerm.py', 281, '_buildMatrix'): (3, 3, 3.0000000000000001e-06, 4.8999999999999998e-05), ('/users/ddm1/fipy/fipy/variables/gaussCellGradVariable.py', 110, '_calcValue'): (10, 10, 1.1e-05, 0.000155)}), ('/users/ddm1/fipy/fipy/variables/constraintMask.py', 42, '_ConstraintMaskVariable'): (2, 2, 3.0000000000000001e-06, 3.0000000000000001e-06, {('/users/ddm1/fipy/fipy/variables/constraintMask.py', 41, '_ConstraintMask'): (2, 2, 3.0000000000000001e-06, 3.0000000000000001e-06)}), ('/usr/lib/pymodules/python2.6/numpy/core/numerictypes.py', 671, 'sctype2char'): (20, 20, 2.9999999999999997e-05, 5.8999999999999998e-05, {('/users/ddm1/fipy/fipy/terms/unaryTerm.py', 127, '_checkVar'): (20, 20, 2.9999999999999997e-05, 5.8999999999999998e-05)}), ('/users/ddm1/fipy/fipy/meshes/topologies/gridTopology.py', 147, '_globalOverlappingFaceIDs'): (11, 11, 2.0999999999999999e-05, 4.8999999999999998e-05, {('/users/ddm1/fipy/fipy/meshes/abstractMesh.py', 630, '_globalOverlappingFaceIDs'): (11, 11, 2.0999999999999999e-05, 4.8999999999999998e-05)}), ('/users/ddm1/fipy/fipy/variables/variable.py', 230, '_unitAsOne'): (226, 486, 0.00056599999999999999, 0.0073249999999999999, {('/users/ddm1/fipy/fipy/variables/unaryOperatorVariable.py', 42, 'unit'): (6, 6, 9.9999999999999991e-06, 5.8e-05), ('/users/ddm1/fipy/fipy/variables/binaryOperatorVariable.py', 83, 'unit'): (480, 222, 0.00055599999999999996, 0.0072879999999999993)}), ('/users/ddm1/fipy/fipy/variables/variable.py', 1553, '_getitemClass'): (40, 40, 5.1999999999999997e-05, 0.0028639999999999998, {('/users/ddm1/fipy/fipy/variables/variable.py', 1556, '__getitem__'): (40, 40, 5.1999999999999997e-05, 0.0028639999999999998)}), ('/usr/lib/pymodules/python2.6/numpy/core/fromnumeric.py', 45, 'take'): (90, 90, 9.7e-05, 0.00029399999999999999, {('/users/ddm1/fipy/fipy/tools/numerix.py', 590, 'take'): (90, 90, 9.7e-05, 0.00029399999999999999)}), ('/users/ddm1/fipy/fipy/variables/cellVariable.py', 548, '_getShapeFromMesh'): (13, 13, 9.9999999999999991e-06, 9.9999999999999991e-06, {('/users/ddm1/fipy/fipy/variables/meshVariable.py', 50, '__init__'): (13, 13, 9.9999999999999991e-06, 9.9999999999999991e-06)}), ('/users/ddm1/fipy/fipy/solvers/solver.py', 120, '_storeMatrix'): (10, 10, 1.4999999999999999e-05, 1.4999999999999999e-05, {('/users/ddm1/fipy/fipy/terms/term.py', 148, '_prepareLinearSystem'): (10, 10, 1.4999999999999999e-05, 1.4999999999999999e-05)}), ('/usr/lib/pymodules/python2.6/numpy/ma/core.py', 2753, '_update_from'): (1437, 1437, 0.013446, 0.028716999999999999, {('/usr/lib/pymodules/python2.6/numpy/ma/core.py', 2777, '__array_finalize__'): (1437, 1437, 0.013446, 0.028716999999999999)}), ('/users/ddm1/fipy/fipy/variables/cellVariable.py', 257, 'grad'): (10, 10, 1.1e-05, 0.00041299999999999996, {('/users/ddm1/fipy/fipy/variables/faceGradVariable.py', 137, '_calcValueNoInline'): (10, 10, 1.1e-05, 0.00041299999999999996)}), ('/users/ddm1/fipy/fipy/tools/dimensions/physicalField.py', 942, '_getUnit'): (51, 51, 1.8999999999999998e-05, 1.8999999999999998e-05, {('/users/ddm1/fipy/fipy/tools/dimensions/physicalField.py', 397, '__truediv__'): (4, 4, 3.0000000000000001e-06, 3.0000000000000001e-06), ('/users/ddm1/fipy/fipy/tools/dimensions/physicalField.py', 117, '__init__'): (34, 34, 1.4e-05, 1.4e-05), ('/users/ddm1/fipy/fipy/tools/dimensions/physicalField.py', 649, '__array__'): (1, 1, 0.0, 0.0), ('/users/ddm1/fipy/fipy/tools/dimensions/physicalField.py', 1014, 'inSIUnits'): (5, 5, 0.0, 0.0), ('/users/ddm1/fipy/fipy/meshes/builders/abstractGridBuilder.py', 50, 'buildGridData'): (1, 1, 9.9999999999999995e-07, 9.9999999999999995e-07), ('/users/ddm1/fipy/fipy/variables/variable.py', 668, '_makeValue'): (4, 4, 9.9999999999999995e-07, 9.9999999999999995e-07), ('/users/ddm1/fipy/fipy/tools/dimensions/physicalField.py', 361, '__mul__'): (2, 2, 0.0, 0.0)}), ('/users/ddm1/fipy/fipy/variables/variable.py', 1054, '_UnaryOperatorVariable'): (86, 86, 0.00123, 0.029869999999999997, {('/users/ddm1/fipy/fipy/variables/variable.py', 1174, '__neg__'): (3, 3, 5.4999999999999995e-05, 0.0035499999999999998), ('/users/ddm1/fipy/fipy/variables/variable.py', 1556, '__getitem__'): (60, 60, 0.00084800000000000001, 0.019611), ('/users/ddm1/fipy/fipy/variables/variable.py', 1520, '_axisOperator'): (23, 23, 0.00032699999999999998, 0.0067089999999999997)}), ('/users/ddm1/fipy/fipy/solvers/pysparse/linearLUSolver.py', 64, '__init__'): (10, 10, 3.6999999999999998e-05, 9.4999999999999992e-05, {('/users/ddm1/fipy/fipy/terms/unaryTerm.py', 117, '_getDefaultSolver'): (10, 10, 3.6999999999999998e-05, 9.4999999999999992e-05)}), ('/usr/lib/pymodules/python2.6/numpy/core/fromnumeric.py', 107, 'reshape'): (134, 134, 0.000173, 0.00035199999999999999, {('/usr/lib/pymodules/python2.6/numpy/core/fromnumeric.py', 791, 'resize'): (124, 124, 0.00016099999999999998, 0.00032600000000000001), ('/users/ddm1/fipy/fipy/tools/numerix.py', 166, 'reshape'): (10, 10, 1.2e-05, 2.5999999999999998e-05)}), ('/users/ddm1/fipy/fipy/solvers/pysparse/pysparseSolver.py', 88, '_solve'): (10, 10, 0.00024399999999999999, 0.008683999999999999, {('/users/ddm1/fipy/fipy/terms/term.py', 194, 'solve'): (10, 10, 0.00024399999999999999, 0.008683999999999999)}), ('/users/ddm1/fipy/fipy/variables/meshVariable.py', 200, 'constraintMask'): (2, 2, 1.2999999999999999e-05, 0.00042999999999999999, {('/users/ddm1/fipy/fipy/terms/abstractDiffusionTerm.py', 281, '_buildMatrix'): (1, 1, 6.9999999999999999e-06, 0.00020099999999999998), ('/users/ddm1/fipy/fipy/variables/cellToFaceVariable.py', 86, 'constraintMask'): (1, 1, 6.0000000000000002e-06, 0.00022899999999999998)}), ('/users/ddm1/fipy/fipy/variables/unaryOperatorVariable.py', 42, 'unit'): (190, 190, 0.00022999999999999998, 0.00036699999999999998, {('/users/ddm1/fipy/fipy/variables/operatorVariable.py', 45, '__init__'): (28, 28, 4.1e-05, 7.3999999999999996e-05), ('/users/ddm1/fipy/fipy/variables/variable.py', 1556, '__getitem__'): (5, 5, 6.9999999999999999e-06, 9.0000000000000002e-06), ('/users/ddm1/fipy/fipy/variables/variable.py', 1098, '_BinaryOperatorVariable'): (12, 12, 1.8999999999999998e-05, 4.4999999999999996e-05), ('/users/ddm1/fipy/fipy/variables/variable.py', 1054, '_UnaryOperatorVariable'): (16, 16, 2.4999999999999998e-05, 2.8e-05), ('/users/ddm1/fipy/fipy/variables/variable.py', 230, '_unitAsOne'): (129, 129, 0.00013799999999999999, 0.00021099999999999998)}), ('/users/ddm1/fipy/fipy/terms/unaryTerm.py', 127, '_checkVar'): (20, 20, 4.8000000000000001e-05, 0.000165, {('/users/ddm1/fipy/fipy/terms/abstractBinaryTerm.py', 107, '_checkVar'): (20, 20, 4.8000000000000001e-05, 0.000165)}), ('/users/ddm1/fipy/fipy/variables/variable.py', 821, 'getsctype'): (20, 20, 2.0999999999999999e-05, 5.8e-05, {('/users/ddm1/fipy/fipy/terms/unaryTerm.py', 127, '_checkVar'): (20, 20, 2.0999999999999999e-05, 5.8e-05)}), ('~', 0, \"<method 'update' of 'dict' objects>\"): (7342, 7342, 0.0043619999999999996, 0.0043619999999999996, {('/users/ddm1/fipy/fipy/tools/decorators.py', 125, '__call__'): (157, 157, 0.00010999999999999999, 0.00010999999999999999), ('/usr/lib/pymodules/python2.6/numpy/ma/core.py', 2753, '_update_from'): (7185, 7185, 0.0042519999999999997, 0.0042519999999999997)}), ('~', 0, '<built-in method update_add_at>'): (70, 70, 0.00042499999999999998, 0.00042499999999999998, {('/users/ddm1/fipy/fipy/matrices/pysparseMatrix.py', 234, 'addAt'): (70, 70, 0.00042499999999999998, 0.00042499999999999998)}), ('/users/ddm1/fipy/fipy/tools/numerix.py', 590, 'take'): (68, 212, 0.001111, 0.08985499999999999, {('/users/ddm1/fipy/fipy/variables/faceGradVariable.py', 137, '_calcValueNoInline'): (40, 40, 0.000193, 0.0025759999999999997), ('/users/ddm1/fipy/fipy/variables/gaussCellGradVariable.py', 105, '_calcValueNoInline'): (10, 10, 2.4999999999999998e-05, 0.006071), ('/users/ddm1/fipy/fipy/variables/arithmeticCellToFaceVariable.py', 64, '_calcValue_'): (20, 20, 4.3999999999999999e-05, 0.0015319999999999999), ('/users/ddm1/fipy/fipy/terms/abstractDiffusionTerm.py', 208, '__getCoefficientMatrix'): (30, 30, 0.000145, 0.0038119999999999999), ('/users/ddm1/fipy/fipy/variables/variable.py', 1578, 'take'): (81, 81, 0.00061699999999999993, 0.0053949999999999996), ('/users/ddm1/fipy/fipy/variables/addOverFacesVariable.py', 91, '_calcValueNoInline'): (31, 31, 8.7000000000000001e-05, 0.08498)}), ('/users/ddm1/fipy/fipy/variables/variable.py', 898, '_requiredBy'): (165, 165, 0.00079199999999999995, 0.001114, {('/users/ddm1/fipy/fipy/variables/variable.py', 888, '_requires'): (165, 165, 0.00079199999999999995, 0.001114)}), ('/users/ddm1/fipy/fipy/variables/variable.py', 1357, '__len__'): (5, 5, 9.9999999999999991e-06, 0.00089999999999999998, {('~', 0, '<len>'): (5, 5, 9.9999999999999991e-06, 0.00089999999999999998)}), ('/users/ddm1/fipy/fipy/meshes/uniformGrid1D.py', 290, '_cellFaceIDs'): (41, 41, 0.000136, 0.0034379999999999997, {('/users/ddm1/fipy/fipy/meshes/abstractMesh.py', 95, '_getCellFaceIDsInternal'): (41, 41, 0.000136, 0.0034379999999999997)}), ('/users/ddm1/fipy/fipy/variables/variable.py', 862, '_setSubscribedVariables'): (225, 225, 0.00012999999999999999, 0.00012999999999999999, {('/users/ddm1/fipy/fipy/variables/variable.py', 82, '__init__'): (225, 225, 0.00012999999999999999, 0.00012999999999999999)}), ('/users/ddm1/fipy/fipy/meshes/factoryMeshes.py', 47, '_dnl'): (1, 1, 3.0000000000000001e-06, 3.0000000000000001e-06, {('/users/ddm1/fipy/fipy/meshes/factoryMeshes.py', 169, 'Grid1D'): (1, 1, 3.0000000000000001e-06, 3.0000000000000001e-06)}), ('/users/ddm1/fipy/fipy/meshes/uniformGrid1D.py', 209, '_faceTangents1'): (10, 10, 3.2999999999999996e-05, 5.8999999999999998e-05, {('/users/ddm1/fipy/fipy/variables/faceGradVariable.py', 137, '_calcValueNoInline'): (10, 10, 3.2999999999999996e-05, 5.8999999999999998e-05)}), ('/users/ddm1/fipy/fipy/variables/binaryOperatorVariable.py', 83, 'unit'): (111, 240, 0.001075, 0.0080819999999999989, {('/users/ddm1/fipy/fipy/variables/operatorVariable.py', 45, '__init__'): (50, 50, 0.00026399999999999997, 0.0039719999999999998), ('/users/ddm1/fipy/fipy/variables/variable.py', 1556, '__getitem__'): (11, 11, 5.1999999999999997e-05, 0.00036999999999999999), ('/users/ddm1/fipy/fipy/variables/variable.py', 1098, '_BinaryOperatorVariable'): (26, 26, 0.00012299999999999998, 0.0016259999999999998), ('/users/ddm1/fipy/fipy/variables/variable.py', 1054, '_UnaryOperatorVariable'): (24, 24, 0.00016099999999999998, 0.002114), ('/users/ddm1/fipy/fipy/variables/variable.py', 230, '_unitAsOne'): (129, 89, 0.000475, 0.0052129999999999998)}), ('/users/ddm1/fipy/fipy/variables/cellVariable.py', 599, 'constrain'): (2, 2, 2.9999999999999997e-05, 0.00048099999999999998, {('<ipython-input-2-c8f75f664a5c>', 1, 'Coupled'): (2, 2, 2.9999999999999997e-05, 0.00048099999999999998)}), ('/users/ddm1/fipy/fipy/variables/variable.py', 1080, '_shapeClassAndOther'): (38, 38, 8.2000000000000001e-05, 0.002836, {('/users/ddm1/fipy/fipy/variables/variable.py', 1098, '_BinaryOperatorVariable'): (18, 18, 3.4e-05, 0.001119), ('/users/ddm1/fipy/fipy/variables/meshVariable.py', 517, '_shapeClassAndOther'): (20, 20, 4.8000000000000001e-05, 0.001717)}), ('~', 0, '<isinstance>'): (16265, 16265, 0.0079150000000000002, 0.0079150000000000002, {('/usr/lib/pymodules/python2.6/numpy/core/fromnumeric.py', 791, 'resize'): (124, 124, 9.2999999999999997e-05, 9.2999999999999997e-05), ('/users/ddm1/fipy/fipy/tools/dimensions/physicalField.py', 1996, '_isVariable'): (4, 4, 3.0000000000000001e-06, 3.0000000000000001e-06), ('/users/ddm1/fipy/fipy/tools/dimensions/physicalField.py', 397, '__truediv__'): (2, 2, 9.9999999999999995e-07, 9.9999999999999995e-07), ('/users/ddm1/fipy/fipy/tools/dimensions/physicalField.py', 1576, '__truediv__'): (4, 4, 3.9999999999999998e-06, 3.9999999999999998e-06), ('/users/ddm1/fipy/fipy/variables/variable.py', 82, '__init__'): (225, 225, 0.00013099999999999999, 0.00013099999999999999), ('/usr/lib/pymodules/python2.6/numpy/ma/core.py', 2777, '__array_finalize__'): (1437, 1437, 0.00027399999999999999, 0.00027399999999999999), ('/users/ddm1/fipy/fipy/tools/dimensions/physicalField.py', 1529, '__mul__'): (2, 2, 1.9999999999999999e-06, 1.9999999999999999e-06), ('/users/ddm1/fipy/fipy/terms/abstractBinaryTerm.py', 47, '__init__'): (1, 1, 0.0, 0.0), ('/users/ddm1/fipy/fipy/matrices/pysparseMatrix.py', 124, '__mul__'): (40, 40, 3.1999999999999999e-05, 3.1999999999999999e-05), ('/users/ddm1/fipy/fipy/variables/variable.py', 898, '_requiredBy'): (165, 165, 6.7000000000000002e-05, 6.7000000000000002e-05), ('/users/ddm1/fipy/fipy/tools/dimensions/physicalField.py', 637, '__makePhysical'): (2, 2, 3.0000000000000001e-06, 3.0000000000000001e-06), ('/users/ddm1/fipy/fipy/tools/numerix.py', 101, '_isPhysical'): (695, 695, 0.00040400000000000001, 0.00040400000000000001), ('/users/ddm1/fipy/fipy/variables/meshVariable.py', 625, '_getitemClass'): (27, 27, 1.1e-05, 1.1e-05), ('/users/ddm1/fipy/fipy/variables/meshVariable.py', 135, '_globalToLocalValue'): (45, 45, 2.5999999999999998e-05, 2.5999999999999998e-05), ('/users/ddm1/fipy/fipy/variables/meshVariable.py', 517, '_shapeClassAndOther'): (28, 28, 1.2999999999999999e-05, 1.2999999999999999e-05), ('/users/ddm1/fipy/fipy/variables/variable.py', 888, '_requires'): (167, 167, 7.8999999999999996e-05, 7.8999999999999996e-05), ('/users/ddm1/fipy/fipy/matrices/pysparseMatrix.py', 322, '__mul__'): (10, 10, 1.2e-05, 1.2e-05), ('/users/ddm1/fipy/fipy/variables/variable.py', 238, '_extractUnit'): (684, 684, 0.00041599999999999997, 0.00041599999999999997), ('/users/ddm1/fipy/fipy/terms/abstractDiffusionTerm.py', 49, '__init__'): (4, 4, 3.0000000000000001e-06, 3.0000000000000001e-06), ('/users/ddm1/fipy/fipy/terms/abstractDiffusionTerm.py', 87, '__neg__'): (1, 1, 0.0, 0.0), ('/users/ddm1/fipy/fipy/variables/meshVariable.py', 50, '__init__'): (212, 212, 0.00012799999999999999, 0.00012799999999999999), ('/users/ddm1/fipy/fipy/variables/cellVariable.py', 599, 'constrain'): (2, 2, 1.9999999999999999e-06, 1.9999999999999999e-06), ('/usr/lib/pymodules/python2.6/numpy/core/numerictypes.py', 548, 'obj2sctype'): (208, 208, 7.2999999999999999e-05, 7.2999999999999999e-05), ('/usr/lib/pymodules/python2.6/numpy/core/fromnumeric.py', 32, '_wrapit'): (10, 10, 4.9999999999999996e-06, 4.9999999999999996e-06), ('/users/ddm1/fipy/fipy/variables/variable.py', 1146, '__mul__'): (20, 20, 1.2999999999999999e-05, 1.2999999999999999e-05), ('/users/ddm1/fipy/fipy/tools/dimensions/physicalField.py', 361, '__mul__'): (1, 1, 0.0, 0.0), ('/usr/lib/pymodules/python2.6/numpy/ma/core.py', 552, 'filled'): (31, 31, 6.9999999999999999e-06, 6.9999999999999999e-06), ('/usr/lib/pymodules/python2.6/numpy/ma/core.py', 2753, '_update_from'): (2874, 2874, 0.0011279999999999999, 0.0011279999999999999), ('/users/ddm1/fipy/fipy/terms/cellTerm.py', 68, '_checkCoeff'): (1, 1, 9.9999999999999995e-07, 9.9999999999999995e-07), ('/users/ddm1/fipy/fipy/tools/dimensions/physicalField.py', 1479, '_checkSame'): (21, 21, 2.9999999999999997e-05, 2.9999999999999997e-05), ('/users/ddm1/fipy/fipy/terms/abstractDiffusionTerm.py', 281, '_buildMatrix'): (1, 1, 0.0, 0.0), ('/users/ddm1/fipy/fipy/terms/term.py', 402, '__add__'): (1, 1, 9.9999999999999995e-07, 9.9999999999999995e-07), ('/usr/lib/pymodules/python2.6/numpy/ma/core.py', 2624, '__new__'): (4311, 4311, 0.0023469999999999997, 0.0023469999999999997), ('/usr/lib/pymodules/python2.6/numpy/core/numerictypes.py', 503, '_python_type'): (20, 20, 3.9999999999999998e-06, 3.9999999999999998e-06), ('/users/ddm1/fipy/fipy/variables/variable.py', 668, '_makeValue'): (3648, 3648, 0.002088, 0.002088), ('/users/ddm1/fipy/fipy/variables/variable.py', 149, '__makeVariable'): (20, 20, 1.4e-05, 1.4e-05), ('/users/ddm1/fipy/fipy/variables/variable.py', 784, 'numericValue'): (31, 31, 2.0999999999999999e-05, 2.0999999999999999e-05), ('/users/ddm1/fipy/fipy/terms/transientTerm.py', 113, '_calcGeomCoeff'): (1, 1, 9.9999999999999995e-07, 9.9999999999999995e-07), ('/users/ddm1/fipy/fipy/terms/cellTerm.py', 51, '__init__'): (2, 2, 9.9999999999999995e-07, 9.9999999999999995e-07), ('/users/ddm1/fipy/fipy/variables/variable.py', 1136, '__sub__'): (1, 1, 9.9999999999999995e-07, 9.9999999999999995e-07), ('/users/ddm1/fipy/fipy/terms/abstractDiffusionTerm.py', 151, '_calcGeomCoeff'): (2, 2, 9.9999999999999995e-07, 9.9999999999999995e-07), ('/users/ddm1/fipy/fipy/variables/variable.py', 1026, '_getArithmeticBaseClass'): (41, 41, 1.4999999999999999e-05, 1.4999999999999999e-05), ('/users/ddm1/fipy/fipy/tools/numerix.py', 956, '_compressIndexSubspaces'): (73, 73, 2.9e-05, 2.9e-05), ('/users/ddm1/fipy/fipy/tools/numerix.py', 983, '_indexShape'): (568, 568, 0.000164, 0.000164), ('/users/ddm1/fipy/fipy/tools/dimensions/physicalField.py', 117, '__init__'): (30, 30, 1.8e-05, 1.8e-05), ('/users/ddm1/fipy/fipy/variables/binaryOperatorVariable.py', 72, '_calcValue_'): (429, 429, 0.00022699999999999999, 0.00022699999999999999), ('/users/ddm1/fipy/fipy/variables/variable.py', 1098, '_BinaryOperatorVariable'): (38, 38, 1.9999999999999998e-05, 1.9999999999999998e-05), ('/users/ddm1/fipy/fipy/tools/dimensions/physicalField.py', 1903, '_findUnit'): (1, 1, 1.9999999999999999e-06, 1.9999999999999999e-06)}), ('/users/ddm1/fipy/fipy/terms/term.py', 459, '_getGeomCoeff'): (22, 22, 2.6999999999999999e-05, 0.0043579999999999999, {('/users/ddm1/fipy/fipy/terms/abstractDiffusionTerm.py', 358, '__higherOrderbuildMatrix'): (1, 1, 9.9999999999999995e-07, 9.9999999999999995e-07), ('/users/ddm1/fipy/fipy/terms/abstractDiffusionTerm.py', 456, '_getDiffusionGeomCoeff'): (10, 10, 6.9999999999999999e-06, 0.0034719999999999998), ('/users/ddm1/fipy/fipy/terms/transientTerm.py', 120, '_getTransientGeomCoeff'): (10, 10, 9.0000000000000002e-06, 0.00087499999999999991), ('/users/ddm1/fipy/fipy/terms/cellTerm.py', 99, '_calcCoeffVectors_'): (1, 1, 9.9999999999999991e-06, 9.9999999999999991e-06)}), ('/users/ddm1/fipy/fipy/terms/abstractDiffusionTerm.py', 98, '__getBoundaryConditions'): (10, 10, 6.9999999999999999e-06, 6.9999999999999999e-06, {('/users/ddm1/fipy/fipy/terms/abstractDiffusionTerm.py', 358, '__higherOrderbuildMatrix'): (10, 10, 6.9999999999999999e-06, 6.9999999999999999e-06)}), ('/users/ddm1/fipy/fipy/variables/meshVariable.py', 604, 'setValue'): (10, 10, 2.8e-05, 0.00074599999999999992, {('/users/ddm1/fipy/fipy/variables/cellVariable.py', 165, 'setValue'): (10, 10, 2.8e-05, 0.00074599999999999992)}), ('/users/ddm1/fipy/fipy/tools/dimensions/physicalField.py', 649, '__array__'): (1, 1, 7.9999999999999996e-06, 1.7e-05, {('/users/ddm1/fipy/fipy/meshes/builders/grid1DBuilder.py', 66, '_calcPhysicalShape'): (1, 1, 7.9999999999999996e-06, 1.7e-05)}), ('~', 0, '<hasattr>'): (5229, 5281, 0.003571, 0.0037159999999999997, {('/users/ddm1/fipy/fipy/variables/variable.py', 572, 'constraints'): (2293, 2293, 0.001155, 0.001155), ('/users/ddm1/fipy/fipy/matrices/pysparseMatrix.py', 279, '__init__'): (30, 30, 3.6000000000000001e-05, 3.6000000000000001e-05), ('/users/ddm1/fipy/fipy/variables/cellVariable.py', 333, 'arithmeticFaceValue'): (32, 32, 1.4e-05, 1.4e-05), ('/users/ddm1/fipy/fipy/tools/dimensions/physicalField.py', 117, '__init__'): (60, 60, 6.2000000000000003e-05, 6.2000000000000003e-05), ('/users/ddm1/fipy/fipy/terms/cellTerm.py', 99, '_calcCoeffVectors_'): (1, 1, 9.9999999999999995e-07, 9.9999999999999995e-07), ('/users/ddm1/fipy/fipy/terms/abstractBinaryTerm.py', 93, '_vars'): (1, 1, 1.9999999999999999e-06, 1.9999999999999999e-06), ('/users/ddm1/fipy/fipy/variables/cellVariable.py', 459, 'faceGrad'): (2, 2, 1.9999999999999999e-06, 1.9999999999999999e-06), ('/users/ddm1/fipy/fipy/variables/cellToFaceVariable.py', 86, 'constraintMask'): (1, 1, 9.9999999999999995e-07, 9.9999999999999995e-07), ('/users/ddm1/fipy/fipy/variables/cellVariable.py', 599, 'constrain'): (2, 2, 1.9999999999999999e-06, 1.9999999999999999e-06), ('/users/ddm1/fipy/fipy/terms/abstractDiffusionTerm.py', 142, '__calcAnisotropySource'): (1, 1, 9.9999999999999995e-07, 9.9999999999999995e-07), ('/users/ddm1/fipy/fipy/terms/abstractDiffusionTerm.py', 358, '__higherOrderbuildMatrix'): (20, 20, 1.9999999999999998e-05, 1.9999999999999998e-05), ('/users/ddm1/fipy/fipy/terms/abstractDiffusionTerm.py', 281, '_buildMatrix'): (19, 19, 9.0000000000000002e-06, 9.0000000000000002e-06), ('/users/ddm1/fipy/fipy/tools/numerix.py', 199, 'getShape'): (757, 705, 0.00043899999999999999, 0.00058399999999999999), ('/usr/lib/pymodules/python2.6/numpy/ma/core.py', 2624, '__new__'): (1437, 1437, 0.0014249999999999998, 0.0014249999999999998), ('/users/ddm1/fipy/fipy/variables/cellVariable.py', 269, 'gaussGrad'): (10, 10, 3.0000000000000001e-06, 3.0000000000000001e-06), ('/users/ddm1/fipy/fipy/variables/variable.py', 1520, '_axisOperator'): (23, 23, 3.1000000000000001e-05, 3.1000000000000001e-05), ('/users/ddm1/fipy/fipy/variables/faceVariable.py', 82, 'divergence'): (3, 3, 3.9999999999999998e-06, 3.9999999999999998e-06), ('/users/ddm1/fipy/fipy/meshes/builders/abstractGridBuilder.py', 226, '_calcGlobalNumFaces'): (1, 1, 0.0, 0.0), ('/users/ddm1/fipy/fipy/variables/variable.py', 713, 'setValue'): (10, 10, 6.0000000000000002e-06, 6.0000000000000002e-06), ('/users/ddm1/fipy/fipy/variables/variable.py', 522, '_getValue'): (134, 134, 0.000175, 0.000175), ('/users/ddm1/fipy/fipy/variables/cellToFaceVariable.py', 77, 'constraints'): (160, 160, 5.1e-05, 5.1e-05), ('/users/ddm1/fipy/fipy/variables/meshVariable.py', 200, 'constraintMask'): (2, 2, 1.9999999999999999e-06, 1.9999999999999999e-06), ('/users/ddm1/fipy/fipy/variables/unaryOperatorVariable.py', 42, 'unit'): (190, 190, 6.5999999999999992e-05, 6.5999999999999992e-05), ('/users/ddm1/fipy/fipy/variables/variable.py', 821, 'getsctype'): (20, 20, 9.9999999999999991e-06, 9.9999999999999991e-06), ('/usr/lib/pymodules/python2.6/numpy/ma/core.py', 552, 'filled'): (72, 72, 5.3999999999999998e-05, 5.3999999999999998e-05)}), ('/users/ddm1/fipy/fipy/variables/operatorVariable.py', 45, '__init__'): (121, 121, 0.0013959999999999999, 0.022943999999999999, {('/users/ddm1/fipy/fipy/variables/meshVariable.py', 565, '__init__'): (36, 36, 0.000486, 0.0082129999999999998), ('/users/ddm1/fipy/fipy/variables/variable.py', 1098, '_BinaryOperatorVariable'): (15, 15, 0.000185, 0.002215), ('/users/ddm1/fipy/fipy/variables/variable.py', 1054, '_UnaryOperatorVariable'): (70, 70, 0.00072499999999999995, 0.012515999999999999)}), ('~', 0, '<issubclass>'): (96, 96, 0.00012299999999999998, 0.00012299999999999998, {('/usr/lib/pymodules/python2.6/numpy/core/numerictypes.py', 548, 'obj2sctype'): (96, 96, 0.00012299999999999998, 0.00012299999999999998)}), ('~', 0, '<built-in method shift>'): (20, 20, 0.000408, 0.000408, {('/users/ddm1/fipy/fipy/matrices/pysparseMatrix.py', 74, '_iadd'): (20, 20, 0.000408, 0.000408)}), ('/users/ddm1/fipy/fipy/solvers/pysparseMatrixSolver.py', 67, '_matrixClass'): (10, 10, 4.9999999999999996e-06, 4.9999999999999996e-06, {('/users/ddm1/fipy/fipy/terms/term.py', 137, '_getMatrixClass'): (10, 10, 4.9999999999999996e-06, 4.9999999999999996e-06)}), ('/usr/lib/pymodules/python2.6/numpy/ma/core.py', 552, 'filled'): (72, 72, 0.000111, 0.00030299999999999999, {('/users/ddm1/fipy/fipy/tools/numerix.py', 590, 'take'): (41, 41, 6.7999999999999999e-05, 0.00021699999999999999), ('/users/ddm1/fipy/fipy/variables/addOverFacesVariable.py', 91, '_calcValueNoInline'): (31, 31, 4.2999999999999995e-05, 8.599999999999999e-05)}), ('/users/ddm1/fipy/fipy/tools/dimensions/physicalField.py', 1903, '_findUnit'): (1, 1, 1.9999999999999999e-06, 3.9999999999999998e-06, {('/users/ddm1/fipy/fipy/tools/dimensions/physicalField.py', 117, '__init__'): (1, 1, 1.9999999999999999e-06, 3.9999999999999998e-06)}), ('/users/ddm1/fipy/fipy/variables/cellVariable.py', 333, 'arithmeticFaceValue'): (32, 32, 4.4999999999999996e-05, 0.00024399999999999999, {('/users/ddm1/fipy/fipy/variables/faceGradContributionsVariable.py', 79, '_calcValue'): (10, 10, 1.2999999999999999e-05, 1.7e-05), ('/users/ddm1/fipy/fipy/variables/faceGradVariable.py', 137, '_calcValueNoInline'): (20, 20, 2.9999999999999997e-05, 0.000224), ('/users/ddm1/fipy/fipy/terms/abstractDiffusionTerm.py', 281, '_buildMatrix'): (2, 2, 1.9999999999999999e-06, 3.0000000000000001e-06)}), ('/users/ddm1/fipy/fipy/variables/variable.py', 1517, '_axisClass'): (20, 20, 2.0999999999999999e-05, 0.0012699999999999999, {('/users/ddm1/fipy/fipy/variables/variable.py', 1520, '_axisOperator'): (20, 20, 2.0999999999999999e-05, 0.0012699999999999999)}), ('/users/ddm1/fipy/fipy/variables/variable.py', 1258, '<lambda>'): (208, 208, 0.0010269999999999999, 0.0010269999999999999, {('/users/ddm1/fipy/fipy/variables/binaryOperatorVariable.py', 72, '_calcValue_'): (204, 204, 0.0010249999999999999, 0.0010249999999999999), ('/users/ddm1/fipy/fipy/variables/binaryOperatorVariable.py', 83, 'unit'): (4, 4, 1.9999999999999999e-06, 1.9999999999999999e-06)}), ('/users/ddm1/fipy/fipy/terms/abstractDiffusionTerm.py', 208, '__getCoefficientMatrix'): (10, 10, 0.00039199999999999999, 0.011439, {('/users/ddm1/fipy/fipy/terms/abstractDiffusionTerm.py', 358, '__higherOrderbuildMatrix'): (10, 10, 0.00039199999999999999, 0.011439)}), ('/users/ddm1/fipy/fipy/tools/dimensions/physicalField.py', 1529, '__mul__'): (1, 1, 1.2999999999999999e-05, 4.4999999999999996e-05, {('/users/ddm1/fipy/fipy/tools/dimensions/physicalField.py', 361, '__mul__'): (1, 1, 1.2999999999999999e-05, 4.4999999999999996e-05)}), ('/users/ddm1/fipy/fipy/matrices/pysparseMatrix.py', 225, 'take'): (10, 10, 2.4999999999999998e-05, 8.7000000000000001e-05, {('/users/ddm1/fipy/fipy/matrices/pysparseMatrix.py', 230, 'takeDiagonal'): (10, 10, 2.4999999999999998e-05, 8.7000000000000001e-05)}), ('~', 0, \"<method 'split' of 'str' objects>\"): (157, 157, 0.00011899999999999999, 0.00011899999999999999, {('/users/ddm1/fipy/fipy/tools/decorators.py', 125, '__call__'): (157, 157, 0.00011899999999999999, 0.00011899999999999999)}), ('/users/ddm1/fipy/fipy/variables/variable.py', 1247, '__eq__'): (4, 4, 9.9999999999999991e-06, 0.0022529999999999998, {('/users/ddm1/fipy/fipy/meshes/abstractMesh.py', 693, 'facesLeft'): (2, 2, 4.9999999999999996e-06, 0.001157), ('/users/ddm1/fipy/fipy/meshes/abstractMesh.py', 713, 'facesRight'): (2, 2, 4.9999999999999996e-06, 0.001096)}), ('/users/ddm1/fipy/fipy/meshes/uniformGrid1D.py', 173, '_faceCenters'): (4, 4, 9.2999999999999997e-05, 0.00010399999999999999, {('/users/ddm1/fipy/fipy/meshes/abstractMesh.py', 120, 'faceCenters'): (4, 4, 9.2999999999999997e-05, 0.00010399999999999999)}), ('/users/ddm1/fipy/fipy/variables/variable.py', 1146, '__mul__'): (20, 20, 0.000121, 0.017894, {('/users/ddm1/fipy/fipy/variables/faceVariable.py', 82, 'divergence'): (3, 3, 1.9999999999999998e-05, 0.0050200000000000002), ('/users/ddm1/fipy/fipy/terms/cellTerm.py', 99, '_calcCoeffVectors_'): (4, 4, 2.3e-05, 0.0017259999999999999), ('/users/ddm1/fipy/fipy/terms/abstractDiffusionTerm.py', 281, '_buildMatrix'): (10, 10, 5.8e-05, 0.010135999999999999), ('/users/ddm1/fipy/fipy/terms/abstractDiffusionTerm.py', 151, '_calcGeomCoeff'): (2, 2, 1.2999999999999999e-05, 0.00057399999999999997), ('/users/ddm1/fipy/fipy/terms/transientTerm.py', 113, '_calcGeomCoeff'): (1, 1, 6.9999999999999999e-06, 0.00043799999999999997)}), ('/users/ddm1/fipy/fipy/terms/cellTerm.py', 114, '_getCoeffVectors_'): (10, 10, 1.2999999999999999e-05, 0.001763, {('/users/ddm1/fipy/fipy/terms/cellTerm.py', 152, '_buildMatrix'): (10, 10, 1.2999999999999999e-05, 0.001763)}), ('/users/ddm1/fipy/fipy/variables/cellVariable.py', 459, 'faceGrad'): (2, 2, 9.9999999999999991e-06, 0.000195, {('/users/ddm1/fipy/fipy/terms/abstractDiffusionTerm.py', 281, '_buildMatrix'): (2, 2, 9.9999999999999991e-06, 0.000195)}), ('~', 0, '<_Epetra.MpiComm_MyPID>'): (1, 1, 3.9999999999999998e-06, 3.9999999999999998e-06, {('/usr/lib/python2.6/dist-packages/PyTrilinos/Epetra.py', 5997, 'MyPID'): (1, 1, 3.9999999999999998e-06, 3.9999999999999998e-06)}), ('/users/ddm1/fipy/fipy/variables/variable.py', 352, '_getName'): (2, 2, 0.0, 0.0, {('/users/ddm1/fipy/fipy/variables/cellVariable.py', 269, 'gaussGrad'): (1, 1, 0.0, 0.0), ('/users/ddm1/fipy/fipy/variables/cellVariable.py', 136, 'copy'): (1, 1, 0.0, 0.0)}), ('/users/ddm1/fipy/fipy/variables/variable.py', 665, '_setValueInternal'): (1163, 1163, 0.0017079999999999999, 0.063744999999999996, {('/users/ddm1/fipy/fipy/variables/variable.py', 82, '__init__'): (225, 225, 0.00033500000000000001, 0.01231), ('/users/ddm1/fipy/fipy/variables/variable.py', 522, '_getValue'): (938, 938, 0.0013729999999999999, 0.051434999999999995)}), ('/users/ddm1/fipy/fipy/terms/abstractDiffusionTerm.py', 358, '__higherOrderbuildMatrix'): (10, 10, 0.000144, 0.014206, {('/users/ddm1/fipy/fipy/terms/abstractDiffusionTerm.py', 281, '_buildMatrix'): (10, 10, 0.000144, 0.014206)}), ('/users/ddm1/fipy/fipy/variables/binaryOperatorVariable.py', 72, '_calcValue_'): (103, 429, 0.0032829999999999999, 0.102048, {('/users/ddm1/fipy/fipy/variables/operatorVariable.py', 71, '_calcValue'): (429, 103, 0.0032829999999999999, 0.102048)}), ('/users/ddm1/fipy/fipy/matrices/offsetSparseMatrix.py', 49, '__init__'): (30, 30, 8.2000000000000001e-05, 0.00052700000000000002, {('/users/ddm1/fipy/fipy/terms/cellTerm.py', 152, '_buildMatrix'): (10, 10, 2.6999999999999999e-05, 0.00015999999999999999), ('/users/ddm1/fipy/fipy/terms/abstractDiffusionTerm.py', 208, '__getCoefficientMatrix'): (10, 10, 2.5999999999999998e-05, 0.000175), ('/users/ddm1/fipy/fipy/terms/binaryTerm.py', 50, '_buildAndAddMatrices'): (10, 10, 2.9e-05, 0.000192)}), ('/users/ddm1/fipy/fipy/terms/term.py', 148, '_prepareLinearSystem'): (10, 10, 0.000184, 0.17977899999999999, {('/users/ddm1/fipy/fipy/terms/term.py', 194, 'solve'): (10, 10, 0.000184, 0.17977899999999999)}), ('/users/ddm1/fipy/fipy/variables/faceGradContributionsVariable.py', 79, '_calcValue'): (10, 10, 0.00014799999999999999, 0.0045539999999999999, {('/users/ddm1/fipy/fipy/variables/variable.py', 522, '_getValue'): (10, 10, 0.00014799999999999999, 0.0045539999999999999)}), ('~', 0, \"<method 'reshape' of 'numpy.ndarray' objects>\"): (630, 630, 0.000901, 0.000901, {('/users/ddm1/fipy/fipy/solvers/pysparse/pysparseSolver.py', 88, '_solve'): (10, 10, 1.1e-05, 1.1e-05), ('/usr/lib/pymodules/python2.6/numpy/core/numeric.py', 860, 'tensordot'): (486, 486, 0.00071099999999999994, 0.00071099999999999994), ('/usr/lib/pymodules/python2.6/numpy/core/fromnumeric.py', 107, 'reshape'): (134, 134, 0.00017899999999999999, 0.00017899999999999999)}), ('/users/ddm1/fipy/fipy/tools/dimensions/physicalField.py', 1815, 'isAngle'): (1, 1, 4.9999999999999996e-06, 4.9999999999999996e-06, {('/users/ddm1/fipy/fipy/tools/dimensions/physicalField.py', 649, '__array__'): (1, 1, 4.9999999999999996e-06, 4.9999999999999996e-06)}), ('/users/ddm1/fipy/fipy/variables/cellToFaceVariable.py', 77, 'constraints'): (160, 160, 0.00050500000000000002, 0.00072799999999999991, {('/users/ddm1/fipy/fipy/variables/constraintMask.py', 43, '__init__'): (1, 1, 3.9999999999999998e-06, 6.0000000000000002e-06), ('/users/ddm1/fipy/fipy/variables/variable.py', 522, '_getValue'): (134, 134, 0.00041599999999999997, 0.000602), ('/users/ddm1/fipy/fipy/variables/constraintMask.py', 49, '_calcValue'): (25, 25, 8.4999999999999993e-05, 0.00011999999999999999)}), ('/users/ddm1/fipy/fipy/terms/binaryTerm.py', 83, '_getDefaultSolver'): (10, 10, 4.8000000000000001e-05, 0.00053299999999999995, {('/users/ddm1/fipy/fipy/terms/term.py', 399, 'getDefaultSolver'): (10, 10, 4.8000000000000001e-05, 0.00053299999999999995)}), ('/users/ddm1/fipy/fipy/variables/gaussCellGradVariable.py', 110, '_calcValue'): (10, 10, 9.2999999999999997e-05, 0.0085419999999999992, {('/users/ddm1/fipy/fipy/variables/variable.py', 522, '_getValue'): (10, 10, 9.2999999999999997e-05, 0.0085419999999999992)}), ('/users/ddm1/fipy/fipy/variables/cellVariable.py', 80, '_OperatorVariableClass'): (6, 6, 0.000164, 0.001078, {('/users/ddm1/fipy/fipy/variables/variable.py', 1098, '_BinaryOperatorVariable'): (4, 4, 0.000108, 0.00064399999999999993), ('/users/ddm1/fipy/fipy/variables/variable.py', 1054, '_UnaryOperatorVariable'): (2, 2, 5.5999999999999999e-05, 0.00043399999999999998)}), ('/users/ddm1/fipy/fipy/variables/unaryOperatorVariable.py', 39, '_calcValue_'): (133, 412, 0.00098700000000000003, 0.096519999999999995, {('/users/ddm1/fipy/fipy/variables/operatorVariable.py', 71, '_calcValue'): (412, 133, 0.00098700000000000003, 0.096519999999999995)}), ('/users/ddm1/fipy/fipy/meshes/abstractMesh.py', 630, '_globalOverlappingFaceIDs'): (11, 11, 1.8e-05, 6.7000000000000002e-05, {('/users/ddm1/fipy/fipy/variables/faceVariable.py', 105, '_globalOverlappingIDs'): (11, 11, 1.8e-05, 6.7000000000000002e-05)}), ('~', 0, \"<method 'nonzero' of 'numpy.ndarray' objects>\"): (10, 10, 2.9e-05, 2.9e-05, {('/usr/lib/pymodules/python2.6/numpy/core/fromnumeric.py', 32, '_wrapit'): (10, 10, 2.9e-05, 2.9e-05)}), ('/users/ddm1/fipy/fipy/tools/decorators.py', 233, 'getsetDeprecated'): (157, 157, 0.00069200000000000002, 0.0053809999999999995, {('/users/ddm1/fipy/fipy/variables/operatorVariable.py', 44, '_OperatorVariable'): (121, 121, 0.000544, 0.0042329999999999998), ('/users/ddm1/fipy/fipy/variables/meshVariable.py', 564, '_MeshOperatorVariable'): (36, 36, 0.00014799999999999999, 0.0011479999999999999)}), ('/users/ddm1/fipy/fipy/tools/dimensions/DictWithDefault.py', 18, '__init__'): (3, 3, 3.0000000000000001e-06, 3.0000000000000001e-06, {('/users/ddm1/fipy/fipy/tools/dimensions/NumberDict.py', 28, '__init__'): (3, 3, 3.0000000000000001e-06, 3.0000000000000001e-06)}), ('/users/ddm1/fipy/fipy/terms/term.py', 52, '__init__'): (6, 6, 1.9999999999999998e-05, 1.9999999999999998e-05, {('/users/ddm1/fipy/fipy/terms/abstractBinaryTerm.py', 47, '__init__'): (1, 1, 3.9999999999999998e-06, 3.9999999999999998e-06), ('/users/ddm1/fipy/fipy/terms/cellTerm.py', 51, '__init__'): (1, 1, 4.9999999999999996e-06, 4.9999999999999996e-06), ('/users/ddm1/fipy/fipy/terms/abstractDiffusionTerm.py', 49, '__init__'): (4, 4, 1.1e-05, 1.1e-05)}), ('/users/ddm1/fipy/fipy/matrices/pysparseMatrix.py', 124, '__mul__'): (40, 40, 0.00032299999999999999, 0.001121, {('/users/ddm1/fipy/fipy/matrices/pysparseMatrix.py', 322, '__mul__'): (10, 10, 0.000164, 0.00077699999999999991), ('/users/ddm1/fipy/fipy/solvers/pysparse/linearLUSolver.py', 82, '_solve_'): (30, 30, 0.00015899999999999999, 0.00034399999999999996)}), ('/users/ddm1/fipy/fipy/meshes/uniformGrid1D.py', 262, '_orientedAreaProjections'): (3, 3, 3.9999999999999998e-06, 6.4999999999999994e-05, {('/users/ddm1/fipy/fipy/variables/faceVariable.py', 82, 'divergence'): (3, 3, 3.9999999999999998e-06, 6.4999999999999994e-05)}), ('/users/ddm1/fipy/fipy/variables/meshVariable.py', 135, '_globalToLocalValue'): (81, 81, 0.00041199999999999999, 0.013446, {('/users/ddm1/fipy/fipy/variables/meshVariable.py', 50, '__init__'): (71, 71, 0.00029, 0.0085559999999999994), ('/users/ddm1/fipy/fipy/variables/cellVariable.py', 165, 'setValue'): (10, 10, 0.000122, 0.0048899999999999994)}), ('/users/ddm1/fipy/fipy/variables/addOverFacesVariable.py', 49, '_calcValue'): (31, 31, 9.4999999999999992e-05, 0.091262999999999997, {('/users/ddm1/fipy/fipy/variables/variable.py', 522, '_getValue'): (31, 31, 9.4999999999999992e-05, 0.091262999999999997)}), ('/users/ddm1/fipy/fipy/variables/arithmeticCellToFaceVariable.py', 64, '_calcValue_'): (10, 10, 0.00014799999999999999, 0.0016799999999999999, {('/users/ddm1/fipy/fipy/variables/cellToFaceVariable.py', 47, '_calcValue'): (10, 10, 0.00014799999999999999, 0.0016799999999999999)}), ('/users/ddm1/fipy/fipy/matrices/pysparseMatrix.py', 70, '__iadd__'): (20, 20, 3.6999999999999998e-05, 0.00048899999999999996, {('/users/ddm1/fipy/fipy/terms/binaryTerm.py', 50, '_buildAndAddMatrices'): (20, 20, 3.6999999999999998e-05, 0.00048899999999999996)}), ('/users/ddm1/fipy/fipy/meshes/builders/grid1DBuilder.py', 49, 'buildGridData'): (1, 1, 3.9999999999999998e-06, 0.000243, {('/users/ddm1/fipy/fipy/meshes/builders/grid1DBuilder.py', 130, 'buildGridData'): (1, 1, 3.9999999999999998e-06, 0.000243)}), ('/users/ddm1/fipy/fipy/meshes/representations/abstractRepresentation.py', 41, '__init__'): (1, 1, 9.9999999999999995e-07, 9.9999999999999995e-07, {('/users/ddm1/fipy/fipy/meshes/abstractMesh.py', 57, '__init__'): (1, 1, 9.9999999999999995e-07, 9.9999999999999995e-07)}), ('/users/ddm1/fipy/fipy/meshes/uniformGrid1D.py', 241, '_cellVolumes'): (45, 45, 0.00032600000000000001, 0.00064999999999999997, {('/users/ddm1/fipy/fipy/meshes/uniformGrid.py', 47, '_scaledCellVolumes'): (45, 45, 0.00032600000000000001, 0.00064999999999999997)}), ('/users/ddm1/fipy/fipy/terms/unaryTerm.py', 109, '_reshapeIDs'): (41, 41, 0.00071000000000000002, 0.0063539999999999994, {('/users/ddm1/fipy/fipy/terms/cellTerm.py', 145, '_buildMatrixNoInline_'): (10, 10, 0.000185, 0.0016299999999999999), ('/users/ddm1/fipy/fipy/terms/abstractDiffusionTerm.py', 281, '_buildMatrix'): (11, 11, 0.00018099999999999998, 0.0016519999999999998), ('/users/ddm1/fipy/fipy/terms/abstractDiffusionTerm.py', 208, '__getCoefficientMatrix'): (20, 20, 0.00034399999999999996, 0.0030720000000000001)}), ('/users/ddm1/fipy/fipy/tools/comms/commWrapper.py', 56, 'procID'): (1, 1, 3.9999999999999998e-06, 1.2999999999999999e-05, {('/users/ddm1/fipy/fipy/meshes/builders/abstractGridBuilder.py', 50, 'buildGridData'): (1, 1, 3.9999999999999998e-06, 1.2999999999999999e-05)}), ('/users/ddm1/fipy/fipy/variables/variable.py', 522, '_getValue'): (591, 2199, 0.011514999999999999, 0.12845699999999999, {('/users/ddm1/fipy/fipy/variables/variable.py', 1357, '__len__'): (5, 5, 3.4e-05, 0.00088800000000000001), ('/users/ddm1/fipy/fipy/variables/variable.py', 784, 'numericValue'): (31, 21, 0.00044899999999999996, 0.0092879999999999994), ('/users/ddm1/fipy/fipy/variables/meshVariable.py', 135, '_globalToLocalValue'): (45, 45, 0.00019699999999999999, 0.0024169999999999999), ('/users/ddm1/fipy/fipy/variables/faceGradVariable.py', 137, '_calcValueNoInline'): (10, 10, 2.6999999999999999e-05, 4.9999999999999996e-05), ('/users/ddm1/fipy/fipy/terms/cellTerm.py', 145, '_buildMatrixNoInline_'): (10, 10, 3.4999999999999997e-05, 5.8e-05), ('/users/ddm1/fipy/fipy/variables/cellVariable.py', 526, 'updateOld'): (10, 10, 3.1999999999999999e-05, 0.00013300000000000001), ('/users/ddm1/fipy/fipy/variables/variable.py', 166, '__array__'): (224, 204, 0.0013209999999999999, 0.042291999999999996), ('/users/ddm1/fipy/fipy/variables/variable.py', 1578, 'take'): (81, 45, 0.00043299999999999995, 0.084672999999999998), ('/users/ddm1/fipy/fipy/variables/binaryOperatorVariable.py', 72, '_calcValue_'): (858, 206, 0.0043800000000000002, 0.10063599999999999), ('/users/ddm1/fipy/fipy/variables/variable.py', 1354, '__iter__'): (4, 4, 2.4000000000000001e-05, 0.00034199999999999996), ('/users/ddm1/fipy/fipy/variables/variable.py', 1514, 'ravel'): (70, 70, 0.00040999999999999999, 0.103934), ('/users/ddm1/fipy/fipy/variables/cellVariable.py', 136, 'copy'): (1, 1, 1.9999999999999999e-06, 6.9999999999999999e-06), ('/users/ddm1/fipy/fipy/variables/unaryOperatorVariable.py', 39, '_calcValue_'): (412, 133, 0.0016979999999999999, 0.091901999999999998), ('/users/ddm1/fipy/fipy/variables/variable.py', 248, '_getUnit'): (438, 435, 0.0024729999999999999, 0.030348999999999998)}), ('/users/ddm1/fipy/fipy/tools/decorators.py', 113, 'old_name_from_func'): (157, 157, 0.00012400000000000001, 0.00012400000000000001, {('/users/ddm1/fipy/fipy/tools/decorators.py', 125, '__call__'): (157, 157, 0.00012400000000000001, 0.00012400000000000001)}), ('~', 0, '<map>'): (1, 1, 3.0000000000000001e-06, 3.9999999999999998e-06, {('/users/ddm1/fipy/fipy/meshes/builders/utilityClasses.py', 156, 'calcNs'): (1, 1, 3.0000000000000001e-06, 3.9999999999999998e-06)}), ('~', 0, '<pysparse.spmatrix.ll_mat>'): (70, 70, 8.8999999999999995e-05, 8.8999999999999995e-05, {('/users/ddm1/fipy/fipy/matrices/pysparseMatrix.py', 124, '__mul__'): (10, 10, 1.7e-05, 1.7e-05), ('/users/ddm1/fipy/fipy/matrices/pysparseMatrix.py', 279, '__init__'): (60, 60, 7.2000000000000002e-05, 7.2000000000000002e-05)}), ('/users/ddm1/fipy/fipy/variables/addOverFacesVariable.py', 42, '__init__'): (3, 3, 1.5999999999999999e-05, 0.00058399999999999999, {('/users/ddm1/fipy/fipy/variables/faceVariable.py', 82, 'divergence'): (3, 3, 1.5999999999999999e-05, 0.00058399999999999999)}), ('~', 0, '<numpy.core.multiarray.array>'): (2735, 3775, 0.0085079999999999999, 0.047617, {('/users/ddm1/fipy/fipy/tools/dimensions/physicalField.py', 117, '__init__'): (43, 43, 0.000147, 0.000147), ('/users/ddm1/fipy/fipy/tools/numerix.py', 166, 'reshape'): (10, 10, 9.9999999999999991e-06, 9.9999999999999991e-06), ('/users/ddm1/fipy/fipy/meshes/uniformGrid1D.py', 131, '_adjacentCellIDs'): (30, 30, 0.00087999999999999992, 0.00087999999999999992), ('/users/ddm1/fipy/fipy/variables/faceGradVariable.py', 137, '_calcValueNoInline'): (10, 10, 4.9999999999999996e-05, 0.0049519999999999998), ('/users/ddm1/fipy/fipy/meshes/uniformGrid1D.py', 62, '__init__'): (1, 1, 1.2999999999999999e-05, 1.2999999999999999e-05), ('/usr/lib/pymodules/python2.6/numpy/core/numeric.py', 201, 'asarray'): (518, 518, 0.00091999999999999992, 0.010572999999999999), ('/users/ddm1/fipy/fipy/meshes/builders/grid1DBuilder.py', 71, '_calcMeshSpacing'): (1, 1, 9.0000000000000002e-06, 9.0000000000000002e-06), ('/users/ddm1/fipy/fipy/tools/numerix.py', 590, 'take'): (90, 90, 9.6000000000000002e-05, 9.6000000000000002e-05), ('/users/ddm1/fipy/fipy/variables/variable.py', 522, '_getValue'): (134, 134, 0.00060399999999999994, 0.026683999999999999), ('/users/ddm1/fipy/fipy/variables/meshVariable.py', 50, '__init__'): (1, 1, 1.2e-05, 1.2e-05), ('/users/ddm1/fipy/fipy/tools/numerix.py', 956, '_compressIndexSubspaces'): (59, 59, 0.00014799999999999999, 0.00014799999999999999), ('/usr/lib/pymodules/python2.6/numpy/ma/core.py', 2624, '__new__'): (1437, 1437, 0.0027979999999999997, 0.0027979999999999997), ('/users/ddm1/fipy/fipy/variables/variable.py', 166, '__array__'): (224, 224, 0.00030499999999999999, 0.00030499999999999999), ('/users/ddm1/fipy/fipy/meshes/builders/grid1DBuilder.py', 86, 'createCells'): (41, 41, 0.0011529999999999999, 0.0011529999999999999), ('/users/ddm1/fipy/fipy/tools/dimensions/physicalField.py', 649, '__array__'): (1, 1, 1.9999999999999999e-06, 1.9999999999999999e-06), ('/users/ddm1/fipy/fipy/terms/abstractDiffusionTerm.py', 87, '__neg__'): (1, 1, 1.4999999999999999e-05, 1.4999999999999999e-05), ('/users/ddm1/fipy/fipy/variables/variable.py', 668, '_makeValue'): (1161, 1161, 0.00132, 0.00132), ('/users/ddm1/fipy/fipy/variables/gaussCellGradVariable.py', 105, '_calcValueNoInline'): (10, 10, 1.9999999999999998e-05, 1.9999999999999998e-05), ('/users/ddm1/fipy/fipy/tools/dimensions/physicalField.py', 1444, '__init__'): (3, 3, 6.0000000000000002e-06, 6.0000000000000002e-06)}), ('/users/ddm1/.virtualenvs/venv1/lib/python2.6/re.py', 229, '_compile'): (157, 157, 0.00025799999999999998, 0.00033700000000000001, {('/users/ddm1/.virtualenvs/venv1/lib/python2.6/re.py', 139, 'search'): (157, 157, 0.00025799999999999998, 0.00033700000000000001)}), ('/users/ddm1/fipy/fipy/variables/unaryOperatorVariable.py', 37, '_UnaryOperatorVariable'): (86, 86, 0.0019810000000000001, 0.0021319999999999998, {('/users/ddm1/fipy/fipy/variables/variable.py', 1054, '_UnaryOperatorVariable'): (86, 86, 0.0019810000000000001, 0.0021319999999999998)}), ('~', 0, '<iter>'): (166, 166, 4.9999999999999996e-05, 4.9999999999999996e-05, {('/usr/lib/pymodules/python2.6/numpy/core/numeric.py', 860, 'tensordot'): (162, 162, 4.6e-05, 4.6e-05), ('/users/ddm1/fipy/fipy/variables/variable.py', 1354, '__iter__'): (4, 4, 3.9999999999999998e-06, 3.9999999999999998e-06)}), ('/users/ddm1/fipy/fipy/meshes/builders/utilityClasses.py', 156, 'calcNs'): (1, 1, 1.9999999999999999e-06, 6.0000000000000002e-06, {('/users/ddm1/fipy/fipy/meshes/builders/abstractGridBuilder.py', 271, '_calcNs'): (1, 1, 1.9999999999999999e-06, 6.0000000000000002e-06)}), ('/users/ddm1/fipy/fipy/terms/binaryTerm.py', 104, '_getDiffusionGeomCoeff'): (10, 10, 2.5999999999999998e-05, 0.0035279999999999999, {('/users/ddm1/fipy/fipy/terms/term.py', 148, '_prepareLinearSystem'): (10, 10, 2.5999999999999998e-05, 0.0035279999999999999)}), ('/users/ddm1/fipy/fipy/meshes/abstractMesh.py', 57, '__init__'): (1, 1, 9.0000000000000002e-06, 1.1e-05, {('/users/ddm1/fipy/fipy/meshes/uniformGrid1D.py', 62, '__init__'): (1, 1, 9.0000000000000002e-06, 1.1e-05)}), ('/users/ddm1/fipy/fipy/variables/cellVariable.py', 117, '_CellOperatorVariable'): (6, 6, 1.2e-05, 1.2e-05, {('/users/ddm1/fipy/fipy/variables/cellVariable.py', 80, '_OperatorVariableClass'): (6, 6, 1.2e-05, 1.2e-05)}), ('/users/ddm1/fipy/fipy/variables/cellVariable.py', 143, '_globalNumberOfElements'): (18, 18, 9.0000000000000002e-06, 9.0000000000000002e-06, {('/users/ddm1/fipy/fipy/variables/meshVariable.py', 135, '_globalToLocalValue'): (15, 15, 6.9999999999999999e-06, 6.9999999999999999e-06), ('/users/ddm1/fipy/fipy/variables/meshVariable.py', 517, '_shapeClassAndOther'): (3, 3, 1.9999999999999999e-06, 1.9999999999999999e-06)}), ('/users/ddm1/fipy/fipy/meshes/builders/abstractGridBuilder.py', 271, '_calcNs'): (1, 1, 6.9999999999999999e-06, 1.2999999999999999e-05, {('/users/ddm1/fipy/fipy/meshes/builders/abstractGridBuilder.py', 50, 'buildGridData'): (1, 1, 6.9999999999999999e-06, 1.2999999999999999e-05)}), ('/users/ddm1/fipy/fipy/solvers/solver.py', 102, '__init__'): (10, 10, 1.5999999999999999e-05, 1.5999999999999999e-05, {('/users/ddm1/fipy/fipy/solvers/pysparse/pysparseSolver.py', 49, '__init__'): (10, 10, 1.5999999999999999e-05, 1.5999999999999999e-05)}), ('/users/ddm1/fipy/fipy/tools/decorators.py', 102, '__init__'): (157, 157, 0.00024899999999999998, 0.00024899999999999998, {('/users/ddm1/fipy/fipy/tools/decorators.py', 219, '__init__'): (157, 157, 0.00024899999999999998, 0.00024899999999999998)}), ('/users/ddm1/fipy/fipy/variables/faceVariable.py', 48, '_getShapeFromMesh'): (37, 37, 1.8999999999999998e-05, 1.8999999999999998e-05, {('/users/ddm1/fipy/fipy/variables/meshVariable.py', 50, '__init__'): (37, 37, 1.8999999999999998e-05, 1.8999999999999998e-05)}), ('/users/ddm1/fipy/fipy/variables/variable.py', 1520, '_axisOperator'): (23, 23, 0.00018199999999999998, 0.0086020000000000003, {('/users/ddm1/fipy/fipy/variables/variable.py', 1538, 'sum'): (23, 23, 0.00018199999999999998, 0.0086020000000000003)}), ('/users/ddm1/fipy/fipy/variables/variable.py', 248, '_getUnit'): (435, 438, 0.000852, 0.031891999999999997, {('/users/ddm1/fipy/fipy/variables/variable.py', 1556, '__getitem__'): (44, 43, 9.2999999999999997e-05, 0.010454), ('/users/ddm1/fipy/fipy/variables/variable.py', 1054, '_UnaryOperatorVariable'): (46, 46, 8.099999999999999e-05, 0.00726), ('/users/ddm1/fipy/fipy/variables/variable.py', 230, '_unitAsOne'): (228, 228, 0.00048499999999999997, 0.0058319999999999995), ('/users/ddm1/fipy/fipy/solvers/pysparse/pysparseSolver.py', 88, '_solve'): (10, 10, 2.1999999999999999e-05, 9.6000000000000002e-05), ('/users/ddm1/fipy/fipy/variables/operatorVariable.py', 45, '__init__'): (78, 78, 0.00011499999999999999, 0.0054209999999999996), ('/users/ddm1/fipy/fipy/variables/variable.py', 1098, '_BinaryOperatorVariable'): (32, 32, 5.5999999999999999e-05, 0.0037079999999999999)}), ('/users/ddm1/fipy/fipy/terms/cellTerm.py', 145, '_buildMatrixNoInline_'): (10, 10, 0.00069299999999999993, 0.027234999999999999, {('/users/ddm1/fipy/fipy/terms/cellTerm.py', 152, '_buildMatrix'): (10, 10, 0.00069299999999999993, 0.027234999999999999)}), ('/users/ddm1/fipy/fipy/variables/faceVariable.py', 82, 'divergence'): (3, 3, 5.8e-05, 0.0088170000000000002, {('/users/ddm1/fipy/fipy/terms/abstractDiffusionTerm.py', 281, '_buildMatrix'): (3, 3, 5.8e-05, 0.0088170000000000002)}), ('/users/ddm1/fipy/fipy/meshes/builders/abstractGridBuilder.py', 226, '_calcGlobalNumFaces'): (1, 1, 1.2e-05, 1.4e-05, {('/users/ddm1/fipy/fipy/meshes/builders/abstractGridBuilder.py', 50, 'buildGridData'): (1, 1, 1.2e-05, 1.4e-05)}), ('/users/ddm1/fipy/fipy/tools/dimensions/physicalField.py', 1444, '__init__'): (3, 3, 7.9999999999999996e-06, 1.4e-05, {('/users/ddm1/fipy/fipy/tools/dimensions/physicalField.py', 1529, '__mul__'): (1, 1, 1.9999999999999999e-06, 3.9999999999999998e-06), ('/users/ddm1/fipy/fipy/tools/dimensions/physicalField.py', 1576, '__truediv__'): (2, 2, 6.0000000000000002e-06, 9.9999999999999991e-06)}), ('~', 0, '<getattr>'): (17249, 17249, 0.015101, 0.015101, {('/usr/lib/pymodules/python2.6/numpy/ma/core.py', 2777, '__array_finalize__'): (1437, 1437, 0.001395, 0.001395), ('/users/ddm1/fipy/fipy/variables/meshVariable.py', 565, '__init__'): (112, 112, 8.099999999999999e-05, 8.099999999999999e-05), ('/usr/lib/pymodules/python2.6/numpy/ma/core.py', 2624, '__new__'): (2874, 2874, 0.0029089999999999997, 0.0029089999999999997), ('/users/ddm1/fipy/fipy/tools/dimensions/physicalField.py', 614, '__array_wrap__'): (1, 1, 1.9999999999999999e-06, 1.9999999999999999e-06), ('/usr/lib/pymodules/python2.6/numpy/ma/core.py', 1238, 'getmask'): (82, 82, 5.5999999999999999e-05, 5.5999999999999999e-05), ('/usr/lib/pymodules/python2.6/numpy/core/fromnumeric.py', 32, '_wrapit'): (10, 10, 6.0000000000000002e-06, 6.0000000000000002e-06), ('/usr/lib/pymodules/python2.6/numpy/ma/core.py', 5684, '__call__'): (41, 41, 1.5999999999999999e-05, 1.5999999999999999e-05), ('/users/ddm1/fipy/fipy/variables/variable.py', 668, '_makeValue'): (1173, 1173, 0.00073999999999999999, 0.00073999999999999999), ('/users/ddm1/fipy/fipy/variables/variable.py', 1520, '_axisOperator'): (23, 23, 4.9999999999999996e-06, 4.9999999999999996e-06), ('/usr/lib/pymodules/python2.6/numpy/ma/core.py', 2753, '_update_from'): (11496, 11496, 0.0098909999999999988, 0.0098909999999999988)}), ('/users/ddm1/fipy/fipy/meshes/abstractMesh.py', 1416, '_madmin'): (2, 2, 6.0000000000000002e-06, 0.00042499999999999998, {('/users/ddm1/fipy/fipy/meshes/abstractMesh.py', 693, 'facesLeft'): (2, 2, 6.0000000000000002e-06, 0.00042499999999999998)}), ('~', 0, \"<method 'lower' of 'str' objects>\"): (157, 157, 4.8999999999999998e-05, 4.8999999999999998e-05, {('/users/ddm1/fipy/fipy/tools/decorators.py', 225, 'new_name_old_name'): (157, 157, 4.8999999999999998e-05, 4.8999999999999998e-05)}), ('/users/ddm1/fipy/fipy/variables/variable.py', 1352, '<lambda>'): (10, 10, 4.9999999999999996e-05, 4.9999999999999996e-05, {('/users/ddm1/fipy/fipy/variables/binaryOperatorVariable.py', 72, '_calcValue_'): (10, 10, 4.9999999999999996e-05, 4.9999999999999996e-05)}), ('~', 0, '<numpy.core.multiarray.empty>'): (335, 335, 0.00070699999999999995, 0.00070699999999999995, {('/users/ddm1/fipy/fipy/matrices/pysparseMatrix.py', 124, '__mul__'): (30, 30, 5.1e-05, 5.1e-05), ('/usr/lib/pymodules/python2.6/numpy/core/numeric.py', 1764, 'ones'): (305, 305, 0.00065600000000000001, 0.00065600000000000001)}), ('/users/ddm1/fipy/fipy/variables/meshVariable.py', 252, 'shape'): (455, 455, 0.00065200000000000002, 0.001763, {('/users/ddm1/fipy/fipy/variables/cellToFaceVariable.py', 43, '__init__'): (1, 1, 9.9999999999999995e-07, 3.9999999999999998e-06), ('/users/ddm1/fipy/fipy/variables/variable.py', 1008, '_broadcastShape'): (8, 8, 9.9999999999999991e-06, 3.1000000000000001e-05), ('/users/ddm1/fipy/fipy/variables/meshVariable.py', 625, '_getitemClass'): (32, 32, 5.4999999999999995e-05, 0.000134), ('/users/ddm1/fipy/fipy/terms/cellTerm.py', 152, '_buildMatrix'): (10, 10, 1.4e-05, 4.1e-05), ('/users/ddm1/fipy/fipy/terms/transientTerm.py', 113, '_calcGeomCoeff'): (1, 1, 1.9999999999999999e-06, 4.9999999999999996e-06), ('/users/ddm1/fipy/fipy/terms/cellTerm.py', 145, '_buildMatrixNoInline_'): (10, 10, 1.4e-05, 3.7999999999999995e-05), ('/users/ddm1/fipy/fipy/variables/faceGradContributionsVariable.py', 75, '__init__'): (1, 1, 1.9999999999999999e-06, 3.9999999999999998e-06), ('/users/ddm1/fipy/fipy/variables/meshVariable.py', 600, 'rank'): (138, 138, 0.000194, 0.00054099999999999992), ('/users/ddm1/fipy/fipy/variables/variable.py', 1556, '__getitem__'): (16, 16, 2.4000000000000001e-05, 7.2000000000000002e-05), ('/users/ddm1/fipy/fipy/terms/abstractDiffusionTerm.py', 281, '_buildMatrix'): (1, 1, 9.9999999999999995e-07, 3.9999999999999998e-06), ('/users/ddm1/fipy/fipy/variables/variable.py', 1054, '_UnaryOperatorVariable'): (2, 2, 3.9999999999999998e-06, 1.1e-05), ('/users/ddm1/fipy/fipy/solvers/pysparse/pysparseSolver.py', 88, '_solve'): (10, 10, 1.8e-05, 4.6e-05), ('/users/ddm1/fipy/fipy/tools/numerix.py', 199, 'getShape'): (21, 21, 2.8e-05, 7.3999999999999996e-05), ('/users/ddm1/fipy/fipy/terms/cellTerm.py', 68, '_checkCoeff'): (1, 1, 1.9999999999999999e-06, 3.9999999999999998e-06), ('/users/ddm1/fipy/fipy/variables/faceGradVariable.py', 74, '__init__'): (1, 1, 9.9999999999999995e-07, 3.9999999999999998e-06), ('~', 0, '<hasattr>'): (21, 21, 2.6999999999999999e-05, 7.8999999999999996e-05), ('/users/ddm1/fipy/fipy/variables/gaussCellGradVariable.py', 74, '__init__'): (1, 1, 1.9999999999999999e-06, 3.9999999999999998e-06), ('/users/ddm1/fipy/fipy/variables/constraintMask.py', 49, '_calcValue'): (25, 25, 3.4999999999999997e-05, 9.8999999999999994e-05), ('/users/ddm1/fipy/fipy/variables/variable.py', 1098, '_BinaryOperatorVariable'): (13, 13, 2.0999999999999999e-05, 5.3999999999999998e-05), ('/users/ddm1/fipy/fipy/terms/term.py', 131, '_vectorSize'): (132, 132, 0.00017899999999999999, 0.00046899999999999996), ('/users/ddm1/fipy/fipy/variables/faceGradVariable.py', 137, '_calcValueNoInline'): (10, 10, 1.8e-05, 4.4999999999999996e-05)}), ('/users/ddm1/fipy/fipy/variables/faceGradVariable.py', 137, '_calcValueNoInline'): (10, 10, 0.0013489999999999999, 0.046991999999999999, {('/users/ddm1/fipy/fipy/variables/faceGradVariable.py', 78, '_calcValue'): (10, 10, 0.0013489999999999999, 0.046991999999999999)}), ('/users/ddm1/fipy/fipy/tools/dimensions/physicalField.py', 1996, '_isVariable'): (4, 4, 2.4999999999999998e-05, 2.8e-05, {('/users/ddm1/fipy/fipy/tools/dimensions/physicalField.py', 637, '__makePhysical'): (1, 1, 6.9999999999999999e-06, 7.9999999999999996e-06), ('/users/ddm1/fipy/fipy/tools/dimensions/physicalField.py', 397, '__truediv__'): (2, 2, 1.2e-05, 1.4e-05), ('/users/ddm1/fipy/fipy/tools/dimensions/physicalField.py', 361, '__mul__'): (1, 1, 6.0000000000000002e-06, 6.0000000000000002e-06)}), ('/users/ddm1/fipy/fipy/variables/variable.py', 166, '__array__'): (204, 224, 0.000464, 0.042997, {('/users/ddm1/fipy/fipy/terms/cellTerm.py', 145, '_buildMatrixNoInline_'): (10, 10, 2.1999999999999999e-05, 0.00096699999999999998), ('/users/ddm1/fipy/fipy/variables/faceGradVariable.py', 137, '_calcValueNoInline'): (10, 10, 2.0999999999999999e-05, 0.005045), ('~', 0, '<numpy.core.multiarray.array>'): (204, 204, 0.00042099999999999999, 0.040634999999999998)}), ('/users/ddm1/fipy/fipy/variables/cellToFaceVariable.py', 86, 'constraintMask'): (1, 1, 3.0000000000000001e-06, 0.000233, {('/users/ddm1/fipy/fipy/terms/abstractDiffusionTerm.py', 281, '_buildMatrix'): (1, 1, 3.0000000000000001e-06, 0.000233)}), ('/users/ddm1/fipy/fipy/meshes/builders/abstractGridBuilder.py', 183, '_basicGridData'): (1, 1, 7.9999999999999996e-06, 0.00026499999999999999, {('/users/ddm1/fipy/fipy/meshes/builders/abstractGridBuilder.py', 176, 'gridData'): (1, 1, 7.9999999999999996e-06, 0.00026499999999999999)}), ('~', 0, '<range>'): (336, 336, 0.00021899999999999998, 0.00021899999999999998, {('<ipython-input-2-c8f75f664a5c>', 1, 'Coupled'): (1, 1, 9.9999999999999995e-07, 9.9999999999999995e-07), ('/users/ddm1/fipy/fipy/solvers/pysparse/linearLUSolver.py', 82, '_solve_'): (10, 10, 7.9999999999999996e-06, 7.9999999999999996e-06), ('/usr/lib/pymodules/python2.6/numpy/core/numeric.py', 860, 'tensordot'): (324, 324, 0.00020899999999999998, 0.00020899999999999998), ('/users/ddm1/fipy/fipy/meshes/builders/abstractGridBuilder.py', 226, '_calcGlobalNumFaces'): (1, 1, 9.9999999999999995e-07, 9.9999999999999995e-07)}), ('/users/ddm1/fipy/fipy/meshes/builders/abstractGridBuilder.py', 176, 'gridData'): (1, 1, 3.9999999999999998e-06, 0.00027399999999999999, {('/users/ddm1/fipy/fipy/meshes/uniformGrid1D.py', 62, '__init__'): (1, 1, 3.9999999999999998e-06, 0.00027399999999999999)}), ('/users/ddm1/fipy/fipy/terms/cellTerm.py', 68, '_checkCoeff'): (1, 1, 7.9999999999999996e-06, 3.2999999999999996e-05, {('/users/ddm1/fipy/fipy/terms/transientTerm.py', 113, '_calcGeomCoeff'): (1, 1, 7.9999999999999996e-06, 3.2999999999999996e-05)}), ('/users/ddm1/fipy/fipy/terms/binaryTerm.py', 50, '_buildAndAddMatrices'): (10, 10, 0.00028299999999999999, 0.17360899999999999, {('/users/ddm1/fipy/fipy/terms/term.py', 148, '_prepareLinearSystem'): (10, 10, 0.00028299999999999999, 0.17360899999999999)}), ('/users/ddm1/fipy/fipy/solvers/solver.py', 173, '_canSolveAsymmetric'): (10, 10, 3.9999999999999998e-06, 3.9999999999999998e-06, {('/users/ddm1/fipy/fipy/terms/unaryTerm.py', 117, '_getDefaultSolver'): (10, 10, 3.9999999999999998e-06, 3.9999999999999998e-06)}), ('/users/ddm1/fipy/fipy/tools/dimensions/physicalField.py', 1479, '_checkSame'): (21, 21, 0.000134, 0.00028699999999999998, {('/users/ddm1/fipy/fipy/tools/dimensions/physicalField.py', 1488, '__eq__'): (21, 21, 0.000134, 0.00028699999999999998)}), ('/users/ddm1/fipy/fipy/variables/variable.py', 1556, '__getitem__'): (59, 60, 0.00042299999999999998, 0.039053999999999998, {('/users/ddm1/fipy/fipy/terms/cellTerm.py', 145, '_buildMatrixNoInline_'): (10, 10, 7.7999999999999999e-05, 0.0034139999999999999), ('/users/ddm1/fipy/fipy/variables/meshVariable.py', 135, '_globalToLocalValue'): (25, 25, 0.000174, 0.0076759999999999997), ('/users/ddm1/fipy/fipy/terms/transientTerm.py', 113, '_calcGeomCoeff'): (1, 1, 6.0000000000000002e-06, 0.00028399999999999996), ('/users/ddm1/fipy/fipy/terms/abstractDiffusionTerm.py', 358, '__higherOrderbuildMatrix'): (3, 3, 1.9999999999999998e-05, 0.0016259999999999998), ('/users/ddm1/fipy/fipy/terms/abstractDiffusionTerm.py', 281, '_buildMatrix'): (5, 5, 2.8e-05, 0.0071319999999999995), ('/users/ddm1/fipy/fipy/terms/abstractDiffusionTerm.py', 151, '_calcGeomCoeff'): (2, 2, 1.4999999999999999e-05, 0.00084899999999999993), ('/users/ddm1/fipy/fipy/meshes/abstractMesh.py', 713, 'facesRight'): (2, 2, 1.4999999999999999e-05, 0.0010299999999999999), ('/users/ddm1/fipy/fipy/meshes/abstractMesh.py', 693, 'facesLeft'): (2, 2, 1.5999999999999999e-05, 0.001047), ('/users/ddm1/fipy/fipy/variables/faceGradVariable.py', 137, '_calcValueNoInline'): (10, 10, 7.0999999999999991e-05, 0.018067)}), ('/users/ddm1/fipy/fipy/variables/binaryOperatorVariable.py', 41, '_BinaryOperatorVariable'): (35, 35, 0.00079799999999999999, 0.00087799999999999998, {('/users/ddm1/fipy/fipy/variables/variable.py', 1098, '_BinaryOperatorVariable'): (35, 35, 0.00079799999999999999, 0.00087799999999999998)}), ('~', 0, '<built-in method search>'): (157, 157, 0.00036399999999999996, 0.00036399999999999996, {('/users/ddm1/.virtualenvs/venv1/lib/python2.6/re.py', 139, 'search'): (157, 157, 0.00036399999999999996, 0.00036399999999999996)}), ('/users/ddm1/fipy/fipy/terms/abstractDiffusionTerm.py', 269, '__doBCs'): (10, 10, 7.9999999999999996e-06, 7.9999999999999996e-06, {('/users/ddm1/fipy/fipy/terms/abstractDiffusionTerm.py', 358, '__higherOrderbuildMatrix'): (10, 10, 7.9999999999999996e-06, 7.9999999999999996e-06)}), ('/users/ddm1/fipy/fipy/meshes/uniformGrid1D.py', 258, '_areaProjections'): (13, 13, 1.4999999999999999e-05, 0.00025000000000000001, {('/users/ddm1/fipy/fipy/meshes/uniformGrid1D.py', 262, '_orientedAreaProjections'): (3, 3, 3.0000000000000001e-06, 6.0999999999999999e-05), ('/users/ddm1/fipy/fipy/variables/faceGradContributionsVariable.py', 79, '_calcValue'): (10, 10, 1.2e-05, 0.00018899999999999999)}), ('/users/ddm1/fipy/fipy/variables/variable.py', 1151, '<lambda>'): (377, 377, 0.001273, 0.001273, {('/users/ddm1/fipy/fipy/variables/binaryOperatorVariable.py', 72, '_calcValue_'): (174, 174, 0.0011609999999999999, 0.0011609999999999999), ('/users/ddm1/fipy/fipy/variables/binaryOperatorVariable.py', 83, 'unit'): (203, 203, 0.000112, 0.000112)}), ('/users/ddm1/fipy/fipy/terms/term.py', 103, '_buildCache'): (30, 30, 4.8000000000000001e-05, 4.8000000000000001e-05, {('/users/ddm1/fipy/fipy/terms/term.py', 148, '_prepareLinearSystem'): (10, 10, 1.4e-05, 1.4e-05), ('/users/ddm1/fipy/fipy/terms/binaryTerm.py', 50, '_buildAndAddMatrices'): (20, 20, 3.4e-05, 3.4e-05)}), ('/users/ddm1/fipy/fipy/meshes/abstractMesh.py', 106, '<lambda>'): (10, 10, 1.4999999999999999e-05, 0.0020859999999999997, {('/users/ddm1/fipy/fipy/terms/abstractDiffusionTerm.py', 208, '__getCoefficientMatrix'): (10, 10, 1.4999999999999999e-05, 0.0020859999999999997)}), ('<ipython-input-2-c8f75f664a5c>', 1, 'Coupled'): (1, 1, 8.9999999999999992e-05, 0.205897, {('<string>', 1, '<module>'): (1, 1, 8.9999999999999992e-05, 0.205897)}), ('/users/ddm1/fipy/fipy/terms/abstractDiffusionTerm.py', 142, '__calcAnisotropySource'): (1, 1, 3.0000000000000001e-06, 0.000504, {('/users/ddm1/fipy/fipy/terms/abstractDiffusionTerm.py', 358, '__higherOrderbuildMatrix'): (1, 1, 3.0000000000000001e-06, 0.000504)}), ('/users/ddm1/fipy/fipy/variables/faceGradVariable.py', 78, '_calcValue'): (10, 10, 5.8e-05, 0.047049999999999995, {('/users/ddm1/fipy/fipy/variables/variable.py', 522, '_getValue'): (10, 10, 5.8e-05, 0.047049999999999995)}), ('/users/ddm1/fipy/fipy/tools/dimensions/physicalField.py', 397, '__truediv__'): (2, 2, 5.4999999999999995e-05, 0.00018199999999999998, {('/users/ddm1/fipy/fipy/meshes/builders/abstractGridBuilder.py', 50, 'buildGridData'): (1, 1, 2.4999999999999998e-05, 9.8999999999999994e-05), ('/users/ddm1/fipy/fipy/meshes/builders/utilityClasses.py', 50, 'calcOrigin'): (1, 1, 2.9999999999999997e-05, 8.2999999999999998e-05)}), ('/users/ddm1/fipy/fipy/variables/variable.py', 659, 'dontCacheMe'): (125, 125, 6.8999999999999997e-05, 6.8999999999999997e-05, {('/users/ddm1/fipy/fipy/terms/abstractDiffusionTerm.py', 358, '__higherOrderbuildMatrix'): (2, 2, 1.9999999999999999e-06, 1.9999999999999999e-06), ('/users/ddm1/fipy/fipy/variables/operatorVariable.py', 45, '__init__'): (121, 121, 6.4999999999999994e-05, 6.4999999999999994e-05), ('/users/ddm1/fipy/fipy/terms/term.py', 459, '_getGeomCoeff'): (2, 2, 1.9999999999999999e-06, 1.9999999999999999e-06)}), ('~', 0, \"<method 'fill' of 'numpy.ndarray' objects>\"): (305, 305, 0.0011149999999999999, 0.0011149999999999999, {('/usr/lib/pymodules/python2.6/numpy/core/numeric.py', 1764, 'ones'): (305, 305, 0.0011149999999999999, 0.0011149999999999999)}), ('/users/ddm1/fipy/fipy/tools/dimensions/NumberDict.py', 28, '__init__'): (3, 3, 1.8e-05, 2.0999999999999999e-05, {('/users/ddm1/fipy/fipy/tools/dimensions/NumberDict.py', 44, '__add__'): (1, 1, 1.1e-05, 1.2e-05), ('/users/ddm1/fipy/fipy/tools/dimensions/NumberDict.py', 54, '__sub__'): (2, 2, 6.9999999999999999e-06, 9.0000000000000002e-06)}), ('/users/ddm1/fipy/fipy/meshes/uniformGrid1D.py', 200, '_cellDistances'): (12, 12, 0.00014999999999999999, 0.00024800000000000001, {('/users/ddm1/fipy/fipy/terms/abstractDiffusionTerm.py', 281, '_buildMatrix'): (1, 1, 1.2e-05, 2.0999999999999999e-05), ('/users/ddm1/fipy/fipy/terms/abstractDiffusionTerm.py', 151, '_calcGeomCoeff'): (1, 1, 1.2999999999999999e-05, 2.1999999999999999e-05), ('/users/ddm1/fipy/fipy/variables/faceGradVariable.py', 137, '_calcValueNoInline'): (10, 10, 0.000125, 0.000205)}), ('/users/ddm1/fipy/fipy/variables/variable.py', 1332, '__or__'): (1, 1, 9.9999999999999995e-07, 0.00055099999999999995, {('/users/ddm1/fipy/fipy/meshes/uniformGrid1D.py', 113, '_setTopology'): (1, 1, 9.9999999999999995e-07, 0.00055099999999999995)}), ('/users/ddm1/fipy/fipy/variables/cellVariable.py', 147, '_globalOverlappingIDs'): (14, 14, 1.7e-05, 0.000111, {('/users/ddm1/fipy/fipy/variables/meshVariable.py', 135, '_globalToLocalValue'): (14, 14, 1.7e-05, 0.000111)}), ('/users/ddm1/fipy/fipy/variables/binaryOperatorVariable.py', 70, 'binOp'): (35, 35, 7.9999999999999993e-05, 7.9999999999999993e-05, {('/users/ddm1/fipy/fipy/variables/binaryOperatorVariable.py', 41, '_BinaryOperatorVariable'): (35, 35, 7.9999999999999993e-05, 7.9999999999999993e-05)}), ('/users/ddm1/fipy/fipy/variables/operatorVariable.py', 71, '_calcValue'): (147, 841, 0.0021879999999999998, 0.10985199999999999, {('/users/ddm1/fipy/fipy/variables/variable.py', 522, '_getValue'): (841, 147, 0.0021879999999999998, 0.10985199999999999)}), ('/users/ddm1/fipy/fipy/variables/meshVariable.py', 625, '_getitemClass'): (20, 20, 0.000224, 0.0037269999999999998, {('/users/ddm1/fipy/fipy/variables/variable.py', 1556, '__getitem__'): (20, 20, 0.000224, 0.0037269999999999998)}), ('/users/ddm1/fipy/fipy/tools/numerix.py', 1205, '_broadcastShape'): (94, 94, 0.000116, 0.0024970000000000001, {('/users/ddm1/fipy/fipy/variables/meshVariable.py', 50, '__init__'): (35, 35, 4.2999999999999995e-05, 0.00089700000000000001), ('/users/ddm1/fipy/fipy/tools/numerix.py', 956, '_compressIndexSubspaces'): (59, 59, 7.2999999999999999e-05, 0.0015999999999999999)}), ('/users/ddm1/fipy/fipy/variables/gaussCellGradVariable.py', 105, '_calcValueNoInline'): (10, 10, 0.00015699999999999999, 0.0073089999999999995, {('/users/ddm1/fipy/fipy/variables/gaussCellGradVariable.py', 110, '_calcValue'): (10, 10, 0.00015699999999999999, 0.0073089999999999995)}), ('/users/ddm1/fipy/fipy/variables/cellVariable.py', 526, 'updateOld'): (10, 10, 4.1e-05, 0.0058909999999999995, {('<ipython-input-2-c8f75f664a5c>', 1, 'Coupled'): (10, 10, 4.1e-05, 0.0058909999999999995)}), ('/users/ddm1/fipy/fipy/terms/abstractDiffusionTerm.py', 87, '__neg__'): (1, 1, 2.1999999999999999e-05, 0.000147, {('/users/ddm1/fipy/fipy/terms/term.py', 417, '__sub__'): (1, 1, 2.1999999999999999e-05, 0.000147)}), ('/users/ddm1/fipy/fipy/terms/unaryTerm.py', 75, '_buildAndAddMatrices'): (20, 20, 4.9999999999999996e-05, 0.17260399999999998, {('/users/ddm1/fipy/fipy/terms/binaryTerm.py', 50, '_buildAndAddMatrices'): (20, 20, 4.9999999999999996e-05, 0.17260399999999998)}), ('/users/ddm1/fipy/fipy/solvers/pysparse/pysparseSolver.py', 49, '__init__'): (10, 10, 3.4999999999999997e-05, 5.1e-05, {('/users/ddm1/fipy/fipy/solvers/pysparse/linearLUSolver.py', 64, '__init__'): (10, 10, 3.4999999999999997e-05, 5.1e-05)}), ('/users/ddm1/fipy/fipy/variables/variable.py', 1008, '_broadcastShape'): (66, 66, 0.00020699999999999999, 0.0023990000000000001, {('/users/ddm1/fipy/fipy/variables/variable.py', 1080, '_shapeClassAndOther'): (28, 28, 8.7999999999999998e-05, 0.00099200000000000004), ('/users/ddm1/fipy/fipy/variables/variable.py', 1026, '_getArithmeticBaseClass'): (38, 38, 0.00011899999999999999, 0.0014069999999999998)}), ('~', 0, '<built-in method put>'): (10, 10, 4.1999999999999998e-05, 4.1999999999999998e-05, {('/users/ddm1/fipy/fipy/matrices/pysparseMatrix.py', 124, '__mul__'): (10, 10, 4.1999999999999998e-05, 4.1999999999999998e-05)}), ('/users/ddm1/fipy/fipy/meshes/topologies/abstractTopology.py', 45, '__init__'): (1, 1, 9.9999999999999995e-07, 9.9999999999999995e-07, {('/users/ddm1/fipy/fipy/meshes/abstractMesh.py', 57, '__init__'): (1, 1, 9.9999999999999995e-07, 9.9999999999999995e-07)}), ('/users/ddm1/fipy/fipy/terms/abstractDiffusionTerm.py', 281, '_buildMatrix'): (10, 10, 0.000301, 0.14314199999999999, {('/users/ddm1/fipy/fipy/terms/unaryTerm.py', 75, '_buildAndAddMatrices'): (10, 10, 0.000301, 0.14314199999999999)}), ('/users/ddm1/fipy/fipy/variables/operatorVariable.py', 44, '_OperatorVariable'): (121, 121, 0.00094600000000000001, 0.0051789999999999996, {('/users/ddm1/fipy/fipy/variables/operatorVariable.py', 43, '_OperatorVariableClass'): (121, 121, 0.00094600000000000001, 0.0051789999999999996)}), ('/users/ddm1/fipy/fipy/tools/comms/commWrapper.py', 60, 'Nproc'): (14, 14, 3.6999999999999998e-05, 8.7999999999999998e-05, {('/users/ddm1/fipy/fipy/solvers/pysparse/pysparseSolver.py', 88, '_solve'): (10, 10, 2.4999999999999998e-05, 6.0999999999999999e-05), ('/users/ddm1/fipy/fipy/meshes/builders/abstractGridBuilder.py', 50, 'buildGridData'): (1, 1, 1.9999999999999999e-06, 4.9999999999999996e-06), ('/users/ddm1/fipy/fipy/variables/meshVariable.py', 476, 'sum'): (3, 3, 9.9999999999999991e-06, 2.1999999999999999e-05)}), ('/users/ddm1/fipy/fipy/variables/meshVariable.py', 561, '_OperatorVariableClass'): (36, 36, 0.00094199999999999991, 0.0048700000000000002, {('/users/ddm1/fipy/fipy/variables/meshVariable.py', 625, '_getitemClass'): (10, 10, 0.000272, 0.0013929999999999999), ('/users/ddm1/fipy/fipy/variables/meshVariable.py', 614, '_axisClass'): (3, 3, 7.2000000000000002e-05, 0.00036299999999999999), ('/users/ddm1/fipy/fipy/variables/cellVariable.py', 80, '_OperatorVariableClass'): (6, 6, 0.000156, 0.00090199999999999992), ('/users/ddm1/fipy/fipy/variables/variable.py', 1054, '_UnaryOperatorVariable'): (1, 1, 2.8e-05, 0.00014199999999999998), ('/users/ddm1/fipy/fipy/variables/variable.py', 1098, '_BinaryOperatorVariable'): (16, 16, 0.00041399999999999998, 0.0020699999999999998)}), ('/users/ddm1/fipy/fipy/matrices/pysparseMatrix.py', 74, '_iadd'): (20, 20, 4.3999999999999999e-05, 0.00045199999999999998, {('/users/ddm1/fipy/fipy/matrices/pysparseMatrix.py', 70, '__iadd__'): (20, 20, 4.3999999999999999e-05, 0.00045199999999999998)}), ('/users/ddm1/fipy/fipy/terms/abstractDiffusionTerm.py', 151, '_calcGeomCoeff'): (1, 1, 2.9e-05, 0.0034639999999999996, {('/users/ddm1/fipy/fipy/terms/term.py', 459, '_getGeomCoeff'): (1, 1, 2.9e-05, 0.0034639999999999996)}), ('/users/ddm1/fipy/fipy/tools/numerix.py', 983, '_indexShape'): (80, 80, 0.001214, 0.0035899999999999999, {('/users/ddm1/fipy/fipy/variables/meshVariable.py', 625, '_getitemClass'): (20, 20, 0.00031199999999999999, 0.00093700000000000001), ('/users/ddm1/fipy/fipy/variables/variable.py', 1556, '__getitem__'): (60, 60, 0.00090199999999999992, 0.002653)}), ('/users/ddm1/fipy/fipy/variables/variable.py', 857, '_getSubscribedVariables'): (3503, 3503, 0.0048249999999999994, 0.0048249999999999994, {('/users/ddm1/fipy/fipy/variables/variable.py', 898, '_requiredBy'): (165, 165, 0.000192, 0.000192), ('/users/ddm1/fipy/fipy/variables/operatorVariable.py', 84, '_isCached'): (1469, 1469, 0.0021819999999999999, 0.0021819999999999999), ('/users/ddm1/fipy/fipy/variables/variable.py', 868, '__markStale'): (1869, 1869, 0.0024510000000000001, 0.0024510000000000001)}), ('/usr/lib/pymodules/python2.6/numpy/ma/core.py', 5684, '__call__'): (41, 41, 7.8999999999999996e-05, 0.00025599999999999999, {('/users/ddm1/fipy/fipy/tools/numerix.py', 590, 'take'): (41, 41, 7.8999999999999996e-05, 0.00025599999999999999)}), ('/users/ddm1/fipy/fipy/variables/meshVariable.py', 614, '_axisClass'): (3, 3, 9.9999999999999991e-06, 0.00037500000000000001, {('/users/ddm1/fipy/fipy/variables/variable.py', 1520, '_axisOperator'): (3, 3, 9.9999999999999991e-06, 0.00037500000000000001)}), ('/usr/lib/pymodules/python2.6/numpy/core/fromnumeric.py', 1010, 'ravel'): (124, 124, 0.000184, 0.00056899999999999995, {('/usr/lib/pymodules/python2.6/numpy/core/fromnumeric.py', 791, 'resize'): (124, 124, 0.000184, 0.00056899999999999995)}), ('/users/ddm1/fipy/fipy/meshes/builders/grid1DBuilder.py', 59, '_specificGridData'): (1, 1, 9.9999999999999995e-07, 9.9999999999999995e-07, {('/users/ddm1/fipy/fipy/meshes/builders/grid1DBuilder.py', 144, '_specificGridData'): (1, 1, 9.9999999999999995e-07, 9.9999999999999995e-07)}), ('/users/ddm1/fipy/fipy/meshes/uniformGrid1D.py', 116, '_interiorFaces'): (10, 10, 0.00017899999999999999, 0.0020709999999999999, {('/users/ddm1/fipy/fipy/meshes/abstractMesh.py', 106, '<lambda>'): (10, 10, 0.00017899999999999999, 0.0020709999999999999)}), ('/usr/lib/pymodules/python2.6/numpy/core/fromnumeric.py', 791, 'resize'): (124, 124, 0.0014889999999999999, 0.0040869999999999995, {('/users/ddm1/fipy/fipy/tools/numerix.py', 631, 'indices'): (82, 82, 0.00093199999999999999, 0.0025629999999999997), ('/users/ddm1/fipy/fipy/terms/transientTerm.py', 113, '_calcGeomCoeff'): (1, 1, 2.0999999999999999e-05, 5.3000000000000001e-05), ('/users/ddm1/fipy/fipy/terms/unaryTerm.py', 109, '_reshapeIDs'): (41, 41, 0.00053600000000000002, 0.0014709999999999999)}), ('~', 0, '<numpy.core.multiarray.zeros>'): (120, 120, 0.00026699999999999998, 0.00026699999999999998, {('/users/ddm1/fipy/fipy/solvers/pysparse/linearLUSolver.py', 82, '_solve_'): (10, 10, 2.4999999999999998e-05, 2.4999999999999998e-05), ('/users/ddm1/fipy/fipy/terms/cellTerm.py', 152, '_buildMatrix'): (10, 10, 2.5999999999999998e-05, 2.5999999999999998e-05), ('/users/ddm1/fipy/fipy/terms/abstractDiffusionTerm.py', 358, '__higherOrderbuildMatrix'): (10, 10, 3.2999999999999996e-05, 3.2999999999999996e-05), ('/users/ddm1/fipy/fipy/meshes/uniformGrid1D.py', 209, '_faceTangents1'): (10, 10, 2.5999999999999998e-05, 2.5999999999999998e-05), ('/users/ddm1/fipy/fipy/matrices/pysparseMatrix.py', 225, 'take'): (10, 10, 2.8e-05, 2.8e-05), ('/users/ddm1/fipy/fipy/variables/meshVariable.py', 50, '__init__'): (35, 35, 6.5999999999999992e-05, 6.5999999999999992e-05), ('/users/ddm1/fipy/fipy/meshes/uniformGrid1D.py', 213, '_faceTangents2'): (10, 10, 1.8999999999999998e-05, 1.8999999999999998e-05), ('/users/ddm1/fipy/fipy/variables/constraintMask.py', 49, '_calcValue'): (25, 25, 4.3999999999999999e-05, 4.3999999999999999e-05)}), ('/users/ddm1/fipy/fipy/matrices/pysparseMatrix.py', 179, '_shape'): (10, 10, 9.0000000000000002e-06, 9.0000000000000002e-06, {('/users/ddm1/fipy/fipy/matrices/pysparseMatrix.py', 230, 'takeDiagonal'): (10, 10, 9.0000000000000002e-06, 9.0000000000000002e-06)}), ('/usr/lib/python2.6/dist-packages/PyTrilinos/Epetra.py', 5997, 'MyPID'): (1, 1, 4.9999999999999996e-06, 9.0000000000000002e-06, {('/users/ddm1/fipy/fipy/tools/comms/commWrapper.py', 56, 'procID'): (1, 1, 4.9999999999999996e-06, 9.0000000000000002e-06)}), ('/usr/lib/pymodules/python2.6/numpy/core/fromnumeric.py', 1067, 'nonzero'): (10, 10, 4.2999999999999995e-05, 0.00050999999999999993, {('/users/ddm1/fipy/fipy/terms/abstractDiffusionTerm.py', 208, '__getCoefficientMatrix'): (10, 10, 4.2999999999999995e-05, 0.00050999999999999993)}), ('/users/ddm1/fipy/fipy/meshes/uniformGrid1D.py', 213, '_faceTangents2'): (10, 10, 2.9999999999999997e-05, 4.8999999999999998e-05, {('/users/ddm1/fipy/fipy/variables/faceGradVariable.py', 137, '_calcValueNoInline'): (10, 10, 2.9999999999999997e-05, 4.8999999999999998e-05)}), ('<string>', 1, '<module>'): (1, 1, 3.6999999999999998e-05, 0.20593399999999998, {}), ('/users/ddm1/fipy/fipy/terms/abstractBinaryTerm.py', 93, '_vars'): (1, 1, 1.9999999999999999e-06, 1.4999999999999999e-05, {('/users/ddm1/fipy/fipy/terms/abstractBinaryTerm.py', 47, '__init__'): (1, 1, 1.9999999999999999e-06, 1.4999999999999999e-05)}), ('/users/ddm1/fipy/fipy/meshes/builders/grid1DBuilder.py', 63, '_calcShape'): (1, 1, 9.9999999999999995e-07, 9.9999999999999995e-07, {('/users/ddm1/fipy/fipy/meshes/builders/abstractGridBuilder.py', 183, '_basicGridData'): (1, 1, 9.9999999999999995e-07, 9.9999999999999995e-07)}), ('/users/ddm1/fipy/fipy/variables/variable.py', 238, '_extractUnit'): (684, 684, 0.00063400000000000001, 0.0010499999999999999, {('/users/ddm1/fipy/fipy/variables/unaryOperatorVariable.py', 42, 'unit'): (6, 6, 9.0000000000000002e-06, 9.9999999999999991e-06), ('/users/ddm1/fipy/fipy/variables/binaryOperatorVariable.py', 83, 'unit'): (240, 240, 0.00021099999999999998, 0.00033500000000000001), ('/users/ddm1/fipy/fipy/variables/variable.py', 248, '_getUnit'): (438, 438, 0.00041399999999999998, 0.00070500000000000001)}), ('/users/ddm1/fipy/fipy/variables/faceVariable.py', 101, '_globalNumberOfElements'): (19, 19, 9.9999999999999991e-06, 9.9999999999999991e-06, {('/users/ddm1/fipy/fipy/variables/meshVariable.py', 135, '_globalToLocalValue'): (11, 11, 6.9999999999999999e-06, 6.9999999999999999e-06), ('/users/ddm1/fipy/fipy/variables/meshVariable.py', 517, '_shapeClassAndOther'): (8, 8, 3.0000000000000001e-06, 3.0000000000000001e-06)}), ('/users/ddm1/fipy/fipy/variables/operatorVariable.py', 84, '_isCached'): (1469, 1469, 0.003934, 0.007319, {('/users/ddm1/fipy/fipy/variables/variable.py', 522, '_getValue'): (1469, 1469, 0.003934, 0.007319)}), ('~', 0, '<pysparse.superlu.factorize>'): (10, 10, 0.0015229999999999998, 0.0015229999999999998, {('/users/ddm1/fipy/fipy/solvers/pysparse/linearLUSolver.py', 82, '_solve_'): (10, 10, 0.0015229999999999998, 0.0015229999999999998)}), ('/users/ddm1/fipy/fipy/meshes/uniformGrid1D.py', 113, '_setTopology'): (1, 1, 7.9999999999999996e-06, 0.0049649999999999998, {('/users/ddm1/fipy/fipy/meshes/uniformGrid1D.py', 62, '__init__'): (1, 1, 7.9999999999999996e-06, 0.0049649999999999998)}), ('/users/ddm1/fipy/fipy/terms/term.py', 402, '__add__'): (1, 1, 9.0000000000000002e-06, 3.6000000000000001e-05, {('/users/ddm1/fipy/fipy/terms/term.py', 417, '__sub__'): (1, 1, 9.0000000000000002e-06, 3.6000000000000001e-05)}), ('/users/ddm1/fipy/fipy/tools/decorators.py', 225, 'new_name_old_name'): (157, 157, 0.00059099999999999995, 0.001753, {('/users/ddm1/fipy/fipy/tools/decorators.py', 125, '__call__'): (157, 157, 0.00059099999999999995, 0.001753)}), ('/users/ddm1/fipy/fipy/variables/variable.py', 79, '__new__'): (225, 225, 0.000242, 0.00034600000000000001, {('/users/ddm1/fipy/fipy/meshes/uniformGrid1D.py', 116, '_interiorFaces'): (10, 10, 1.2e-05, 1.5999999999999999e-05), ('/users/ddm1/fipy/fipy/terms/abstractDiffusionTerm.py', 281, '_buildMatrix'): (1, 1, 1.9999999999999999e-06, 1.9999999999999999e-06), ('/users/ddm1/fipy/fipy/variables/faceVariable.py', 82, 'divergence'): (3, 3, 3.0000000000000001e-06, 3.9999999999999998e-06), ('/users/ddm1/fipy/fipy/variables/meshVariable.py', 135, '_globalToLocalValue'): (37, 37, 3.6000000000000001e-05, 4.9999999999999996e-05), ('/users/ddm1/fipy/fipy/variables/meshVariable.py', 517, '_shapeClassAndOther'): (8, 8, 1.1e-05, 1.9999999999999998e-05), ('/users/ddm1/fipy/fipy/variables/variable.py', 888, '_requires'): (2, 2, 9.9999999999999995e-07, 3.0000000000000001e-06), ('<ipython-input-2-c8f75f664a5c>', 1, 'Coupled'): (1, 1, 9.9999999999999995e-07, 1.9999999999999999e-06), ('/users/ddm1/fipy/fipy/terms/cellTerm.py', 51, '__init__'): (1, 1, 9.9999999999999995e-07, 9.9999999999999995e-07), ('/users/ddm1/fipy/fipy/terms/abstractDiffusionTerm.py', 49, '__init__'): (2, 2, 3.0000000000000001e-06, 3.0000000000000001e-06), ('/users/ddm1/fipy/fipy/variables/variable.py', 1054, '_UnaryOperatorVariable'): (86, 86, 8.9999999999999992e-05, 0.00012999999999999999), ('/users/ddm1/fipy/fipy/variables/variable.py', 149, '__makeVariable'): (10, 10, 1.2e-05, 1.5999999999999999e-05), ('/users/ddm1/fipy/fipy/variables/cellVariable.py', 333, 'arithmeticFaceValue'): (1, 1, 9.9999999999999995e-07, 1.9999999999999999e-06), ('/users/ddm1/fipy/fipy/variables/cellVariable.py', 136, 'copy'): (1, 1, 9.9999999999999995e-07, 9.9999999999999995e-07), ('/users/ddm1/fipy/fipy/terms/abstractDiffusionTerm.py', 151, '_calcGeomCoeff'): (1, 1, 1.9999999999999999e-06, 1.9999999999999999e-06), ('/users/ddm1/fipy/fipy/variables/cellVariable.py', 459, 'faceGrad'): (1, 1, 1.9999999999999999e-06, 1.9999999999999999e-06), ('/users/ddm1/fipy/fipy/meshes/abstractMesh.py', 120, 'faceCenters'): (4, 4, 7.9999999999999996e-06, 9.9999999999999991e-06), ('/users/ddm1/fipy/fipy/variables/constraintMask.py', 41, '_ConstraintMask'): (2, 2, 9.9999999999999995e-07, 3.0000000000000001e-06), ('/users/ddm1/fipy/fipy/variables/cellVariable.py', 269, 'gaussGrad'): (1, 1, 0.0, 9.9999999999999995e-07), ('/users/ddm1/fipy/fipy/variables/variable.py', 1098, '_BinaryOperatorVariable'): (52, 52, 5.3000000000000001e-05, 7.5999999999999991e-05), ('/users/ddm1/fipy/fipy/variables/gaussCellGradVariable.py', 74, '__init__'): (1, 1, 1.9999999999999999e-06, 1.9999999999999999e-06)}), ('/users/ddm1/fipy/fipy/terms/term.py', 399, 'getDefaultSolver'): (10, 10, 2.1999999999999999e-05, 0.00055499999999999994, {('/users/ddm1/fipy/fipy/terms/term.py', 148, '_prepareLinearSystem'): (10, 10, 2.1999999999999999e-05, 0.00055499999999999994)}), ('/users/ddm1/fipy/fipy/meshes/uniformGrid1D.py', 157, '_getExteriorFaces'): (10, 10, 9.0000000000000002e-06, 9.0000000000000002e-06, {('/users/ddm1/fipy/fipy/variables/faceGradVariable.py', 137, '_calcValueNoInline'): (10, 10, 9.0000000000000002e-06, 9.0000000000000002e-06)}), ('/users/ddm1/fipy/fipy/variables/variable.py', 1572, '<lambda>'): (331, 331, 0.000785, 0.000785, {('/users/ddm1/fipy/fipy/variables/unaryOperatorVariable.py', 39, '_calcValue_'): (331, 331, 0.000785, 0.000785)}), ('/users/ddm1/fipy/fipy/variables/variable.py', 868, '__markStale'): (1323, 1869, 0.0035179999999999999, 0.0070299999999999998, {('/users/ddm1/fipy/fipy/variables/variable.py', 883, '_markStale'): (676, 403, 0.001176, 0.0024949999999999998), ('/users/ddm1/fipy/fipy/variables/variable.py', 879, '_markFresh'): (1193, 1193, 0.0023419999999999999, 0.0067729999999999995)}), ('~', 0, \"<method 'get' of 'dict' objects>\"): (177, 177, 8.3999999999999995e-05, 8.3999999999999995e-05, {('/users/ddm1/.virtualenvs/venv1/lib/python2.6/re.py', 229, '_compile'): (157, 157, 7.8999999999999996e-05, 7.8999999999999996e-05), ('/usr/lib/pymodules/python2.6/numpy/core/numerictypes.py', 503, '_python_type'): (20, 20, 4.9999999999999996e-06, 4.9999999999999996e-06)}), ('/users/ddm1/fipy/fipy/variables/variable.py', 82, '__init__'): (225, 225, 0.001279, 0.014558, {('/users/ddm1/fipy/fipy/variables/meshVariable.py', 135, '_globalToLocalValue'): (37, 37, 0.00018799999999999999, 0.002539), ('/users/ddm1/fipy/fipy/variables/variable.py', 888, '_requires'): (2, 2, 1.1e-05, 0.00040899999999999997), ('/users/ddm1/fipy/fipy/terms/cellTerm.py', 51, '__init__'): (1, 1, 6.0000000000000002e-06, 0.00020599999999999999), ('/users/ddm1/fipy/fipy/terms/abstractDiffusionTerm.py', 49, '__init__'): (2, 2, 7.9999999999999996e-06, 0.00031), ('/users/ddm1/fipy/fipy/variables/variable.py', 149, '__makeVariable'): (10, 10, 4.4999999999999996e-05, 0.00063400000000000001), ('/users/ddm1/fipy/fipy/variables/meshVariable.py', 50, '__init__'): (71, 71, 0.00044499999999999997, 0.0033989999999999997), ('/users/ddm1/fipy/fipy/variables/operatorVariable.py', 45, '__init__'): (85, 85, 0.00048899999999999996, 0.0058209999999999998), ('/users/ddm1/fipy/fipy/variables/variable.py', 1098, '_BinaryOperatorVariable'): (17, 17, 8.7000000000000001e-05, 0.00124)}), ('~', 0, \"<method 'all' of 'numpy.ndarray' objects>\"): (21, 21, 9.9999999999999991e-05, 9.9999999999999991e-05, {('/usr/lib/pymodules/python2.6/numpy/core/fromnumeric.py', 1427, 'alltrue'): (21, 21, 9.9999999999999991e-05, 9.9999999999999991e-05)}), ('/users/ddm1/fipy/fipy/variables/variable.py', 572, 'constraints'): (2293, 2293, 0.0019610000000000001, 0.0031159999999999998, {('/users/ddm1/fipy/fipy/variables/cellToFaceVariable.py', 77, 'constraints'): (160, 160, 0.00011899999999999999, 0.00017199999999999998), ('/users/ddm1/fipy/fipy/variables/constraintMask.py', 43, '__init__'): (1, 1, 9.9999999999999995e-07, 9.9999999999999995e-07), ('/users/ddm1/fipy/fipy/variables/variable.py', 522, '_getValue'): (2132, 2132, 0.001841, 0.0029429999999999999)}), ('/users/ddm1/fipy/fipy/meshes/builders/grid1DBuilder.py', 86, 'createCells'): (41, 41, 0.00028399999999999996, 0.0015269999999999999, {('/users/ddm1/fipy/fipy/meshes/uniformGrid1D.py', 290, '_cellFaceIDs'): (41, 41, 0.00028399999999999996, 0.0015269999999999999)}), ('/users/ddm1/fipy/fipy/terms/transientTerm.py', 154, '_checkDt'): (10, 10, 1.9999999999999998e-05, 5.6999999999999996e-05, {('/users/ddm1/fipy/fipy/terms/cellTerm.py', 152, '_buildMatrix'): (10, 10, 1.9999999999999998e-05, 5.6999999999999996e-05)}), ('/users/ddm1/fipy/fipy/variables/variable.py', 1174, '__neg__'): (3, 3, 6.0000000000000002e-06, 0.0035559999999999997, {('/users/ddm1/fipy/fipy/terms/abstractDiffusionTerm.py', 358, '__higherOrderbuildMatrix'): (1, 1, 3.0000000000000001e-06, 0.00033700000000000001), ('/users/ddm1/fipy/fipy/terms/abstractDiffusionTerm.py', 281, '_buildMatrix'): (2, 2, 3.0000000000000001e-06, 0.0032189999999999996)}), ('/users/ddm1/fipy/fipy/meshes/builders/grid1DBuilder.py', 71, '_calcMeshSpacing'): (1, 1, 6.9999999999999999e-06, 1.5999999999999999e-05, {('/users/ddm1/fipy/fipy/meshes/builders/abstractGridBuilder.py', 183, '_basicGridData'): (1, 1, 6.9999999999999999e-06, 1.5999999999999999e-05)}), ('/usr/lib/pymodules/python2.6/numpy/ma/core.py', 3343, 'filled'): (41, 41, 6.0999999999999999e-05, 0.00013099999999999999, {('/usr/lib/pymodules/python2.6/numpy/ma/core.py', 552, 'filled'): (41, 41, 6.0999999999999999e-05, 0.00013099999999999999)}), ('/users/ddm1/fipy/fipy/variables/variable.py', 1540, '<lambda>'): (51, 51, 8.099999999999999e-05, 0.0056869999999999993, {('/users/ddm1/fipy/fipy/variables/unaryOperatorVariable.py', 39, '_calcValue_'): (51, 51, 8.099999999999999e-05, 0.0056869999999999993)}), ('/usr/lib/pymodules/python2.6/numpy/core/numerictypes.py', 548, 'obj2sctype'): (96, 96, 0.00036899999999999997, 0.00062599999999999993, {('/users/ddm1/fipy/fipy/variables/meshVariable.py', 50, '__init__'): (35, 35, 0.00016699999999999999, 0.00026199999999999997), ('/users/ddm1/fipy/fipy/variables/variable.py', 821, 'getsctype'): (1, 1, 6.9999999999999999e-06, 9.0000000000000002e-06), ('/users/ddm1/fipy/fipy/variables/meshVariable.py', 625, '_getitemClass'): (40, 40, 0.00018099999999999998, 0.00032600000000000001), ('/usr/lib/pymodules/python2.6/numpy/core/numerictypes.py', 671, 'sctype2char'): (20, 20, 1.4e-05, 2.9e-05)}), ('/users/ddm1/fipy/fipy/meshes/builders/grid1DBuilder.py', 66, '_calcPhysicalShape'): (1, 1, 4.2999999999999995e-05, 0.00023999999999999998, {('/users/ddm1/fipy/fipy/meshes/builders/abstractGridBuilder.py', 183, '_basicGridData'): (1, 1, 4.2999999999999995e-05, 0.00023999999999999998)}), ('/users/ddm1/fipy/fipy/meshes/uniformGrid1D.py', 131, '_adjacentCellIDs'): (30, 30, 0.000281, 0.0012339999999999999, {('/users/ddm1/fipy/fipy/variables/cellToFaceVariable.py', 47, '_calcValue'): (10, 10, 8.4999999999999993e-05, 0.00039599999999999998), ('/users/ddm1/fipy/fipy/variables/faceGradVariable.py', 137, '_calcValueNoInline'): (10, 10, 8.9999999999999992e-05, 0.00040199999999999996), ('/users/ddm1/fipy/fipy/terms/abstractDiffusionTerm.py', 208, '__getCoefficientMatrix'): (10, 10, 0.000106, 0.00043599999999999997)}), ('/users/ddm1/fipy/fipy/variables/variable.py', 1165, '<lambda>'): (34, 34, 0.00013199999999999998, 0.00013199999999999998, {('/users/ddm1/fipy/fipy/variables/binaryOperatorVariable.py', 72, '_calcValue_'): (21, 21, 0.000125, 0.000125), ('/users/ddm1/fipy/fipy/variables/binaryOperatorVariable.py', 83, 'unit'): (13, 13, 6.9999999999999999e-06, 6.9999999999999999e-06)}), ('/users/ddm1/fipy/fipy/variables/meshVariable.py', 567, '<lambda>'): (20, 20, 9.9999999999999991e-06, 9.9999999999999991e-06, {('~', 0, '<reduce>'): (20, 20, 9.9999999999999991e-06, 9.9999999999999991e-06)}), ('/users/ddm1/fipy/fipy/terms/binaryTerm.py', 101, '_getTransientGeomCoeff'): (10, 10, 3.6000000000000001e-05, 0.000941, {('/users/ddm1/fipy/fipy/terms/term.py', 148, '_prepareLinearSystem'): (10, 10, 3.6000000000000001e-05, 0.000941)}), ('/users/ddm1/fipy/fipy/variables/meshVariable.py', 565, '__init__'): (36, 36, 0.00033700000000000001, 0.0086769999999999989, {('/users/ddm1/fipy/fipy/variables/variable.py', 1098, '_BinaryOperatorVariable'): (20, 20, 0.00019699999999999999, 0.005352), ('/users/ddm1/fipy/fipy/variables/variable.py', 1054, '_UnaryOperatorVariable'): (16, 16, 0.00013999999999999999, 0.0033249999999999998)}), ('~', 0, '<built-in method matvec>'): (30, 30, 8.8999999999999995e-05, 8.8999999999999995e-05, {('/users/ddm1/fipy/fipy/matrices/pysparseMatrix.py', 124, '__mul__'): (30, 30, 8.8999999999999995e-05, 8.8999999999999995e-05)}), ('/users/ddm1/fipy/fipy/variables/gaussCellGradVariable.py', 74, '__init__'): (1, 1, 9.9999999999999991e-06, 0.00037299999999999996, {('/users/ddm1/fipy/fipy/variables/cellVariable.py', 269, 'gaussGrad'): (1, 1, 9.9999999999999991e-06, 0.00037299999999999996)}), ('~', 0, \"<method 'append' of 'list' objects>\"): (333, 333, 0.00012400000000000001, 0.00012400000000000001, {('/users/ddm1/fipy/fipy/variables/variable.py', 888, '_requires'): (165, 165, 6.0999999999999999e-05, 6.0999999999999999e-05), ('/users/ddm1/fipy/fipy/variables/variable.py', 898, '_requiredBy'): (165, 165, 6.3e-05, 6.3e-05), ('/users/ddm1/fipy/fipy/meshes/builders/abstractGridBuilder.py', 50, 'buildGridData'): (1, 1, 0.0, 0.0), ('/users/ddm1/fipy/fipy/variables/cellVariable.py', 599, 'constrain'): (2, 2, 0.0, 0.0)}), ('/users/ddm1/fipy/fipy/terms/transientTerm.py', 113, '_calcGeomCoeff'): (1, 1, 1.4e-05, 0.00086499999999999999, {('/users/ddm1/fipy/fipy/terms/term.py', 459, '_getGeomCoeff'): (1, 1, 1.4e-05, 0.00086499999999999999)}), ('/users/ddm1/fipy/fipy/variables/variable.py', 713, 'setValue'): (10, 10, 6.7000000000000002e-05, 0.000718, {('/users/ddm1/fipy/fipy/variables/meshVariable.py', 604, 'setValue'): (10, 10, 6.7000000000000002e-05, 0.000718)}), ('/users/ddm1/fipy/fipy/terms/cellTerm.py', 51, '__init__'): (1, 1, 1.8999999999999998e-05, 0.000232, {('<ipython-input-2-c8f75f664a5c>', 1, 'Coupled'): (1, 1, 1.8999999999999998e-05, 0.000232)}), ('/users/ddm1/fipy/fipy/variables/variable.py', 796, '_getShape'): (622, 622, 0.00068099999999999996, 0.0015279999999999998, {('/users/ddm1/fipy/fipy/variables/variable.py', 1008, '_broadcastShape'): (10, 10, 1.2e-05, 2.6999999999999999e-05), ('/users/ddm1/fipy/fipy/variables/meshVariable.py', 252, 'shape'): (455, 455, 0.00049600000000000002, 0.001111), ('/users/ddm1/fipy/fipy/variables/meshVariable.py', 135, '_globalToLocalValue'): (45, 45, 5.1999999999999997e-05, 0.000118), ('/users/ddm1/fipy/fipy/variables/variable.py', 1556, '__getitem__'): (28, 28, 3.1000000000000001e-05, 7.4999999999999993e-05), ('/users/ddm1/fipy/fipy/terms/abstractDiffusionTerm.py', 281, '_buildMatrix'): (1, 1, 1.9999999999999999e-06, 3.0000000000000001e-06), ('~', 0, '<hasattr>'): (31, 31, 3.6000000000000001e-05, 7.7000000000000001e-05), ('/users/ddm1/fipy/fipy/tools/numerix.py', 199, 'getShape'): (31, 31, 3.1000000000000001e-05, 6.5999999999999992e-05), ('/users/ddm1/fipy/fipy/terms/cellTerm.py', 68, '_checkCoeff'): (1, 1, 9.9999999999999995e-07, 3.0000000000000001e-06), ('/users/ddm1/fipy/fipy/terms/abstractDiffusionTerm.py', 151, '_calcGeomCoeff'): (1, 1, 9.9999999999999995e-07, 1.9999999999999999e-06), ('/users/ddm1/fipy/fipy/variables/variable.py', 1098, '_BinaryOperatorVariable'): (19, 19, 1.8999999999999998e-05, 4.6e-05)}), ('/users/ddm1/fipy/fipy/tools/dimensions/physicalField.py', 117, '__init__'): (9, 30, 0.00027900000000000001, 0.00083499999999999991, {('/users/ddm1/fipy/fipy/meshes/builders/grid1DBuilder.py', 66, '_calcPhysicalShape'): (1, 1, 1.4999999999999999e-05, 6.7000000000000002e-05), ('/users/ddm1/fipy/fipy/tools/dimensions/physicalField.py', 117, '__init__'): (21, 9, 0.00015999999999999999, 0.000486), ('/users/ddm1/fipy/fipy/tools/dimensions/physicalField.py', 637, '__makePhysical'): (1, 1, 4.9999999999999996e-06, 1.1e-05), ('/users/ddm1/fipy/fipy/meshes/builders/abstractGridBuilder.py', 50, 'buildGridData'): (2, 2, 1.7e-05, 2.8e-05), ('/users/ddm1/fipy/fipy/variables/variable.py', 668, '_makeValue'): (4, 4, 7.5999999999999991e-05, 0.000718), ('/users/ddm1/fipy/fipy/meshes/builders/utilityClasses.py', 50, 'calcOrigin'): (1, 1, 6.0000000000000002e-06, 1.1e-05)}), ('~', 0, '<_Epetra.MpiComm_NumProc>'): (14, 14, 3.2999999999999996e-05, 3.2999999999999996e-05, {('/usr/lib/python2.6/dist-packages/PyTrilinos/Epetra.py', 6011, 'NumProc'): (14, 14, 3.2999999999999996e-05, 3.2999999999999996e-05)}), ('/users/ddm1/fipy/fipy/meshes/builders/grid1DBuilder.py', 144, '_specificGridData'): (1, 1, 3.9999999999999998e-06, 4.9999999999999996e-06, {('/users/ddm1/fipy/fipy/meshes/builders/abstractGridBuilder.py', 176, 'gridData'): (1, 1, 3.9999999999999998e-06, 4.9999999999999996e-06)}), ('/usr/lib/python2.6/dist-packages/PyTrilinos/Epetra.py', 6011, 'NumProc'): (14, 14, 1.8e-05, 5.1e-05, {('/users/ddm1/fipy/fipy/tools/comms/commWrapper.py', 60, 'Nproc'): (14, 14, 1.8e-05, 5.1e-05)}), ('/users/ddm1/fipy/fipy/meshes/uniformGrid1D.py', 62, '__init__'): (1, 1, 2.9e-05, 0.0056600000000000001, {('/users/ddm1/fipy/fipy/meshes/factoryMeshes.py', 169, 'Grid1D'): (1, 1, 2.9e-05, 0.0056600000000000001)}), ('/users/ddm1/fipy/fipy/terms/binaryTerm.py', 46, '_buildExplcitIfOther'): (10, 10, 4.9999999999999996e-06, 4.9999999999999996e-06, {('/users/ddm1/fipy/fipy/terms/term.py', 148, '_prepareLinearSystem'): (10, 10, 4.9999999999999996e-06, 4.9999999999999996e-06)}), ('/users/ddm1/fipy/fipy/tools/numerix.py', 631, 'indices'): (41, 41, 0.00036499999999999998, 0.0032779999999999997, {('/users/ddm1/fipy/fipy/terms/unaryTerm.py', 109, '_reshapeIDs'): (41, 41, 0.00036499999999999998, 0.0032779999999999997)}), ('~', 0, '<min>'): (15, 15, 3.9999999999999996e-05, 0.00022099999999999998, {('/users/ddm1/fipy/fipy/meshes/builders/abstractGridBuilder.py', 50, 'buildGridData'): (3, 3, 1.9999999999999999e-06, 1.9999999999999999e-06), ('/users/ddm1/fipy/fipy/solvers/pysparse/linearLUSolver.py', 64, '__init__'): (10, 10, 6.9999999999999999e-06, 6.9999999999999999e-06), ('/users/ddm1/fipy/fipy/meshes/abstractMesh.py', 1416, '_madmin'): (2, 2, 3.1000000000000001e-05, 0.000212)}), ('~', 0, '<built-in method solve>'): (10, 10, 0.00022999999999999998, 0.00022999999999999998, {('/users/ddm1/fipy/fipy/solvers/pysparse/linearLUSolver.py', 82, '_solve_'): (10, 10, 0.00022999999999999998, 0.00022999999999999998)}), ('/users/ddm1/fipy/fipy/tools/numerix.py', 166, 'reshape'): (10, 10, 4.1999999999999998e-05, 0.000164, {('/users/ddm1/fipy/fipy/terms/abstractDiffusionTerm.py', 281, '_buildMatrix'): (10, 10, 4.1999999999999998e-05, 0.000164)}), ('~', 0, \"<method 'join' of 'str' objects>\"): (157, 157, 9.4999999999999992e-05, 9.4999999999999992e-05, {('/users/ddm1/fipy/fipy/tools/decorators.py', 125, '__call__'): (157, 157, 9.4999999999999992e-05, 9.4999999999999992e-05)}), ('/users/ddm1/fipy/fipy/meshes/uniformGrid1D.py', 169, '_faceAreas'): (1, 1, 3.0000000000000001e-06, 1.2e-05, {('/users/ddm1/fipy/fipy/terms/abstractDiffusionTerm.py', 151, '_calcGeomCoeff'): (1, 1, 3.0000000000000001e-06, 1.2e-05)}), ('~', 0, '<numpy.core.multiarray.concatenate>'): (124, 124, 0.00021999999999999998, 0.00021999999999999998, {('/usr/lib/pymodules/python2.6/numpy/core/fromnumeric.py', 791, 'resize'): (124, 124, 0.00021999999999999998, 0.00021999999999999998)}), ('/users/ddm1/fipy/fipy/tools/numerix.py', 1192, 'maxzero'): (309, 309, 0.00023499999999999999, 0.00036299999999999999, {('/users/ddm1/fipy/fipy/tools/numerix.py', 1172, '_broadcastShapes'): (309, 309, 0.00023499999999999999, 0.00036299999999999999)}), ('/users/ddm1/fipy/fipy/meshes/builders/grid1DBuilder.py', 56, '_packOffset'): (1, 1, 0.0, 0.0, {('/users/ddm1/fipy/fipy/meshes/builders/abstractGridBuilder.py', 50, 'buildGridData'): (1, 1, 0.0, 0.0)}), ('/users/ddm1/fipy/fipy/variables/cellVariable.py', 487, 'old'): (10, 10, 6.0000000000000002e-06, 6.0000000000000002e-06, {('/users/ddm1/fipy/fipy/terms/cellTerm.py', 152, '_buildMatrix'): (10, 10, 6.0000000000000002e-06, 6.0000000000000002e-06)}), ('~', 0, \"<method 'swapaxes' of 'numpy.ndarray' objects>\"): (111, 111, 0.000102, 0.000102, {('/users/ddm1/fipy/fipy/terms/cellTerm.py', 145, '_buildMatrixNoInline_'): (20, 20, 1.8e-05, 1.8e-05), ('/usr/lib/pymodules/python2.6/numpy/core/fromnumeric.py', 378, 'swapaxes'): (41, 41, 3.8999999999999999e-05, 3.8999999999999999e-05), ('/users/ddm1/fipy/fipy/terms/abstractDiffusionTerm.py', 281, '_buildMatrix'): (10, 10, 9.0000000000000002e-06, 9.0000000000000002e-06), ('/users/ddm1/fipy/fipy/terms/abstractDiffusionTerm.py', 208, '__getCoefficientMatrix'): (40, 40, 3.6000000000000001e-05, 3.6000000000000001e-05)}), ('/users/ddm1/fipy/fipy/variables/cellToFaceVariable.py', 47, '_calcValue'): (10, 10, 5.6999999999999996e-05, 0.0022829999999999999, {('/users/ddm1/fipy/fipy/variables/variable.py', 522, '_getValue'): (10, 10, 5.6999999999999996e-05, 0.0022829999999999999)}), ('/users/ddm1/fipy/fipy/tools/dimensions/physicalField.py', 1804, 'isDimensionless'): (319, 319, 0.00042299999999999998, 0.0017409999999999999, {('/users/ddm1/fipy/fipy/tools/dimensions/physicalField.py', 397, '__truediv__'): (2, 2, 7.9999999999999996e-06, 2.1999999999999999e-05), ('/users/ddm1/fipy/fipy/variables/variable.py', 1054, '_UnaryOperatorVariable'): (86, 86, 0.000117, 0.00051199999999999998), ('/users/ddm1/fipy/fipy/tools/dimensions/physicalField.py', 361, '__mul__'): (1, 1, 9.9999999999999995e-07, 4.9999999999999996e-06), ('/users/ddm1/fipy/fipy/variables/operatorVariable.py', 45, '__init__'): (156, 156, 0.00020599999999999999, 0.000834), ('/users/ddm1/fipy/fipy/variables/variable.py', 668, '_makeValue'): (4, 4, 4.9999999999999996e-06, 1.9999999999999998e-05), ('/users/ddm1/fipy/fipy/variables/variable.py', 1098, '_BinaryOperatorVariable'): (70, 70, 8.599999999999999e-05, 0.000348)}), ('/users/ddm1/fipy/fipy/tools/dimensions/NumberDict.py', 44, '__add__'): (1, 1, 9.0000000000000002e-06, 2.5999999999999998e-05, {('/users/ddm1/fipy/fipy/tools/dimensions/physicalField.py', 1529, '__mul__'): (1, 1, 9.0000000000000002e-06, 2.5999999999999998e-05)}), ('/users/ddm1/fipy/fipy/tools/dimensions/physicalField.py', 1014, 'inSIUnits'): (5, 5, 1.2e-05, 1.2e-05, {('/users/ddm1/fipy/fipy/tools/dimensions/physicalField.py', 972, 'numericValue'): (4, 4, 9.9999999999999991e-06, 9.9999999999999991e-06), ('/users/ddm1/fipy/fipy/tools/dimensions/physicalField.py', 649, '__array__'): (1, 1, 1.9999999999999999e-06, 1.9999999999999999e-06)}), ('/users/ddm1/fipy/fipy/meshes/builders/abstractGridBuilder.py', 50, 'buildGridData'): (1, 1, 5.3999999999999998e-05, 0.00023899999999999998, {('/users/ddm1/fipy/fipy/meshes/builders/grid1DBuilder.py', 49, 'buildGridData'): (1, 1, 5.3999999999999998e-05, 0.00023899999999999998)}), ('~', 0, '<numpy.core.multiarray.arange>'): (223, 223, 0.000475, 0.000475, {('/users/ddm1/fipy/fipy/meshes/uniformGrid1D.py', 116, '_interiorFaces'): (10, 10, 2.5999999999999998e-05, 2.5999999999999998e-05), ('/users/ddm1/fipy/fipy/terms/cellTerm.py', 145, '_buildMatrixNoInline_'): (10, 10, 2.5999999999999998e-05, 2.5999999999999998e-05), ('/users/ddm1/fipy/fipy/meshes/uniformGrid1D.py', 131, '_adjacentCellIDs'): (30, 30, 7.2999999999999999e-05, 7.2999999999999999e-05), ('/users/ddm1/fipy/fipy/meshes/topologies/gridTopology.py', 77, '_globalOverlappingCellIDs'): (14, 14, 3.4e-05, 3.4e-05), ('/users/ddm1/fipy/fipy/meshes/topologies/gridTopology.py', 147, '_globalOverlappingFaceIDs'): (11, 11, 2.8e-05, 2.8e-05), ('/users/ddm1/fipy/fipy/terms/abstractDiffusionTerm.py', 281, '_buildMatrix'): (11, 11, 2.1999999999999999e-05, 2.1999999999999999e-05), ('/users/ddm1/fipy/fipy/tools/numerix.py', 631, 'indices'): (82, 82, 0.000137, 0.000137), ('/users/ddm1/fipy/fipy/matrices/pysparseMatrix.py', 230, 'takeDiagonal'): (10, 10, 2.8e-05, 2.8e-05), ('/users/ddm1/fipy/fipy/meshes/builders/grid1DBuilder.py', 86, 'createCells'): (41, 41, 8.9999999999999992e-05, 8.9999999999999992e-05), ('/users/ddm1/fipy/fipy/meshes/uniformGrid1D.py', 173, '_faceCenters'): (4, 4, 1.1e-05, 1.1e-05)}), ('/users/ddm1/fipy/fipy/variables/variable.py', 1578, 'take'): (45, 81, 0.00020099999999999998, 0.087947999999999998, {('/users/ddm1/fipy/fipy/tools/numerix.py', 590, 'take'): (81, 45, 0.00020099999999999998, 0.087947999999999998)}), ('/users/ddm1/fipy/fipy/terms/abstractBinaryTerm.py', 107, '_checkVar'): (10, 10, 2.9999999999999997e-05, 0.000195, {('/users/ddm1/fipy/fipy/terms/term.py', 148, '_prepareLinearSystem'): (10, 10, 2.9999999999999997e-05, 0.000195)}), ('/users/ddm1/fipy/fipy/variables/meshVariable.py', 476, 'sum'): (3, 3, 1.7e-05, 0.003078, {('/users/ddm1/fipy/fipy/variables/faceVariable.py', 82, 'divergence'): (3, 3, 1.7e-05, 0.003078)}), ('/users/ddm1/fipy/fipy/tools/numerix.py', 956, '_compressIndexSubspaces'): (59, 59, 0.00025700000000000001, 0.0020509999999999999, {('/users/ddm1/fipy/fipy/tools/numerix.py', 983, '_indexShape'): (59, 59, 0.00025700000000000001, 0.0020509999999999999)}), ('/usr/lib/pymodules/python2.6/numpy/ma/core.py', 1238, 'getmask'): (82, 82, 6.2000000000000003e-05, 0.000118, {('/users/ddm1/fipy/fipy/tools/numerix.py', 590, 'take'): (82, 82, 6.2000000000000003e-05, 0.000118)}), ('~', 0, \"<method 'disable' of '_lsprof.Profiler' objects>\"): (1, 1, 9.9999999999999995e-07, 9.9999999999999995e-07, {}), ('/users/ddm1/fipy/fipy/variables/variable.py', 1098, '_BinaryOperatorVariable'): (38, 38, 0.00094499999999999998, 0.027149999999999997, {('/users/ddm1/fipy/fipy/variables/variable.py', 1164, '__truediv__'): (2, 2, 5.8999999999999998e-05, 0.002313), ('/users/ddm1/fipy/fipy/variables/variable.py', 1136, '__sub__'): (1, 1, 2.6999999999999999e-05, 0.00062500000000000001), ('/users/ddm1/fipy/fipy/variables/variable.py', 132, '__array_wrap__'): (10, 10, 0.000233, 0.0036589999999999999), ('/users/ddm1/fipy/fipy/variables/variable.py', 1332, '__or__'): (1, 1, 3.4e-05, 0.00054999999999999992), ('/users/ddm1/fipy/fipy/variables/variable.py', 1247, '__eq__'): (4, 4, 0.000136, 0.0022429999999999998), ('/users/ddm1/fipy/fipy/variables/variable.py', 1146, '__mul__'): (20, 20, 0.00045599999999999997, 0.017759999999999998)})}\n"
       ]
      }
     ],
     "prompt_number": 51
    },
    {
     "cell_type": "code",
     "collapsed": false,
     "input": [
      "def getKey(statsDict, fcnName):\n",
      "    for k in statsDict.keys():\n",
      "        if fcnName in k[2]:\n",
      "            return k\n",
      "    "
     ],
     "language": "python",
     "metadata": {},
     "outputs": [],
     "prompt_number": 56
    },
    {
     "cell_type": "code",
     "collapsed": false,
     "input": [
      "def getFcnStats(nx=100, fcnName=None, regenerate=False):\n",
      "    a  = getProfileStats(nx, regenerate=regenerate)\n",
      "    if fcnName:\n",
      "        return a.stats[getKey(a.stats, fcnName)][3]\n",
      "    else:\n",
      "        a = a.sort_stats(\"cumulative\")\n",
      "        return a.stats[a.fcn_list[0]][3]\n"
     ],
     "language": "python",
     "metadata": {},
     "outputs": [],
     "prompt_number": 59
    },
    {
     "cell_type": "code",
     "collapsed": false,
     "input": [
      "def plotStats(fcnName):\n",
      "    import matplotlib.pyplot as plt\n",
      "    import numpy as np\n",
      "\n",
      "    step = 0\n",
      "    while step < 1:\n",
      "       nxs = np.array(logspace(1, 3, 100), dtype=int)\n",
      "       allTimes = []\n",
      "       times = []\n",
      "       for nx in nxs:\n",
      "            allTimes.append(getFcnStats(nx=nx))\n",
      "            times.append(getFcnStats(nx=nx, fcnName=fcnName))\n",
      "       print times \n",
      "       step += 1\n",
      "    \n",
      "       plt.loglog(nxs, allTimes)\n",
      "       plt.loglog(nxs, times)"
     ],
     "language": "python",
     "metadata": {},
     "outputs": [],
     "prompt_number": 68
    },
    {
     "cell_type": "code",
     "collapsed": false,
     "input": [
      "plotStats(\"_prepareLinearSystem\")\n",
      "plotStats(\"_solve\")"
     ],
     "language": "python",
     "metadata": {},
     "outputs": [
      {
       "output_type": "stream",
       "stream": "stdout",
       "text": [
        "[0.17256299999999999, 0.17256299999999999, 0.17256299999999999, 0.17369099999999998, 0.171517, 0.171517, 0.17256099999999999, 0.17256099999999999, 0.17088599999999998, 0.17482899999999998, 0.17482899999999998, 0.17024999999999998, 0.21728499999999998, 0.17194299999999998, 0.17163599999999998, 0.177949, 0.182642, 0.180059, 0.17646099999999998, 0.17210799999999998, 0.17911099999999999, 0.17957399999999998, 0.17419399999999999, 0.17245099999999999, 0.216886, 0.17091999999999999, 0.174151, 0.171705, 0.17129999999999998, 0.17263599999999998, 0.17463699999999999, 0.17722099999999999, 0.17682899999999999, 0.18618599999999999, 0.177589, 0.18704599999999999, 0.182116, 0.17279999999999998, 0.172931, 0.17747199999999999, 0.17222799999999999, 0.178037, 0.18001, 0.175649, 0.17715699999999998, 0.177677, 0.17668299999999998, 0.177539, 0.1736, 0.174627, 0.17808199999999999, 0.18041399999999999, 0.179505, 0.17480299999999999, 0.17364099999999999, 0.17796599999999999, 0.174598, 0.17379, 0.175343, 0.17851, 0.17763199999999998, 0.22575199999999998, 0.17807399999999998, 0.183446, 0.178566, 0.18381999999999998, 0.18320999999999998, 0.184171, 0.18315199999999998, 0.17833599999999999, 0.188392, 0.18310099999999999, 0.1835, 0.182229, 0.18070999999999998, 0.18251699999999998, 0.18215499999999998, 0.18285799999999999, 0.18507399999999999, 0.18207199999999998, 0.182782, 0.184502, 0.185364, 0.18460799999999999, 0.18680099999999999, 0.187504, 0.189086, 0.191526, 0.20888699999999999, 0.200158, 0.19714299999999998, 0.19616499999999998, 0.19832999999999998, 0.20063499999999998, 0.197329, 0.19602899999999998, 0.21423099999999998, 0.201817, 0.25043599999999999, 0.20532499999999998]\n",
        "[0.0050629999999999998, 0.0050629999999999998, 0.0050629999999999998, 0.0049909999999999998, 0.0049629999999999995, 0.0049629999999999995, 0.0051180000000000002, 0.0051180000000000002, 0.0052369999999999995, 0.0051679999999999999, 0.0051679999999999999, 0.0051799999999999997, 0.0052399999999999999, 0.0051739999999999998, 0.0053600000000000002, 0.0055019999999999999, 0.0053400000000000001, 0.00547, 0.0053089999999999995, 0.0053019999999999994, 0.005489, 0.0056600000000000001, 0.0053889999999999997, 0.0054649999999999994, 0.0055009999999999998, 0.0054649999999999994, 0.0054819999999999999, 0.0056270000000000001, 0.0055519999999999996, 0.0056010000000000001, 0.0058199999999999997, 0.0057749999999999998, 0.0064209999999999996, 0.0062009999999999999, 0.0059839999999999997, 0.0059659999999999999, 0.0061509999999999994, 0.006411, 0.006123, 0.0062379999999999996, 0.0061639999999999993, 0.0069559999999999995, 0.0069089999999999993, 0.0065109999999999994, 0.0067619999999999998, 0.0066229999999999995, 0.0066089999999999994, 0.006796, 0.0068509999999999995, 0.0069389999999999999, 0.0072610000000000001, 0.0073359999999999996, 0.0073539999999999994, 0.0072779999999999997, 0.0074049999999999993, 0.0078320000000000004, 0.0076539999999999993, 0.007892999999999999, 0.0080199999999999994, 0.0083680000000000004, 0.0083039999999999989, 0.0091929999999999998, 0.0087069999999999995, 0.0090060000000000001, 0.0091339999999999998, 0.0094649999999999995, 0.0094059999999999994, 0.010196999999999999, 0.010083999999999999, 0.010024999999999999, 0.011294, 0.010655999999999999, 0.011193, 0.011318999999999999, 0.011594999999999999, 0.012060999999999999, 0.01239, 0.012532999999999999, 0.013186999999999999, 0.01311, 0.013623, 0.014041, 0.014372999999999999, 0.014868999999999999, 0.015453999999999999, 0.016094999999999998, 0.017037999999999998, 0.017943000000000001, 0.020077999999999999, 0.019018999999999998, 0.019358999999999998, 0.019793999999999999, 0.021103, 0.021274999999999999, 0.021956999999999997, 0.022792, 0.025446, 0.024291, 0.027111999999999997, 0.027290999999999999]"
       ]
      },
      {
       "output_type": "stream",
       "stream": "stdout",
       "text": [
        "\n"
       ]
      },
      {
       "output_type": "display_data",
       "png": "[encoded data removed]"
      }
     ],
     "prompt_number": 71
    },
    {
     "cell_type": "code",
     "collapsed": false,
     "input": [],
     "language": "python",
     "metadata": {},
     "outputs": []
    },
    {
     "cell_type": "code",
     "collapsed": false,
     "input": [
      "for x in range(len(times)):\n",
      "    if times[x] > 18:\n",
      "        print times[x]\n",
      "        print nxs[x]\n",
      "\n"
     ],
     "language": "python",
     "metadata": {},
     "outputs": [
      {
       "output_type": "stream",
       "stream": "stdout",
       "text": [
        "18.236611\n",
        "200\n"
       ]
      }
     ],
     "prompt_number": 27
    },
    {
     "cell_type": "code",
     "collapsed": false,
     "input": [
      "getP(nx=100, regenerate=True).sort_stats(\"cumulative\").print_stats(20)  2**np.arange(4)"
     ],
     "language": "python",
     "metadata": {},
     "outputs": [
      {
       "output_type": "stream",
       "stream": "stdout",
       "text": [
        "sweep =  5\n",
        "sweep = "
       ]
      },
      {
       "output_type": "stream",
       "stream": "stdout",
       "text": [
        " 5\n",
        "sweep = "
       ]
      },
      {
       "output_type": "stream",
       "stream": "stdout",
       "text": [
        " 5\n",
        "sweep = "
       ]
      },
      {
       "output_type": "stream",
       "stream": "stdout",
       "text": [
        " 4\n",
        "sweep = "
       ]
      },
      {
       "output_type": "stream",
       "stream": "stdout",
       "text": [
        " 4\n",
        "sweep = "
       ]
      },
      {
       "output_type": "stream",
       "stream": "stdout",
       "text": [
        " 4\n",
        "sweep = "
       ]
      },
      {
       "output_type": "stream",
       "stream": "stdout",
       "text": [
        " 5\n",
        "sweep = "
       ]
      },
      {
       "output_type": "stream",
       "stream": "stdout",
       "text": [
        " 5\n",
        "sweep = "
       ]
      },
      {
       "output_type": "stream",
       "stream": "stdout",
       "text": [
        " 5\n",
        "sweep = "
       ]
      },
      {
       "output_type": "stream",
       "stream": "stdout",
       "text": [
        " 5\n",
        "sweep = "
       ]
      },
      {
       "output_type": "stream",
       "stream": "stdout",
       "text": [
        " 5\n",
        "sweep = "
       ]
      },
      {
       "output_type": "stream",
       "stream": "stdout",
       "text": [
        " 4\n",
        "sweep = "
       ]
      },
      {
       "output_type": "stream",
       "stream": "stdout",
       "text": [
        " 4\n",
        "sweep = "
       ]
      },
      {
       "output_type": "stream",
       "stream": "stdout",
       "text": [
        " 4\n",
        "sweep = "
       ]
      },
      {
       "output_type": "stream",
       "stream": "stdout",
       "text": [
        " 4\n",
        "sweep = "
       ]
      },
      {
       "output_type": "stream",
       "stream": "stdout",
       "text": [
        " 4\n",
        "sweep = "
       ]
      },
      {
       "output_type": "stream",
       "stream": "stdout",
       "text": [
        " 4\n",
        "sweep = "
       ]
      },
      {
       "output_type": "stream",
       "stream": "stdout",
       "text": [
        " 4\n",
        "sweep = "
       ]
      },
      {
       "output_type": "stream",
       "stream": "stdout",
       "text": [
        " 4\n",
        "sweep = "
       ]
      },
      {
       "output_type": "stream",
       "stream": "stdout",
       "text": [
        " 4\n",
        "sweep = "
       ]
      },
      {
       "output_type": "stream",
       "stream": "stdout",
       "text": [
        " 4\n",
        "sweep = "
       ]
      },
      {
       "output_type": "stream",
       "stream": "stdout",
       "text": [
        " 4\n",
        "sweep = "
       ]
      },
      {
       "output_type": "stream",
       "stream": "stdout",
       "text": [
        " 4\n",
        "sweep = "
       ]
      },
      {
       "output_type": "stream",
       "stream": "stdout",
       "text": [
        " 4\n",
        "sweep = "
       ]
      },
      {
       "output_type": "stream",
       "stream": "stdout",
       "text": [
        " 4\n",
        "sweep = "
       ]
      },
      {
       "output_type": "stream",
       "stream": "stdout",
       "text": [
        " 4\n",
        "sweep = "
       ]
      },
      {
       "output_type": "stream",
       "stream": "stdout",
       "text": [
        " 4\n",
        "sweep = "
       ]
      },
      {
       "output_type": "stream",
       "stream": "stdout",
       "text": [
        " 4\n",
        "sweep = "
       ]
      },
      {
       "output_type": "stream",
       "stream": "stdout",
       "text": [
        " 4\n",
        "sweep = "
       ]
      },
      {
       "output_type": "stream",
       "stream": "stdout",
       "text": [
        " 4\n",
        "sweep = "
       ]
      },
      {
       "output_type": "stream",
       "stream": "stdout",
       "text": [
        " 4\n",
        "sweep = "
       ]
      },
      {
       "output_type": "stream",
       "stream": "stdout",
       "text": [
        " 4\n",
        "sweep = "
       ]
      },
      {
       "output_type": "stream",
       "stream": "stdout",
       "text": [
        " 4\n",
        "sweep = "
       ]
      },
      {
       "output_type": "stream",
       "stream": "stdout",
       "text": [
        " 4\n",
        "sweep = "
       ]
      },
      {
       "output_type": "stream",
       "stream": "stdout",
       "text": [
        " 4\n",
        "sweep = "
       ]
      },
      {
       "output_type": "stream",
       "stream": "stdout",
       "text": [
        " 4\n",
        "sweep = "
       ]
      },
      {
       "output_type": "stream",
       "stream": "stdout",
       "text": [
        " 4\n",
        "sweep = "
       ]
      },
      {
       "output_type": "stream",
       "stream": "stdout",
       "text": [
        " 4\n",
        "sweep = "
       ]
      },
      {
       "output_type": "stream",
       "stream": "stdout",
       "text": [
        " 4\n",
        "sweep = "
       ]
      },
      {
       "output_type": "stream",
       "stream": "stdout",
       "text": [
        " 4\n",
        "sweep = "
       ]
      },
      {
       "output_type": "stream",
       "stream": "stdout",
       "text": [
        " 4\n",
        "sweep = "
       ]
      },
      {
       "output_type": "stream",
       "stream": "stdout",
       "text": [
        " 4\n",
        "sweep = "
       ]
      },
      {
       "output_type": "stream",
       "stream": "stdout",
       "text": [
        " 4\n",
        "sweep = "
       ]
      },
      {
       "output_type": "stream",
       "stream": "stdout",
       "text": [
        " 4\n",
        "sweep = "
       ]
      },
      {
       "output_type": "stream",
       "stream": "stdout",
       "text": [
        " 4\n",
        "sweep = "
       ]
      },
      {
       "output_type": "stream",
       "stream": "stdout",
       "text": [
        " 4\n",
        "sweep = "
       ]
      },
      {
       "output_type": "stream",
       "stream": "stdout",
       "text": [
        " 4\n",
        "sweep = "
       ]
      },
      {
       "output_type": "stream",
       "stream": "stdout",
       "text": [
        " 4\n",
        "sweep = "
       ]
      },
      {
       "output_type": "stream",
       "stream": "stdout",
       "text": [
        " 4\n",
        "sweep = "
       ]
      },
      {
       "output_type": "stream",
       "stream": "stdout",
       "text": [
        " 4\n",
        "sweep = "
       ]
      },
      {
       "output_type": "stream",
       "stream": "stdout",
       "text": [
        " 4\n",
        "sweep = "
       ]
      },
      {
       "output_type": "stream",
       "stream": "stdout",
       "text": [
        " 4\n",
        "sweep = "
       ]
      },
      {
       "output_type": "stream",
       "stream": "stdout",
       "text": [
        " 4\n",
        "sweep = "
       ]
      },
      {
       "output_type": "stream",
       "stream": "stdout",
       "text": [
        " 4\n",
        "sweep = "
       ]
      },
      {
       "output_type": "stream",
       "stream": "stdout",
       "text": [
        " 4\n",
        "sweep = "
       ]
      },
      {
       "output_type": "stream",
       "stream": "stdout",
       "text": [
        " 4\n",
        "sweep = "
       ]
      },
      {
       "output_type": "stream",
       "stream": "stdout",
       "text": [
        " 4\n",
        "sweep = "
       ]
      },
      {
       "output_type": "stream",
       "stream": "stdout",
       "text": [
        " 4\n",
        "sweep = "
       ]
      },
      {
       "output_type": "stream",
       "stream": "stdout",
       "text": [
        " 4\n",
        "sweep = "
       ]
      },
      {
       "output_type": "stream",
       "stream": "stdout",
       "text": [
        " 4\n",
        "sweep = "
       ]
      },
      {
       "output_type": "stream",
       "stream": "stdout",
       "text": [
        " 4\n",
        "sweep = "
       ]
      },
      {
       "output_type": "stream",
       "stream": "stdout",
       "text": [
        " 4\n",
        "sweep = "
       ]
      },
      {
       "output_type": "stream",
       "stream": "stdout",
       "text": [
        " 4\n",
        "sweep = "
       ]
      },
      {
       "output_type": "stream",
       "stream": "stdout",
       "text": [
        " 4\n",
        "sweep = "
       ]
      },
      {
       "output_type": "stream",
       "stream": "stdout",
       "text": [
        " 4\n",
        "sweep = "
       ]
      },
      {
       "output_type": "stream",
       "stream": "stdout",
       "text": [
        " 3\n",
        "sweep = "
       ]
      },
      {
       "output_type": "stream",
       "stream": "stdout",
       "text": [
        " 3\n",
        "sweep = "
       ]
      },
      {
       "output_type": "stream",
       "stream": "stdout",
       "text": [
        " 3\n",
        "sweep = "
       ]
      },
      {
       "output_type": "stream",
       "stream": "stdout",
       "text": [
        " 3\n",
        "sweep = "
       ]
      },
      {
       "output_type": "stream",
       "stream": "stdout",
       "text": [
        " 3\n",
        "sweep = "
       ]
      },
      {
       "output_type": "stream",
       "stream": "stdout",
       "text": [
        " 3\n",
        "sweep = "
       ]
      },
      {
       "output_type": "stream",
       "stream": "stdout",
       "text": [
        " 3\n",
        "sweep = "
       ]
      },
      {
       "output_type": "stream",
       "stream": "stdout",
       "text": [
        " 3\n",
        "sweep = "
       ]
      },
      {
       "output_type": "stream",
       "stream": "stdout",
       "text": [
        " 3\n",
        "sweep = "
       ]
      },
      {
       "output_type": "stream",
       "stream": "stdout",
       "text": [
        " 3\n",
        "sweep = "
       ]
      },
      {
       "output_type": "stream",
       "stream": "stdout",
       "text": [
        " 3\n",
        "sweep = "
       ]
      },
      {
       "output_type": "stream",
       "stream": "stdout",
       "text": [
        " 3\n",
        "sweep = "
       ]
      },
      {
       "output_type": "stream",
       "stream": "stdout",
       "text": [
        " 3\n",
        "sweep = "
       ]
      },
      {
       "output_type": "stream",
       "stream": "stdout",
       "text": [
        " 3\n",
        "sweep = "
       ]
      },
      {
       "output_type": "stream",
       "stream": "stdout",
       "text": [
        " 3\n",
        "sweep = "
       ]
      },
      {
       "output_type": "stream",
       "stream": "stdout",
       "text": [
        " 3\n",
        "sweep = "
       ]
      },
      {
       "output_type": "stream",
       "stream": "stdout",
       "text": [
        " 3\n",
        "sweep = "
       ]
      },
      {
       "output_type": "stream",
       "stream": "stdout",
       "text": [
        " 3\n",
        "sweep = "
       ]
      },
      {
       "output_type": "stream",
       "stream": "stdout",
       "text": [
        " 3\n",
        "sweep = "
       ]
      },
      {
       "output_type": "stream",
       "stream": "stdout",
       "text": [
        " 3\n",
        "sweep = "
       ]
      },
      {
       "output_type": "stream",
       "stream": "stdout",
       "text": [
        " 3\n",
        "sweep = "
       ]
      },
      {
       "output_type": "stream",
       "stream": "stdout",
       "text": [
        " 3\n",
        "sweep = "
       ]
      },
      {
       "output_type": "stream",
       "stream": "stdout",
       "text": [
        " 3\n",
        "sweep = "
       ]
      },
      {
       "output_type": "stream",
       "stream": "stdout",
       "text": [
        " 3\n",
        "sweep = "
       ]
      },
      {
       "output_type": "stream",
       "stream": "stdout",
       "text": [
        " 3\n",
        "sweep = "
       ]
      },
      {
       "output_type": "stream",
       "stream": "stdout",
       "text": [
        " 3\n",
        "sweep = "
       ]
      },
      {
       "output_type": "stream",
       "stream": "stdout",
       "text": [
        " 3\n",
        "sweep = "
       ]
      },
      {
       "output_type": "stream",
       "stream": "stdout",
       "text": [
        " 3\n",
        "sweep = "
       ]
      },
      {
       "output_type": "stream",
       "stream": "stdout",
       "text": [
        " 3\n",
        "sweep = "
       ]
      },
      {
       "output_type": "stream",
       "stream": "stdout",
       "text": [
        " 3\n",
        "sweep = "
       ]
      },
      {
       "output_type": "stream",
       "stream": "stdout",
       "text": [
        " 3\n",
        "sweep = "
       ]
      },
      {
       "output_type": "stream",
       "stream": "stdout",
       "text": [
        " 3\n",
        "sweep = "
       ]
      },
      {
       "output_type": "stream",
       "stream": "stdout",
       "text": [
        " 3\n",
        "sweep = "
       ]
      },
      {
       "output_type": "stream",
       "stream": "stdout",
       "text": [
        " 3\n",
        "sweep = "
       ]
      },
      {
       "output_type": "stream",
       "stream": "stdout",
       "text": [
        " 3\n",
        "Mon Jun  3 10:59:32 2013    data/coupled100.stats"
       ]
      },
      {
       "output_type": "stream",
       "stream": "stdout",
       "text": [
        "\n",
        "\n",
        "         7219314 function calls (6831400 primitive calls) in 13.920 CPU seconds\n",
        "\n",
        "   Ordered by: cumulative time\n",
        "   List reduced from 504 to 20 due to restriction <20>\n",
        "\n",
        "   ncalls  tottime  percall  cumtime  percall filename:lineno(function)\n",
        "        1    0.000    0.000   13.920   13.920 <string>:1(<module>)\n",
        "        1    0.006    0.006   13.920   13.920 <ipython-input-32-47cb11d290d6>:1(Coupled)\n",
        "      746    0.005    0.000   13.510    0.018 /users/ddm1/fipy/fipy/terms/term.py:213(sweep)\n",
        "      748    0.013    0.000   13.444    0.018 /users/ddm1/fipy/fipy/terms/term.py:148(_prepareLinearSystem)\n",
        " 1501/751    0.042    0.000   13.327    0.018 /users/ddm1/fipy/fipy/terms/binaryTerm.py:50(_buildAndAddMatrices)\n",
        "     2252    0.005    0.000   13.224    0.006 /users/ddm1/fipy/fipy/terms/unaryTerm.py:75(_buildAndAddMatrices)\n",
        "     1495    0.017    0.000    9.183    0.006 /users/ddm1/fipy/fipy/terms/cellTerm.py:152(_buildMatrix)\n",
        "     1495    0.103    0.000    9.105    0.006 /users/ddm1/fipy/fipy/terms/cellTerm.py:145(_buildMatrixNoInline_)\n",
        "160216/58477    0.721    0.000    8.933    0.000 /users/ddm1/fipy/fipy/variables/variable.py:522(_getValue)\n",
        "54871/10839    0.184    0.000    7.883    0.001 /users/ddm1/fipy/fipy/variables/operatorVariable.py:71(_calcValue)\n",
        "29132/8739    0.231    0.000    7.056    0.001 /users/ddm1/fipy/fipy/variables/binaryOperatorVariable.py:72(_calcValue_)\n",
        "25739/7907    0.071    0.000    6.955    0.001 /users/ddm1/fipy/fipy/variables/unaryOperatorVariable.py:39(_calcValue_)\n",
        "     2635    0.007    0.000    5.723    0.002 /users/ddm1/fipy/fipy/variables/addOverFacesVariable.py:49(_calcValue)\n",
        "     2635    0.073    0.000    5.715    0.002 /users/ddm1/fipy/fipy/variables/addOverFacesVariable.py:91(_calcValueNoInline)\n",
        "16524/4923    0.089    0.000    5.515    0.001 /users/ddm1/fipy/fipy/tools/numerix.py:590(take)\n",
        "6386/3406    0.017    0.000    5.382    0.002 /users/ddm1/fipy/fipy/variables/variable.py:1578(take)\n",
        "     8239    0.017    0.000    4.661    0.001 /users/ddm1/fipy/fipy/variables/variable.py:1514(ravel)\n",
        "10584/5368    0.023    0.000    4.259    0.001 /users/ddm1/fipy/fipy/variables/variable.py:166(__array__)\n",
        "    95794    0.363    0.000    4.179    0.000 /usr/lib/pymodules/python2.6/numpy/ma/core.py:5476(array)\n",
        "    74315    0.115    0.000    4.093    0.000 /users/ddm1/fipy/fipy/variables/variable.py:665(_setValueInternal)\n",
        "\n",
        "\n"
       ]
      },
      {
       "output_type": "pyout",
       "prompt_number": 39,
       "text": [
        "<pstats.Stats instance at 0x3997488>"
       ]
      }
     ],
     "prompt_number": 39
    },
    {
     "cell_type": "code",
     "collapsed": false,
     "input": [
      "getP(nx=10000, regenerate=True).sort_stats(\"cumulative\").print_stats(20)  "
     ],
     "language": "python",
     "metadata": {},
     "outputs": [
      {
       "output_type": "stream",
       "stream": "stdout",
       "text": [
        "sweep =  41\n",
        "sweep = "
       ]
      },
      {
       "output_type": "stream",
       "stream": "stdout",
       "text": [
        " 1\n",
        "sweep = "
       ]
      },
      {
       "output_type": "stream",
       "stream": "stdout",
       "text": [
        " 1\n",
        "sweep = "
       ]
      },
      {
       "output_type": "stream",
       "stream": "stdout",
       "text": [
        " 1\n",
        "sweep = "
       ]
      },
      {
       "output_type": "stream",
       "stream": "stdout",
       "text": [
        " 1\n",
        "sweep = "
       ]
      },
      {
       "output_type": "stream",
       "stream": "stdout",
       "text": [
        " 1\n",
        "sweep = "
       ]
      },
      {
       "output_type": "stream",
       "stream": "stdout",
       "text": [
        " 1\n",
        "sweep = "
       ]
      },
      {
       "output_type": "stream",
       "stream": "stdout",
       "text": [
        " 1\n",
        "sweep = "
       ]
      },
      {
       "output_type": "stream",
       "stream": "stdout",
       "text": [
        " 1\n",
        "sweep = "
       ]
      },
      {
       "output_type": "stream",
       "stream": "stdout",
       "text": [
        " 1\n",
        "sweep = "
       ]
      },
      {
       "output_type": "stream",
       "stream": "stdout",
       "text": [
        " 1\n",
        "sweep = "
       ]
      },
      {
       "output_type": "stream",
       "stream": "stdout",
       "text": [
        " 1\n",
        "sweep = "
       ]
      },
      {
       "output_type": "stream",
       "stream": "stdout",
       "text": [
        " 1\n",
        "sweep = "
       ]
      },
      {
       "output_type": "stream",
       "stream": "stdout",
       "text": [
        " 1\n",
        "sweep = "
       ]
      },
      {
       "output_type": "stream",
       "stream": "stdout",
       "text": [
        " 1\n",
        "sweep = "
       ]
      },
      {
       "output_type": "stream",
       "stream": "stdout",
       "text": [
        " 1\n",
        "sweep = "
       ]
      },
      {
       "output_type": "stream",
       "stream": "stdout",
       "text": [
        " 1\n",
        "sweep = "
       ]
      },
      {
       "output_type": "stream",
       "stream": "stdout",
       "text": [
        " 1\n",
        "sweep = "
       ]
      },
      {
       "output_type": "stream",
       "stream": "stdout",
       "text": [
        " 1\n",
        "sweep = "
       ]
      },
      {
       "output_type": "stream",
       "stream": "stdout",
       "text": [
        " 1\n",
        "sweep = "
       ]
      },
      {
       "output_type": "stream",
       "stream": "stdout",
       "text": [
        " 1\n",
        "sweep = "
       ]
      },
      {
       "output_type": "stream",
       "stream": "stdout",
       "text": [
        " 1\n",
        "sweep = "
       ]
      },
      {
       "output_type": "stream",
       "stream": "stdout",
       "text": [
        " 1\n",
        "sweep = "
       ]
      },
      {
       "output_type": "stream",
       "stream": "stdout",
       "text": [
        " 1\n",
        "sweep = "
       ]
      },
      {
       "output_type": "stream",
       "stream": "stdout",
       "text": [
        " 1\n",
        "sweep = "
       ]
      },
      {
       "output_type": "stream",
       "stream": "stdout",
       "text": [
        " 1\n",
        "sweep = "
       ]
      },
      {
       "output_type": "stream",
       "stream": "stdout",
       "text": [
        " 1\n",
        "sweep = "
       ]
      },
      {
       "output_type": "stream",
       "stream": "stdout",
       "text": [
        " 1\n",
        "sweep = "
       ]
      },
      {
       "output_type": "stream",
       "stream": "stdout",
       "text": [
        " 1\n",
        "sweep = "
       ]
      },
      {
       "output_type": "stream",
       "stream": "stdout",
       "text": [
        " 1\n",
        "sweep = "
       ]
      },
      {
       "output_type": "stream",
       "stream": "stdout",
       "text": [
        " 1\n",
        "sweep = "
       ]
      },
      {
       "output_type": "stream",
       "stream": "stdout",
       "text": [
        " 1\n",
        "sweep = "
       ]
      },
      {
       "output_type": "stream",
       "stream": "stdout",
       "text": [
        " 1\n",
        "sweep = "
       ]
      },
      {
       "output_type": "stream",
       "stream": "stdout",
       "text": [
        " 1\n",
        "sweep = "
       ]
      },
      {
       "output_type": "stream",
       "stream": "stdout",
       "text": [
        " 1\n",
        "sweep = "
       ]
      },
      {
       "output_type": "stream",
       "stream": "stdout",
       "text": [
        " 1\n",
        "sweep = "
       ]
      },
      {
       "output_type": "stream",
       "stream": "stdout",
       "text": [
        " 1\n",
        "sweep = "
       ]
      },
      {
       "output_type": "stream",
       "stream": "stdout",
       "text": [
        " 1\n",
        "sweep = "
       ]
      },
      {
       "output_type": "stream",
       "stream": "stdout",
       "text": [
        " 1\n",
        "sweep = "
       ]
      },
      {
       "output_type": "stream",
       "stream": "stdout",
       "text": [
        " 1\n",
        "sweep = "
       ]
      },
      {
       "output_type": "stream",
       "stream": "stdout",
       "text": [
        " 1\n",
        "sweep = "
       ]
      },
      {
       "output_type": "stream",
       "stream": "stdout",
       "text": [
        " 1\n",
        "sweep = "
       ]
      },
      {
       "output_type": "stream",
       "stream": "stdout",
       "text": [
        " 1\n",
        "sweep = "
       ]
      },
      {
       "output_type": "stream",
       "stream": "stdout",
       "text": [
        " 1\n",
        "sweep = "
       ]
      },
      {
       "output_type": "stream",
       "stream": "stdout",
       "text": [
        " 1\n",
        "sweep = "
       ]
      },
      {
       "output_type": "stream",
       "stream": "stdout",
       "text": [
        " 1\n",
        "sweep = "
       ]
      },
      {
       "output_type": "stream",
       "stream": "stdout",
       "text": [
        " 1\n",
        "sweep = "
       ]
      },
      {
       "output_type": "stream",
       "stream": "stdout",
       "text": [
        " 1\n",
        "sweep = "
       ]
      },
      {
       "output_type": "stream",
       "stream": "stdout",
       "text": [
        " 1\n",
        "sweep = "
       ]
      },
      {
       "output_type": "stream",
       "stream": "stdout",
       "text": [
        " 1\n",
        "sweep = "
       ]
      },
      {
       "output_type": "stream",
       "stream": "stdout",
       "text": [
        " 1\n",
        "sweep = "
       ]
      },
      {
       "output_type": "stream",
       "stream": "stdout",
       "text": [
        " 1\n",
        "sweep = "
       ]
      },
      {
       "output_type": "stream",
       "stream": "stdout",
       "text": [
        " 1\n",
        "sweep = "
       ]
      },
      {
       "output_type": "stream",
       "stream": "stdout",
       "text": [
        " 1\n",
        "sweep = "
       ]
      },
      {
       "output_type": "stream",
       "stream": "stdout",
       "text": [
        " 1\n",
        "sweep = "
       ]
      },
      {
       "output_type": "stream",
       "stream": "stdout",
       "text": [
        " 1\n",
        "sweep = "
       ]
      },
      {
       "output_type": "stream",
       "stream": "stdout",
       "text": [
        " 1\n",
        "sweep = "
       ]
      },
      {
       "output_type": "stream",
       "stream": "stdout",
       "text": [
        " 1\n",
        "sweep = "
       ]
      },
      {
       "output_type": "stream",
       "stream": "stdout",
       "text": [
        " 1\n",
        "sweep = "
       ]
      },
      {
       "output_type": "stream",
       "stream": "stdout",
       "text": [
        " 1\n",
        "sweep = "
       ]
      },
      {
       "output_type": "stream",
       "stream": "stdout",
       "text": [
        " 1\n",
        "sweep = "
       ]
      },
      {
       "output_type": "stream",
       "stream": "stdout",
       "text": [
        " 1\n",
        "sweep = "
       ]
      },
      {
       "output_type": "stream",
       "stream": "stdout",
       "text": [
        " 1\n",
        "sweep = "
       ]
      },
      {
       "output_type": "stream",
       "stream": "stdout",
       "text": [
        " 1\n",
        "sweep = "
       ]
      },
      {
       "output_type": "stream",
       "stream": "stdout",
       "text": [
        " 1\n",
        "sweep = "
       ]
      },
      {
       "output_type": "stream",
       "stream": "stdout",
       "text": [
        " 1\n",
        "sweep = "
       ]
      },
      {
       "output_type": "stream",
       "stream": "stdout",
       "text": [
        " 1\n",
        "sweep = "
       ]
      },
      {
       "output_type": "stream",
       "stream": "stdout",
       "text": [
        " 1\n",
        "sweep = "
       ]
      },
      {
       "output_type": "stream",
       "stream": "stdout",
       "text": [
        " 1\n",
        "sweep = "
       ]
      },
      {
       "output_type": "stream",
       "stream": "stdout",
       "text": [
        " 1\n",
        "sweep = "
       ]
      },
      {
       "output_type": "stream",
       "stream": "stdout",
       "text": [
        " 1\n",
        "sweep = "
       ]
      },
      {
       "output_type": "stream",
       "stream": "stdout",
       "text": [
        " 1\n",
        "sweep = "
       ]
      },
      {
       "output_type": "stream",
       "stream": "stdout",
       "text": [
        " 1\n",
        "sweep = "
       ]
      },
      {
       "output_type": "stream",
       "stream": "stdout",
       "text": [
        " 1\n",
        "sweep = "
       ]
      },
      {
       "output_type": "stream",
       "stream": "stdout",
       "text": [
        " 1\n",
        "sweep = "
       ]
      },
      {
       "output_type": "stream",
       "stream": "stdout",
       "text": [
        " 1\n",
        "sweep = "
       ]
      },
      {
       "output_type": "stream",
       "stream": "stdout",
       "text": [
        " 1\n",
        "sweep = "
       ]
      },
      {
       "output_type": "stream",
       "stream": "stdout",
       "text": [
        " 1\n",
        "sweep = "
       ]
      },
      {
       "output_type": "stream",
       "stream": "stdout",
       "text": [
        " 1\n",
        "sweep = "
       ]
      },
      {
       "output_type": "stream",
       "stream": "stdout",
       "text": [
        " 1\n",
        "sweep = "
       ]
      },
      {
       "output_type": "stream",
       "stream": "stdout",
       "text": [
        " 1\n",
        "sweep = "
       ]
      },
      {
       "output_type": "stream",
       "stream": "stdout",
       "text": [
        " 1\n",
        "sweep = "
       ]
      },
      {
       "output_type": "stream",
       "stream": "stdout",
       "text": [
        " 1\n",
        "sweep = "
       ]
      },
      {
       "output_type": "stream",
       "stream": "stdout",
       "text": [
        " 1\n",
        "sweep = "
       ]
      },
      {
       "output_type": "stream",
       "stream": "stdout",
       "text": [
        " 1\n",
        "sweep = "
       ]
      },
      {
       "output_type": "stream",
       "stream": "stdout",
       "text": [
        " 1\n",
        "sweep = "
       ]
      },
      {
       "output_type": "stream",
       "stream": "stdout",
       "text": [
        " 1\n",
        "sweep = "
       ]
      },
      {
       "output_type": "stream",
       "stream": "stdout",
       "text": [
        " 1\n",
        "sweep = "
       ]
      },
      {
       "output_type": "stream",
       "stream": "stdout",
       "text": [
        " 1\n",
        "sweep = "
       ]
      },
      {
       "output_type": "stream",
       "stream": "stdout",
       "text": [
        " 1\n",
        "sweep = "
       ]
      },
      {
       "output_type": "stream",
       "stream": "stdout",
       "text": [
        " 1\n",
        "sweep = "
       ]
      },
      {
       "output_type": "stream",
       "stream": "stdout",
       "text": [
        " 1\n",
        "sweep = "
       ]
      },
      {
       "output_type": "stream",
       "stream": "stdout",
       "text": [
        " 1\n",
        "sweep = "
       ]
      },
      {
       "output_type": "stream",
       "stream": "stdout",
       "text": [
        " 1\n",
        "sweep = "
       ]
      },
      {
       "output_type": "stream",
       "stream": "stdout",
       "text": [
        " 1\n",
        "sweep = "
       ]
      },
      {
       "output_type": "stream",
       "stream": "stdout",
       "text": [
        " 1\n",
        "sweep = "
       ]
      },
      {
       "output_type": "stream",
       "stream": "stdout",
       "text": [
        " 1\n",
        "sweep = "
       ]
      },
      {
       "output_type": "stream",
       "stream": "stdout",
       "text": [
        " 1\n",
        "sweep = "
       ]
      },
      {
       "output_type": "stream",
       "stream": "stdout",
       "text": [
        " 1\n",
        "sweep = "
       ]
      },
      {
       "output_type": "stream",
       "stream": "stdout",
       "text": [
        " 1\n",
        "Mon Jun  3 11:00:04 2013    data/coupled10000.stats"
       ]
      },
      {
       "output_type": "stream",
       "stream": "stdout",
       "text": [
        "\n",
        "\n",
        "         2851660 function calls (2702774 primitive calls) in 13.493 CPU seconds\n",
        "\n",
        "   Ordered by: cumulative time\n",
        "   List reduced from 517 to 20 due to restriction <20>\n",
        "\n",
        "   ncalls  tottime  percall  cumtime  percall filename:lineno(function)\n",
        "        1    0.001    0.001   13.493   13.493 <string>:1(<module>)\n",
        "        1    0.004    0.004   13.493   13.493 <ipython-input-32-47cb11d290d6>:1(Coupled)\n",
        "      280    0.003    0.000   12.729    0.045 /users/ddm1/fipy/fipy/terms/term.py:213(sweep)\n",
        "      282    0.007    0.000   11.724    0.042 /users/ddm1/fipy/fipy/terms/term.py:148(_prepareLinearSystem)\n",
        "  569/285    0.039    0.000   11.647    0.041 /users/ddm1/fipy/fipy/terms/binaryTerm.py:50(_buildAndAddMatrices)\n",
        "      854    0.003    0.000   11.186    0.013 /users/ddm1/fipy/fipy/terms/unaryTerm.py:75(_buildAndAddMatrices)\n",
        "62597/23527    0.352    0.000    8.120    0.000 /users/ddm1/fipy/fipy/variables/variable.py:522(_getValue)\n",
        "21134/4361    0.074    0.000    7.575    0.002 /users/ddm1/fipy/fipy/variables/operatorVariable.py:71(_calcValue)\n",
        "11151/3395    0.098    0.000    7.047    0.002 /users/ddm1/fipy/fipy/variables/binaryOperatorVariable.py:72(_calcValue_)\n",
        "9983/3247    0.031    0.000    6.516    0.002 /users/ddm1/fipy/fipy/variables/unaryOperatorVariable.py:39(_calcValue_)\n",
        "     1004    0.004    0.000    6.489    0.006 /users/ddm1/fipy/fipy/variables/addOverFacesVariable.py:49(_calcValue)\n",
        "     1004    0.105    0.000    6.485    0.006 /users/ddm1/fipy/fipy/variables/addOverFacesVariable.py:91(_calcValueNoInline)\n",
        "      563    0.008    0.000    6.475    0.012 /users/ddm1/fipy/fipy/terms/cellTerm.py:152(_buildMatrix)\n",
        "      563    0.085    0.000    6.407    0.011 /users/ddm1/fipy/fipy/terms/cellTerm.py:145(_buildMatrixNoInline_)\n",
        "93881/78508    4.717    0.000    5.357    0.000 {numpy.core.multiarray.array}\n",
        "      285    0.012    0.000    4.708    0.017 /users/ddm1/fipy/fipy/terms/abstractDiffusionTerm.py:281(_buildMatrix)\n",
        "6272/1894    0.037    0.000    4.267    0.002 /users/ddm1/fipy/fipy/tools/numerix.py:590(take)\n",
        "4060/2106    0.009    0.000    4.231    0.002 /users/ddm1/fipy/fipy/variables/variable.py:166(__array__)\n",
        "2425/1309    0.007    0.000    4.201    0.003 /users/ddm1/fipy/fipy/variables/variable.py:1578(take)\n",
        "     3113    0.007    0.000    3.573    0.001 /users/ddm1/fipy/fipy/variables/variable.py:1514(ravel)\n",
        "\n",
        "\n"
       ]
      },
      {
       "output_type": "stream",
       "stream": "stderr",
       "text": [
        "-c:21: StagnatedSolverWarning: The solver stagnated. Iterations: 1. Relative error: nan\n"
       ]
      },
      {
       "output_type": "pyout",
       "prompt_number": 40,
       "text": [
        "<pstats.Stats instance at 0x3ca0560>"
       ]
      }
     ],
     "prompt_number": 40
    },
    {
     "cell_type": "code",
     "collapsed": false,
     "input": [
      "getP(nx=200, regenerate=True).sort_stats(\"cumulative\").print_stats(20)  "
     ],
     "language": "python",
     "metadata": {},
     "outputs": [
      {
       "output_type": "stream",
       "stream": "stdout",
       "text": [
        "sweep =  396\n",
        "sweep =  1\n",
        "sweep = "
       ]
      },
      {
       "output_type": "stream",
       "stream": "stdout",
       "text": [
        " 1\n",
        "sweep =  1\n",
        "sweep = "
       ]
      },
      {
       "output_type": "stream",
       "stream": "stdout",
       "text": [
        " 1\n",
        "sweep =  1\n",
        "sweep = "
       ]
      },
      {
       "output_type": "stream",
       "stream": "stdout",
       "text": [
        " 1\n",
        "sweep =  1\n",
        "sweep = "
       ]
      },
      {
       "output_type": "stream",
       "stream": "stdout",
       "text": [
        " 1\n",
        "sweep =  1\n",
        "sweep = "
       ]
      },
      {
       "output_type": "stream",
       "stream": "stdout",
       "text": [
        " 1\n",
        "sweep =  1\n",
        "sweep = "
       ]
      },
      {
       "output_type": "stream",
       "stream": "stdout",
       "text": [
        " 1\n",
        "sweep =  1\n",
        "sweep = "
       ]
      },
      {
       "output_type": "stream",
       "stream": "stdout",
       "text": [
        " 1\n",
        "sweep =  1\n",
        "sweep = "
       ]
      },
      {
       "output_type": "stream",
       "stream": "stdout",
       "text": [
        " 1\n",
        "sweep =  1\n",
        "sweep = "
       ]
      },
      {
       "output_type": "stream",
       "stream": "stdout",
       "text": [
        " 1\n",
        "sweep =  1\n",
        "sweep = "
       ]
      },
      {
       "output_type": "stream",
       "stream": "stdout",
       "text": [
        " 1\n",
        "sweep =  1\n",
        "sweep = "
       ]
      },
      {
       "output_type": "stream",
       "stream": "stdout",
       "text": [
        " 1\n",
        "sweep =  1\n",
        "sweep = "
       ]
      },
      {
       "output_type": "stream",
       "stream": "stdout",
       "text": [
        " 1\n",
        "sweep =  1\n",
        "sweep = "
       ]
      },
      {
       "output_type": "stream",
       "stream": "stdout",
       "text": [
        " 1\n",
        "sweep =  1\n",
        "sweep = "
       ]
      },
      {
       "output_type": "stream",
       "stream": "stdout",
       "text": [
        " 1\n",
        "sweep =  1\n",
        "sweep = "
       ]
      },
      {
       "output_type": "stream",
       "stream": "stdout",
       "text": [
        " 1\n",
        "sweep =  1\n",
        "sweep = "
       ]
      },
      {
       "output_type": "stream",
       "stream": "stdout",
       "text": [
        " 1\n",
        "sweep =  1\n",
        "sweep = "
       ]
      },
      {
       "output_type": "stream",
       "stream": "stdout",
       "text": [
        " 1\n",
        "sweep =  1\n",
        "sweep = "
       ]
      },
      {
       "output_type": "stream",
       "stream": "stdout",
       "text": [
        " 1\n",
        "sweep =  1\n",
        "sweep = "
       ]
      },
      {
       "output_type": "stream",
       "stream": "stdout",
       "text": [
        " 1\n",
        "sweep =  1\n",
        "sweep = "
       ]
      },
      {
       "output_type": "stream",
       "stream": "stdout",
       "text": [
        " 1\n",
        "sweep =  1\n",
        "sweep = "
       ]
      },
      {
       "output_type": "stream",
       "stream": "stdout",
       "text": [
        " 1\n",
        "sweep =  1\n",
        "sweep = "
       ]
      },
      {
       "output_type": "stream",
       "stream": "stdout",
       "text": [
        " 1\n",
        "sweep =  1\n",
        "sweep = "
       ]
      },
      {
       "output_type": "stream",
       "stream": "stdout",
       "text": [
        " 1\n",
        "sweep =  1\n",
        "sweep = "
       ]
      },
      {
       "output_type": "stream",
       "stream": "stdout",
       "text": [
        " 1\n",
        "sweep =  1\n",
        "sweep = "
       ]
      },
      {
       "output_type": "stream",
       "stream": "stdout",
       "text": [
        " 1\n",
        "sweep =  1\n",
        "sweep = "
       ]
      },
      {
       "output_type": "stream",
       "stream": "stdout",
       "text": [
        " 1\n",
        "sweep =  1\n",
        "sweep = "
       ]
      },
      {
       "output_type": "stream",
       "stream": "stdout",
       "text": [
        " 1\n",
        "sweep =  1\n",
        "sweep = "
       ]
      },
      {
       "output_type": "stream",
       "stream": "stdout",
       "text": [
        " 1\n",
        "sweep =  1\n",
        "sweep = "
       ]
      },
      {
       "output_type": "stream",
       "stream": "stdout",
       "text": [
        " 1\n",
        "sweep =  1\n",
        "sweep = "
       ]
      },
      {
       "output_type": "stream",
       "stream": "stdout",
       "text": [
        " 1\n",
        "sweep =  1\n",
        "sweep = "
       ]
      },
      {
       "output_type": "stream",
       "stream": "stdout",
       "text": [
        " 1\n",
        "sweep =  1\n",
        "sweep = "
       ]
      },
      {
       "output_type": "stream",
       "stream": "stdout",
       "text": [
        " 1\n",
        "sweep =  1\n",
        "sweep = "
       ]
      },
      {
       "output_type": "stream",
       "stream": "stdout",
       "text": [
        " 1\n",
        "sweep =  1\n",
        "sweep = "
       ]
      },
      {
       "output_type": "stream",
       "stream": "stdout",
       "text": [
        " 1\n",
        "sweep =  1\n",
        "sweep = "
       ]
      },
      {
       "output_type": "stream",
       "stream": "stdout",
       "text": [
        " 1\n",
        "sweep =  1\n",
        "sweep = "
       ]
      },
      {
       "output_type": "stream",
       "stream": "stdout",
       "text": [
        " 1\n",
        "sweep =  1\n",
        "sweep = "
       ]
      },
      {
       "output_type": "stream",
       "stream": "stdout",
       "text": [
        " 1\n",
        "sweep =  1\n",
        "sweep = "
       ]
      },
      {
       "output_type": "stream",
       "stream": "stdout",
       "text": [
        " 1\n",
        "sweep =  1\n",
        "sweep = "
       ]
      },
      {
       "output_type": "stream",
       "stream": "stdout",
       "text": [
        " 1\n",
        "sweep = "
       ]
      },
      {
       "output_type": "stream",
       "stream": "stdout",
       "text": [
        " 1\n",
        "sweep =  1\n",
        "sweep = "
       ]
      },
      {
       "output_type": "stream",
       "stream": "stdout",
       "text": [
        " 1\n",
        "sweep =  1\n",
        "sweep = "
       ]
      },
      {
       "output_type": "stream",
       "stream": "stdout",
       "text": [
        " 1\n",
        "sweep =  1\n",
        "sweep = "
       ]
      },
      {
       "output_type": "stream",
       "stream": "stdout",
       "text": [
        " 1\n",
        "sweep =  1\n",
        "sweep = "
       ]
      },
      {
       "output_type": "stream",
       "stream": "stdout",
       "text": [
        " 1\n",
        "sweep =  1\n",
        "sweep = "
       ]
      },
      {
       "output_type": "stream",
       "stream": "stdout",
       "text": [
        " 1\n",
        "sweep =  1\n",
        "sweep = "
       ]
      },
      {
       "output_type": "stream",
       "stream": "stdout",
       "text": [
        " 1\n",
        "sweep =  1\n",
        "sweep = "
       ]
      },
      {
       "output_type": "stream",
       "stream": "stdout",
       "text": [
        " 1\n",
        "sweep =  1\n",
        "sweep = "
       ]
      },
      {
       "output_type": "stream",
       "stream": "stdout",
       "text": [
        " 1\n",
        "sweep =  1\n",
        "sweep = "
       ]
      },
      {
       "output_type": "stream",
       "stream": "stdout",
       "text": [
        " 1\n",
        "sweep =  1\n",
        "sweep = "
       ]
      },
      {
       "output_type": "stream",
       "stream": "stdout",
       "text": [
        " 1\n",
        "Mon Jun  3 11:00:37 2013    data/coupled200.stats"
       ]
      },
      {
       "output_type": "stream",
       "stream": "stdout",
       "text": [
        "\n",
        "\n",
        "         9481386 function calls (8970396 primitive calls) in 18.455 CPU seconds\n",
        "\n",
        "   Ordered by: cumulative time\n",
        "   List reduced from 507 to 20 due to restriction <20>\n",
        "\n",
        "   ncalls  tottime  percall  cumtime  percall filename:lineno(function)\n",
        "        1    0.000    0.000   18.455   18.455 <string>:1(<module>)\n",
        "        1    0.007    0.007   18.455   18.455 <ipython-input-32-47cb11d290d6>:1(Coupled)\n",
        "      990    0.007    0.000   18.070    0.018 /users/ddm1/fipy/fipy/terms/term.py:213(sweep)\n",
        "      992    0.018    0.000   17.904    0.018 /users/ddm1/fipy/fipy/terms/term.py:148(_prepareLinearSystem)\n",
        " 1989/995    0.056    0.000   17.758    0.018 /users/ddm1/fipy/fipy/terms/binaryTerm.py:50(_buildAndAddMatrices)\n",
        "     2984    0.007    0.000   17.606    0.006 /users/ddm1/fipy/fipy/terms/unaryTerm.py:75(_buildAndAddMatrices)\n",
        "     1983    0.022    0.000   12.214    0.006 /users/ddm1/fipy/fipy/terms/cellTerm.py:152(_buildMatrix)\n",
        "     1983    0.138    0.000   12.115    0.006 /users/ddm1/fipy/fipy/terms/cellTerm.py:145(_buildMatrixNoInline_)\n",
        "210889/76777    0.940    0.000   11.904    0.000 /users/ddm1/fipy/fipy/variables/variable.py:522(_getValue)\n",
        "72243/14069    0.241    0.000   10.560    0.001 /users/ddm1/fipy/fipy/variables/operatorVariable.py:71(_calcValue)\n",
        "38399/11682    0.299    0.000    9.411    0.001 /users/ddm1/fipy/fipy/variables/binaryOperatorVariable.py:72(_calcValue_)\n",
        "33844/10347    0.090    0.000    9.331    0.001 /users/ddm1/fipy/fipy/variables/unaryOperatorVariable.py:39(_calcValue_)\n",
        "     3489    0.010    0.000    7.698    0.002 /users/ddm1/fipy/fipy/variables/addOverFacesVariable.py:49(_calcValue)\n",
        "     3489    0.100    0.000    7.688    0.002 /users/ddm1/fipy/fipy/variables/addOverFacesVariable.py:91(_calcValueNoInline)\n",
        "21892/6509    0.117    0.000    7.343    0.001 /users/ddm1/fipy/fipy/tools/numerix.py:590(take)\n",
        "8460/4504    0.023    0.000    7.169    0.002 /users/ddm1/fipy/fipy/variables/variable.py:1578(take)\n",
        "    10923    0.023    0.000    6.250    0.001 /users/ddm1/fipy/fipy/variables/variable.py:1514(ravel)\n",
        "14000/7076    0.031    0.000    5.657    0.001 /users/ddm1/fipy/fipy/variables/variable.py:166(__array__)\n",
        "   126098    0.482    0.000    5.435    0.000 /usr/lib/pymodules/python2.6/numpy/ma/core.py:5476(array)\n",
        "      995    0.023    0.000    5.384    0.005 /users/ddm1/fipy/fipy/terms/abstractDiffusionTerm.py:281(_buildMatrix)\n",
        "\n",
        "\n"
       ]
      },
      {
       "output_type": "pyout",
       "prompt_number": 41,
       "text": [
        "<pstats.Stats instance at 0x3b44248>"
       ]
      }
     ],
     "prompt_number": 41
    },
    {
     "cell_type": "code",
     "collapsed": false,
     "input": [],
     "language": "python",
     "metadata": {},
     "outputs": []
    }
   ],
   "metadata": {}
  }
 ]
}