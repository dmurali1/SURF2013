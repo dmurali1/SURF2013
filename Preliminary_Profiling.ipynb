{
 "metadata": {
  "name": "Preliminary_Profiling"
 },
 "nbformat": 3,
 "nbformat_minor": 0,
 "worksheets": [
  {
   "cells": [
    {
     "cell_type": "markdown",
     "metadata": {},
     "source": [
      "Initial fiPy code for a coupled diffusion problem"
     ]
    },
    {
     "cell_type": "code",
     "collapsed": false,
     "input": [
      "from fipy import Grid1D, CellVariable, TransientTerm, DiffusionTerm, Viewer\n",
      "import cProfile\n",
      "import pstats "
     ],
     "language": "python",
     "metadata": {},
     "outputs": [],
     "prompt_number": 1
    },
    {
     "cell_type": "code",
     "collapsed": false,
     "input": [
      "def Coupled(nx=100):\n",
      "\n",
      "    m = Grid1D(nx=nx, Lx=1.)\n",
      "\n",
      "           \n",
      "    v = CellVariable(mesh=m, hasOld=True, value=[[0.5], [0.5]], elementshape=(2,))\n",
      "                    \n",
      "    v.constrain([[0], [1]], m.facesLeft)\n",
      "    v.constrain([[1], [0]], m.facesRight)\n",
      "                    \n",
      "    eqn = TransientTerm([[1,0], [0,1]]) == DiffusionTerm([[[0.01, -1], [1, 0.01]]])\n",
      "                    \n",
      "    for t in range(10):\n",
      "        v.updateOld()\n",
      "        eqn.solve(var=v, dt=1.e-3)\n",
      "       \n"
     ],
     "language": "python",
     "metadata": {},
     "outputs": [],
     "prompt_number": 2
    },
    {
     "cell_type": "markdown",
     "metadata": {},
     "source": [
      "Runs python profiler and prints first 20 lines of output "
     ]
    },
    {
     "cell_type": "code",
     "collapsed": false,
     "input": [
      "def getProfileStats(importFile, nx=100, regenerate=False):\n",
      "    import os \n",
      "    filename = \"data/coupled{nx}.stats\".format(nx=nx)\n",
      "    if not os.path.exists(filename) or regenerate:\n",
      "        cProfile.run('importFile(nx={nx})'.format(nx=nx), filename=filename)\n",
      "    return pstats.Stats(filename)\n",
      "              "
     ],
     "language": "python",
     "metadata": {},
     "outputs": [],
     "prompt_number": 143
    },
    {
     "cell_type": "code",
     "collapsed": false,
     "input": [
      "def getKey(statsDict, fcnName):\n",
      "    for k in statsDict.keys():\n",
      "        if fcnName in k[2]:\n",
      "            return k\n",
      "    "
     ],
     "language": "python",
     "metadata": {},
     "outputs": [],
     "prompt_number": 144
    },
    {
     "cell_type": "code",
     "collapsed": false,
     "input": [
      "def getFcnStats(importFile, nx=100, fcnName=None, regenerate=False):\n",
      "    a  = getProfileStats(importFile, nx, regenerate=regenerate)\n",
      "    if fcnName:\n",
      "        return a.stats[getKey(a.stats, fcnName)][3]\n",
      "    else:\n",
      "        a = a.sort_stats(\"cumulative\")\n",
      "        return a.stats[a.fcn_list[0]][3]\n"
     ],
     "language": "python",
     "metadata": {},
     "outputs": [],
     "prompt_number": 145
    },
    {
     "cell_type": "code",
     "collapsed": false,
     "input": [
      "def plotStats(importFile, fcnName=None):\n",
      "    import matplotlib.pyplot as plt\n",
      "    import numpy as np\n",
      "\n",
      "    step = 0\n",
      "    while step < 1:\n",
      "       nxs = np.array(logspace(1, 3, 100), dtype=int)\n",
      "       allTimes = []\n",
      "       times = []\n",
      "       for nx in nxs:\n",
      "            allTimes.append(getFcnStats(importFile, nx=nx))\n",
      "            if fcnName:\n",
      "                times.append(getFcnStats(importFile, nx=nx, fcnName=fcnName))\n",
      "       step += 1\n",
      "    \n",
      "       p1 = plt.loglog(nxs, allTimes)\n",
      "       p2 = plt.loglog(nxs, times)\n",
      "       plt.xlabel(\"nx values\")\n",
      "       plt.ylabel(\"time\")\n",
      "       plt.legend( (p1[0], p2[0]), ('Full Profile', fcnName) )\n",
      "       plt.show()"
     ],
     "language": "python",
     "metadata": {},
     "outputs": [],
     "prompt_number": 148
    },
    {
     "cell_type": "code",
     "collapsed": false,
     "input": [
      "plotStats(\"_prepareLinearSystem\")"
     ],
     "language": "python",
     "metadata": {},
     "outputs": [
      {
       "output_type": "display_data",
       "png": "[encoded data removed]"
      }
     ],
     "prompt_number": 133
    },
    {
     "cell_type": "code",
     "collapsed": false,
     "input": [
      "plotStats(\"_solve\")"
     ],
     "language": "python",
     "metadata": {},
     "outputs": [
      {
       "output_type": "display_data",
       "png": "[encoded data removed]"
      }
     ],
     "prompt_number": 134
    },
    {
     "cell_type": "code",
     "collapsed": false,
     "input": [
      "for x in range(len(times)):\n",
      "    if times[x] > 18:\n",
      "        print times[x]\n",
      "        print nxs[x]\n",
      "\n"
     ],
     "language": "python",
     "metadata": {},
     "outputs": [
      {
       "output_type": "stream",
       "stream": "stdout",
       "text": [
        "18.236611\n",
        "200\n"
       ]
      }
     ],
     "prompt_number": 27
    },
    {
     "cell_type": "code",
     "collapsed": false,
     "input": [
      "getP(nx=100, regenerate=True).sort_stats(\"cumulative\").print_stats(20)  2**np.arange(4)"
     ],
     "language": "python",
     "metadata": {},
     "outputs": [
      {
       "output_type": "stream",
       "stream": "stdout",
       "text": [
        "sweep =  5\n",
        "sweep = "
       ]
      },
      {
       "output_type": "stream",
       "stream": "stdout",
       "text": [
        " 5\n",
        "sweep = "
       ]
      },
      {
       "output_type": "stream",
       "stream": "stdout",
       "text": [
        " 5\n",
        "sweep = "
       ]
      },
      {
       "output_type": "stream",
       "stream": "stdout",
       "text": [
        " 4\n",
        "sweep = "
       ]
      },
      {
       "output_type": "stream",
       "stream": "stdout",
       "text": [
        " 4\n",
        "sweep = "
       ]
      },
      {
       "output_type": "stream",
       "stream": "stdout",
       "text": [
        " 4\n",
        "sweep = "
       ]
      },
      {
       "output_type": "stream",
       "stream": "stdout",
       "text": [
        " 5\n",
        "sweep = "
       ]
      },
      {
       "output_type": "stream",
       "stream": "stdout",
       "text": [
        " 5\n",
        "sweep = "
       ]
      },
      {
       "output_type": "stream",
       "stream": "stdout",
       "text": [
        " 5\n",
        "sweep = "
       ]
      },
      {
       "output_type": "stream",
       "stream": "stdout",
       "text": [
        " 5\n",
        "sweep = "
       ]
      },
      {
       "output_type": "stream",
       "stream": "stdout",
       "text": [
        " 5\n",
        "sweep = "
       ]
      },
      {
       "output_type": "stream",
       "stream": "stdout",
       "text": [
        " 4\n",
        "sweep = "
       ]
      },
      {
       "output_type": "stream",
       "stream": "stdout",
       "text": [
        " 4\n",
        "sweep = "
       ]
      },
      {
       "output_type": "stream",
       "stream": "stdout",
       "text": [
        " 4\n",
        "sweep = "
       ]
      },
      {
       "output_type": "stream",
       "stream": "stdout",
       "text": [
        " 4\n",
        "sweep = "
       ]
      },
      {
       "output_type": "stream",
       "stream": "stdout",
       "text": [
        " 4\n",
        "sweep = "
       ]
      },
      {
       "output_type": "stream",
       "stream": "stdout",
       "text": [
        " 4\n",
        "sweep = "
       ]
      },
      {
       "output_type": "stream",
       "stream": "stdout",
       "text": [
        " 4\n",
        "sweep = "
       ]
      },
      {
       "output_type": "stream",
       "stream": "stdout",
       "text": [
        " 4\n",
        "sweep = "
       ]
      },
      {
       "output_type": "stream",
       "stream": "stdout",
       "text": [
        " 4\n",
        "sweep = "
       ]
      },
      {
       "output_type": "stream",
       "stream": "stdout",
       "text": [
        " 4\n",
        "sweep = "
       ]
      },
      {
       "output_type": "stream",
       "stream": "stdout",
       "text": [
        " 4\n",
        "sweep = "
       ]
      },
      {
       "output_type": "stream",
       "stream": "stdout",
       "text": [
        " 4\n",
        "sweep = "
       ]
      },
      {
       "output_type": "stream",
       "stream": "stdout",
       "text": [
        " 4\n",
        "sweep = "
       ]
      },
      {
       "output_type": "stream",
       "stream": "stdout",
       "text": [
        " 4\n",
        "sweep = "
       ]
      },
      {
       "output_type": "stream",
       "stream": "stdout",
       "text": [
        " 4\n",
        "sweep = "
       ]
      },
      {
       "output_type": "stream",
       "stream": "stdout",
       "text": [
        " 4\n",
        "sweep = "
       ]
      },
      {
       "output_type": "stream",
       "stream": "stdout",
       "text": [
        " 4\n",
        "sweep = "
       ]
      },
      {
       "output_type": "stream",
       "stream": "stdout",
       "text": [
        " 4\n",
        "sweep = "
       ]
      },
      {
       "output_type": "stream",
       "stream": "stdout",
       "text": [
        " 4\n",
        "sweep = "
       ]
      },
      {
       "output_type": "stream",
       "stream": "stdout",
       "text": [
        " 4\n",
        "sweep = "
       ]
      },
      {
       "output_type": "stream",
       "stream": "stdout",
       "text": [
        " 4\n",
        "sweep = "
       ]
      },
      {
       "output_type": "stream",
       "stream": "stdout",
       "text": [
        " 4\n",
        "sweep = "
       ]
      },
      {
       "output_type": "stream",
       "stream": "stdout",
       "text": [
        " 4\n",
        "sweep = "
       ]
      },
      {
       "output_type": "stream",
       "stream": "stdout",
       "text": [
        " 4\n",
        "sweep = "
       ]
      },
      {
       "output_type": "stream",
       "stream": "stdout",
       "text": [
        " 4\n",
        "sweep = "
       ]
      },
      {
       "output_type": "stream",
       "stream": "stdout",
       "text": [
        " 4\n",
        "sweep = "
       ]
      },
      {
       "output_type": "stream",
       "stream": "stdout",
       "text": [
        " 4\n",
        "sweep = "
       ]
      },
      {
       "output_type": "stream",
       "stream": "stdout",
       "text": [
        " 4\n",
        "sweep = "
       ]
      },
      {
       "output_type": "stream",
       "stream": "stdout",
       "text": [
        " 4\n",
        "sweep = "
       ]
      },
      {
       "output_type": "stream",
       "stream": "stdout",
       "text": [
        " 4\n",
        "sweep = "
       ]
      },
      {
       "output_type": "stream",
       "stream": "stdout",
       "text": [
        " 4\n",
        "sweep = "
       ]
      },
      {
       "output_type": "stream",
       "stream": "stdout",
       "text": [
        " 4\n",
        "sweep = "
       ]
      },
      {
       "output_type": "stream",
       "stream": "stdout",
       "text": [
        " 4\n",
        "sweep = "
       ]
      },
      {
       "output_type": "stream",
       "stream": "stdout",
       "text": [
        " 4\n",
        "sweep = "
       ]
      },
      {
       "output_type": "stream",
       "stream": "stdout",
       "text": [
        " 4\n",
        "sweep = "
       ]
      },
      {
       "output_type": "stream",
       "stream": "stdout",
       "text": [
        " 4\n",
        "sweep = "
       ]
      },
      {
       "output_type": "stream",
       "stream": "stdout",
       "text": [
        " 4\n",
        "sweep = "
       ]
      },
      {
       "output_type": "stream",
       "stream": "stdout",
       "text": [
        " 4\n",
        "sweep = "
       ]
      },
      {
       "output_type": "stream",
       "stream": "stdout",
       "text": [
        " 4\n",
        "sweep = "
       ]
      },
      {
       "output_type": "stream",
       "stream": "stdout",
       "text": [
        " 4\n",
        "sweep = "
       ]
      },
      {
       "output_type": "stream",
       "stream": "stdout",
       "text": [
        " 4\n",
        "sweep = "
       ]
      },
      {
       "output_type": "stream",
       "stream": "stdout",
       "text": [
        " 4\n",
        "sweep = "
       ]
      },
      {
       "output_type": "stream",
       "stream": "stdout",
       "text": [
        " 4\n",
        "sweep = "
       ]
      },
      {
       "output_type": "stream",
       "stream": "stdout",
       "text": [
        " 4\n",
        "sweep = "
       ]
      },
      {
       "output_type": "stream",
       "stream": "stdout",
       "text": [
        " 4\n",
        "sweep = "
       ]
      },
      {
       "output_type": "stream",
       "stream": "stdout",
       "text": [
        " 4\n",
        "sweep = "
       ]
      },
      {
       "output_type": "stream",
       "stream": "stdout",
       "text": [
        " 4\n",
        "sweep = "
       ]
      },
      {
       "output_type": "stream",
       "stream": "stdout",
       "text": [
        " 4\n",
        "sweep = "
       ]
      },
      {
       "output_type": "stream",
       "stream": "stdout",
       "text": [
        " 4\n",
        "sweep = "
       ]
      },
      {
       "output_type": "stream",
       "stream": "stdout",
       "text": [
        " 4\n",
        "sweep = "
       ]
      },
      {
       "output_type": "stream",
       "stream": "stdout",
       "text": [
        " 4\n",
        "sweep = "
       ]
      },
      {
       "output_type": "stream",
       "stream": "stdout",
       "text": [
        " 4\n",
        "sweep = "
       ]
      },
      {
       "output_type": "stream",
       "stream": "stdout",
       "text": [
        " 4\n",
        "sweep = "
       ]
      },
      {
       "output_type": "stream",
       "stream": "stdout",
       "text": [
        " 4\n",
        "sweep = "
       ]
      },
      {
       "output_type": "stream",
       "stream": "stdout",
       "text": [
        " 3\n",
        "sweep = "
       ]
      },
      {
       "output_type": "stream",
       "stream": "stdout",
       "text": [
        " 3\n",
        "sweep = "
       ]
      },
      {
       "output_type": "stream",
       "stream": "stdout",
       "text": [
        " 3\n",
        "sweep = "
       ]
      },
      {
       "output_type": "stream",
       "stream": "stdout",
       "text": [
        " 3\n",
        "sweep = "
       ]
      },
      {
       "output_type": "stream",
       "stream": "stdout",
       "text": [
        " 3\n",
        "sweep = "
       ]
      },
      {
       "output_type": "stream",
       "stream": "stdout",
       "text": [
        " 3\n",
        "sweep = "
       ]
      },
      {
       "output_type": "stream",
       "stream": "stdout",
       "text": [
        " 3\n",
        "sweep = "
       ]
      },
      {
       "output_type": "stream",
       "stream": "stdout",
       "text": [
        " 3\n",
        "sweep = "
       ]
      },
      {
       "output_type": "stream",
       "stream": "stdout",
       "text": [
        " 3\n",
        "sweep = "
       ]
      },
      {
       "output_type": "stream",
       "stream": "stdout",
       "text": [
        " 3\n",
        "sweep = "
       ]
      },
      {
       "output_type": "stream",
       "stream": "stdout",
       "text": [
        " 3\n",
        "sweep = "
       ]
      },
      {
       "output_type": "stream",
       "stream": "stdout",
       "text": [
        " 3\n",
        "sweep = "
       ]
      },
      {
       "output_type": "stream",
       "stream": "stdout",
       "text": [
        " 3\n",
        "sweep = "
       ]
      },
      {
       "output_type": "stream",
       "stream": "stdout",
       "text": [
        " 3\n",
        "sweep = "
       ]
      },
      {
       "output_type": "stream",
       "stream": "stdout",
       "text": [
        " 3\n",
        "sweep = "
       ]
      },
      {
       "output_type": "stream",
       "stream": "stdout",
       "text": [
        " 3\n",
        "sweep = "
       ]
      },
      {
       "output_type": "stream",
       "stream": "stdout",
       "text": [
        " 3\n",
        "sweep = "
       ]
      },
      {
       "output_type": "stream",
       "stream": "stdout",
       "text": [
        " 3\n",
        "sweep = "
       ]
      },
      {
       "output_type": "stream",
       "stream": "stdout",
       "text": [
        " 3\n",
        "sweep = "
       ]
      },
      {
       "output_type": "stream",
       "stream": "stdout",
       "text": [
        " 3\n",
        "sweep = "
       ]
      },
      {
       "output_type": "stream",
       "stream": "stdout",
       "text": [
        " 3\n",
        "sweep = "
       ]
      },
      {
       "output_type": "stream",
       "stream": "stdout",
       "text": [
        " 3\n",
        "sweep = "
       ]
      },
      {
       "output_type": "stream",
       "stream": "stdout",
       "text": [
        " 3\n",
        "sweep = "
       ]
      },
      {
       "output_type": "stream",
       "stream": "stdout",
       "text": [
        " 3\n",
        "sweep = "
       ]
      },
      {
       "output_type": "stream",
       "stream": "stdout",
       "text": [
        " 3\n",
        "sweep = "
       ]
      },
      {
       "output_type": "stream",
       "stream": "stdout",
       "text": [
        " 3\n",
        "sweep = "
       ]
      },
      {
       "output_type": "stream",
       "stream": "stdout",
       "text": [
        " 3\n",
        "sweep = "
       ]
      },
      {
       "output_type": "stream",
       "stream": "stdout",
       "text": [
        " 3\n",
        "sweep = "
       ]
      },
      {
       "output_type": "stream",
       "stream": "stdout",
       "text": [
        " 3\n",
        "sweep = "
       ]
      },
      {
       "output_type": "stream",
       "stream": "stdout",
       "text": [
        " 3\n",
        "sweep = "
       ]
      },
      {
       "output_type": "stream",
       "stream": "stdout",
       "text": [
        " 3\n",
        "sweep = "
       ]
      },
      {
       "output_type": "stream",
       "stream": "stdout",
       "text": [
        " 3\n",
        "sweep = "
       ]
      },
      {
       "output_type": "stream",
       "stream": "stdout",
       "text": [
        " 3\n",
        "sweep = "
       ]
      },
      {
       "output_type": "stream",
       "stream": "stdout",
       "text": [
        " 3\n",
        "sweep = "
       ]
      },
      {
       "output_type": "stream",
       "stream": "stdout",
       "text": [
        " 3\n",
        "Mon Jun  3 10:59:32 2013    data/coupled100.stats"
       ]
      },
      {
       "output_type": "stream",
       "stream": "stdout",
       "text": [
        "\n",
        "\n",
        "         7219314 function calls (6831400 primitive calls) in 13.920 CPU seconds\n",
        "\n",
        "   Ordered by: cumulative time\n",
        "   List reduced from 504 to 20 due to restriction <20>\n",
        "\n",
        "   ncalls  tottime  percall  cumtime  percall filename:lineno(function)\n",
        "        1    0.000    0.000   13.920   13.920 <string>:1(<module>)\n",
        "        1    0.006    0.006   13.920   13.920 <ipython-input-32-47cb11d290d6>:1(Coupled)\n",
        "      746    0.005    0.000   13.510    0.018 /users/ddm1/fipy/fipy/terms/term.py:213(sweep)\n",
        "      748    0.013    0.000   13.444    0.018 /users/ddm1/fipy/fipy/terms/term.py:148(_prepareLinearSystem)\n",
        " 1501/751    0.042    0.000   13.327    0.018 /users/ddm1/fipy/fipy/terms/binaryTerm.py:50(_buildAndAddMatrices)\n",
        "     2252    0.005    0.000   13.224    0.006 /users/ddm1/fipy/fipy/terms/unaryTerm.py:75(_buildAndAddMatrices)\n",
        "     1495    0.017    0.000    9.183    0.006 /users/ddm1/fipy/fipy/terms/cellTerm.py:152(_buildMatrix)\n",
        "     1495    0.103    0.000    9.105    0.006 /users/ddm1/fipy/fipy/terms/cellTerm.py:145(_buildMatrixNoInline_)\n",
        "160216/58477    0.721    0.000    8.933    0.000 /users/ddm1/fipy/fipy/variables/variable.py:522(_getValue)\n",
        "54871/10839    0.184    0.000    7.883    0.001 /users/ddm1/fipy/fipy/variables/operatorVariable.py:71(_calcValue)\n",
        "29132/8739    0.231    0.000    7.056    0.001 /users/ddm1/fipy/fipy/variables/binaryOperatorVariable.py:72(_calcValue_)\n",
        "25739/7907    0.071    0.000    6.955    0.001 /users/ddm1/fipy/fipy/variables/unaryOperatorVariable.py:39(_calcValue_)\n",
        "     2635    0.007    0.000    5.723    0.002 /users/ddm1/fipy/fipy/variables/addOverFacesVariable.py:49(_calcValue)\n",
        "     2635    0.073    0.000    5.715    0.002 /users/ddm1/fipy/fipy/variables/addOverFacesVariable.py:91(_calcValueNoInline)\n",
        "16524/4923    0.089    0.000    5.515    0.001 /users/ddm1/fipy/fipy/tools/numerix.py:590(take)\n",
        "6386/3406    0.017    0.000    5.382    0.002 /users/ddm1/fipy/fipy/variables/variable.py:1578(take)\n",
        "     8239    0.017    0.000    4.661    0.001 /users/ddm1/fipy/fipy/variables/variable.py:1514(ravel)\n",
        "10584/5368    0.023    0.000    4.259    0.001 /users/ddm1/fipy/fipy/variables/variable.py:166(__array__)\n",
        "    95794    0.363    0.000    4.179    0.000 /usr/lib/pymodules/python2.6/numpy/ma/core.py:5476(array)\n",
        "    74315    0.115    0.000    4.093    0.000 /users/ddm1/fipy/fipy/variables/variable.py:665(_setValueInternal)\n",
        "\n",
        "\n"
       ]
      },
      {
       "output_type": "pyout",
       "prompt_number": 39,
       "text": [
        "<pstats.Stats instance at 0x3997488>"
       ]
      }
     ],
     "prompt_number": 39
    },
    {
     "cell_type": "code",
     "collapsed": false,
     "input": [
      "getP(nx=10000, regenerate=True).sort_stats(\"cumulative\").print_stats(20)  "
     ],
     "language": "python",
     "metadata": {},
     "outputs": [
      {
       "output_type": "stream",
       "stream": "stdout",
       "text": [
        "sweep =  41\n",
        "sweep = "
       ]
      },
      {
       "output_type": "stream",
       "stream": "stdout",
       "text": [
        " 1\n",
        "sweep = "
       ]
      },
      {
       "output_type": "stream",
       "stream": "stdout",
       "text": [
        " 1\n",
        "sweep = "
       ]
      },
      {
       "output_type": "stream",
       "stream": "stdout",
       "text": [
        " 1\n",
        "sweep = "
       ]
      },
      {
       "output_type": "stream",
       "stream": "stdout",
       "text": [
        " 1\n",
        "sweep = "
       ]
      },
      {
       "output_type": "stream",
       "stream": "stdout",
       "text": [
        " 1\n",
        "sweep = "
       ]
      },
      {
       "output_type": "stream",
       "stream": "stdout",
       "text": [
        " 1\n",
        "sweep = "
       ]
      },
      {
       "output_type": "stream",
       "stream": "stdout",
       "text": [
        " 1\n",
        "sweep = "
       ]
      },
      {
       "output_type": "stream",
       "stream": "stdout",
       "text": [
        " 1\n",
        "sweep = "
       ]
      },
      {
       "output_type": "stream",
       "stream": "stdout",
       "text": [
        " 1\n",
        "sweep = "
       ]
      },
      {
       "output_type": "stream",
       "stream": "stdout",
       "text": [
        " 1\n",
        "sweep = "
       ]
      },
      {
       "output_type": "stream",
       "stream": "stdout",
       "text": [
        " 1\n",
        "sweep = "
       ]
      },
      {
       "output_type": "stream",
       "stream": "stdout",
       "text": [
        " 1\n",
        "sweep = "
       ]
      },
      {
       "output_type": "stream",
       "stream": "stdout",
       "text": [
        " 1\n",
        "sweep = "
       ]
      },
      {
       "output_type": "stream",
       "stream": "stdout",
       "text": [
        " 1\n",
        "sweep = "
       ]
      },
      {
       "output_type": "stream",
       "stream": "stdout",
       "text": [
        " 1\n",
        "sweep = "
       ]
      },
      {
       "output_type": "stream",
       "stream": "stdout",
       "text": [
        " 1\n",
        "sweep = "
       ]
      },
      {
       "output_type": "stream",
       "stream": "stdout",
       "text": [
        " 1\n",
        "sweep = "
       ]
      },
      {
       "output_type": "stream",
       "stream": "stdout",
       "text": [
        " 1\n",
        "sweep = "
       ]
      },
      {
       "output_type": "stream",
       "stream": "stdout",
       "text": [
        " 1\n",
        "sweep = "
       ]
      },
      {
       "output_type": "stream",
       "stream": "stdout",
       "text": [
        " 1\n",
        "sweep = "
       ]
      },
      {
       "output_type": "stream",
       "stream": "stdout",
       "text": [
        " 1\n",
        "sweep = "
       ]
      },
      {
       "output_type": "stream",
       "stream": "stdout",
       "text": [
        " 1\n",
        "sweep = "
       ]
      },
      {
       "output_type": "stream",
       "stream": "stdout",
       "text": [
        " 1\n",
        "sweep = "
       ]
      },
      {
       "output_type": "stream",
       "stream": "stdout",
       "text": [
        " 1\n",
        "sweep = "
       ]
      },
      {
       "output_type": "stream",
       "stream": "stdout",
       "text": [
        " 1\n",
        "sweep = "
       ]
      },
      {
       "output_type": "stream",
       "stream": "stdout",
       "text": [
        " 1\n",
        "sweep = "
       ]
      },
      {
       "output_type": "stream",
       "stream": "stdout",
       "text": [
        " 1\n",
        "sweep = "
       ]
      },
      {
       "output_type": "stream",
       "stream": "stdout",
       "text": [
        " 1\n",
        "sweep = "
       ]
      },
      {
       "output_type": "stream",
       "stream": "stdout",
       "text": [
        " 1\n",
        "sweep = "
       ]
      },
      {
       "output_type": "stream",
       "stream": "stdout",
       "text": [
        " 1\n",
        "sweep = "
       ]
      },
      {
       "output_type": "stream",
       "stream": "stdout",
       "text": [
        " 1\n",
        "sweep = "
       ]
      },
      {
       "output_type": "stream",
       "stream": "stdout",
       "text": [
        " 1\n",
        "sweep = "
       ]
      },
      {
       "output_type": "stream",
       "stream": "stdout",
       "text": [
        " 1\n",
        "sweep = "
       ]
      },
      {
       "output_type": "stream",
       "stream": "stdout",
       "text": [
        " 1\n",
        "sweep = "
       ]
      },
      {
       "output_type": "stream",
       "stream": "stdout",
       "text": [
        " 1\n",
        "sweep = "
       ]
      },
      {
       "output_type": "stream",
       "stream": "stdout",
       "text": [
        " 1\n",
        "sweep = "
       ]
      },
      {
       "output_type": "stream",
       "stream": "stdout",
       "text": [
        " 1\n",
        "sweep = "
       ]
      },
      {
       "output_type": "stream",
       "stream": "stdout",
       "text": [
        " 1\n",
        "sweep = "
       ]
      },
      {
       "output_type": "stream",
       "stream": "stdout",
       "text": [
        " 1\n",
        "sweep = "
       ]
      },
      {
       "output_type": "stream",
       "stream": "stdout",
       "text": [
        " 1\n",
        "sweep = "
       ]
      },
      {
       "output_type": "stream",
       "stream": "stdout",
       "text": [
        " 1\n",
        "sweep = "
       ]
      },
      {
       "output_type": "stream",
       "stream": "stdout",
       "text": [
        " 1\n",
        "sweep = "
       ]
      },
      {
       "output_type": "stream",
       "stream": "stdout",
       "text": [
        " 1\n",
        "sweep = "
       ]
      },
      {
       "output_type": "stream",
       "stream": "stdout",
       "text": [
        " 1\n",
        "sweep = "
       ]
      },
      {
       "output_type": "stream",
       "stream": "stdout",
       "text": [
        " 1\n",
        "sweep = "
       ]
      },
      {
       "output_type": "stream",
       "stream": "stdout",
       "text": [
        " 1\n",
        "sweep = "
       ]
      },
      {
       "output_type": "stream",
       "stream": "stdout",
       "text": [
        " 1\n",
        "sweep = "
       ]
      },
      {
       "output_type": "stream",
       "stream": "stdout",
       "text": [
        " 1\n",
        "sweep = "
       ]
      },
      {
       "output_type": "stream",
       "stream": "stdout",
       "text": [
        " 1\n",
        "sweep = "
       ]
      },
      {
       "output_type": "stream",
       "stream": "stdout",
       "text": [
        " 1\n",
        "sweep = "
       ]
      },
      {
       "output_type": "stream",
       "stream": "stdout",
       "text": [
        " 1\n",
        "sweep = "
       ]
      },
      {
       "output_type": "stream",
       "stream": "stdout",
       "text": [
        " 1\n",
        "sweep = "
       ]
      },
      {
       "output_type": "stream",
       "stream": "stdout",
       "text": [
        " 1\n",
        "sweep = "
       ]
      },
      {
       "output_type": "stream",
       "stream": "stdout",
       "text": [
        " 1\n",
        "sweep = "
       ]
      },
      {
       "output_type": "stream",
       "stream": "stdout",
       "text": [
        " 1\n",
        "sweep = "
       ]
      },
      {
       "output_type": "stream",
       "stream": "stdout",
       "text": [
        " 1\n",
        "sweep = "
       ]
      },
      {
       "output_type": "stream",
       "stream": "stdout",
       "text": [
        " 1\n",
        "sweep = "
       ]
      },
      {
       "output_type": "stream",
       "stream": "stdout",
       "text": [
        " 1\n",
        "sweep = "
       ]
      },
      {
       "output_type": "stream",
       "stream": "stdout",
       "text": [
        " 1\n",
        "sweep = "
       ]
      },
      {
       "output_type": "stream",
       "stream": "stdout",
       "text": [
        " 1\n",
        "sweep = "
       ]
      },
      {
       "output_type": "stream",
       "stream": "stdout",
       "text": [
        " 1\n",
        "sweep = "
       ]
      },
      {
       "output_type": "stream",
       "stream": "stdout",
       "text": [
        " 1\n",
        "sweep = "
       ]
      },
      {
       "output_type": "stream",
       "stream": "stdout",
       "text": [
        " 1\n",
        "sweep = "
       ]
      },
      {
       "output_type": "stream",
       "stream": "stdout",
       "text": [
        " 1\n",
        "sweep = "
       ]
      },
      {
       "output_type": "stream",
       "stream": "stdout",
       "text": [
        " 1\n",
        "sweep = "
       ]
      },
      {
       "output_type": "stream",
       "stream": "stdout",
       "text": [
        " 1\n",
        "sweep = "
       ]
      },
      {
       "output_type": "stream",
       "stream": "stdout",
       "text": [
        " 1\n",
        "sweep = "
       ]
      },
      {
       "output_type": "stream",
       "stream": "stdout",
       "text": [
        " 1\n",
        "sweep = "
       ]
      },
      {
       "output_type": "stream",
       "stream": "stdout",
       "text": [
        " 1\n",
        "sweep = "
       ]
      },
      {
       "output_type": "stream",
       "stream": "stdout",
       "text": [
        " 1\n",
        "sweep = "
       ]
      },
      {
       "output_type": "stream",
       "stream": "stdout",
       "text": [
        " 1\n",
        "sweep = "
       ]
      },
      {
       "output_type": "stream",
       "stream": "stdout",
       "text": [
        " 1\n",
        "sweep = "
       ]
      },
      {
       "output_type": "stream",
       "stream": "stdout",
       "text": [
        " 1\n",
        "sweep = "
       ]
      },
      {
       "output_type": "stream",
       "stream": "stdout",
       "text": [
        " 1\n",
        "sweep = "
       ]
      },
      {
       "output_type": "stream",
       "stream": "stdout",
       "text": [
        " 1\n",
        "sweep = "
       ]
      },
      {
       "output_type": "stream",
       "stream": "stdout",
       "text": [
        " 1\n",
        "sweep = "
       ]
      },
      {
       "output_type": "stream",
       "stream": "stdout",
       "text": [
        " 1\n",
        "sweep = "
       ]
      },
      {
       "output_type": "stream",
       "stream": "stdout",
       "text": [
        " 1\n",
        "sweep = "
       ]
      },
      {
       "output_type": "stream",
       "stream": "stdout",
       "text": [
        " 1\n",
        "sweep = "
       ]
      },
      {
       "output_type": "stream",
       "stream": "stdout",
       "text": [
        " 1\n",
        "sweep = "
       ]
      },
      {
       "output_type": "stream",
       "stream": "stdout",
       "text": [
        " 1\n",
        "sweep = "
       ]
      },
      {
       "output_type": "stream",
       "stream": "stdout",
       "text": [
        " 1\n",
        "sweep = "
       ]
      },
      {
       "output_type": "stream",
       "stream": "stdout",
       "text": [
        " 1\n",
        "sweep = "
       ]
      },
      {
       "output_type": "stream",
       "stream": "stdout",
       "text": [
        " 1\n",
        "sweep = "
       ]
      },
      {
       "output_type": "stream",
       "stream": "stdout",
       "text": [
        " 1\n",
        "sweep = "
       ]
      },
      {
       "output_type": "stream",
       "stream": "stdout",
       "text": [
        " 1\n",
        "sweep = "
       ]
      },
      {
       "output_type": "stream",
       "stream": "stdout",
       "text": [
        " 1\n",
        "sweep = "
       ]
      },
      {
       "output_type": "stream",
       "stream": "stdout",
       "text": [
        " 1\n",
        "sweep = "
       ]
      },
      {
       "output_type": "stream",
       "stream": "stdout",
       "text": [
        " 1\n",
        "sweep = "
       ]
      },
      {
       "output_type": "stream",
       "stream": "stdout",
       "text": [
        " 1\n",
        "sweep = "
       ]
      },
      {
       "output_type": "stream",
       "stream": "stdout",
       "text": [
        " 1\n",
        "sweep = "
       ]
      },
      {
       "output_type": "stream",
       "stream": "stdout",
       "text": [
        " 1\n",
        "sweep = "
       ]
      },
      {
       "output_type": "stream",
       "stream": "stdout",
       "text": [
        " 1\n",
        "sweep = "
       ]
      },
      {
       "output_type": "stream",
       "stream": "stdout",
       "text": [
        " 1\n",
        "sweep = "
       ]
      },
      {
       "output_type": "stream",
       "stream": "stdout",
       "text": [
        " 1\n",
        "sweep = "
       ]
      },
      {
       "output_type": "stream",
       "stream": "stdout",
       "text": [
        " 1\n",
        "sweep = "
       ]
      },
      {
       "output_type": "stream",
       "stream": "stdout",
       "text": [
        " 1\n",
        "sweep = "
       ]
      },
      {
       "output_type": "stream",
       "stream": "stdout",
       "text": [
        " 1\n",
        "sweep = "
       ]
      },
      {
       "output_type": "stream",
       "stream": "stdout",
       "text": [
        " 1\n",
        "Mon Jun  3 11:00:04 2013    data/coupled10000.stats"
       ]
      },
      {
       "output_type": "stream",
       "stream": "stdout",
       "text": [
        "\n",
        "\n",
        "         2851660 function calls (2702774 primitive calls) in 13.493 CPU seconds\n",
        "\n",
        "   Ordered by: cumulative time\n",
        "   List reduced from 517 to 20 due to restriction <20>\n",
        "\n",
        "   ncalls  tottime  percall  cumtime  percall filename:lineno(function)\n",
        "        1    0.001    0.001   13.493   13.493 <string>:1(<module>)\n",
        "        1    0.004    0.004   13.493   13.493 <ipython-input-32-47cb11d290d6>:1(Coupled)\n",
        "      280    0.003    0.000   12.729    0.045 /users/ddm1/fipy/fipy/terms/term.py:213(sweep)\n",
        "      282    0.007    0.000   11.724    0.042 /users/ddm1/fipy/fipy/terms/term.py:148(_prepareLinearSystem)\n",
        "  569/285    0.039    0.000   11.647    0.041 /users/ddm1/fipy/fipy/terms/binaryTerm.py:50(_buildAndAddMatrices)\n",
        "      854    0.003    0.000   11.186    0.013 /users/ddm1/fipy/fipy/terms/unaryTerm.py:75(_buildAndAddMatrices)\n",
        "62597/23527    0.352    0.000    8.120    0.000 /users/ddm1/fipy/fipy/variables/variable.py:522(_getValue)\n",
        "21134/4361    0.074    0.000    7.575    0.002 /users/ddm1/fipy/fipy/variables/operatorVariable.py:71(_calcValue)\n",
        "11151/3395    0.098    0.000    7.047    0.002 /users/ddm1/fipy/fipy/variables/binaryOperatorVariable.py:72(_calcValue_)\n",
        "9983/3247    0.031    0.000    6.516    0.002 /users/ddm1/fipy/fipy/variables/unaryOperatorVariable.py:39(_calcValue_)\n",
        "     1004    0.004    0.000    6.489    0.006 /users/ddm1/fipy/fipy/variables/addOverFacesVariable.py:49(_calcValue)\n",
        "     1004    0.105    0.000    6.485    0.006 /users/ddm1/fipy/fipy/variables/addOverFacesVariable.py:91(_calcValueNoInline)\n",
        "      563    0.008    0.000    6.475    0.012 /users/ddm1/fipy/fipy/terms/cellTerm.py:152(_buildMatrix)\n",
        "      563    0.085    0.000    6.407    0.011 /users/ddm1/fipy/fipy/terms/cellTerm.py:145(_buildMatrixNoInline_)\n",
        "93881/78508    4.717    0.000    5.357    0.000 {numpy.core.multiarray.array}\n",
        "      285    0.012    0.000    4.708    0.017 /users/ddm1/fipy/fipy/terms/abstractDiffusionTerm.py:281(_buildMatrix)\n",
        "6272/1894    0.037    0.000    4.267    0.002 /users/ddm1/fipy/fipy/tools/numerix.py:590(take)\n",
        "4060/2106    0.009    0.000    4.231    0.002 /users/ddm1/fipy/fipy/variables/variable.py:166(__array__)\n",
        "2425/1309    0.007    0.000    4.201    0.003 /users/ddm1/fipy/fipy/variables/variable.py:1578(take)\n",
        "     3113    0.007    0.000    3.573    0.001 /users/ddm1/fipy/fipy/variables/variable.py:1514(ravel)\n",
        "\n",
        "\n"
       ]
      },
      {
       "output_type": "stream",
       "stream": "stderr",
       "text": [
        "-c:21: StagnatedSolverWarning: The solver stagnated. Iterations: 1. Relative error: nan\n"
       ]
      },
      {
       "output_type": "pyout",
       "prompt_number": 40,
       "text": [
        "<pstats.Stats instance at 0x3ca0560>"
       ]
      }
     ],
     "prompt_number": 40
    },
    {
     "cell_type": "code",
     "collapsed": false,
     "input": [
      "getP(nx=200, regenerate=True).sort_stats(\"cumulative\").print_stats(20)  "
     ],
     "language": "python",
     "metadata": {},
     "outputs": [
      {
       "output_type": "stream",
       "stream": "stdout",
       "text": [
        "sweep =  396\n",
        "sweep =  1\n",
        "sweep = "
       ]
      },
      {
       "output_type": "stream",
       "stream": "stdout",
       "text": [
        " 1\n",
        "sweep =  1\n",
        "sweep = "
       ]
      },
      {
       "output_type": "stream",
       "stream": "stdout",
       "text": [
        " 1\n",
        "sweep =  1\n",
        "sweep = "
       ]
      },
      {
       "output_type": "stream",
       "stream": "stdout",
       "text": [
        " 1\n",
        "sweep =  1\n",
        "sweep = "
       ]
      },
      {
       "output_type": "stream",
       "stream": "stdout",
       "text": [
        " 1\n",
        "sweep =  1\n",
        "sweep = "
       ]
      },
      {
       "output_type": "stream",
       "stream": "stdout",
       "text": [
        " 1\n",
        "sweep =  1\n",
        "sweep = "
       ]
      },
      {
       "output_type": "stream",
       "stream": "stdout",
       "text": [
        " 1\n",
        "sweep =  1\n",
        "sweep = "
       ]
      },
      {
       "output_type": "stream",
       "stream": "stdout",
       "text": [
        " 1\n",
        "sweep =  1\n",
        "sweep = "
       ]
      },
      {
       "output_type": "stream",
       "stream": "stdout",
       "text": [
        " 1\n",
        "sweep =  1\n",
        "sweep = "
       ]
      },
      {
       "output_type": "stream",
       "stream": "stdout",
       "text": [
        " 1\n",
        "sweep =  1\n",
        "sweep = "
       ]
      },
      {
       "output_type": "stream",
       "stream": "stdout",
       "text": [
        " 1\n",
        "sweep =  1\n",
        "sweep = "
       ]
      },
      {
       "output_type": "stream",
       "stream": "stdout",
       "text": [
        " 1\n",
        "sweep =  1\n",
        "sweep = "
       ]
      },
      {
       "output_type": "stream",
       "stream": "stdout",
       "text": [
        " 1\n",
        "sweep =  1\n",
        "sweep = "
       ]
      },
      {
       "output_type": "stream",
       "stream": "stdout",
       "text": [
        " 1\n",
        "sweep =  1\n",
        "sweep = "
       ]
      },
      {
       "output_type": "stream",
       "stream": "stdout",
       "text": [
        " 1\n",
        "sweep =  1\n",
        "sweep = "
       ]
      },
      {
       "output_type": "stream",
       "stream": "stdout",
       "text": [
        " 1\n",
        "sweep =  1\n",
        "sweep = "
       ]
      },
      {
       "output_type": "stream",
       "stream": "stdout",
       "text": [
        " 1\n",
        "sweep =  1\n",
        "sweep = "
       ]
      },
      {
       "output_type": "stream",
       "stream": "stdout",
       "text": [
        " 1\n",
        "sweep =  1\n",
        "sweep = "
       ]
      },
      {
       "output_type": "stream",
       "stream": "stdout",
       "text": [
        " 1\n",
        "sweep =  1\n",
        "sweep = "
       ]
      },
      {
       "output_type": "stream",
       "stream": "stdout",
       "text": [
        " 1\n",
        "sweep =  1\n",
        "sweep = "
       ]
      },
      {
       "output_type": "stream",
       "stream": "stdout",
       "text": [
        " 1\n",
        "sweep =  1\n",
        "sweep = "
       ]
      },
      {
       "output_type": "stream",
       "stream": "stdout",
       "text": [
        " 1\n",
        "sweep =  1\n",
        "sweep = "
       ]
      },
      {
       "output_type": "stream",
       "stream": "stdout",
       "text": [
        " 1\n",
        "sweep =  1\n",
        "sweep = "
       ]
      },
      {
       "output_type": "stream",
       "stream": "stdout",
       "text": [
        " 1\n",
        "sweep =  1\n",
        "sweep = "
       ]
      },
      {
       "output_type": "stream",
       "stream": "stdout",
       "text": [
        " 1\n",
        "sweep =  1\n",
        "sweep = "
       ]
      },
      {
       "output_type": "stream",
       "stream": "stdout",
       "text": [
        " 1\n",
        "sweep =  1\n",
        "sweep = "
       ]
      },
      {
       "output_type": "stream",
       "stream": "stdout",
       "text": [
        " 1\n",
        "sweep =  1\n",
        "sweep = "
       ]
      },
      {
       "output_type": "stream",
       "stream": "stdout",
       "text": [
        " 1\n",
        "sweep =  1\n",
        "sweep = "
       ]
      },
      {
       "output_type": "stream",
       "stream": "stdout",
       "text": [
        " 1\n",
        "sweep =  1\n",
        "sweep = "
       ]
      },
      {
       "output_type": "stream",
       "stream": "stdout",
       "text": [
        " 1\n",
        "sweep =  1\n",
        "sweep = "
       ]
      },
      {
       "output_type": "stream",
       "stream": "stdout",
       "text": [
        " 1\n",
        "sweep =  1\n",
        "sweep = "
       ]
      },
      {
       "output_type": "stream",
       "stream": "stdout",
       "text": [
        " 1\n",
        "sweep =  1\n",
        "sweep = "
       ]
      },
      {
       "output_type": "stream",
       "stream": "stdout",
       "text": [
        " 1\n",
        "sweep =  1\n",
        "sweep = "
       ]
      },
      {
       "output_type": "stream",
       "stream": "stdout",
       "text": [
        " 1\n",
        "sweep =  1\n",
        "sweep = "
       ]
      },
      {
       "output_type": "stream",
       "stream": "stdout",
       "text": [
        " 1\n",
        "sweep =  1\n",
        "sweep = "
       ]
      },
      {
       "output_type": "stream",
       "stream": "stdout",
       "text": [
        " 1\n",
        "sweep =  1\n",
        "sweep = "
       ]
      },
      {
       "output_type": "stream",
       "stream": "stdout",
       "text": [
        " 1\n",
        "sweep =  1\n",
        "sweep = "
       ]
      },
      {
       "output_type": "stream",
       "stream": "stdout",
       "text": [
        " 1\n",
        "sweep =  1\n",
        "sweep = "
       ]
      },
      {
       "output_type": "stream",
       "stream": "stdout",
       "text": [
        " 1\n",
        "sweep =  1\n",
        "sweep = "
       ]
      },
      {
       "output_type": "stream",
       "stream": "stdout",
       "text": [
        " 1\n",
        "sweep = "
       ]
      },
      {
       "output_type": "stream",
       "stream": "stdout",
       "text": [
        " 1\n",
        "sweep =  1\n",
        "sweep = "
       ]
      },
      {
       "output_type": "stream",
       "stream": "stdout",
       "text": [
        " 1\n",
        "sweep =  1\n",
        "sweep = "
       ]
      },
      {
       "output_type": "stream",
       "stream": "stdout",
       "text": [
        " 1\n",
        "sweep =  1\n",
        "sweep = "
       ]
      },
      {
       "output_type": "stream",
       "stream": "stdout",
       "text": [
        " 1\n",
        "sweep =  1\n",
        "sweep = "
       ]
      },
      {
       "output_type": "stream",
       "stream": "stdout",
       "text": [
        " 1\n",
        "sweep =  1\n",
        "sweep = "
       ]
      },
      {
       "output_type": "stream",
       "stream": "stdout",
       "text": [
        " 1\n",
        "sweep =  1\n",
        "sweep = "
       ]
      },
      {
       "output_type": "stream",
       "stream": "stdout",
       "text": [
        " 1\n",
        "sweep =  1\n",
        "sweep = "
       ]
      },
      {
       "output_type": "stream",
       "stream": "stdout",
       "text": [
        " 1\n",
        "sweep =  1\n",
        "sweep = "
       ]
      },
      {
       "output_type": "stream",
       "stream": "stdout",
       "text": [
        " 1\n",
        "sweep =  1\n",
        "sweep = "
       ]
      },
      {
       "output_type": "stream",
       "stream": "stdout",
       "text": [
        " 1\n",
        "sweep =  1\n",
        "sweep = "
       ]
      },
      {
       "output_type": "stream",
       "stream": "stdout",
       "text": [
        " 1\n",
        "Mon Jun  3 11:00:37 2013    data/coupled200.stats"
       ]
      },
      {
       "output_type": "stream",
       "stream": "stdout",
       "text": [
        "\n",
        "\n",
        "         9481386 function calls (8970396 primitive calls) in 18.455 CPU seconds\n",
        "\n",
        "   Ordered by: cumulative time\n",
        "   List reduced from 507 to 20 due to restriction <20>\n",
        "\n",
        "   ncalls  tottime  percall  cumtime  percall filename:lineno(function)\n",
        "        1    0.000    0.000   18.455   18.455 <string>:1(<module>)\n",
        "        1    0.007    0.007   18.455   18.455 <ipython-input-32-47cb11d290d6>:1(Coupled)\n",
        "      990    0.007    0.000   18.070    0.018 /users/ddm1/fipy/fipy/terms/term.py:213(sweep)\n",
        "      992    0.018    0.000   17.904    0.018 /users/ddm1/fipy/fipy/terms/term.py:148(_prepareLinearSystem)\n",
        " 1989/995    0.056    0.000   17.758    0.018 /users/ddm1/fipy/fipy/terms/binaryTerm.py:50(_buildAndAddMatrices)\n",
        "     2984    0.007    0.000   17.606    0.006 /users/ddm1/fipy/fipy/terms/unaryTerm.py:75(_buildAndAddMatrices)\n",
        "     1983    0.022    0.000   12.214    0.006 /users/ddm1/fipy/fipy/terms/cellTerm.py:152(_buildMatrix)\n",
        "     1983    0.138    0.000   12.115    0.006 /users/ddm1/fipy/fipy/terms/cellTerm.py:145(_buildMatrixNoInline_)\n",
        "210889/76777    0.940    0.000   11.904    0.000 /users/ddm1/fipy/fipy/variables/variable.py:522(_getValue)\n",
        "72243/14069    0.241    0.000   10.560    0.001 /users/ddm1/fipy/fipy/variables/operatorVariable.py:71(_calcValue)\n",
        "38399/11682    0.299    0.000    9.411    0.001 /users/ddm1/fipy/fipy/variables/binaryOperatorVariable.py:72(_calcValue_)\n",
        "33844/10347    0.090    0.000    9.331    0.001 /users/ddm1/fipy/fipy/variables/unaryOperatorVariable.py:39(_calcValue_)\n",
        "     3489    0.010    0.000    7.698    0.002 /users/ddm1/fipy/fipy/variables/addOverFacesVariable.py:49(_calcValue)\n",
        "     3489    0.100    0.000    7.688    0.002 /users/ddm1/fipy/fipy/variables/addOverFacesVariable.py:91(_calcValueNoInline)\n",
        "21892/6509    0.117    0.000    7.343    0.001 /users/ddm1/fipy/fipy/tools/numerix.py:590(take)\n",
        "8460/4504    0.023    0.000    7.169    0.002 /users/ddm1/fipy/fipy/variables/variable.py:1578(take)\n",
        "    10923    0.023    0.000    6.250    0.001 /users/ddm1/fipy/fipy/variables/variable.py:1514(ravel)\n",
        "14000/7076    0.031    0.000    5.657    0.001 /users/ddm1/fipy/fipy/variables/variable.py:166(__array__)\n",
        "   126098    0.482    0.000    5.435    0.000 /usr/lib/pymodules/python2.6/numpy/ma/core.py:5476(array)\n",
        "      995    0.023    0.000    5.384    0.005 /users/ddm1/fipy/fipy/terms/abstractDiffusionTerm.py:281(_buildMatrix)\n",
        "\n",
        "\n"
       ]
      },
      {
       "output_type": "pyout",
       "prompt_number": 41,
       "text": [
        "<pstats.Stats instance at 0x3b44248>"
       ]
      }
     ],
     "prompt_number": 41
    },
    {
     "cell_type": "code",
     "collapsed": false,
     "input": [
      "import polyxtal\n",
      "plotStats(polyxtal, \"_solve\") "
     ],
     "language": "python",
     "metadata": {},
     "outputs": [
      {
       "output_type": "display_data",
       "png": "[encoded data removed]"
      }
     ],
     "prompt_number": 153
    },
    {
     "cell_type": "code",
     "collapsed": false,
     "input": [
      "import coupled1D\n",
      "plotStats(coupled1D, \"_solve\")"
     ],
     "language": "python",
     "metadata": {},
     "outputs": [
      {
       "output_type": "display_data",
       "png": "[encoded data removed]"
      }
     ],
     "prompt_number": 152
    },
    {
     "cell_type": "code",
     "collapsed": false,
     "input": [],
     "language": "python",
     "metadata": {},
     "outputs": []
    }
   ],
   "metadata": {}
  }
 ]
}