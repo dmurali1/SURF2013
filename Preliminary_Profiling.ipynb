{
 "metadata": {
  "name": "Preliminary_Profiling"
 },
 "nbformat": 3,
 "nbformat_minor": 0,
 "worksheets": [
  {
   "cells": [
    {
     "cell_type": "markdown",
     "metadata": {},
     "source": [
      "Initial fiPy code for a coupled diffusion problem"
     ]
    },
    {
     "cell_type": "code",
     "collapsed": false,
     "input": [
      "from fipy import Grid1D, CellVariable, TransientTerm, DiffusionTerm, Viewer\n",
      "import cProfile\n",
      "import pstats"
     ],
     "language": "python",
     "metadata": {},
     "outputs": [],
     "prompt_number": 1
    },
    {
     "cell_type": "code",
     "collapsed": false,
     "input": [
      "def Coupled():\n",
      "\n",
      "    m = Grid1D(nx=100, Lx=1.)\n",
      "\n",
      "    v0 = CellVariable(mesh=m, hasOld=True, value=0.5)\n",
      "    v1 = CellVariable(mesh=m, hasOld=True, value=0.5)\n",
      "    \n",
      "    v0.constrain(0, m.facesLeft)\n",
      "    v0.constrain(1, m.facesRight)\n",
      "    \n",
      "    eq0 = TransientTerm() == DiffusionTerm(coeff=0.01) - v1.faceGrad.divergence\n",
      "    eq1 = TransientTerm() == v0.faceGrad.divergence + DiffusionTerm(coeff=0.01)\n",
      "    \n",
      "    vi = Viewer((v0, v1))\n",
      "    \n",
      "    for t in range(100):\n",
      "        v0.updateOld()\n",
      "        v1.updateOld()\n",
      "        res0 = res1 = 1e100\n",
      "        while max(res0, res1) > 0.1:\n",
      "            res0 = eq0.sweep(var=v0, dt=1e-5)\n",
      "            res1 = eq1.sweep(var=v1, dt=1e-5)\n",
      "       # if t % 10 == 0:\n",
      "           # vi.plot()\n",
      "                \n",
      "    v0.value = 0.5\n",
      "    v1.value = 0.5\n",
      "                \n",
      "    eqn0 = TransientTerm(var=v0) == DiffusionTerm(0.01, var=v0) - DiffusionTerm(1, var=v1)\n",
      "    eqn1 = TransientTerm(var=v1) == DiffusionTerm(1, var=v0) + DiffusionTerm(0.01, var=v1)\n",
      "                \n",
      "    eqn = eqn0 & eqn1\n",
      "                \n",
      "    for t in range(1):\n",
      "        v0.updateOld()\n",
      "        v1.updateOld()\n",
      "        eqn.solve(dt=1.e-3)\n",
      "     #   vi.plot()\n",
      "                    \n",
      "    v = CellVariable(mesh=m, hasOld=True, value=[[0.5], [0.5]], elementshape=(2,))\n",
      "                    \n",
      "    v.constrain([[0], [1]], m.facesLeft)\n",
      "    v.constrain([[1], [0]], m.facesRight)\n",
      "                    \n",
      "    eqn = TransientTerm([[1,0], [0,1]]) == DiffusionTerm([[[0.01, -1], [1, 0.01]]])\n",
      "                    \n",
      "    vi = Viewer((v[0], v[1]))\n",
      "                    \n",
      "    for t in range(1):\n",
      "        v.updateOld()\n",
      "        eqn.solve(var=v, dt=1.e-3)\n",
      "       # vi.plot()\n"
     ],
     "language": "python",
     "metadata": {},
     "outputs": [],
     "prompt_number": 2
    },
    {
     "cell_type": "markdown",
     "metadata": {},
     "source": [
      "Runs python profiler and prints first 20 lines of output "
     ]
    },
    {
     "cell_type": "code",
     "collapsed": false,
     "input": [
      "def main():\n",
      "    filename = \"tmp.stats\"\n",
      "    cProfile.run('Coupled()', filename=filename)\n",
      "    p = pstats.Stats(filename)\n",
      "    p.strip_dirs().sort_stats(\"cumulative\").print_stats(20)                    \n",
      "main()\n"
     ],
     "language": "python",
     "metadata": {},
     "outputs": [
      {
       "output_type": "stream",
       "stream": "stderr",
       "text": [
        "/users/ddm1/fipy/fipy/viewers/matplotlibViewer/__init__.py:111: UserWarning: Matplotlib1DViewer efficiency is improved by setting the 'datamax' and 'datamin' keys\n",
        "  return Matplotlib1DViewer(vars=vars, title=title, axes=axes, **kwlimits)\n",
        "/users/ddm1/fipy/fipy/solvers/pysparse/pysparseSolver.py:76: DeprecationWarning: PyArray_FromDimsAndDataAndDescr: use PyArray_NewFromDescr.\n",
        "  self.iterations, P)\n"
       ]
      },
      {
       "output_type": "stream",
       "stream": "stdout",
       "text": [
        "Thu May 30 13:48:26 2013    tmp.stats\n",
        "\n",
        "         7292854 function calls (6902904 primitive calls) in 13.623 CPU seconds\n",
        "\n",
        "   Ordered by: cumulative time\n",
        "   List reduced from 1881 to 20 due to restriction <20>\n",
        "\n",
        "   ncalls  tottime  percall  cumtime  percall filename:lineno(function)\n",
        "        1    0.004    0.004   13.623   13.623 <ipython-input-2-f1c7bfa800ab>:1(Coupled)\n",
        "      746    0.004    0.000   12.461    0.017 term.py:213(sweep)\n",
        "      748    0.012    0.000   12.445    0.017 term.py:148(_prepareLinearSystem)\n",
        " 1501/751    0.038    0.000   12.340    0.016 binaryTerm.py:50(_buildAndAddMatrices)\n",
        "     2252    0.005    0.000   12.247    0.005 unaryTerm.py:75(_buildAndAddMatrices)\n",
        "     1495    0.015    0.000    8.476    0.006 cellTerm.py:152(_buildMatrix)\n",
        "     1495    0.095    0.000    8.402    0.006 cellTerm.py:145(_buildMatrixNoInline_)\n",
        "160028/58519    0.653    0.000    8.212    0.000 variable.py:522(_getValue)\n",
        "54683/10884    0.173    0.000    7.232    0.001 operatorVariable.py:71(_calcValue)\n",
        "29090/8818    0.214    0.000    6.467    0.001 binaryOperatorVariable.py:72(_calcValue_)\n",
        "25593/7917    0.061    0.000    6.375    0.001 unaryOperatorVariable.py:39(_calcValue_)\n",
        "     2635    0.007    0.000    5.252    0.002 addOverFacesVariable.py:49(_calcValue)\n",
        "     2635    0.069    0.000    5.245    0.002 addOverFacesVariable.py:91(_calcValueNoInline)\n",
        "16524/4923    0.081    0.000    5.055    0.001 numerix.py:590(take)\n",
        "6386/3406    0.016    0.000    4.932    0.001 variable.py:1578(take)\n",
        "     8239    0.016    0.000    4.292    0.001 variable.py:1514(ravel)\n",
        "10592/5376    0.021    0.000    3.905    0.001 variable.py:166(__array__)\n",
        "    95620    0.345    0.000    3.841    0.000 core.py:5476(array)\n",
        "      751    0.015    0.000    3.766    0.005 abstractDiffusionTerm.py:281(_buildMatrix)\n",
        "    74145    0.104    0.000    3.746    0.000 variable.py:665(_setValueInternal)\n",
        "\n",
        "\n"
       ]
      }
     ],
     "prompt_number": 3
    },
    {
     "cell_type": "markdown",
     "metadata": {},
     "source": [
      "Use of RunSnakeRun GUI"
     ]
    },
    {
     "cell_type": "code",
     "collapsed": false,
     "input": [
      "runsnake tmp.stats &"
     ],
     "language": "python",
     "metadata": {},
     "outputs": [
      {
       "ename": "SyntaxError",
       "evalue": "invalid syntax (<ipython-input-5-94990511441a>, line 1)",
       "output_type": "pyerr",
       "traceback": [
        "\u001b[1;36m  File \u001b[1;32m\"<ipython-input-5-94990511441a>\"\u001b[1;36m, line \u001b[1;32m1\u001b[0m\n\u001b[1;33m    runsnake tmp.stats &\u001b[0m\n\u001b[1;37m               ^\u001b[0m\n\u001b[1;31mSyntaxError\u001b[0m\u001b[1;31m:\u001b[0m invalid syntax\n"
       ]
      }
     ],
     "prompt_number": 5
    },
    {
     "cell_type": "code",
     "collapsed": false,
     "input": [],
     "language": "python",
     "metadata": {},
     "outputs": []
    }
   ],
   "metadata": {}
  }
 ]
}