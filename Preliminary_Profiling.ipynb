{
 "metadata": {
  "name": "Preliminary_Profiling"
 },
 "nbformat": 3,
 "nbformat_minor": 0,
 "worksheets": [
  {
   "cells": [
    {
     "cell_type": "markdown",
     "metadata": {},
     "source": [
      "Initial fiPy code for a coupled diffusion problem"
     ]
    },
    {
     "cell_type": "code",
     "collapsed": false,
     "input": [
      "from fipy import Grid1D, CellVariable, TransientTerm, DiffusionTerm, Viewer\n",
      "import cProfile\n",
      "import pstats "
     ],
     "language": "python",
     "metadata": {},
     "outputs": [],
     "prompt_number": 6
    },
    {
     "cell_type": "code",
     "collapsed": false,
     "input": [
      "def Coupled(nx=100):\n",
      "\n",
      "    m = Grid1D(nx=nx, Lx=1.)\n",
      "\n",
      "    v0 = CellVariable(mesh=m, hasOld=True, value=0.5)\n",
      "    v1 = CellVariable(mesh=m, hasOld=True, value=0.5)\n",
      "    \n",
      "    v0.constrain(0, m.facesLeft)\n",
      "    v0.constrain(1, m.facesRight)\n",
      "    \n",
      "    eq0 = TransientTerm() == DiffusionTerm(coeff=0.01) - v1.faceGrad.divergence\n",
      "    eq1 = TransientTerm() == v0.faceGrad.divergence + DiffusionTerm(coeff=0.01)\n",
      "    \n",
      "    for t in range(100):\n",
      "        v0.updateOld()\n",
      "        v1.updateOld()\n",
      "        res0 = res1 = 1e100\n",
      "        while max(res0, res1) > 0.1:\n",
      "            res0 = eq0.sweep(var=v0, dt=1e-5)\n",
      "            res1 = eq1.sweep(var=v1, dt=1e-5)\n",
      "                \n",
      "    v0.value = 0.5\n",
      "    v1.value = 0.5\n",
      "                \n",
      "    eqn0 = TransientTerm(var=v0) == DiffusionTerm(0.01, var=v0) - DiffusionTerm(1, var=v1)\n",
      "    eqn1 = TransientTerm(var=v1) == DiffusionTerm(1, var=v0) + DiffusionTerm(0.01, var=v1)\n",
      "                \n",
      "    eqn = eqn0 & eqn1\n",
      "                \n",
      "    for t in range(1):\n",
      "        v0.updateOld()\n",
      "        v1.updateOld()\n",
      "        eqn.solve(dt=1.e-3)\n",
      "     \n",
      "                    \n",
      "    v = CellVariable(mesh=m, hasOld=True, value=[[0.5], [0.5]], elementshape=(2,))\n",
      "                    \n",
      "    v.constrain([[0], [1]], m.facesLeft)\n",
      "    v.constrain([[1], [0]], m.facesRight)\n",
      "                    \n",
      "    eqn = TransientTerm([[1,0], [0,1]]) == DiffusionTerm([[[0.01, -1], [1, 0.01]]])\n",
      "                    \n",
      "    for t in range(1):\n",
      "        v.updateOld()\n",
      "        eqn.solve(var=v, dt=1.e-3)\n",
      "       \n"
     ],
     "language": "python",
     "metadata": {},
     "outputs": [],
     "prompt_number": 7
    },
    {
     "cell_type": "markdown",
     "metadata": {},
     "source": [
      "Runs python profiler and prints first 20 lines of output "
     ]
    },
    {
     "cell_type": "code",
     "collapsed": false,
     "input": [
      "def getTotalTime(nx=100):\n",
      "    filename = \"tmp.stats\"\n",
      "    cProfile.run('Coupled(nx={nx})'.format(nx=nx), filename=filename)\n",
      "    p = pstats.Stats(filename)\n",
      "    #p.strip_dirs().sort_stats(\"cumulative\").print_stats(20)                    \n",
      "    a = p.strip_dirs().sort_stats(\"cumulative\")\n",
      "    a.fcn_list[:10]\n",
      "    #for i in a.fcn_list[:10]:\n",
      "     #   i, a.stats[i][3]\n",
      "    return a.stats[a.fcn_list[0]][3]\n",
      "getTotalTime()\n"
     ],
     "language": "python",
     "metadata": {},
     "outputs": [
      {
       "output_type": "pyout",
       "prompt_number": 8,
       "text": [
        "12.942843999999999"
       ]
      }
     ],
     "prompt_number": 8
    },
    {
     "cell_type": "code",
     "collapsed": false,
     "input": [
      "step = 0\n",
      "for step in range(3):\n",
      "    nxs = []\n",
      "    for i in range(100, 10000, 100):\n",
      "        nxs.append(i)\n",
      "    print nxs    \n",
      "\n",
      "#nxs = [500, 1000, 2000, 4000]\n",
      "    times = []\n",
      "    for nx in nxs:\n",
      "        times.append(getTotalTime(nx))\n",
      "    print times \n",
      "    \n",
      "    "
     ],
     "language": "python",
     "metadata": {},
     "outputs": [
      {
       "output_type": "stream",
       "stream": "stdout",
       "text": [
        "[100, 200, 300, 400, 500, 600, 700, 800, 900, 1000, 1100, 1200, 1300, 1400, 1500, 1600, 1700, 1800, 1900, 2000, 2100, 2200, 2300, 2400, 2500, 2600, 2700, 2800, 2900, 3000, 3100, 3200, 3300, 3400, 3500, 3600, 3700, 3800, 3900, 4000, 4100, 4200, 4300, 4400, 4500, 4600, 4700, 4800, 4900, 5000, 5100, 5200, 5300, 5400, 5500, 5600, 5700, 5800, 5900, 6000, 6100, 6200, 6300, 6400, 6500, 6600, 6700, 6800, 6900, 7000, 7100, 7200, 7300, 7400, 7500, 7600, 7700, 7800, 7900, 8000, 8100, 8200, 8300, 8400, 8500, 8600, 8700, 8800, 8900, 9000, 9100, 9200, 9300, 9400, 9500, 9600, 9700, 9800, 9900]\n",
        "[13.008440999999999, 17.375730999999998, 8.9669170000000005, 7.5926269999999993, 6.9947349999999995, 6.6612589999999994, 6.4572439999999993, 6.4761340000000001, 6.3768050000000001, 6.3344480000000001, 6.3308059999999999, 6.338228, 6.3751299999999995, 6.4057959999999996, 6.3433489999999999, 6.4090039999999995, 6.5104999999999995, 6.5014029999999998, 6.5690359999999997, 6.6797870000000001, 6.6783339999999995, 6.7523070000000001, 6.8366679999999995, 6.8219289999999999, 6.9556739999999992, 6.9947919999999995, 7.0685609999999999, 7.161225, 7.2200530000000001, 7.3112969999999997, 7.3097829999999995, 7.3946489999999994, 7.4223279999999994, 7.6326309999999999, 7.5276829999999997, 7.5834630000000001, 7.7137909999999996, 7.7855549999999996, 7.9085659999999995, 8.0091909999999995, 7.9679959999999994, 8.1708259999999999, 8.2808709999999994, 8.2389609999999998, 8.2437079999999998, 8.4807129999999997, 8.4545149999999989, 8.5537879999999991, 8.6863539999999997, 8.765426999999999, 8.7129219999999989, 8.7302079999999993, 8.9590429999999994, 8.8802070000000004, 9.2105560000000004, 9.2878480000000003, 9.1373459999999991, 9.4058779999999995, 9.4740520000000004, 9.5778429999999997, 9.6555549999999997, 9.6769619999999996, 9.7762429999999991, 9.9830500000000004, 9.8627979999999997, 9.979868999999999, 10.008714999999999, 10.185525999999999, 10.239858999999999, 10.231861, 10.347733, 10.533362, 10.55204, 10.681284, 10.693496, 10.864438999999999, 10.966865, 10.942242, 11.067437, 11.419132999999999, 11.341165, 11.280697999999999, 11.338068999999999, 11.458083, 11.465275999999999, 11.645845999999999, 11.716925999999999, 11.70604, 11.927358, 11.89847, 11.679592999999999, 12.063507999999999, 11.963099999999999, 12.203928999999999, 12.180050999999999, 12.286914999999999, 12.335208999999999, 12.456837, 12.438855999999999]"
       ]
      },
      {
       "output_type": "stream",
       "stream": "stdout",
       "text": [
        "\n"
       ]
      }
     ],
     "prompt_number": 24
    },
    {
     "cell_type": "code",
     "collapsed": false,
     "input": [
      "import matplotlib.pyplot as plt\n",
      "\n",
      "plt.plot(nxs, times)"
     ],
     "language": "python",
     "metadata": {},
     "outputs": [
      {
       "output_type": "pyout",
       "prompt_number": 27,
       "text": [
        "[<matplotlib.lines.Line2D at 0x7fd0b8df8450>]"
       ]
      },
      {
       "output_type": "display_data",
       "png": "[encoded data removed]"
      }
     ],
     "prompt_number": 27
    },
    {
     "cell_type": "code",
     "collapsed": false,
     "input": [
      "plt.plot(nxs, times)"
     ],
     "language": "python",
     "metadata": {},
     "outputs": []
    }
   ],
   "metadata": {}
  }
 ]
}