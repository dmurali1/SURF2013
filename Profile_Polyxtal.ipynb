{
 "metadata": {
  "name": "Profile_Polyxtal"
 },
 "nbformat": 3,
 "nbformat_minor": 0,
 "worksheets": [
  {
   "cells": [
    {
     "cell_type": "markdown",
     "metadata": {},
     "source": [
      "This notebook contains both the time and profiling data for the Polyxtal example of FiPy. "
     ]
    },
    {
     "cell_type": "markdown",
     "metadata": {},
     "source": [
      "Time profiling data. "
     ]
    },
    {
     "cell_type": "code",
     "collapsed": false,
     "input": [
      "from fipyprofile import FiPyProfile\n",
      "from profiling_functions import FiPyProfileTime\n",
      "from polyxtal import PolyxtalSimulation\n",
      "import numpy as np"
     ],
     "language": "python",
     "metadata": {},
     "outputs": [],
     "prompt_number": 1
    },
    {
     "cell_type": "markdown",
     "metadata": {},
     "source": [
      "Profiler sorted by cumulative time for a small system size and five slowest functions are plotted against the full profile. "
     ]
    },
    {
     "cell_type": "code",
     "collapsed": false,
     "input": [
      "ncells = np.array(np.logspace(1, 6, 25), dtype=int)\n",
      "polyxtal = PolyxtalSimulation()\n",
      "prof = FiPyProfileTime(polyxtal.run, ncells, regenerate=True)\n",
      "keys = prof.get_sorted_keys(ncells[0], sort_field=\"cumulative\")\n",
      "prof.plot(keys[:5], \"cumulative\", doFullProfile=True)"
     ],
     "language": "python",
     "metadata": {},
     "outputs": [
      {
       "output_type": "stream",
       "stream": "stdout",
       "text": [
        "10\n",
        "16"
       ]
      },
      {
       "output_type": "stream",
       "stream": "stdout",
       "text": [
        "\n",
        "26"
       ]
      },
      {
       "output_type": "stream",
       "stream": "stdout",
       "text": [
        "\n",
        "42"
       ]
      },
      {
       "output_type": "stream",
       "stream": "stdout",
       "text": [
        "\n",
        "68"
       ]
      },
      {
       "output_type": "stream",
       "stream": "stdout",
       "text": [
        "\n",
        "110"
       ]
      },
      {
       "output_type": "stream",
       "stream": "stdout",
       "text": [
        "\n",
        "177"
       ]
      },
      {
       "output_type": "stream",
       "stream": "stdout",
       "text": [
        "\n",
        "287"
       ]
      },
      {
       "output_type": "stream",
       "stream": "stdout",
       "text": [
        "\n",
        "464"
       ]
      },
      {
       "output_type": "stream",
       "stream": "stdout",
       "text": [
        "\n",
        "749"
       ]
      },
      {
       "output_type": "stream",
       "stream": "stdout",
       "text": [
        "\n",
        "1211"
       ]
      },
      {
       "output_type": "stream",
       "stream": "stdout",
       "text": [
        "\n",
        "1957"
       ]
      },
      {
       "output_type": "stream",
       "stream": "stdout",
       "text": [
        "\n",
        "3162"
       ]
      },
      {
       "output_type": "stream",
       "stream": "stdout",
       "text": [
        "\n",
        "5108"
       ]
      },
      {
       "output_type": "stream",
       "stream": "stdout",
       "text": [
        "\n",
        "8254"
       ]
      },
      {
       "output_type": "stream",
       "stream": "stdout",
       "text": [
        "\n",
        "13335"
       ]
      },
      {
       "output_type": "stream",
       "stream": "stdout",
       "text": [
        "\n",
        "21544"
       ]
      },
      {
       "output_type": "stream",
       "stream": "stdout",
       "text": [
        "\n",
        "34807"
       ]
      },
      {
       "output_type": "stream",
       "stream": "stdout",
       "text": [
        "\n",
        "56234"
       ]
      },
      {
       "output_type": "stream",
       "stream": "stdout",
       "text": [
        "\n",
        "90851"
       ]
      },
      {
       "output_type": "stream",
       "stream": "stdout",
       "text": [
        "\n",
        "146779"
       ]
      },
      {
       "output_type": "stream",
       "stream": "stdout",
       "text": [
        "\n",
        "237137"
       ]
      },
      {
       "output_type": "stream",
       "stream": "stdout",
       "text": [
        "\n",
        "383118"
       ]
      },
      {
       "output_type": "stream",
       "stream": "stdout",
       "text": [
        "\n",
        "618965"
       ]
      },
      {
       "output_type": "stream",
       "stream": "stdout",
       "text": [
        "\n",
        "1000000"
       ]
      },
      {
       "output_type": "stream",
       "stream": "stdout",
       "text": [
        "\n",
        "10"
       ]
      },
      {
       "output_type": "stream",
       "stream": "stdout",
       "text": [
        " 16 26 42 68 110 177 287 464 749 "
       ]
      },
      {
       "output_type": "stream",
       "stream": "stdout",
       "text": [
        "1211 1957 3162 5108 8254 13335 21544 34807 "
       ]
      },
      {
       "output_type": "stream",
       "stream": "stdout",
       "text": [
        "56234 90851 146779 237137 383118 618965 1000000 polyxtal.py run\n",
        "10 "
       ]
      },
      {
       "output_type": "stream",
       "stream": "stdout",
       "text": [
        "16 26 42 68 110 177 287 464 749 "
       ]
      },
      {
       "output_type": "stream",
       "stream": "stdout",
       "text": [
        "1211 1957 3162 5108 8254 13335 21544 34807 56234 "
       ]
      },
      {
       "output_type": "stream",
       "stream": "stdout",
       "text": [
        "90851 146779 237137 383118 618965 1000000 polyxtal.py time_step\n",
        "10 16 26 "
       ]
      },
      {
       "output_type": "stream",
       "stream": "stdout",
       "text": [
        "42 68 110 177 287 464 749 1211 1957 "
       ]
      },
      {
       "output_type": "stream",
       "stream": "stdout",
       "text": [
        "3162 5108 8254 13335 21544 34807 56234 90851 146779 "
       ]
      },
      {
       "output_type": "stream",
       "stream": "stdout",
       "text": [
        "237137 383118 618965 1000000 /users/ddm1/fipy/fipy/terms/term.py solve\n",
        "10 16 26 42 68 "
       ]
      },
      {
       "output_type": "stream",
       "stream": "stdout",
       "text": [
        "110 177 287 464 749 1211 1957 3162 5108 "
       ]
      },
      {
       "output_type": "stream",
       "stream": "stdout",
       "text": [
        "8254 13335 21544 34807 56234 90851 146779 237137 383118 "
       ]
      },
      {
       "output_type": "stream",
       "stream": "stdout",
       "text": [
        "618965 1000000 /users/ddm1/fipy/fipy/terms/term.py _prepareLinearSystem\n",
        "10 16 26 42 68 110 177 "
       ]
      },
      {
       "output_type": "stream",
       "stream": "stdout",
       "text": [
        "287 464 749 1211 1957 3162 5108 8254 13335 "
       ]
      },
      {
       "output_type": "stream",
       "stream": "stdout",
       "text": [
        "21544 34807 56234 90851 146779 237137 383118 618965 1000000 "
       ]
      },
      {
       "output_type": "stream",
       "stream": "stdout",
       "text": [
        "/users/ddm1/fipy/fipy/terms/binaryTerm.py _buildAndAddMatrices\n",
        "10 16 26 42 68 110 177 287 "
       ]
      },
      {
       "output_type": "stream",
       "stream": "stdout",
       "text": [
        "464 749 1211 1957 3162 5108 8254 13335 21544 "
       ]
      },
      {
       "output_type": "stream",
       "stream": "stdout",
       "text": [
        "34807 56234 90851 146779 237137 383118 618965 1000000"
       ]
      },
      {
       "output_type": "display_data",
       "png": "[encoded data removed]"
      },
      {
       "output_type": "stream",
       "stream": "stdout",
       "text": [
        "\n"
       ]
      }
     ],
     "prompt_number": 6
    },
    {
     "cell_type": "markdown",
     "metadata": {},
     "source": [
      "Profiler sorted by cumulative time for a large system size and five slowest functions are plotted against the full profile."
     ]
    },
    {
     "cell_type": "code",
     "collapsed": false,
     "input": [
      "ncells = np.array(np.logspace(1, 6, 25), dtype=int)\n",
      "polyxtal = PolyxtalSimulation()\n",
      "prof = FiPyProfileTime(polyxtal.run, ncells, regenerate=True)\n",
      "keys = prof.get_sorted_keys(ncells[-1], sort_field=\"cumulative\")\n",
      "prof.plot(keys[:5], \"cumulative\", doFullProfile=True)"
     ],
     "language": "python",
     "metadata": {},
     "outputs": [
      {
       "output_type": "stream",
       "stream": "stdout",
       "text": [
        "10\n",
        "16"
       ]
      },
      {
       "output_type": "stream",
       "stream": "stdout",
       "text": [
        "\n",
        "26"
       ]
      },
      {
       "output_type": "stream",
       "stream": "stdout",
       "text": [
        "\n",
        "42"
       ]
      },
      {
       "output_type": "stream",
       "stream": "stdout",
       "text": [
        "\n",
        "68"
       ]
      },
      {
       "output_type": "stream",
       "stream": "stdout",
       "text": [
        "\n",
        "110"
       ]
      },
      {
       "output_type": "stream",
       "stream": "stdout",
       "text": [
        "\n",
        "177"
       ]
      },
      {
       "output_type": "stream",
       "stream": "stdout",
       "text": [
        "\n",
        "287"
       ]
      },
      {
       "output_type": "stream",
       "stream": "stdout",
       "text": [
        "\n",
        "464"
       ]
      },
      {
       "output_type": "stream",
       "stream": "stdout",
       "text": [
        "\n",
        "749"
       ]
      },
      {
       "output_type": "stream",
       "stream": "stdout",
       "text": [
        "\n",
        "1211"
       ]
      },
      {
       "output_type": "stream",
       "stream": "stdout",
       "text": [
        "\n",
        "1957"
       ]
      },
      {
       "output_type": "stream",
       "stream": "stdout",
       "text": [
        "\n",
        "3162"
       ]
      },
      {
       "output_type": "stream",
       "stream": "stdout",
       "text": [
        "\n",
        "5108"
       ]
      },
      {
       "output_type": "stream",
       "stream": "stdout",
       "text": [
        "\n",
        "8254"
       ]
      },
      {
       "output_type": "stream",
       "stream": "stdout",
       "text": [
        "\n",
        "13335"
       ]
      },
      {
       "output_type": "stream",
       "stream": "stdout",
       "text": [
        "\n",
        "21544"
       ]
      },
      {
       "output_type": "stream",
       "stream": "stdout",
       "text": [
        "\n",
        "34807"
       ]
      },
      {
       "output_type": "stream",
       "stream": "stdout",
       "text": [
        "\n",
        "56234"
       ]
      },
      {
       "output_type": "stream",
       "stream": "stdout",
       "text": [
        "\n",
        "90851"
       ]
      },
      {
       "output_type": "stream",
       "stream": "stdout",
       "text": [
        "\n",
        "146779"
       ]
      },
      {
       "output_type": "stream",
       "stream": "stdout",
       "text": [
        "\n",
        "237137"
       ]
      },
      {
       "output_type": "stream",
       "stream": "stdout",
       "text": [
        "\n",
        "383118"
       ]
      },
      {
       "output_type": "stream",
       "stream": "stdout",
       "text": [
        "\n",
        "618965"
       ]
      },
      {
       "output_type": "stream",
       "stream": "stdout",
       "text": [
        "\n",
        "1000000"
       ]
      },
      {
       "output_type": "stream",
       "stream": "stdout",
       "text": [
        "\n",
        "10"
       ]
      },
      {
       "output_type": "stream",
       "stream": "stdout",
       "text": [
        " 16 26 42 68 110 177 287 464 749 "
       ]
      },
      {
       "output_type": "stream",
       "stream": "stdout",
       "text": [
        "1211 1957 3162 5108 8254 13335 21544 34807 56234 "
       ]
      },
      {
       "output_type": "stream",
       "stream": "stdout",
       "text": [
        "90851 146779 237137 383118 618965 1000000 polyxtal.py run\n",
        "10 16 "
       ]
      },
      {
       "output_type": "stream",
       "stream": "stdout",
       "text": [
        "26 42 68 110 177 287 464 749 1211 "
       ]
      },
      {
       "output_type": "stream",
       "stream": "stdout",
       "text": [
        "1957 3162 5108 8254 13335 21544 34807 56234 90851 "
       ]
      },
      {
       "output_type": "stream",
       "stream": "stdout",
       "text": [
        "146779 237137 383118 618965 1000000 polyxtal.py time_step\n",
        "10 16 26 42 "
       ]
      },
      {
       "output_type": "stream",
       "stream": "stdout",
       "text": [
        "68 110 177 287 464 749 1211 1957 3162 "
       ]
      },
      {
       "output_type": "stream",
       "stream": "stdout",
       "text": [
        "5108 8254 13335 21544 34807 56234 90851 146779 237137 "
       ]
      },
      {
       "output_type": "stream",
       "stream": "stdout",
       "text": [
        "383118 618965 1000000 /users/ddm1/fipy/fipy/terms/term.py solve\n",
        "10 16 26 42 68 110 "
       ]
      },
      {
       "output_type": "stream",
       "stream": "stdout",
       "text": [
        "177 287 464 749 1211 1957 3162 5108 8254 "
       ]
      },
      {
       "output_type": "stream",
       "stream": "stdout",
       "text": [
        "13335 21544 34807 56234 90851 146779 237137 383118 618965 "
       ]
      },
      {
       "output_type": "stream",
       "stream": "stdout",
       "text": [
        "1000000 /users/ddm1/fipy/fipy/terms/term.py _prepareLinearSystem\n",
        "10 16 26 42 68 110 177 "
       ]
      },
      {
       "output_type": "stream",
       "stream": "stdout",
       "text": [
        "287 464 749 1211 1957 3162 5108 8254 13335 "
       ]
      },
      {
       "output_type": "stream",
       "stream": "stdout",
       "text": [
        "21544 34807 56234 90851 146779 237137 383118 618965 1000000 "
       ]
      },
      {
       "output_type": "stream",
       "stream": "stdout",
       "text": [
        "/users/ddm1/fipy/fipy/terms/binaryTerm.py _buildAndAddMatrices\n",
        "10 16 26 42 68 110 177 287 464 "
       ]
      },
      {
       "output_type": "stream",
       "stream": "stdout",
       "text": [
        "749 1211 1957 3162 5108 8254 13335 21544 34807 "
       ]
      },
      {
       "output_type": "stream",
       "stream": "stdout",
       "text": [
        "56234 90851 146779 237137 383118 618965 1000000"
       ]
      },
      {
       "output_type": "display_data",
       "png": "[encoded data removed]"
      },
      {
       "output_type": "stream",
       "stream": "stdout",
       "text": [
        "\n"
       ]
      }
     ],
     "prompt_number": 8
    },
    {
     "cell_type": "markdown",
     "metadata": {},
     "source": [
      "Profiler sorted by time in each function for a small system size and five slowest functions are plotted against the full profile."
     ]
    },
    {
     "cell_type": "code",
     "collapsed": false,
     "input": [
      "ncells = np.array(np.logspace(1, 6, 25), dtype=int)\n",
      "polyxtal = PolyxtalSimulation()\n",
      "prof = FiPyProfileTime(polyxtal.run, ncells, regenerate=True)\n",
      "keys = prof.get_sorted_keys(ncells[0], sort_field=\"time\")\n",
      "prof.plot(keys[:5], \"time\", doFullProfile=True)"
     ],
     "language": "python",
     "metadata": {},
     "outputs": [
      {
       "output_type": "stream",
       "stream": "stdout",
       "text": [
        "10\n",
        "16"
       ]
      },
      {
       "output_type": "stream",
       "stream": "stdout",
       "text": [
        "\n",
        "26"
       ]
      },
      {
       "output_type": "stream",
       "stream": "stdout",
       "text": [
        "\n",
        "42"
       ]
      },
      {
       "output_type": "stream",
       "stream": "stdout",
       "text": [
        "\n",
        "68"
       ]
      },
      {
       "output_type": "stream",
       "stream": "stdout",
       "text": [
        "\n",
        "110"
       ]
      },
      {
       "output_type": "stream",
       "stream": "stdout",
       "text": [
        "\n",
        "177"
       ]
      },
      {
       "output_type": "stream",
       "stream": "stdout",
       "text": [
        "\n",
        "287"
       ]
      },
      {
       "output_type": "stream",
       "stream": "stdout",
       "text": [
        "\n",
        "464"
       ]
      },
      {
       "output_type": "stream",
       "stream": "stdout",
       "text": [
        "\n",
        "749"
       ]
      },
      {
       "output_type": "stream",
       "stream": "stdout",
       "text": [
        "\n",
        "1211"
       ]
      },
      {
       "output_type": "stream",
       "stream": "stdout",
       "text": [
        "\n",
        "1957"
       ]
      },
      {
       "output_type": "stream",
       "stream": "stdout",
       "text": [
        "\n",
        "3162"
       ]
      },
      {
       "output_type": "stream",
       "stream": "stdout",
       "text": [
        "\n",
        "5108"
       ]
      },
      {
       "output_type": "stream",
       "stream": "stdout",
       "text": [
        "\n",
        "8254"
       ]
      },
      {
       "output_type": "stream",
       "stream": "stdout",
       "text": [
        "\n",
        "13335"
       ]
      },
      {
       "output_type": "stream",
       "stream": "stdout",
       "text": [
        "\n",
        "21544"
       ]
      },
      {
       "output_type": "stream",
       "stream": "stdout",
       "text": [
        "\n",
        "34807"
       ]
      },
      {
       "output_type": "stream",
       "stream": "stdout",
       "text": [
        "\n",
        "56234"
       ]
      },
      {
       "output_type": "stream",
       "stream": "stdout",
       "text": [
        "\n",
        "90851"
       ]
      },
      {
       "output_type": "stream",
       "stream": "stdout",
       "text": [
        "\n",
        "146779"
       ]
      },
      {
       "output_type": "stream",
       "stream": "stdout",
       "text": [
        "\n",
        "237137"
       ]
      },
      {
       "output_type": "stream",
       "stream": "stdout",
       "text": [
        "\n",
        "383118"
       ]
      },
      {
       "output_type": "stream",
       "stream": "stdout",
       "text": [
        "\n",
        "618965"
       ]
      },
      {
       "output_type": "stream",
       "stream": "stdout",
       "text": [
        "\n",
        "1000000"
       ]
      },
      {
       "output_type": "stream",
       "stream": "stdout",
       "text": [
        "\n",
        "10"
       ]
      },
      {
       "output_type": "stream",
       "stream": "stdout",
       "text": [
        " 16 26 42 68 110 177 287 464 749 "
       ]
      },
      {
       "output_type": "stream",
       "stream": "stdout",
       "text": [
        "1211 1957 3162 5108 8254 13335 21544 34807 56234 "
       ]
      },
      {
       "output_type": "stream",
       "stream": "stdout",
       "text": [
        "90851 146779 237137 383118 618965 1000000 ~ <getattr>\n",
        "10 16 "
       ]
      },
      {
       "output_type": "stream",
       "stream": "stdout",
       "text": [
        "26 42 68 110 177 287 464 749 1211 "
       ]
      },
      {
       "output_type": "stream",
       "stream": "stdout",
       "text": [
        "1957 3162 5108 8254 13335 21544 34807 56234 90851 "
       ]
      },
      {
       "output_type": "stream",
       "stream": "stdout",
       "text": [
        "146779 237137 383118 618965 1000000 /users/ddm1/.virtualenvs/venv1/lib/python2.6/site-packages/numpy/ma/core.py _update_from\n",
        "10 16 26 42 "
       ]
      },
      {
       "output_type": "stream",
       "stream": "stdout",
       "text": [
        "68 110 177 287 464 749 1211 1957 3162 "
       ]
      },
      {
       "output_type": "stream",
       "stream": "stdout",
       "text": [
        "5108 8254 13335 21544 34807 56234 90851 146779 237137 "
       ]
      },
      {
       "output_type": "stream",
       "stream": "stdout",
       "text": [
        "383118 618965 1000000 ~ <method 'reduce' of 'numpy.ufunc' objects>\n",
        "10 16 26 42 68 110 "
       ]
      },
      {
       "output_type": "stream",
       "stream": "stdout",
       "text": [
        "177 287 464 749 1211 1957 3162 5108 8254 "
       ]
      },
      {
       "output_type": "stream",
       "stream": "stdout",
       "text": [
        "13335 21544 34807 56234 90851 146779 237137 383118 618965 "
       ]
      },
      {
       "output_type": "stream",
       "stream": "stdout",
       "text": [
        "1000000 /users/ddm1/fipy/fipy/variables/variable.py _getValue\n",
        "10 16 26 42 68 110 177 287 "
       ]
      },
      {
       "output_type": "stream",
       "stream": "stdout",
       "text": [
        "464 749 1211 1957 3162 5108 8254 13335 21544 "
       ]
      },
      {
       "output_type": "stream",
       "stream": "stdout",
       "text": [
        "34807 56234 90851 146779 237137 383118 618965 1000000 /users/ddm1/.virtualenvs/venv1/lib/python2.6/site-packages/numpy/ma/core.py __new__\n",
        "10 "
       ]
      },
      {
       "output_type": "stream",
       "stream": "stdout",
       "text": [
        "16 26 42 68 110 177 287 464 749 "
       ]
      },
      {
       "output_type": "stream",
       "stream": "stdout",
       "text": [
        "1211 1957 3162 5108 8254 13335 21544 34807 56234 "
       ]
      },
      {
       "output_type": "stream",
       "stream": "stdout",
       "text": [
        "90851 146779 237137 383118 618965 1000000"
       ]
      },
      {
       "output_type": "stream",
       "stream": "stderr",
       "text": [
        "Exception in thread Thread-2:\n",
        "Traceback (most recent call last):\n",
        "  File \"/usr/lib/python2.6/threading.py\", line 532, in __bootstrap_inner\n",
        "    self.run()\n",
        "  File \"/users/ddm1/.virtualenvs/venv1/lib/python2.6/site-packages/IPython/zmq/heartbeat.py\", line 47, in run\n",
        "    zmq.device(zmq.FORWARDER, self.socket, self.socket)\n",
        "  File \"device.pyx\", line 55, in zmq.core.device.device (zmq/core/device.c:754)\n",
        "ZMQError: Interrupted system call\n",
        "\n"
       ]
      },
      {
       "output_type": "display_data",
       "png": "[encoded data removed]"
      },
      {
       "output_type": "stream",
       "stream": "stdout",
       "text": [
        "\n"
       ]
      }
     ],
     "prompt_number": 9
    },
    {
     "cell_type": "markdown",
     "metadata": {},
     "source": [
      "Profiler sorted by time in each function for a large system size and five slowest functions are plotted against the full profile."
     ]
    },
    {
     "cell_type": "code",
     "collapsed": false,
     "input": [
      "ncells = np.array(np.logspace(1, 6, 25), dtype=int)\n",
      "polyxtal = PolyxtalSimulation()\n",
      "prof = FiPyProfileTime(polyxtal.run, ncells, regenerate=False)\n",
      "keys = prof.get_sorted_keys(ncells[-1], sort_field=\"time\")\n",
      "prof.plot(keys[:5], \"time\", doFullProfile=True)"
     ],
     "language": "python",
     "metadata": {},
     "outputs": [
      {
       "output_type": "stream",
       "stream": "stdout",
       "text": [
        "10 16 26 42 68 110 177 287 464 "
       ]
      },
      {
       "output_type": "stream",
       "stream": "stdout",
       "text": [
        "749 1211 1957 3162 5108 8254 13335 21544 34807 "
       ]
      },
      {
       "output_type": "stream",
       "stream": "stdout",
       "text": [
        "56234 90851 146779 237137 383118 618965 1000000 ~ <pysparse.itsolvers.pcg>\n",
        "10 16 "
       ]
      },
      {
       "output_type": "stream",
       "stream": "stdout",
       "text": [
        "26 42 68 110 177 287 464 749 1211 "
       ]
      },
      {
       "output_type": "stream",
       "stream": "stdout",
       "text": [
        "1957 3162 5108 8254 13335 21544 34807 56234 90851 146779 "
       ]
      },
      {
       "output_type": "stream",
       "stream": "stdout",
       "text": [
        "237137 383118 618965 1000000 ~ <numpy.core.multiarray.array>\n",
        "10 16 26 42 68 "
       ]
      },
      {
       "output_type": "stream",
       "stream": "stdout",
       "text": [
        "110 177 287 464 749 1211 1957 3162 "
       ]
      },
      {
       "output_type": "stream",
       "stream": "stdout",
       "text": [
        "5108 8254 13335 21544 34807 56234 90851 146779 237137 383118 "
       ]
      },
      {
       "output_type": "stream",
       "stream": "stdout",
       "text": [
        "618965 1000000 ~ <method 'take' of 'numpy.ndarray' objects>\n",
        "10 16 26 42 68 110 177 "
       ]
      },
      {
       "output_type": "stream",
       "stream": "stdout",
       "text": [
        "287 464 749 1211 1957 3162 5108 8254 13335 21544 "
       ]
      },
      {
       "output_type": "stream",
       "stream": "stdout",
       "text": [
        "34807 56234 90851 146779 237137 383118 618965 1000000 ~ <built-in method shift>\n",
        "10 "
       ]
      },
      {
       "output_type": "stream",
       "stream": "stdout",
       "text": [
        "16 26 42 68 110 177 287 464 749 1211 "
       ]
      },
      {
       "output_type": "stream",
       "stream": "stdout",
       "text": [
        "1957 3162 5108 8254 13335 21544 34807 56234 90851 146779 "
       ]
      },
      {
       "output_type": "stream",
       "stream": "stdout",
       "text": [
        "237137 383118 618965 1000000 /users/ddm1/fipy/fipy/variables/variable.py <lambda>\n",
        "10 16 26 42 68 "
       ]
      },
      {
       "output_type": "stream",
       "stream": "stdout",
       "text": [
        "110 177 287 464 749 1211 1957 3162 5108 "
       ]
      },
      {
       "output_type": "stream",
       "stream": "stdout",
       "text": [
        "8254 13335 21544 34807 56234 90851 146779 237137 383118 618965 "
       ]
      },
      {
       "output_type": "stream",
       "stream": "stdout",
       "text": [
        "1000000"
       ]
      },
      {
       "output_type": "stream",
       "stream": "stderr",
       "text": [
        "Exception in thread Thread-2:\n",
        "Traceback (most recent call last):\n",
        "  File \"/usr/lib/python2.6/threading.py\", line 532, in __bootstrap_inner\n",
        "    self.run()\n",
        "  File \"/users/ddm1/.virtualenvs/venv1/lib/python2.6/site-packages/IPython/zmq/heartbeat.py\", line 47, in run\n",
        "    zmq.device(zmq.FORWARDER, self.socket, self.socket)\n",
        "  File \"device.pyx\", line 55, in zmq.core.device.device (zmq/core/device.c:754)\n",
        "ZMQError: Interrupted system call\n",
        "\n"
       ]
      },
      {
       "output_type": "display_data",
       "png": "[encoded data removed]"
      },
      {
       "output_type": "stream",
       "stream": "stdout",
       "text": [
        "\n"
       ]
      }
     ],
     "prompt_number": 2
    },
    {
     "cell_type": "markdown",
     "metadata": {},
     "source": [
      "Profiler scaled using $ncells^2$ and $nlog(n)$"
     ]
    },
    {
     "cell_type": "code",
     "collapsed": false,
     "input": [
      "ncells = np.array(np.logspace(1, 6, 25), dtype=int)\n",
      "polyxtal = PolyxtalSimulation()\n",
      "prof = FiPyProfileTime(polyxtal.run, ncells, regenerate=False)\n",
      "keys = prof.get_sorted_keys(ncells[0], sort_field=\"time\")\n",
      "prof.plot(keys[:5], \"time\", doFullProfile=True)"
     ],
     "language": "python",
     "metadata": {},
     "outputs": [
      {
       "output_type": "stream",
       "stream": "stdout",
       "text": [
        "10 16 26 42 68 110 177 287 464 "
       ]
      },
      {
       "output_type": "stream",
       "stream": "stdout",
       "text": [
        "749 1211 1957 3162 5108 8254 13335 21544 34807 "
       ]
      },
      {
       "output_type": "stream",
       "stream": "stdout",
       "text": [
        "56234 90851 146779 237137 383118 618965 1000000 ~ <getattr>\n",
        "10 16 "
       ]
      },
      {
       "output_type": "stream",
       "stream": "stdout",
       "text": [
        "26 42 68 110 177 287 464 749 1211 "
       ]
      },
      {
       "output_type": "stream",
       "stream": "stdout",
       "text": [
        "1957 3162 5108 8254 13335 21544 34807 56234 90851 146779 "
       ]
      },
      {
       "output_type": "stream",
       "stream": "stdout",
       "text": [
        "237137 383118 618965 1000000 ~ <method 'reduce' of 'numpy.ufunc' objects>\n",
        "10 16 26 42 68 "
       ]
      },
      {
       "output_type": "stream",
       "stream": "stdout",
       "text": [
        "110 177 287 464 749 1211 1957 3162 5108 8254 "
       ]
      },
      {
       "output_type": "stream",
       "stream": "stdout",
       "text": [
        "13335 21544 34807 56234 90851 146779 237137 383118 618965 1000000 "
       ]
      },
      {
       "output_type": "stream",
       "stream": "stdout",
       "text": [
        "/users/ddm1/.virtualenvs/venv1/lib/python2.6/site-packages/numpy/ma/core.py _update_from\n",
        "10 16 26 42 68 110 177 287 464 749 "
       ]
      },
      {
       "output_type": "stream",
       "stream": "stdout",
       "text": [
        "1211 1957 3162 5108 8254 13335 21544 34807 56234 "
       ]
      },
      {
       "output_type": "stream",
       "stream": "stdout",
       "text": [
        "90851 146779 237137 383118 618965 1000000 /users/ddm1/fipy/fipy/variables/variable.py _getValue\n",
        "10 16 26 "
       ]
      },
      {
       "output_type": "stream",
       "stream": "stdout",
       "text": [
        "42 68 110 177 287 464 749 1211 1957 "
       ]
      },
      {
       "output_type": "stream",
       "stream": "stdout",
       "text": [
        "3162 5108 8254 13335 21544 34807 56234 90851 146779 237137 "
       ]
      },
      {
       "output_type": "stream",
       "stream": "stdout",
       "text": [
        "383118 618965 1000000 /users/ddm1/.virtualenvs/venv1/lib/python2.6/site-packages/numpy/ma/core.py __new__\n",
        "10 16 26 42 68 110 "
       ]
      },
      {
       "output_type": "stream",
       "stream": "stdout",
       "text": [
        "177 287 464 749 1211 1957 3162 5108 8254 13335 "
       ]
      },
      {
       "output_type": "stream",
       "stream": "stdout",
       "text": [
        "21544 34807 56234 90851 146779 237137 383118 618965 1000000"
       ]
      },
      {
       "output_type": "stream",
       "stream": "stderr",
       "text": [
        "Exception in thread Thread-2:\n",
        "Traceback (most recent call last):\n",
        "  File \"/usr/lib/python2.6/threading.py\", line 532, in __bootstrap_inner\n",
        "    self.run()\n",
        "  File \"/users/ddm1/.virtualenvs/venv1/lib/python2.6/site-packages/IPython/zmq/heartbeat.py\", line 47, in run\n",
        "    zmq.device(zmq.FORWARDER, self.socket, self.socket)\n",
        "  File \"device.pyx\", line 55, in zmq.core.device.device (zmq/core/device.c:754)\n",
        "ZMQError: Interrupted system call\n",
        "\n"
       ]
      },
      {
       "output_type": "display_data",
       "png": "[encoded data removed]"
      },
      {
       "output_type": "stream",
       "stream": "stdout",
       "text": [
        "\n"
       ]
      }
     ],
     "prompt_number": 2
    },
    {
     "cell_type": "code",
     "collapsed": false,
     "input": [
      "from profiling_memory import MemoryProfiler\n",
      "from polyxtal import func\n",
      "memoryProfiler = MemoryProfiler(profileMethod=PolyxtalSimulation.setup, runfunc=func)\n",
      "memoryProfiler.profile(20000)\n",
      "print memoryProfiler.codeMap"
     ],
     "language": "python",
     "metadata": {},
     "outputs": [
      {
       "output_type": "stream",
       "stream": "stdout",
       "text": [
        "nx: 141\n",
        "{<code object setup at 0x41c1558, file \"polyxtal.py\", line 10>: {12: [82.890625], 13: [82.890625], 14: [82.89453125], 15: [82.89453125], 17: [82.953125], 19: [82.953125], 21: [83.5234375], 23: [83.8359375], 24: [84.4296875], 27: [84.4296875], 28: [84.4296875], 29: [84.4296875], 30: [84.4296875], 33: [84.4296875], 35: [84.46484375], 36: [84.46484375], 37: [84.46484375], 38: [84.46484375], 39: [95.828125], 40: [97.67578125], 41: [97.67578125], 42: [97.67578125], 43: [97.67578125], 44: [97.67578125], 45: [97.67578125], 46: [97.67578125], 47: [97.67578125], 48: [97.67578125], 50: [97.67578125], 51: [97.67578125], 52: [97.67578125], 53: [97.67578125], 54: [97.67578125], 55: [97.67578125], 56: [97.67578125], 57: [97.67578125], 58: [97.67578125], 59: [97.67578125], 60: [97.67578125], 62: [97.67578125], 63: [97.67578125], 64: [97.67578125], 65: [97.67578125], 66: [97.67578125], 67: [97.67578125], 68: [97.67578125], 69: [97.67578125], 70: [97.67578125], 71: [97.67578125], 72: [100.40234375], 73: [100.40234375], 74: [100.40234375], 75: [100.40234375], 76: [100.40234375], 78: [100.40234375], 79: [100.40234375], 80: [100.40234375], 82: [102.484375], 83: [102.484375], 84: [102.484375], 85: [102.484375, 102.48828125, 102.48828125, 102.48828125, 102.48828125, 102.48828125, 102.48828125, 102.48828125, 102.48828125, 102.48828125, 102.48828125], 86: [102.484375, 102.48828125, 102.48828125, 102.48828125, 102.48828125, 102.48828125, 102.48828125, 102.48828125, 102.48828125, 102.48828125], 87: [102.484375, 102.48828125, 102.48828125, 102.48828125, 102.48828125, 102.48828125, 102.48828125, 102.48828125, 102.48828125, 102.48828125], 88: [102.484375, 102.48828125, 102.48828125, 102.48828125, 102.48828125, 102.48828125, 102.48828125, 102.48828125, 102.48828125, 102.48828125], 89: [102.48828125, 102.48828125, 102.48828125, 102.48828125, 102.48828125, 102.48828125, 102.48828125, 102.48828125, 102.48828125, 102.48828125], 91: [102.48828125], 93: [102.48828125], 95: [102.48828125], 96: [102.48828125], 97: [102.48828125], 99: [102.48828125], 100: [102.48828125], 101: [102.48828125], 102: [102.48828125], 103: [102.48828125], 104: [102.48828125, 143.01171875, 160.27734375], 105: [102.48828125, 143.01171875, 160.27734375]}}"
       ]
      },
      {
       "output_type": "stream",
       "stream": "stdout",
       "text": [
        "\n"
       ]
      },
      {
       "output_type": "stream",
       "stream": "stderr",
       "text": [
        "/users/ddm1/fipy/fipy/solvers/pysparse/pysparseSolver.py:76: DeprecationWarning: PyArray_FromDimsAndDataAndDescr: use PyArray_NewFromDescr.\n",
        "  self.iterations, P)\n"
       ]
      }
     ],
     "prompt_number": 5
    },
    {
     "cell_type": "code",
     "collapsed": false,
     "input": [
      "from profiling_memory import MemoryProfiler\n",
      "from polyxtal import func\n",
      "memoryProfiler = MemoryProfiler(profileMethod=PolyxtalSimulation.setup, runfunc=func)\n",
      "memoryProfiler.profile(10000)\n",
      "print memoryProfiler.codeMap"
     ],
     "language": "python",
     "metadata": {},
     "outputs": [
      {
       "output_type": "stream",
       "stream": "stdout",
       "text": [
        "nx: 100\n",
        "{<code object setup at 0x3492d50, file \"polyxtal.py\", line 10>: {12: [82.2109375], 13: [82.2109375], 14: [82.21484375], 15: [82.21484375], 17: [82.3046875], 19: [82.3046875], 21: [82.63671875], 23: [82.796875], 24: [83.11328125], 27: [83.11328125], 28: [83.11328125], 29: [83.11328125], 30: [83.11328125], 33: [83.11328125], 35: [83.15625], 36: [83.15625], 37: [83.15625], 38: [83.15625], 39: [88.9453125], 40: [89.87890625], 41: [89.87890625], 42: [89.87890625], 43: [89.87890625], 44: [89.87890625], 45: [89.87890625], 46: [89.87890625], 47: [89.87890625], 48: [89.87890625], 50: [89.87890625], 51: [89.87890625], 52: [89.87890625], 53: [89.87890625], 54: [89.87890625], 55: [89.87890625], 56: [89.87890625], 57: [89.87890625], 58: [89.87890625], 59: [89.87890625], 60: [89.87890625], 62: [89.87890625], 63: [89.87890625], 64: [89.87890625], 65: [89.87890625], 66: [89.87890625], 67: [89.87890625], 68: [89.87890625], 69: [89.87890625], 70: [89.87890625], 71: [89.87890625], 72: [91.7734375], 73: [91.7734375], 74: [91.7734375], 75: [91.7734375], 76: [91.7734375], 78: [91.7734375], 79: [91.7734375], 80: [91.7734375], 82: [92.48046875], 83: [92.48046875], 84: [92.48046875], 85: [92.48046875, 92.48828125, 92.48828125, 92.48828125, 92.48828125, 92.48828125, 92.48828125, 92.48828125, 92.48828125, 92.48828125, 92.48828125], 86: [92.484375, 92.48828125, 92.48828125, 92.48828125, 92.48828125, 92.48828125, 92.48828125, 92.48828125, 92.48828125, 92.48828125], 87: [92.484375, 92.48828125, 92.48828125, 92.48828125, 92.48828125, 92.48828125, 92.48828125, 92.48828125, 92.48828125, 92.48828125], 88: [92.484375, 92.48828125, 92.48828125, 92.48828125, 92.48828125, 92.48828125, 92.48828125, 92.48828125, 92.48828125, 92.48828125], 89: [92.48828125, 92.48828125, 92.48828125, 92.48828125, 92.48828125, 92.48828125, 92.48828125, 92.48828125, 92.48828125, 92.48828125], 91: [92.48828125], 93: [92.48828125], 95: [92.48828125], 96: [92.48828125], 97: [92.48828125], 99: [92.48828125], 100: [92.48828125], 101: [92.48828125], 102: [92.48828125], 103: [92.48828125], 104: [92.48828125, 116.265625, 124.359375], 105: [92.48828125, 116.265625, 124.359375]}}"
       ]
      },
      {
       "output_type": "stream",
       "stream": "stdout",
       "text": [
        "\n"
       ]
      },
      {
       "output_type": "stream",
       "stream": "stderr",
       "text": [
        "/users/ddm1/fipy/fipy/solvers/pysparse/pysparseSolver.py:76: DeprecationWarning: PyArray_FromDimsAndDataAndDescr: use PyArray_NewFromDescr.\n",
        "  self.iterations, P)\n"
       ]
      }
     ],
     "prompt_number": 2
    },
    {
     "cell_type": "code",
     "collapsed": false,
     "input": [
      "from profiling_memory import MemoryProfiler\n",
      "from polyxtal import func\n",
      "memoryProfiler = MemoryProfiler(profileMethod=PolyxtalSimulation.setup, runfunc=func)\n",
      "memoryProfiler.profile(40000)\n",
      "print memoryProfiler.codeMap"
     ],
     "language": "python",
     "metadata": {},
     "outputs": [
      {
       "output_type": "stream",
       "stream": "stdout",
       "text": [
        "nx: 200\n",
        "{<code object setup at 0x46d5d50, file \"polyxtal.py\", line 10>: {12: [82.76171875], 13: [82.76171875], 14: [82.765625], 15: [82.765625], 17: [82.8671875], 19: [82.8671875], 21: [83.89453125], 23: [84.515625], 24: [85.44921875], 27: [85.44921875], 28: [85.44921875], 29: [85.44921875], 30: [85.44921875], 33: [85.44921875], 35: [85.484375], 36: [85.484375], 37: [85.484375], 38: [85.484375], 39: [107.7734375], 40: [107.80859375], 41: [107.84765625], 42: [107.86328125], 43: [107.8828125], 44: [107.90234375], 45: [107.9140625], 46: [107.9140625], 47: [107.9140625], 48: [107.9140625], 50: [107.9140625], 51: [107.9140625], 52: [107.9140625], 53: [107.9140625], 54: [107.9140625], 55: [107.9140625], 56: [107.91796875], 57: [107.91796875], 58: [107.91796875], 59: [107.9296875], 60: [107.9296875], 62: [107.9296875], 63: [107.9296875], 64: [107.9296875], 65: [107.9296875], 66: [107.9296875], 67: [107.9296875], 68: [107.9296875], 69: [107.9296875], 70: [107.9296875], 71: [107.9296875], 72: [113.44921875], 73: [113.44921875], 74: [113.44921875], 75: [113.44921875], 76: [113.44921875], 78: [113.44921875], 79: [113.44921875], 80: [113.44921875], 82: [119.55078125], 83: [119.55078125], 84: [119.55078125], 85: [119.55078125, 119.5546875, 119.5546875, 119.5546875, 119.5546875, 119.5546875, 119.5546875, 119.5546875, 119.5546875, 119.5546875, 119.5546875], 86: [119.55078125, 119.5546875, 119.5546875, 119.5546875, 119.5546875, 119.5546875, 119.5546875, 119.5546875, 119.5546875, 119.5546875], 87: [119.55078125, 119.5546875, 119.5546875, 119.5546875, 119.5546875, 119.5546875, 119.5546875, 119.5546875, 119.5546875, 119.5546875], 88: [119.55078125, 119.5546875, 119.5546875, 119.5546875, 119.5546875, 119.5546875, 119.5546875, 119.5546875, 119.5546875, 119.5546875], 89: [119.5546875, 119.5546875, 119.5546875, 119.5546875, 119.5546875, 119.5546875, 119.5546875, 119.5546875, 119.5546875, 119.5546875], 91: [119.5546875], 93: [119.5546875], 95: [119.5546875], 96: [119.5546875], 97: [119.5546875], 99: [119.5546875], 100: [119.5546875], 101: [119.5546875], 102: [119.5546875], 103: [119.5546875], 104: [119.5546875, 178.15234375, 198.08203125], 105: [119.5546875, 178.15234375, 198.08203125]}}"
       ]
      },
      {
       "output_type": "stream",
       "stream": "stdout",
       "text": [
        "\n"
       ]
      },
      {
       "output_type": "stream",
       "stream": "stderr",
       "text": [
        "/users/ddm1/fipy/fipy/solvers/pysparse/pysparseSolver.py:76: DeprecationWarning: PyArray_FromDimsAndDataAndDescr: use PyArray_NewFromDescr.\n",
        "  self.iterations, P)\n"
       ]
      }
     ],
     "prompt_number": 3
    },
    {
     "cell_type": "code",
     "collapsed": false,
     "input": [],
     "language": "python",
     "metadata": {},
     "outputs": []
    }
   ],
   "metadata": {}
  }
 ]
}