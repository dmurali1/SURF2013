{
 "metadata": {
  "name": "Profile_Polyxtal"
 },
 "nbformat": 3,
 "nbformat_minor": 0,
 "worksheets": [
  {
   "cells": [
    {
     "cell_type": "markdown",
     "metadata": {},
     "source": [
      "This notebook contains both the time and profiling data for the Polyxtal example of FiPy. "
     ]
    },
    {
     "cell_type": "heading",
     "level": 3,
     "metadata": {},
     "source": [
      "Time Profiling Data"
     ]
    },
    {
     "cell_type": "code",
     "collapsed": false,
     "input": [
      "from fipyprofile import FiPyProfile\n",
      "from profiling_functions import FiPyProfileTime\n",
      "from polyxtal import PolyxtalSimulation\n",
      "import numpy as np"
     ],
     "language": "python",
     "metadata": {},
     "outputs": [],
     "prompt_number": 1
    },
    {
     "cell_type": "heading",
     "level": 4,
     "metadata": {},
     "source": [
      "Profiler sorted by cumulative time for a small system size and five slowest functions are plotted against the full profile. "
     ]
    },
    {
     "cell_type": "code",
     "collapsed": false,
     "input": [
      "i mean you said \"Ok I\u2019ll probably come around 12:30\" i didn't think that was finalized.....ncells = np.array(np.logspace(1, 6, 25), dtype=int)\n",
      "polyxtal = PolyxtalSimulation()\n",
      "prof = FiPyProfileTime(polyxtal.run, ncells, regenerate=True)\n",
      "keys = prof.get_sorted_keys(ncells[0], sort_field=\"cumulative\")\n",
      "prof.plot(keys[:5], \"cumulative\", doFullProfile=True)"
     ],
     "language": "python",
     "metadata": {},
     "outputs": [
      {
       "output_type": "stream",
       "stream": "stdout",
       "text": [
        "10\n",
        "16"
       ]
      },
      {
       "output_type": "stream",
       "stream": "stdout",
       "text": [
        "\n",
        "26"
       ]
      },
      {
       "output_type": "stream",
       "stream": "stdout",
       "text": [
        "\n",
        "42"
       ]
      },
      {
       "output_type": "stream",
       "stream": "stdout",
       "text": [
        "\n",
        "68"
       ]
      },
      {
       "output_type": "stream",
       "stream": "stdout",
       "text": [
        "\n",
        "110"
       ]
      },
      {
       "output_type": "stream",
       "stream": "stdout",
       "text": [
        "\n",
        "177"
       ]
      },
      {
       "output_type": "stream",
       "stream": "stdout",
       "text": [
        "\n",
        "287"
       ]
      },
      {
       "output_type": "stream",
       "stream": "stdout",
       "text": [
        "\n",
        "464"
       ]
      },
      {
       "output_type": "stream",
       "stream": "stdout",
       "text": [
        "\n",
        "749"
       ]
      },
      {
       "output_type": "stream",
       "stream": "stdout",
       "text": [
        "\n",
        "1211"
       ]
      },
      {
       "output_type": "stream",
       "stream": "stdout",
       "text": [
        "\n",
        "1957"
       ]
      },
      {
       "output_type": "stream",
       "stream": "stdout",
       "text": [
        "\n",
        "3162"
       ]
      },
      {
       "output_type": "stream",
       "stream": "stdout",
       "text": [
        "\n",
        "5108"
       ]
      },
      {
       "output_type": "stream",
       "stream": "stdout",
       "text": [
        "\n",
        "8254"
       ]
      },
      {
       "output_type": "stream",
       "stream": "stdout",
       "text": [
        "\n",
        "13335"
       ]
      },
      {
       "output_type": "stream",
       "stream": "stdout",
       "text": [
        "\n",
        "21544"
       ]
      },
      {
       "output_type": "stream",
       "stream": "stdout",
       "text": [
        "\n",
        "34807"
       ]
      },
      {
       "output_type": "stream",
       "stream": "stdout",
       "text": [
        "\n",
        "56234"
       ]
      },
      {
       "output_type": "stream",
       "stream": "stdout",
       "text": [
        "\n",
        "90851"
       ]
      },
      {
       "output_type": "stream",
       "stream": "stdout",
       "text": [
        "\n",
        "146779"
       ]
      },
      {
       "output_type": "stream",
       "stream": "stdout",
       "text": [
        "\n",
        "237137"
       ]
      },
      {
       "output_type": "stream",
       "stream": "stdout",
       "text": [
        "\n",
        "383118"
       ]
      },
      {
       "output_type": "stream",
       "stream": "stdout",
       "text": [
        "\n",
        "618965"
       ]
      },
      {
       "output_type": "stream",
       "stream": "stdout",
       "text": [
        "\n",
        "1000000"
       ]
      },
      {
       "output_type": "stream",
       "stream": "stdout",
       "text": [
        "\n",
        "10"
       ]
      },
      {
       "output_type": "stream",
       "stream": "stdout",
       "text": [
        " 16 26 42 68 110 177 287 464 749 "
       ]
      },
      {
       "output_type": "stream",
       "stream": "stdout",
       "text": [
        "1211 1957 3162 5108 8254 13335 21544 34807 "
       ]
      },
      {
       "output_type": "stream",
       "stream": "stdout",
       "text": [
        "56234 90851 146779 237137 383118 618965 1000000 polyxtal.py run\n",
        "10 "
       ]
      },
      {
       "output_type": "stream",
       "stream": "stdout",
       "text": [
        "16 26 42 68 110 177 287 464 749 "
       ]
      },
      {
       "output_type": "stream",
       "stream": "stdout",
       "text": [
        "1211 1957 3162 5108 8254 13335 21544 34807 56234 "
       ]
      },
      {
       "output_type": "stream",
       "stream": "stdout",
       "text": [
        "90851 146779 237137 383118 618965 1000000 polyxtal.py time_step\n",
        "10 16 26 "
       ]
      },
      {
       "output_type": "stream",
       "stream": "stdout",
       "text": [
        "42 68 110 177 287 464 749 1211 1957 "
       ]
      },
      {
       "output_type": "stream",
       "stream": "stdout",
       "text": [
        "3162 5108 8254 13335 21544 34807 56234 90851 146779 "
       ]
      },
      {
       "output_type": "stream",
       "stream": "stdout",
       "text": [
        "237137 383118 618965 1000000 /users/ddm1/fipy/fipy/terms/term.py solve\n",
        "10 16 26 42 68 "
       ]
      },
      {
       "output_type": "stream",
       "stream": "stdout",
       "text": [
        "110 177 287 464 749 1211 1957 3162 5108 "
       ]
      },
      {
       "output_type": "stream",
       "stream": "stdout",
       "text": [
        "8254 13335 21544 34807 56234 90851 146779 237137 383118 "
       ]
      },
      {
       "output_type": "stream",
       "stream": "stdout",
       "text": [
        "618965 1000000 /users/ddm1/fipy/fipy/terms/term.py _prepareLinearSystem\n",
        "10 16 26 42 68 110 177 "
       ]
      },
      {
       "output_type": "stream",
       "stream": "stdout",
       "text": [
        "287 464 749 1211 1957 3162 5108 8254 13335 "
       ]
      },
      {
       "output_type": "stream",
       "stream": "stdout",
       "text": [
        "21544 34807 56234 90851 146779 237137 383118 618965 1000000 "
       ]
      },
      {
       "output_type": "stream",
       "stream": "stdout",
       "text": [
        "/users/ddm1/fipy/fipy/terms/binaryTerm.py _buildAndAddMatrices\n",
        "10 16 26 42 68 110 177 287 "
       ]
      },
      {
       "output_type": "stream",
       "stream": "stdout",
       "text": [
        "464 749 1211 1957 3162 5108 8254 13335 21544 "
       ]
      },
      {
       "output_type": "stream",
       "stream": "stdout",
       "text": [
        "34807 56234 90851 146779 237137 383118 618965 1000000"
       ]
      },
      {
       "output_type": "display_data",
       "png": "[encoded data removed]"
      },
      {
       "output_type": "stream",
       "stream": "stdout",
       "text": [
        "\n"
       ]
      }
     ],
     "prompt_number": 6
    },
    {
     "cell_type": "heading",
     "level": 4,
     "metadata": {},
     "source": [
      "Profiler sorted by cumulative time for a large system size and five slowest functions are plotted against the full profile."
     ]
    },
    {
     "cell_type": "code",
     "collapsed": false,
     "input": [
      "ncells = np.array(np.logspace(1, 6, 25), dtype=int)\n",
      "polyxtal = PolyxtalSimulation()\n",
      "prof = FiPyProfileTime(polyxtal.run, ncells, regenerate=True)\n",
      "keys = prof.get_sorted_keys(ncells[-1], sort_field=\"cumulative\")i\n",
      "prof.plot(keys[:5], \"cumulative\", doFullProfile=True)"
     ],
     "language": "python",
     "metadata": {},
     "outputs": [
      {
       "output_type": "stream",
       "stream": "stdout",
       "text": [
        "10\n",
        "16"
       ]
      },
      {
       "output_type": "stream",
       "stream": "stdout",
       "text": [
        "\n",
        "26"
       ]
      },
      {
       "output_type": "stream",
       "stream": "stdout",
       "text": [
        "\n",
        "42"
       ]
      },
      {
       "output_type": "stream",
       "stream": "stdout",
       "text": [
        "\n",
        "68"
       ]
      },
      {
       "output_type": "stream",
       "stream": "stdout",
       "text": [
        "\n",
        "110"
       ]
      },
      {
       "output_type": "stream",
       "stream": "stdout",
       "text": [
        "\n",
        "177"
       ]
      },
      {
       "output_type": "stream",
       "stream": "stdout",
       "text": [
        "\n",
        "287"
       ]
      },
      {
       "output_type": "stream",
       "stream": "stdout",
       "text": [
        "\n",
        "464"
       ]
      },
      {
       "output_type": "stream",
       "stream": "stdout",
       "text": [
        "\n",
        "749"
       ]
      },
      {
       "output_type": "stream",
       "stream": "stdout",
       "text": [
        "\n",
        "1211"
       ]
      },
      {
       "output_type": "stream",
       "stream": "stdout",
       "text": [
        "\n",
        "1957"
       ]
      },
      {
       "output_type": "stream",
       "stream": "stdout",
       "text": [
        "\n",
        "3162"
       ]
      },
      {
       "output_type": "stream",
       "stream": "stdout",
       "text": [
        "\n",
        "5108"
       ]
      },
      {
       "output_type": "stream",
       "stream": "stdout",
       "text": [
        "\n",
        "8254"
       ]
      },
      {
       "output_type": "stream",
       "stream": "stdout",
       "text": [
        "\n",
        "13335"
       ]
      },
      {
       "output_type": "stream",
       "stream": "stdout",
       "text": [
        "\n",
        "21544"
       ]
      },
      {
       "output_type": "stream",
       "stream": "stdout",
       "text": [
        "\n",
        "34807"
       ]
      },
      {
       "output_type": "stream",
       "stream": "stdout",
       "text": [
        "\n",
        "56234"
       ]
      },
      {
       "output_type": "stream",
       "stream": "stdout",
       "text": [
        "\n",
        "90851"
       ]
      },
      {
       "output_type": "stream",
       "stream": "stdout",
       "text": [
        "\n",
        "146779"
       ]
      },
      {
       "output_type": "stream",
       "stream": "stdout",
       "text": [
        "\n",
        "237137"
       ]
      },
      {
       "output_type": "stream",
       "stream": "stdout",
       "text": [
        "\n",
        "383118"
       ]
      },
      {
       "output_type": "stream",
       "stream": "stdout",
       "text": [
        "\n",
        "618965"
       ]
      },
      {
       "output_type": "stream",
       "stream": "stdout",
       "text": [
        "\n",
        "1000000"
       ]
      },
      {
       "output_type": "stream",
       "stream": "stdout",
       "text": [
        "\n",
        "10"
       ]
      },
      {
       "output_type": "stream",
       "stream": "stdout",
       "text": [
        " 16 26 42 68 110 177 287 464 749 "
       ]
      },
      {
       "output_type": "stream",
       "stream": "stdout",
       "text": [
        "1211 1957 3162 5108 8254 13335 21544 34807 56234 "
       ]
      },
      {
       "output_type": "stream",
       "stream": "stdout",
       "text": [
        "90851 146779 237137 383118 618965 1000000 polyxtal.py run\n",
        "10 16 "
       ]
      },
      {
       "output_type": "stream",
       "stream": "stdout",
       "text": [
        "26 42 68 110 177 287 464 749 1211 "
       ]
      },
      {
       "output_type": "stream",
       "stream": "stdout",
       "text": [
        "1957 3162 5108 8254 13335 21544 34807 56234 90851 "
       ]
      },
      {
       "output_type": "stream",
       "stream": "stdout",
       "text": [
        "146779 237137 383118 618965 1000000 polyxtal.py time_step\n",
        "10 16 26 42 "
       ]
      },
      {
       "output_type": "stream",
       "stream": "stdout",
       "text": [
        "68 110 177 287 464 749 1211 1957 3162 "
       ]
      },
      {
       "output_type": "stream",
       "stream": "stdout",
       "text": [
        "5108 8254 13335 21544 34807 56234 90851 146779 237137 "
       ]
      },
      {
       "output_type": "stream",
       "stream": "stdout",
       "text": [
        "383118 618965 1000000 /users/ddm1/fipy/fipy/terms/term.py solve\n",
        "10 16 26 42 68 110 "
       ]
      },
      {
       "output_type": "stream",
       "stream": "stdout",
       "text": [
        "177 287 464 749 1211 1957 3162 5108 8254 "
       ]
      },
      {
       "output_type": "stream",
       "stream": "stdout",
       "text": [
        "13335 21544 34807 56234 90851 146779 237137 383118 618965 "
       ]
      },
      {
       "output_type": "stream",
       "stream": "stdout",
       "text": [
        "1000000 /users/ddm1/fipy/fipy/terms/term.py _prepareLinearSystem\n",
        "10 16 26 42 68 110 177 "
       ]
      },
      {
       "output_type": "stream",
       "stream": "stdout",
       "text": [
        "287 464 749 1211 1957 3162 5108 8254 13335 "
       ]
      },
      {
       "output_type": "stream",
       "stream": "stdout",
       "text": [
        "21544 34807 56234 90851 146779 237137 383118 618965 1000000 "
       ]
      },
      {
       "output_type": "stream",
       "stream": "stdout",
       "text": [
        "/users/ddm1/fipy/fipy/terms/binaryTerm.py _buildAndAddMatrices\n",
        "10 16 26 42 68 110 177 287 464 "
       ]
      },
      {
       "output_type": "stream",
       "stream": "stdout",
       "text": [
        "749 1211 1957 3162 5108 8254 13335 21544 34807 "
       ]
      },
      {
       "output_type": "stream",
       "stream": "stdout",
       "text": [
        "56234 90851 146779 237137 383118 618965 1000000"
       ]
      },
      {
       "output_type": "display_data",
       "png": "[encoded data removed]"
      },
      {
       "output_type": "stream",
       "stream": "stdout",
       "text": [
        "\n"
       ]
      }
     ],
     "prompt_number": 8
    },
    {
     "cell_type": "heading",
     "level": 4,
     "metadata": {},
     "source": [
      "Profiler sorted by time in each function for a small system size and five slowest functions are plotted against the full profile."
     ]
    },
    {
     "cell_type": "code",
     "collapsed": false,
     "input": [
      "ncells = np.array(np.logspace(1, 6, 25), dtype=int)\n",
      "polyxtal = PolyxtalSimulation()\n",
      "prof = FiPyProfileTime(polyxtal.run, ncells, regenerate=True)\n",
      "keys = prof.get_sorted_keys(ncells[0], sort_field=\"time\")\n",
      "prof.plot(keys[:5], \"time\", doFullProfile=True)"
     ],
     "language": "python",
     "metadata": {},
     "outputs": [
      {
       "output_type": "stream",
       "stream": "stdout",
       "text": [
        "10\n",
        "16"
       ]
      },
      {
       "output_type": "stream",
       "stream": "stdout",
       "text": [
        "\n",
        "26"
       ]
      },
      {
       "output_type": "stream",
       "stream": "stdout",
       "text": [
        "\n",
        "42"
       ]
      },
      {
       "output_type": "stream",
       "stream": "stdout",
       "text": [
        "\n",
        "68"
       ]
      },
      {
       "output_type": "stream",
       "stream": "stdout",
       "text": [
        "\n",
        "110"
       ]
      },
      {
       "output_type": "stream",
       "stream": "stdout",
       "text": [
        "\n",
        "177"
       ]
      },
      {
       "output_type": "stream",
       "stream": "stdout",
       "text": [
        "\n",
        "287"
       ]
      },
      {
       "output_type": "stream",
       "stream": "stdout",
       "text": [
        "\n",
        "464"
       ]
      },
      {
       "output_type": "stream",
       "stream": "stdout",
       "text": [
        "\n",
        "749"
       ]
      },
      {
       "output_type": "stream",
       "stream": "stdout",
       "text": [
        "\n",
        "1211"
       ]
      },
      {
       "output_type": "stream",
       "stream": "stdout",
       "text": [
        "\n",
        "1957"
       ]
      },
      {
       "output_type": "stream",
       "stream": "stdout",
       "text": [
        "\n",
        "3162"
       ]
      },
      {
       "output_type": "stream",
       "stream": "stdout",
       "text": [
        "\n",
        "5108"
       ]
      },
      {
       "output_type": "stream",
       "stream": "stdout",
       "text": [
        "\n",
        "8254"
       ]
      },
      {
       "output_type": "stream",
       "stream": "stdout",
       "text": [
        "\n",
        "13335"
       ]
      },
      {
       "output_type": "stream",
       "stream": "stdout",
       "text": [
        "\n",
        "21544"
       ]
      },
      {
       "output_type": "stream",
       "stream": "stdout",
       "text": [
        "\n",
        "34807"
       ]
      },
      {
       "output_type": "stream",
       "stream": "stdout",
       "text": [
        "\n",
        "56234"
       ]
      },
      {
       "output_type": "stream",
       "stream": "stdout",
       "text": [
        "\n",
        "90851"
       ]
      },
      {
       "output_type": "stream",
       "stream": "stdout",
       "text": [
        "\n",
        "146779"
       ]
      },
      {
       "output_type": "stream",
       "stream": "stdout",
       "text": [
        "\n",
        "237137"
       ]
      },
      {
       "output_type": "stream",
       "stream": "stdout",
       "text": [
        "\n",
        "383118"
       ]
      },
      {
       "output_type": "stream",
       "stream": "stdout",
       "text": [
        "\n",
        "618965"
       ]
      },
      {
       "output_type": "stream",
       "stream": "stdout",
       "text": [
        "\n",
        "1000000"
       ]
      },
      {
       "output_type": "stream",
       "stream": "stdout",
       "text": [
        "\n",
        "10"
       ]
      },
      {
       "output_type": "stream",
       "stream": "stdout",
       "text": [
        " 16 26 42 68 110 177 287 464 749 "
       ]
      },
      {
       "output_type": "stream",
       "stream": "stdout",
       "text": [
        "1211 1957 3162 5108 8254 13335 21544 34807 56234 "
       ]
      },
      {
       "output_type": "stream",
       "stream": "stdout",
       "text": [
        "90851 146779 237137 383118 618965 1000000 ~ <getattr>\n",
        "10 16 "
       ]
      },
      {
       "output_type": "stream",
       "stream": "stdout",
       "text": [
        "26 42 68 110 177 287 464 749 1211 "
       ]
      },
      {
       "output_type": "stream",
       "stream": "stdout",
       "text": [
        "1957 3162 5108 8254 13335 21544 34807 56234 90851 "
       ]
      },
      {
       "output_type": "stream",
       "stream": "stdout",
       "text": [
        "146779 237137 383118 618965 1000000 /users/ddm1/.virtualenvs/venv1/lib/python2.6/site-packages/numpy/ma/core.py _update_from\n",
        "10 16 26 42 "
       ]
      },
      {
       "output_type": "stream",
       "stream": "stdout",
       "text": [
        "68 110 177 287 464 749 1211 1957 3162 "
       ]
      },
      {
       "output_type": "stream",
       "stream": "stdout",
       "text": [
        "5108 8254 13335 21544 34807 56234 90851 146779 237137 "
       ]
      },
      {
       "output_type": "stream",
       "stream": "stdout",
       "text": [
        "383118 618965 1000000 ~ <method 'reduce' of 'numpy.ufunc' objects>\n",
        "10 16 26 42 68 110 "
       ]
      },
      {
       "output_type": "stream",
       "stream": "stdout",
       "text": [
        "177 287 464 749 1211 1957 3162 5108 8254 "
       ]
      },
      {
       "output_type": "stream",
       "stream": "stdout",
       "text": [
        "13335 21544 34807 56234 90851 146779 237137 383118 618965 "
       ]
      },
      {
       "output_type": "stream",
       "stream": "stdout",
       "text": [
        "1000000 /users/ddm1/fipy/fipy/variables/variable.py _getValue\n",
        "10 16 26 42 68 110 177 287 "
       ]
      },
      {
       "output_type": "stream",
       "stream": "stdout",
       "text": [
        "464 749 1211 1957 3162 5108 8254 13335 21544 "
       ]
      },
      {
       "output_type": "stream",
       "stream": "stdout",
       "text": [
        "34807 56234 90851 146779 237137 383118 618965 1000000 /users/ddm1/.virtualenvs/venv1/lib/python2.6/site-packages/numpy/ma/core.py __new__\n",
        "10 "
       ]
      },
      {
       "output_type": "stream",
       "stream": "stdout",
       "text": [
        "16 26 42 68 110 177 287 464 749 "
       ]
      },
      {
       "output_type": "stream",
       "stream": "stdout",
       "text": [
        "1211 1957 3162 5108 8254 13335 21544 34807 56234 "
       ]
      },
      {
       "output_type": "stream",
       "stream": "stdout",
       "text": [
        "90851 146779 237137 383118 618965 1000000"
       ]
      },
      {
       "output_type": "stream",
       "stream": "stderr",
       "text": [
        "Exception in thread Thread-2:\n",
        "Traceback (most recent call last):\n",
        "  File \"/usr/lib/python2.6/threading.py\", line 532, in __bootstrap_inner\n",
        "    self.run()\n",
        "  File \"/users/ddm1/.virtualenvs/venv1/lib/python2.6/site-packages/IPython/zmq/heartbeat.py\", line 47, in run\n",
        "    zmq.device(zmq.FORWARDER, self.socket, self.socket)\n",
        "  File \"device.pyx\", line 55, in zmq.core.device.device (zmq/core/device.c:754)\n",
        "ZMQError: Interrupted system call\n",
        "\n"
       ]
      },
      {
       "output_type": "display_data",
       "png": "[encoded data removed]"
      },
      {
       "output_type": "stream",
       "stream": "stdout",
       "text": [
        "\n"
       ]
      }
     ],
     "prompt_number": 9
    },
    {
     "cell_type": "heading",
     "level": 4,
     "metadata": {},
     "source": [
      "Profiler sorted by time in each function for a large system size and five slowest functions are plotted against the full profile."
     ]
    },
    {
     "cell_type": "code",
     "collapsed": false,
     "input": [
      "ncells = np.array(np.logspace(1, 6, 25), dtype=int)\n",
      "polyxtal = PolyxtalSimulation()\n",
      "prof = FiPyProfileTime(polyxtal.run, ncells, regenerate=False)\n",
      "keys = prof.get_sorted_keys(ncells[-1], sort_field=\"time\")\n",
      "prof.plot(keys[:5], \"time\", doFullProfile=True)"
     ],
     "language": "python",
     "metadata": {},
     "outputs": [
      {
       "output_type": "stream",
       "stream": "stdout",
       "text": [
        "10 16 26 42 68 110 177 287 464 "
       ]
      },
      {
       "output_type": "stream",
       "stream": "stdout",
       "text": [
        "749 1211 1957 3162 5108 8254 13335 21544 34807 "
       ]
      },
      {
       "output_type": "stream",
       "stream": "stdout",
       "text": [
        "56234 90851 146779 237137 383118 618965 1000000 ~ <pysparse.itsolvers.pcg>\n",
        "10 16 "
       ]
      },
      {
       "output_type": "stream",
       "stream": "stdout",
       "text": [
        "26 42 68 110 177 287 464 749 1211 "
       ]
      },
      {
       "output_type": "stream",
       "stream": "stdout",
       "text": [
        "1957 3162 5108 8254 13335 21544 34807 56234 90851 146779 "
       ]
      },
      {
       "output_type": "stream",
       "stream": "stdout",
       "text": [
        "237137 383118 618965 1000000 ~ <numpy.core.multiarray.array>\n",
        "10 16 26 42 68 "
       ]
      },
      {
       "output_type": "stream",
       "stream": "stdout",
       "text": [
        "110 177 287 464 749 1211 1957 3162 "
       ]
      },
      {
       "output_type": "stream",
       "stream": "stdout",
       "text": [
        "5108 8254 13335 21544 34807 56234 90851 146779 237137 383118 "
       ]
      },
      {
       "output_type": "stream",
       "stream": "stdout",
       "text": [
        "618965 1000000 ~ <method 'take' of 'numpy.ndarray' objects>\n",
        "10 16 26 42 68 110 177 "
       ]
      },
      {
       "output_type": "stream",
       "stream": "stdout",
       "text": [
        "287 464 749 1211 1957 3162 5108 8254 13335 21544 "
       ]
      },
      {
       "output_type": "stream",
       "stream": "stdout",
       "text": [
        "34807 56234 90851 146779 237137 383118 618965 1000000 ~ <built-in method shift>\n",
        "10 "
       ]
      },
      {
       "output_type": "stream",
       "stream": "stdout",
       "text": [
        "16 26 42 68 110 177 287 464 749 1211 "
       ]
      },
      {
       "output_type": "stream",
       "stream": "stdout",
       "text": [
        "1957 3162 5108 8254 13335 21544 34807 56234 90851 146779 "
       ]
      },
      {
       "output_type": "stream",
       "stream": "stdout",
       "text": [
        "237137 383118 618965 1000000 /users/ddm1/fipy/fipy/variables/variable.py <lambda>\n",
        "10 16 26 42 68 "
       ]
      },
      {
       "output_type": "stream",
       "stream": "stdout",
       "text": [
        "110 177 287 464 749 1211 1957 3162 5108 "
       ]
      },
      {
       "output_type": "stream",
       "stream": "stdout",
       "text": [
        "8254 13335 21544 34807 56234 90851 146779 237137 383118 618965 "
       ]
      },
      {
       "output_type": "stream",
       "stream": "stdout",
       "text": [
        "1000000"
       ]
      },
      {
       "output_type": "stream",
       "stream": "stderr",
       "text": [
        "Exception in thread Thread-2:\n",
        "Traceback (most recent call last):\n",
        "  File \"/usr/lib/python2.6/threading.py\", line 532, in __bootstrap_inner\n",
        "    self.run()\n",
        "  File \"/users/ddm1/.virtualenvs/venv1/lib/python2.6/site-packages/IPython/zmq/heartbeat.py\", line 47, in run\n",
        "    zmq.device(zmq.FORWARDER, self.socket, self.socket)\n",
        "  File \"device.pyx\", line 55, in zmq.core.device.device (zmq/core/device.c:754)\n",
        "ZMQError: Interrupted system call\n",
        "\n"
       ]
      },
      {
       "output_type": "display_data",
       "png": "[encoded data removed]"
      },
      {
       "output_type": "stream",
       "stream": "stdout",
       "text": [
        "\n"
       ]
      }
     ],
     "prompt_number": 2
    },
    {
     "cell_type": "heading",
     "level": 4,
     "metadata": {},
     "source": [
      "Profiler scaled using $ncells^2$ and $nlog(n)$"
     ]
    },
    {
     "cell_type": "code",
     "collapsed": false,
     "input": [
      "ncells = np.array(np.logspace(1, 6, 25), dtype=int)\n",
      "polyxtal = PolyxtalSimulation()\n",
      "prof = FiPyProfileTime(polyxtal.run, ncells, regenerate=False)\n",
      "keys = prof.get_sorted_keys(ncells[0], sort_field=\"time\")\n",
      "prof.plot(keys[:5], \"time\", doFullProfile=True)"
     ],
     "language": "python",
     "metadata": {},
     "outputs": [
      {
       "output_type": "stream",
       "stream": "stdout",
       "text": [
        "10 16 26 42 68 110 177 287 464 "
       ]
      },
      {
       "output_type": "stream",
       "stream": "stdout",
       "text": [
        "749 1211 1957 3162 5108 8254 13335 21544 34807 "
       ]
      },
      {
       "output_type": "stream",
       "stream": "stdout",
       "text": [
        "56234 90851 146779 237137 383118 618965 1000000 ~ <getattr>\n",
        "10 16 "
       ]
      },
      {
       "output_type": "stream",
       "stream": "stdout",
       "text": [
        "26 42 68 110 177 287 464 749 1211 "
       ]
      },
      {
       "output_type": "stream",
       "stream": "stdout",
       "text": [
        "1957 3162 5108 8254 13335 21544 34807 56234 90851 146779 "
       ]
      },
      {
       "output_type": "stream",
       "stream": "stdout",
       "text": [
        "237137 383118 618965 1000000 ~ <method 'reduce' of 'numpy.ufunc' objects>\n",
        "10 16 26 42 68 "
       ]
      },
      {
       "output_type": "stream",
       "stream": "stdout",
       "text": [
        "110 177 287 464 749 1211 1957 3162 5108 8254 "
       ]
      },
      {
       "output_type": "stream",
       "stream": "stdout",
       "text": [
        "13335 21544 34807 56234 90851 146779 237137 383118 618965 1000000 "
       ]
      },
      {
       "output_type": "stream",
       "stream": "stdout",
       "text": [
        "/users/ddm1/.virtualenvs/venv1/lib/python2.6/site-packages/numpy/ma/core.py _update_from\n",
        "10 16 26 42 68 110 177 287 464 749 "
       ]
      },
      {
       "output_type": "stream",
       "stream": "stdout",
       "text": [
        "1211 1957 3162 5108 8254 13335 21544 34807 56234 "
       ]
      },
      {
       "output_type": "stream",
       "stream": "stdout",
       "text": [
        "90851 146779 237137 383118 618965 1000000 /users/ddm1/fipy/fipy/variables/variable.py _getValue\n",
        "10 16 26 "
       ]
      },
      {
       "output_type": "stream",
       "stream": "stdout",
       "text": [
        "42 68 110 177 287 464 749 1211 1957 "
       ]
      },
      {
       "output_type": "stream",
       "stream": "stdout",
       "text": [
        "3162 5108 8254 13335 21544 34807 56234 90851 146779 237137 "
       ]
      },
      {
       "output_type": "stream",
       "stream": "stdout",
       "text": [
        "383118 618965 1000000 /users/ddm1/.virtualenvs/venv1/lib/python2.6/site-packages/numpy/ma/core.py __new__\n",
        "10 16 26 42 68 110 "
       ]
      },
      {
       "output_type": "stream",
       "stream": "stdout",
       "text": [
        "177 287 464 749 1211 1957 3162 5108 8254 13335 "
       ]
      },
      {
       "output_type": "stream",
       "stream": "stdout",
       "text": [
        "21544 34807 56234 90851 146779 237137 383118 618965 1000000"
       ]
      },
      {
       "output_type": "stream",
       "stream": "stderr",
       "text": [
        "Exception in thread Thread-2:\n",
        "Traceback (most recent call last):\n",
        "  File \"/usr/lib/python2.6/threading.py\", line 532, in __bootstrap_inner\n",
        "    self.run()\n",
        "  File \"/users/ddm1/.virtualenvs/venv1/lib/python2.6/site-packages/IPython/zmq/heartbeat.py\", line 47, in run\n",
        "    zmq.device(zmq.FORWARDER, self.socket, self.socket)\n",
        "  File \"device.pyx\", line 55, in zmq.core.device.device (zmq/core/device.c:754)\n",
        "ZMQError: Interrupted system call\n",
        "\n"
       ]
      },
      {
       "output_type": "display_data",
       "png": "[encoded data removed]"
      },
      {
       "output_type": "stream",
       "stream": "stdout",
       "text": [
        "\n"
       ]
      }
     ],
     "prompt_number": 2
    },
    {
     "cell_type": "heading",
     "level": 3,
     "metadata": {},
     "source": [
      "Memory Profiling Data"
     ]
    },
    {
     "cell_type": "heading",
     "level": 4,
     "metadata": {},
     "source": [
      "Before mesh "
     ]
    },
    {
     "cell_type": "code",
     "collapsed": false,
     "input": [
      "from profiling_memory import MemoryProfiler, MemoryViewer\n",
      "from polyxtal import PolyxtalSimulation\n",
      "from polyxtal import func\n",
      "\n",
      "ncells = np.array(np.logspace(1, 6, 25), dtype=int)\n",
      "memoryProfiler = MemoryProfiler(profileMethod=PolyxtalSimulation.setup, runfunc=func)\n",
      "memoryViewer = MemoryViewer(memoryProfiler, ncells)\n",
      "   \n",
      "memoryViewer.plot(line=13)\n",
      "plt.show()"
     ],
     "language": "python",
     "metadata": {},
     "outputs": [
      {
       "output_type": "stream",
       "stream": "stdout",
       "text": [
        "13\n",
        "83.171875\n",
        "13"
       ]
      },
      {
       "output_type": "stream",
       "stream": "stdout",
       "text": [
        "\n",
        "88.06640625\n",
        "13"
       ]
      },
      {
       "output_type": "stream",
       "stream": "stdout",
       "text": [
        "\n",
        "89.98046875\n",
        "13"
       ]
      },
      {
       "output_type": "stream",
       "stream": "stdout",
       "text": [
        "\n",
        "91.5859375\n",
        "13"
       ]
      },
      {
       "output_type": "stream",
       "stream": "stdout",
       "text": [
        "\n",
        "94.3046875\n",
        "13"
       ]
      },
      {
       "output_type": "stream",
       "stream": "stdout",
       "text": [
        "\n",
        "94.3359375\n",
        "13"
       ]
      },
      {
       "output_type": "stream",
       "stream": "stdout",
       "text": [
        "\n",
        "95.015625\n",
        "13"
       ]
      },
      {
       "output_type": "stream",
       "stream": "stdout",
       "text": [
        "\n",
        "95.0859375\n",
        "13"
       ]
      },
      {
       "output_type": "stream",
       "stream": "stdout",
       "text": [
        "\n",
        "96.078125\n",
        "13"
       ]
      },
      {
       "output_type": "stream",
       "stream": "stdout",
       "text": [
        "\n",
        "96.0859375\n",
        "13"
       ]
      },
      {
       "output_type": "stream",
       "stream": "stdout",
       "text": [
        "\n",
        "97.890625\n",
        "13"
       ]
      },
      {
       "output_type": "stream",
       "stream": "stdout",
       "text": [
        "\n",
        "98.953125\n",
        "13"
       ]
      },
      {
       "output_type": "stream",
       "stream": "stdout",
       "text": [
        "\n",
        "102.9765625\n",
        "13"
       ]
      },
      {
       "output_type": "stream",
       "stream": "stdout",
       "text": [
        "\n",
        "107.8984375\n",
        "13"
       ]
      },
      {
       "output_type": "stream",
       "stream": "stdout",
       "text": [
        "\n",
        "118.73828125\n",
        "13"
       ]
      },
      {
       "output_type": "stream",
       "stream": "stdout",
       "text": [
        "\n",
        "129.29296875\n",
        "13"
       ]
      },
      {
       "output_type": "stream",
       "stream": "stdout",
       "text": [
        "\n",
        "158.1953125\n",
        "13"
       ]
      },
      {
       "output_type": "stream",
       "stream": "stdout",
       "text": [
        "\n",
        "163.02734375\n",
        "13"
       ]
      },
      {
       "output_type": "stream",
       "stream": "stdout",
       "text": [
        "\n",
        "235.5859375\n",
        "13"
       ]
      },
      {
       "output_type": "stream",
       "stream": "stdout",
       "text": [
        "\n",
        "268.953125\n",
        "13"
       ]
      },
      {
       "output_type": "stream",
       "stream": "stdout",
       "text": [
        "\n",
        "456.73828125\n",
        "13"
       ]
      },
      {
       "output_type": "stream",
       "stream": "stdout",
       "text": [
        "\n",
        "568.9765625\n",
        "13"
       ]
      },
      {
       "output_type": "stream",
       "stream": "stdout",
       "text": [
        "\n",
        "1061.16796875\n",
        "13"
       ]
      },
      {
       "output_type": "stream",
       "stream": "stdout",
       "text": [
        "\n",
        "1483.25\n",
        "13"
       ]
      },
      {
       "output_type": "stream",
       "stream": "stdout",
       "text": [
        "\n",
        "2568.62890625\n"
       ]
      },
      {
       "output_type": "stream",
       "stream": "stderr",
       "text": [
        "/users/ddm1/fipy/fipy/solvers/pysparse/pysparseSolver.py:76: DeprecationWarning: PyArray_FromDimsAndDataAndDescr: use PyArray_NewFromDescr.\n",
        "  self.iterations, P)\n"
       ]
      },
      {
       "output_type": "display_data",
       "png": "[encoded data removed]"
      }
     ],
     "prompt_number": 1
    },
    {
     "cell_type": "heading",
     "level": 4,
     "metadata": {},
     "source": [
      "After mesh"
     ]
    },
    {
     "cell_type": "code",
     "collapsed": false,
     "input": [
      "from profiling_memory import MemoryProfiler, MemoryViewer\n",
      "from polyxtal import PolyxtalSimulation\n",
      "from polyxtal import func\n",
      "\n",
      "ncells = np.array(np.logspace(1, 6, 25), dtype=int)\n",
      "memoryProfiler = MemoryProfiler(profileMethod=PolyxtalSimulation.setup, runfunc=func)\n",
      "memoryViewer = MemoryViewer(memoryProfiler, ncells)\n",
      "   \n",
      "memoryViewer.plot(line=16)\n",
      "plt.show()"
     ],
     "language": "python",
     "metadata": {},
     "outputs": [
      {
       "output_type": "stream",
       "stream": "stdout",
       "text": [
        "83.33984375 "
       ]
      },
      {
       "output_type": "stream",
       "stream": "stdout",
       "text": [
        "88.13671875 "
       ]
      },
      {
       "output_type": "stream",
       "stream": "stdout",
       "text": [
        "90.015625 "
       ]
      },
      {
       "output_type": "stream",
       "stream": "stdout",
       "text": [
        "92.46875 "
       ]
      },
      {
       "output_type": "stream",
       "stream": "stdout",
       "text": [
        "95.203125 "
       ]
      },
      {
       "output_type": "stream",
       "stream": "stdout",
       "text": [
        "95.2265625 "
       ]
      },
      {
       "output_type": "stream",
       "stream": "stdout",
       "text": [
        "96.609375 "
       ]
      },
      {
       "output_type": "stream",
       "stream": "stdout",
       "text": [
        "96.6796875 "
       ]
      },
      {
       "output_type": "stream",
       "stream": "stdout",
       "text": [
        "97.68359375 "
       ]
      },
      {
       "output_type": "stream",
       "stream": "stdout",
       "text": [
        "97.68359375 "
       ]
      },
      {
       "output_type": "stream",
       "stream": "stdout",
       "text": [
        "99.58984375 "
       ]
      },
      {
       "output_type": "stream",
       "stream": "stdout",
       "text": [
        "100.5859375 "
       ]
      },
      {
       "output_type": "stream",
       "stream": "stdout",
       "text": [
        "104.67578125 "
       ]
      },
      {
       "output_type": "stream",
       "stream": "stdout",
       "text": [
        "109.21484375 "
       ]
      },
      {
       "output_type": "stream",
       "stream": "stdout",
       "text": [
        "120.01171875 "
       ]
      },
      {
       "output_type": "stream",
       "stream": "stdout",
       "text": [
        "131.33203125 "
       ]
      },
      {
       "output_type": "stream",
       "stream": "stdout",
       "text": [
        "160.20703125 "
       ]
      },
      {
       "output_type": "stream",
       "stream": "stdout",
       "text": [
        "166.15625 "
       ]
      },
      {
       "output_type": "stream",
       "stream": "stdout",
       "text": [
        "238.54296875 "
       ]
      },
      {
       "output_type": "stream",
       "stream": "stdout",
       "text": [
        "271.59765625 "
       ]
      },
      {
       "output_type": "stream",
       "stream": "stdout",
       "text": [
        "457.06640625 "
       ]
      },
      {
       "output_type": "stream",
       "stream": "stdout",
       "text": [
        "567.5625 "
       ]
      },
      {
       "output_type": "stream",
       "stream": "stdout",
       "text": [
        "1044.125 "
       ]
      },
      {
       "output_type": "stream",
       "stream": "stdout",
       "text": [
        "1487.578125 "
       ]
      },
      {
       "output_type": "stream",
       "stream": "stdout",
       "text": [
        "2811.5625"
       ]
      },
      {
       "output_type": "stream",
       "stream": "stderr",
       "text": [
        "/users/ddm1/fipy/fipy/solvers/pysparse/pysparseSolver.py:76: DeprecationWarning: PyArray_FromDimsAndDataAndDescr: use PyArray_NewFromDescr.\n",
        "  self.iterations, P)\n"
       ]
      },
      {
       "output_type": "display_data",
       "png": "[encoded data removed]"
      },
      {
       "output_type": "stream",
       "stream": "stdout",
       "text": [
        "\n"
       ]
      }
     ],
     "prompt_number": 1
    },
    {
     "cell_type": "code",
     "collapsed": false,
     "input": [
      "from profiling_memory import MemoryProfiler, MemoryViewer\n",
      "from polyxtal import PolyxtalSimulation\n",
      "from polyxtal import func\n",
      "\n",
      "ncells = np.array(np.logspace(1, 6, 25), dtype=int)\n",
      "memoryProfiler = MemoryProfiler(profileMethod=PolyxtalSimulation.setup, runfunc=func)\n",
      "memoryViewer = MemoryViewer(memoryProfiler, ncells)\n",
      "   \n",
      "memoryViewer.plot(line=79)\n",
      "plt.show()"
     ],
     "language": "python",
     "metadata": {},
     "outputs": [
      {
       "output_type": "stream",
       "stream": "stdout",
       "text": [
        "84.9609375 "
       ]
      },
      {
       "output_type": "stream",
       "stream": "stdout",
       "text": [
        "88.671875 "
       ]
      },
      {
       "output_type": "stream",
       "stream": "stdout",
       "text": [
        "90.04296875 "
       ]
      },
      {
       "output_type": "stream",
       "stream": "stdout",
       "text": [
        "92.9453125 "
       ]
      },
      {
       "output_type": "stream",
       "stream": "stdout",
       "text": [
        "95.1875 "
       ]
      },
      {
       "output_type": "stream",
       "stream": "stdout",
       "text": [
        "95.22265625 "
       ]
      },
      {
       "output_type": "stream",
       "stream": "stdout",
       "text": [
        "96.59765625 "
       ]
      },
      {
       "output_type": "stream",
       "stream": "stdout",
       "text": [
        "96.6953125 "
       ]
      },
      {
       "output_type": "stream",
       "stream": "stdout",
       "text": [
        "97.6484375 "
       ]
      },
      {
       "output_type": "stream",
       "stream": "stdout",
       "text": [
        "97.6484375 "
       ]
      },
      {
       "output_type": "stream",
       "stream": "stdout",
       "text": [
        "99.46875 "
       ]
      },
      {
       "output_type": "stream",
       "stream": "stdout",
       "text": [
        "100.8125 "
       ]
      },
      {
       "output_type": "stream",
       "stream": "stdout",
       "text": [
        "104.625 "
       ]
      },
      {
       "output_type": "stream",
       "stream": "stdout",
       "text": [
        "110.1171875 "
       ]
      },
      {
       "output_type": "stream",
       "stream": "stdout",
       "text": [
        "120.2734375 "
       ]
      },
      {
       "output_type": "stream",
       "stream": "stdout",
       "text": [
        "133.61328125 "
       ]
      },
      {
       "output_type": "stream",
       "stream": "stdout",
       "text": [
        "162.3046875 "
       ]
      },
      {
       "output_type": "stream",
       "stream": "stdout",
       "text": [
        "171.203125 "
       ]
      },
      {
       "output_type": "stream",
       "stream": "stdout",
       "text": [
        "251.01171875 "
       ]
      },
      {
       "output_type": "stream",
       "stream": "stdout",
       "text": [
        "294.3671875 "
       ]
      },
      {
       "output_type": "stream",
       "stream": "stdout",
       "text": [
        "494.359375 "
       ]
      },
      {
       "output_type": "stream",
       "stream": "stdout",
       "text": [
        "657.47265625 "
       ]
      },
      {
       "output_type": "stream",
       "stream": "stdout",
       "text": [
        "1092.7890625 "
       ]
      },
      {
       "output_type": "stream",
       "stream": "stdout",
       "text": [
        "1481.41015625 "
       ]
      },
      {
       "output_type": "stream",
       "stream": "stderr",
       "text": [
        "/users/ddm1/fipy/fipy/solvers/pysparse/pysparseSolver.py:76: DeprecationWarning: PyArray_FromDimsAndDataAndDescr: use PyArray_NewFromDescr.\n",
        "  self.iterations, P)\n",
        "Exception in thread Thread-2:\n",
        "Traceback (most recent call last):\n",
        "  File \"/usr/lib/python2.6/threading.py\", line 532, in __bootstrap_inner\n",
        "    self.run()\n",
        "  File \"/users/ddm1/.virtualenvs/venv1/lib/python2.6/site-packages/IPython/zmq/heartbeat.py\", line 47, in run\n",
        "    zmq.device(zmq.FORWARDER, self.socket, self.socket)\n",
        "  File \"device.pyx\", line 55, in zmq.core.device.device (zmq/core/device.c:754)\n",
        "ZMQError: Interrupted system call\n",
        "\n"
       ]
      },
      {
       "output_type": "stream",
       "stream": "stdout",
       "text": [
        "2703.33203125"
       ]
      },
      {
       "output_type": "display_data",
       "png": "[encoded data removed]"
      },
      {
       "output_type": "stream",
       "stream": "stdout",
       "text": [
        "\n"
       ]
      }
     ],
     "prompt_number": 1
    },
    {
     "cell_type": "code",
     "collapsed": false,
     "input": [
      "from profiling_memory import MemoryProfiler, MemoryViewer\n",
      "from polyxtal import PolyxtalSimulation\n",
      "from polyxtal import func\n",
      "\n",
      "ncells = np.array(np.logspace(4, 5, 3), dtype=int)\n",
      "memoryProfiler = MemoryProfiler(profileMethod=PolyxtalSimulation.setup, runfunc=func)\n",
      "\n",
      "memoryViewer = MemoryViewer(memoryProfiler, ncells)\n",
      "memoryViewer.plot(line=104)\n",
      "plt.show()"
     ],
     "language": "python",
     "metadata": {},
     "outputs": [
      {
       "output_type": "stream",
       "stream": "stdout",
       "text": [
        "[123.4140625, 194.75390625, 393.43359375]\n",
        "[123.4140625, 194.75390625, 393.43359375]\n"
       ]
      },
      {
       "output_type": "stream",
       "stream": "stderr",
       "text": [
        "/users/ddm1/fipy/fipy/solvers/pysparse/pysparseSolver.py:76: DeprecationWarning: PyArray_FromDimsAndDataAndDescr: use PyArray_NewFromDescr.\n",
        "  self.iterations, P)\n"
       ]
      },
      {
       "output_type": "display_data",
       "png": "[encoded data removed]"
      }
     ],
     "prompt_number": 1
    },
    {
     "cell_type": "code",
     "collapsed": false,
     "input": [
      "from profiling_memory import MemoryProfiler, MemoryViewer\n",
      "from polyxtal import PolyxtalSimulation\n",
      "from polyxtal import func\n",
      "\n",
      "ncells = np.array(np.logspace(4, 5, 5), dtype=int)\n",
      "memoryProfiler = MemoryProfiler(profileMethod=PolyxtalSimulation.setup, runfunc=func)\n",
      "\n",
      "memoryViewer = MemoryViewer(memoryProfiler, ncells)\n",
      "memoryViewer.plot(line=16)\n",
      "plt.show()"
     ],
     "language": "python",
     "metadata": {},
     "outputs": [
      {
       "output_type": "stream",
       "stream": "stdout",
       "text": [
        "[83.29296875, 129.65625, 153.2421875, 197.57421875, 273.1171875]\n",
        "[122.82421875, 149.14453125, 193.23046875, 265.33203125, 395.578125]\n"
       ]
      },
      {
       "output_type": "stream",
       "stream": "stderr",
       "text": [
        "/users/ddm1/fipy/fipy/solvers/pysparse/pysparseSolver.py:76: DeprecationWarning: PyArray_FromDimsAndDataAndDescr: use PyArray_NewFromDescr.\n",
        "  self.iterations, P)\n"
       ]
      },
      {
       "output_type": "display_data",
       "png": "[encoded data removed]"
      }
     ],
     "prompt_number": 1
    },
    {
     "cell_type": "code",
     "collapsed": false,
     "input": [
      "from profiling_memory import MemoryProfiler, MemoryViewer\n",
      "from polyxtal import PolyxtalSimulation\n",
      "from polyxtal import func\n",
      "\n",
      "\n",
      "ncells = np.array(np.logspace(4, 5, 5), dtype=int)\n",
      "memoryProfiler = MemoryProfiler(profileMethod=PolyxtalSimulation.setup, runfunc=func)\n",
      "\n",
      "memoryViewer = MemoryViewer(memoryProfiler, ncells)\n",
      "memoryViewer.plot(line=102)\n",
      "plt.show()"
     ],
     "language": "python",
     "metadata": {},
     "outputs": [
      {
       "output_type": "stream",
       "stream": "stdout",
       "text": [
        "[93.38671875, 117.19140625, 141.453125, 184.37109375, 257.7421875]\n",
        "[115.8515625, 138.4453125, 180.0234375, 250.37109375, 380.24609375]\n"
       ]
      },
      {
       "output_type": "stream",
       "stream": "stderr",
       "text": [
        "/users/ddm1/fipy/fipy/solvers/pysparse/pysparseSolver.py:76: DeprecationWarning: PyArray_FromDimsAndDataAndDescr: use PyArray_NewFromDescr.\n",
        "  self.iterations, P)\n"
       ]
      },
      {
       "output_type": "display_data",
       "png": "[encoded data removed]"
      }
     ],
     "prompt_number": 1
    },
    {
     "cell_type": "code",
     "collapsed": false,
     "input": [
      "from profiling_memory import MemoryViewer\n",
      "from polyxtal import PolyxtalSimulation\n",
      "from polyxtal import func\n",
      "\n",
      "\n",
      "ncells = np.array(np.logspace(4, 5, 5), dtype=int)\n",
      "memoryViewer = MemoryViewer(ncells)\n",
      "memoryViewer.plot(PolyxtalSimulation.setup, func, line=15)\n",
      "#plt.show()"
     ],
     "language": "python",
     "metadata": {},
     "outputs": [
      {
       "output_type": "stream",
       "stream": "stdout",
       "text": [
        "{<code object setup at 0x39b3210, file \"polyxtal.py\", line 11>: {13: [83.203125], 14: [83.203125], 15: [83.20703125], 17: [83.29296875], 19: [83.29296875], 21: [83.6171875], 23: [83.77734375], 24: [84.01953125], 27: [84.01953125], 28: [84.01953125], 29: [84.01953125], 30: [84.01953125], 33: [84.01953125], 35: [84.0703125], 36: [84.0703125], 37: [84.0703125], 38: [84.0703125], 39: [89.80078125], 40: [89.8359375], 41: [89.875], 42: [89.88671875], 43: [89.90625], 44: [89.92578125], 45: [89.9453125], 46: [89.94921875], 47: [89.94921875], 48: [89.94921875], 50: [89.984375], 51: [89.984375], 52: [89.984375], 53: [89.984375], 54: [89.984375], 55: [89.984375], 56: [90.0078125], 57: [90.0078125], 58: [90.0078125], 59: [90.03125], 60: [90.03125], 62: [90.03125], 63: [90.03125], 64: [90.03125], 65: [90.03125], 66: [90.03125], 67: [90.03125], 68: [90.03125], 69: [90.03125], 70: [90.03125], 71: [90.03125], 72: [91.8828125], 73: [91.8828125], 74: [91.8828125], 75: [91.8828125], 76: [91.8828125], 78: [91.8828125], 79: [91.8828125], 80: [91.8828125], 82: [93.41015625], 83: [93.41015625], 84: [93.41015625], 85: [93.41015625, 93.4140625, 93.4140625, 93.4140625, 93.4140625, 93.4140625, 93.4140625, 93.4140625, 93.4140625, 93.4140625, 93.4140625], 86: [93.41015625, 93.4140625, 93.4140625, 93.4140625, 93.4140625, 93.4140625, 93.4140625, 93.4140625, 93.4140625, 93.4140625], 87: [93.41015625, 93.4140625, 93.4140625, 93.4140625, 93.4140625, 93.4140625, 93.4140625, 93.4140625, 93.4140625, 93.4140625], 88: [93.41015625, 93.4140625, 93.4140625, 93.4140625, 93.4140625, 93.4140625, 93.4140625, 93.4140625, 93.4140625, 93.4140625], 89: [93.4140625, 93.4140625, 93.4140625, 93.4140625, 93.4140625, 93.4140625, 93.4140625, 93.4140625, 93.4140625, 93.4140625], 91: [93.4140625], 93: [93.4140625], 95: [93.4140625], 96: [93.4140625], 97: [93.4140625], 99: [93.4140625], 100: [93.4140625], 101: [93.4140625], 102: [93.4140625], 103: [93.4140625], 104: [93.4140625, 110.515625, 115.6875, 116.15625, 116.77734375, 116.77734375, 116.77734375, 117.16015625, 117.16015625, 117.33203125, 117.33984375], 105: [93.4140625, 110.515625, 115.6875, 116.15625, 116.77734375, 116.77734375, 116.77734375, 117.16015625, 117.16015625, 117.33203125, 117.33984375], 106: [93.4140625, 110.515625, 115.6875, 116.15625, 116.77734375, 116.77734375, 116.77734375, 117.16015625, 117.16015625, 117.33203125]}}\n",
        "{<code object setup at 0x39b3210, file \"polyxtal.py\", line 11>: {13: [117.52734375], 14: [117.52734375], 15: [117.52734375], 17: [117.52734375], 19: [117.52734375], 21: [117.52734375], 23: [117.52734375], 24: [117.52734375], 27: [117.52734375], 28: [117.52734375], 29: [117.52734375], 30: [117.52734375], 33: [117.52734375], 35: [117.52734375], 36: [117.52734375], 37: [117.52734375], 38: [117.52734375], 39: [117.52734375], 40: [117.52734375], 41: [117.52734375], 42: [117.52734375], 43: [117.52734375], 44: [117.52734375], 45: [117.52734375], 46: [117.52734375], 47: [117.52734375], 48: [117.52734375], 50: [117.52734375], 51: [117.52734375], 52: [117.52734375], 53: [117.52734375], 54: [117.52734375], 55: [117.52734375], 56: [117.52734375], 57: [117.52734375], 58: [117.52734375], 59: [117.52734375], 60: [117.52734375], 62: [117.52734375], 63: [117.52734375], 64: [117.52734375], 65: [117.52734375], 66: [117.52734375], 67: [117.52734375], 68: [117.52734375], 69: [117.52734375], 70: [117.52734375], 71: [117.52734375], 72: [117.52734375], 73: [117.52734375], 74: [117.52734375], 75: [117.52734375], 76: [117.52734375], 78: [117.52734375], 79: [117.52734375], 80: [117.52734375], 82: [117.52734375], 83: [117.52734375], 84: [117.52734375], 85: [117.52734375, 117.52734375, 117.52734375, 117.52734375, 117.52734375, 117.52734375, 117.52734375, 117.52734375, 117.52734375, 117.52734375, 117.52734375], 86: [117.52734375, 117.52734375, 117.52734375, 117.52734375, 117.52734375, 117.52734375, 117.52734375, 117.52734375, 117.52734375, 117.52734375], 87: [117.52734375, 117.52734375, 117.52734375, 117.52734375, 117.52734375, 117.52734375, 117.52734375, 117.52734375, 117.52734375, 117.52734375], 88: [117.52734375, 117.52734375, 117.52734375, 117.52734375, 117.52734375, 117.52734375, 117.52734375, 117.52734375, 117.52734375, 117.52734375], 89: [117.52734375, 117.52734375, 117.52734375, 117.52734375, 117.52734375, 117.52734375, 117.52734375, 117.52734375, 117.52734375, 117.52734375], 91: [117.52734375], 93: [117.52734375], 95: [117.52734375], 96: [117.52734375], 97: [117.52734375], 99: [117.52734375], 100: [117.52734375], 101: [117.52734375], 102: [117.52734375], 103: [117.52734375], 104: [117.52734375, 130.01953125, 139.09765625, 140.46875, 141.30078125, 141.30078125, 141.30078125, 141.84375, 141.84375, 141.84375, 141.84375], 105: [117.52734375, 130.01953125, 139.09765625, 140.46875, 141.30078125, 141.30078125, 141.30078125, 141.84375, 141.84375, 141.84375, 141.84375], 106: [117.52734375, 130.01953125, 139.09765625, 140.46875, 141.30078125, 141.30078125, 141.30078125, 141.84375, 141.84375, 141.84375]}}"
       ]
      },
      {
       "output_type": "stream",
       "stream": "stdout",
       "text": [
        "\n",
        "{<code object setup at 0x39b3210, file \"polyxtal.py\", line 11>: {13: [143.203125], 14: [143.203125], 15: [143.203125], 17: [143.20703125], 19: [143.20703125], 21: [143.20703125], 23: [143.20703125], 24: [143.20703125], 27: [143.20703125], 28: [143.20703125], 29: [143.20703125], 30: [143.20703125], 33: [143.20703125], 35: [143.20703125], 36: [143.20703125], 37: [143.20703125], 38: [143.20703125], 39: [143.20703125], 40: [143.20703125], 41: [143.20703125], 42: [143.20703125], 43: [143.20703125], 44: [143.20703125], 45: [143.20703125], 46: [143.20703125], 47: [143.20703125], 48: [143.20703125], 50: [143.20703125], 51: [143.20703125], 52: [143.20703125], 53: [143.20703125], 54: [143.20703125], 55: [143.20703125], 56: [143.20703125], 57: [143.20703125], 58: [143.20703125], 59: [143.20703125], 60: [143.20703125], 62: [143.20703125], 63: [143.20703125], 64: [143.20703125], 65: [143.20703125], 66: [143.20703125], 67: [143.20703125], 68: [143.20703125], 69: [143.20703125], 70: [143.20703125], 71: [143.20703125], 72: [143.20703125], 73: [143.20703125], 74: [143.20703125], 75: [143.20703125], 76: [143.20703125], 78: [143.20703125], 79: [143.20703125], 80: [143.20703125], 82: [143.20703125], 83: [143.20703125], 84: [143.20703125], 85: [143.20703125, 143.20703125, 143.20703125, 143.20703125, 143.20703125, 143.20703125, 143.20703125, 143.20703125, 143.20703125, 143.20703125, 143.20703125], 86: [143.20703125, 143.20703125, 143.20703125, 143.20703125, 143.20703125, 143.20703125, 143.20703125, 143.20703125, 143.20703125, 143.20703125], 87: [143.20703125, 143.20703125, 143.20703125, 143.20703125, 143.20703125, 143.20703125, 143.20703125, 143.20703125, 143.20703125, 143.20703125], 88: [143.20703125, 143.20703125, 143.20703125, 143.20703125, 143.20703125, 143.20703125, 143.20703125, 143.20703125, 143.20703125, 143.20703125], 89: [143.20703125, 143.20703125, 143.20703125, 143.20703125, 143.20703125, 143.20703125, 143.20703125, 143.20703125, 143.20703125, 143.20703125], 91: [143.20703125], 93: [143.20703125], 95: [143.20703125], 96: [143.20703125], 97: [143.20703125], 99: [143.20703125], 100: [143.20703125], 101: [143.20703125], 102: [143.20703125], 103: [143.20703125], 104: [143.20703125, 165.41015625, 180.99609375, 182.44921875, 183.671875, 185.5625, 185.5625, 185.5625, 185.5625, 185.5625, 185.5625], 105: [143.20703125, 165.41015625, 180.99609375, 182.44921875, 183.671875, 185.5625, 185.5625, 185.5625, 185.5625, 185.5625, 185.5625], 106: [143.20703125, 165.41015625, 180.99609375, 182.44921875, 183.671875, 185.5625, 185.5625, 185.5625, 185.5625, 185.5625]}}"
       ]
      },
      {
       "output_type": "stream",
       "stream": "stdout",
       "text": [
        "\n",
        "{<code object setup at 0x39b3210, file \"polyxtal.py\", line 11>: {13: [185.828125], 14: [185.828125], 15: [185.828125], 17: [185.828125], 19: [185.828125], 21: [185.828125], 23: [185.828125], 24: [185.828125], 27: [185.828125], 28: [185.828125], 29: [185.828125], 30: [185.828125], 33: [185.828125], 35: [185.828125], 36: [185.828125], 37: [185.828125], 38: [185.828125], 39: [185.828125], 40: [185.828125], 41: [185.828125], 42: [185.828125], 43: [185.828125], 44: [185.828125], 45: [185.828125], 46: [185.828125], 47: [185.828125], 48: [185.828125], 50: [185.828125], 51: [185.828125], 52: [185.828125], 53: [185.828125], 54: [185.828125], 55: [185.828125], 56: [185.828125], 57: [185.828125], 58: [185.828125], 59: [185.828125], 60: [185.828125], 62: [185.828125], 63: [185.828125], 64: [185.828125], 65: [185.828125], 66: [185.828125], 67: [185.828125], 68: [185.828125], 69: [185.828125], 70: [185.828125], 71: [185.828125], 72: [185.828125], 73: [185.828125], 74: [185.828125], 75: [185.828125], 76: [185.828125], 78: [185.828125], 79: [185.828125], 80: [185.828125], 82: [185.828125], 83: [185.828125], 84: [185.828125], 85: [185.828125, 185.828125, 185.828125, 185.828125, 185.828125, 185.828125, 185.828125, 185.828125, 185.828125, 185.828125, 185.828125], 86: [185.828125, 185.828125, 185.828125, 185.828125, 185.828125, 185.828125, 185.828125, 185.828125, 185.828125, 185.828125], 87: [185.828125, 185.828125, 185.828125, 185.828125, 185.828125, 185.828125, 185.828125, 185.828125, 185.828125, 185.828125], 88: [185.828125, 185.828125, 185.828125, 185.828125, 185.828125, 185.828125, 185.828125, 185.828125, 185.828125, 185.828125], 89: [185.828125, 185.828125, 185.828125, 185.828125, 185.828125, 185.828125, 185.828125, 185.828125, 185.828125, 185.828125], 91: [185.828125], 93: [185.828125], 95: [185.828125], 96: [185.828125], 97: [185.828125], 99: [185.828125], 100: [185.828125], 101: [185.828125], 102: [185.828125], 103: [185.828125], 104: [185.828125, 224.19140625, 253.0546875, 256.453125, 257.328125, 257.328125, 257.328125, 257.328125, 257.328125, 263.37890625, 263.37890625], 105: [185.828125, 224.19140625, 253.0546875, 256.453125, 257.328125, 257.328125, 257.328125, 257.328125, 257.328125, 263.37890625, 263.37890625], 106: [185.828125, 224.19140625, 253.0546875, 256.453125, 257.328125, 257.328125, 257.328125, 257.328125, 257.328125, 263.37890625]}}"
       ]
      },
      {
       "output_type": "stream",
       "stream": "stdout",
       "text": [
        "\n",
        "{<code object setup at 0x39b3210, file \"polyxtal.py\", line 11>: {13: [264.23828125], 14: [264.23828125], 15: [264.23828125], 17: [264.23828125], 19: [264.23828125], 21: [264.23828125], 23: [264.23828125], 24: [264.23828125], 27: [264.23828125], 28: [264.23828125], 29: [264.23828125], 30: [264.23828125], 33: [264.23828125], 35: [264.23828125], 36: [264.23828125], 37: [264.23828125], 38: [264.23828125], 39: [264.23828125], 40: [264.23828125], 41: [264.23828125], 42: [264.23828125], 43: [264.23828125], 44: [264.23828125], 45: [264.23828125], 46: [264.23828125], 47: [264.23828125], 48: [264.23828125], 50: [264.23828125], 51: [264.23828125], 52: [264.23828125], 53: [264.23828125], 54: [264.23828125], 55: [264.23828125], 56: [264.23828125], 57: [264.23828125], 58: [264.23828125], 59: [264.23828125], 60: [264.23828125], 62: [264.23828125], 63: [264.23828125], 64: [264.23828125], 65: [264.23828125], 66: [264.23828125], 67: [264.23828125], 68: [264.23828125], 69: [264.23828125], 70: [264.23828125], 71: [264.23828125], 72: [264.23828125], 73: [264.23828125], 74: [264.23828125], 75: [264.23828125], 76: [264.23828125], 78: [264.23828125], 79: [264.23828125], 80: [264.23828125], 82: [264.23828125], 83: [264.23828125], 84: [264.23828125], 85: [264.23828125, 264.23828125, 264.23828125, 264.23828125, 264.23828125, 264.23828125, 264.23828125, 264.23828125, 264.23828125, 264.23828125, 264.23828125], 86: [264.23828125, 264.23828125, 264.23828125, 264.23828125, 264.23828125, 264.23828125, 264.23828125, 264.23828125, 264.23828125, 264.23828125], 87: [264.23828125, 264.23828125, 264.23828125, 264.23828125, 264.23828125, 264.23828125, 264.23828125, 264.23828125, 264.23828125, 264.23828125], 88: [264.23828125, 264.23828125, 264.23828125, 264.23828125, 264.23828125, 264.23828125, 264.23828125, 264.23828125, 264.23828125, 264.23828125], 89: [264.23828125, 264.23828125, 264.23828125, 264.23828125, 264.23828125, 264.23828125, 264.23828125, 264.23828125, 264.23828125, 264.23828125], 91: [264.23828125], 93: [264.23828125], 95: [264.23828125], 96: [264.23828125], 97: [264.23828125], 99: [264.23828125], 100: [264.23828125], 101: [264.23828125], 102: [264.23828125], 103: [264.23828125], 104: [264.23828125, 329.52734375, 376.64453125, 379.8046875, 381.35546875, 387.46875, 387.46875, 387.46875, 387.46875, 388.2421875, 388.2421875], 105: [264.23828125, 329.52734375, 376.64453125, 379.8046875, 381.35546875, 387.46875, 387.46875, 387.46875, 387.46875, 388.2421875, 388.2421875], 106: [264.23828125, 329.52734375, 376.64453125, 379.8046875, 381.35546875, 387.46875, 387.46875, 387.46875, 387.46875, 388.2421875]}}"
       ]
      },
      {
       "output_type": "stream",
       "stream": "stdout",
       "text": [
        "\n",
        "[83.20703125, 117.52734375, 143.203125, 185.828125, 264.23828125]\n",
        "[117.33984375, 141.84375, 185.5625, 263.37890625, 388.2421875]\n"
       ]
      },
      {
       "output_type": "stream",
       "stream": "stderr",
       "text": [
        "/users/ddm1/fipy/fipy/solvers/pysparse/pysparseSolver.py:76: DeprecationWarning: PyArray_FromDimsAndDataAndDescr: use PyArray_NewFromDescr.\n",
        "  self.iterations, P)\n"
       ]
      },
      {
       "output_type": "display_data",
       "png": "[encoded data removed]"
      }
     ],
     "prompt_number": 1
    },
    {
     "cell_type": "code",
     "collapsed": false,
     "input": [
      "from profiling_memory import MemoryViewer\n",
      "from polyxtal import PolyxtalSimulation\n",
      "from polyxtal import func\n",
      "\n",
      "\n",
      "ncells = np.array(np.logspace(4, 5, 5), dtype=int)\n",
      "memoryViewer = MemoryViewer(ncells)\n",
      "memoryViewer.plot(PolyxtalSimulation.setup, func, line=106)\n",
      "plt.show()"
     ],
     "language": "python",
     "metadata": {},
     "outputs": [
      {
       "output_type": "stream",
       "stream": "stdout",
       "text": [
        "{<code object setup at 0x3477210, file \"polyxtal.py\", line 11>: {13: [83.19921875], 14: [83.19921875], 15: [83.203125], 17: [83.2890625], 19: [83.2890625], 21: [83.62109375], 23: [83.78515625], 24: [84.0234375], 27: [84.0234375], 28: [84.0234375], 29: [84.0234375], 30: [84.0234375], 33: [84.0234375], 35: [84.07421875], 36: [84.07421875], 37: [84.07421875], 38: [84.07421875], 39: [89.8046875], 40: [89.83984375], 41: [89.87890625], 42: [89.890625], 43: [89.91015625], 44: [89.93359375], 45: [89.94921875], 46: [89.953125], 47: [89.953125], 48: [89.953125], 50: [89.98828125], 51: [89.98828125], 52: [89.98828125], 53: [89.98828125], 54: [89.98828125], 55: [89.98828125], 56: [90.01171875], 57: [90.01171875], 58: [90.01171875], 59: [90.02734375], 60: [90.02734375], 62: [90.02734375], 63: [90.02734375], 64: [90.02734375], 65: [90.02734375], 66: [90.02734375], 67: [90.02734375], 68: [90.02734375], 69: [90.02734375], 70: [90.02734375], 71: [90.02734375], 72: [91.875], 73: [91.875], 74: [91.875], 75: [91.875], 76: [91.875], 78: [91.875], 79: [91.875], 80: [91.875], 82: [93.40234375], 83: [93.40234375], 84: [93.40234375], 85: [93.40234375, 93.40625, 93.40625, 93.40625, 93.40625, 93.40625, 93.40625, 93.40625, 93.40625, 93.40625, 93.40625], 86: [93.40234375, 93.40625, 93.40625, 93.40625, 93.40625, 93.40625, 93.40625, 93.40625, 93.40625, 93.40625], 87: [93.40234375, 93.40625, 93.40625, 93.40625, 93.40625, 93.40625, 93.40625, 93.40625, 93.40625, 93.40625], 88: [93.40234375, 93.40625, 93.40625, 93.40625, 93.40625, 93.40625, 93.40625, 93.40625, 93.40625, 93.40625], 89: [93.40625, 93.40625, 93.40625, 93.40625, 93.40625, 93.40625, 93.40625, 93.40625, 93.40625, 93.40625], 91: [93.40625], 93: [93.40625], 95: [93.40625], 96: [93.40625], 97: [93.40625], 99: [93.40625], 100: [93.40625], 101: [93.40625], 102: [93.40625], 103: [93.40625], 104: [93.40625, 110.29296875, 115.7421875], 105: [93.40625, 110.29296875, 115.7421875], 106: [93.40625, 110.29296875]}}\n",
        "{<code object setup at 0x3477210, file \"polyxtal.py\", line 11>: {13: [116.78125], 14: [116.78125], 15: [116.78125], 17: [116.78125], 19: [116.78125], 21: [116.78125], 23: [116.78125], 24: [116.78125], 27: [116.78125], 28: [116.78125], 29: [116.78125], 30: [116.78125], 33: [116.78125], 35: [116.78125], 36: [116.78125], 37: [116.78125], 38: [116.78125], 39: [116.78125], 40: [116.78125], 41: [116.78125], 42: [116.78125], 43: [116.78125], 44: [116.78125], 45: [116.78125], 46: [116.78125], 47: [116.78125], 48: [116.78125], 50: [116.78125], 51: [116.78125], 52: [116.78125], 53: [116.78125], 54: [116.78125], 55: [116.78125], 56: [116.78125], 57: [116.78125], 58: [116.78125], 59: [116.78125], 60: [116.78125], 62: [116.78125], 63: [116.78125], 64: [116.78125], 65: [116.78125], 66: [116.78125], 67: [116.78125], 68: [116.78125], 69: [116.78125], 70: [116.78125], 71: [116.78125], 72: [116.78125], 73: [116.78125], 74: [116.78125], 75: [116.78125], 76: [116.78125], 78: [116.78125], 79: [116.78125], 80: [116.78125], 82: [116.78125], 83: [116.78125], 84: [116.78125], 85: [116.78125, 116.78125, 116.78125, 116.78125, 116.78125, 116.78125, 116.78125, 116.78125, 116.78125, 116.78125, 116.78125], 86: [116.78125, 116.78125, 116.78125, 116.78125, 116.78125, 116.78125, 116.78125, 116.78125, 116.78125, 116.78125], 87: [116.78125, 116.78125, 116.78125, 116.78125, 116.78125, 116.78125, 116.78125, 116.78125, 116.78125, 116.78125], 88: [116.78125, 116.78125, 116.78125, 116.78125, 116.78125, 116.78125, 116.78125, 116.78125, 116.78125, 116.78125], 89: [116.78125, 116.78125, 116.78125, 116.78125, 116.78125, 116.78125, 116.78125, 116.78125, 116.78125, 116.78125], 91: [116.78125], 93: [116.78125], 95: [116.78125], 96: [116.78125], 97: [116.78125], 99: [116.78125], 100: [116.78125], 101: [116.78125], 102: [116.78125], 103: [116.78125], 104: [116.78125, 131.13671875, 139.15625], 105: [116.78125, 131.13671875, 139.15625], 106: [116.78125, 131.13671875]}}"
       ]
      },
      {
       "output_type": "stream",
       "stream": "stdout",
       "text": [
        "\n",
        "{<code object setup at 0x3477210, file \"polyxtal.py\", line 11>: {13: [141.77734375], 14: [141.77734375], 15: [141.77734375], 17: [141.77734375], 19: [141.77734375], 21: [141.77734375], 23: [141.77734375], 24: [141.77734375], 27: [141.77734375], 28: [141.77734375], 29: [141.77734375], 30: [141.77734375], 33: [141.77734375], 35: [141.77734375], 36: [141.77734375], 37: [141.77734375], 38: [141.77734375], 39: [141.77734375], 40: [141.77734375], 41: [141.77734375], 42: [141.77734375], 43: [141.77734375], 44: [141.77734375], 45: [141.77734375], 46: [141.77734375], 47: [141.77734375], 48: [141.77734375], 50: [141.77734375], 51: [141.77734375], 52: [141.77734375], 53: [141.77734375], 54: [141.77734375], 55: [141.77734375], 56: [141.77734375], 57: [141.77734375], 58: [141.77734375], 59: [141.77734375], 60: [141.77734375], 62: [141.77734375], 63: [141.77734375], 64: [141.77734375], 65: [141.77734375], 66: [141.77734375], 67: [141.77734375], 68: [141.77734375], 69: [141.77734375], 70: [141.77734375], 71: [141.77734375], 72: [141.77734375], 73: [141.77734375], 74: [141.77734375], 75: [141.77734375], 76: [141.77734375], 78: [141.77734375], 79: [141.77734375], 80: [141.77734375], 82: [141.77734375], 83: [141.77734375], 84: [141.77734375], 85: [141.77734375, 141.77734375, 141.77734375, 141.77734375, 141.77734375, 141.77734375, 141.77734375, 141.77734375, 141.77734375, 141.77734375, 141.77734375], 86: [141.77734375, 141.77734375, 141.77734375, 141.77734375, 141.77734375, 141.77734375, 141.77734375, 141.77734375, 141.77734375, 141.77734375], 87: [141.77734375, 141.77734375, 141.77734375, 141.77734375, 141.77734375, 141.77734375, 141.77734375, 141.77734375, 141.77734375, 141.77734375], 88: [141.77734375, 141.77734375, 141.77734375, 141.77734375, 141.77734375, 141.77734375, 141.77734375, 141.77734375, 141.77734375, 141.77734375], 89: [141.77734375, 141.77734375, 141.77734375, 141.77734375, 141.77734375, 141.77734375, 141.77734375, 141.77734375, 141.77734375, 141.77734375], 91: [141.77734375], 93: [141.77734375], 95: [141.77734375], 96: [141.77734375], 97: [141.77734375], 99: [141.77734375], 100: [141.77734375], 101: [141.77734375], 102: [141.77734375], 103: [141.77734375], 104: [141.77734375, 164.375, 179.34375], 105: [141.77734375, 164.375, 179.34375], 106: [141.77734375, 164.375]}}"
       ]
      },
      {
       "output_type": "stream",
       "stream": "stdout",
       "text": [
        "\n",
        "{<code object setup at 0x3477210, file \"polyxtal.py\", line 11>: {13: [183.68359375], 14: [183.68359375], 15: [183.68359375], 17: [183.68359375], 19: [183.68359375], 21: [183.68359375], 23: [183.68359375], 24: [183.68359375], 27: [183.68359375], 28: [183.68359375], 29: [183.68359375], 30: [183.68359375], 33: [183.68359375], 35: [183.68359375], 36: [183.68359375], 37: [183.68359375], 38: [183.68359375], 39: [183.68359375], 40: [183.68359375], 41: [183.68359375], 42: [183.68359375], 43: [183.68359375], 44: [183.68359375], 45: [183.68359375], 46: [183.68359375], 47: [183.68359375], 48: [183.68359375], 50: [183.68359375], 51: [183.68359375], 52: [183.68359375], 53: [183.68359375], 54: [183.68359375], 55: [183.68359375], 56: [183.68359375], 57: [183.68359375], 58: [183.68359375], 59: [183.68359375], 60: [183.68359375], 62: [183.68359375], 63: [183.68359375], 64: [183.68359375], 65: [183.68359375], 66: [183.68359375], 67: [183.68359375], 68: [183.68359375], 69: [183.68359375], 70: [183.68359375], 71: [183.68359375], 72: [183.68359375], 73: [183.68359375], 74: [183.68359375], 75: [183.68359375], 76: [183.68359375], 78: [183.68359375], 79: [183.68359375], 80: [183.68359375], 82: [183.68359375], 83: [183.68359375], 84: [183.68359375], 85: [183.68359375, 183.68359375, 183.68359375, 183.68359375, 183.68359375, 183.68359375, 183.68359375, 183.68359375, 183.68359375, 183.68359375, 183.68359375], 86: [183.68359375, 183.68359375, 183.68359375, 183.68359375, 183.68359375, 183.68359375, 183.68359375, 183.68359375, 183.68359375, 183.68359375], 87: [183.68359375, 183.68359375, 183.68359375, 183.68359375, 183.68359375, 183.68359375, 183.68359375, 183.68359375, 183.68359375, 183.68359375], 88: [183.68359375, 183.68359375, 183.68359375, 183.68359375, 183.68359375, 183.68359375, 183.68359375, 183.68359375, 183.68359375, 183.68359375], 89: [183.68359375, 183.68359375, 183.68359375, 183.68359375, 183.68359375, 183.68359375, 183.68359375, 183.68359375, 183.68359375, 183.68359375], 91: [183.68359375], 93: [183.68359375], 95: [183.68359375], 96: [183.68359375], 97: [183.68359375], 99: [183.68359375], 100: [183.68359375], 101: [183.68359375], 102: [183.68359375], 103: [183.68359375], 104: [183.68359375, 226.26171875, 252.125], 105: [183.68359375, 226.26171875, 252.125], 106: [183.68359375, 226.26171875]}}"
       ]
      },
      {
       "output_type": "stream",
       "stream": "stdout",
       "text": [
        "\n",
        "{<code object setup at 0x3477210, file \"polyxtal.py\", line 11>: {13: [262.453125], 14: [262.453125], 15: [262.453125], 17: [262.453125], 19: [262.453125], 21: [262.453125], 23: [262.453125], 24: [262.453125], 27: [262.453125], 28: [262.453125], 29: [262.453125], 30: [262.453125], 33: [262.453125], 35: [262.453125], 36: [262.453125], 37: [262.453125], 38: [262.453125], 39: [262.453125], 40: [262.453125], 41: [262.453125], 42: [262.453125], 43: [262.453125], 44: [262.453125], 45: [262.453125], 46: [262.453125], 47: [262.453125], 48: [262.453125], 50: [262.453125], 51: [262.453125], 52: [262.453125], 53: [262.453125], 54: [262.453125], 55: [262.453125], 56: [262.453125], 57: [262.453125], 58: [262.453125], 59: [262.453125], 60: [262.453125], 62: [262.453125], 63: [262.453125], 64: [262.453125], 65: [262.453125], 66: [262.453125], 67: [262.453125], 68: [262.453125], 69: [262.453125], 70: [262.453125], 71: [262.453125], 72: [262.453125], 73: [262.453125], 74: [262.453125], 75: [262.453125], 76: [262.453125], 78: [262.453125], 79: [262.453125], 80: [262.453125], 82: [262.453125], 83: [262.453125], 84: [262.453125], 85: [262.453125, 262.453125, 262.453125, 262.453125, 262.453125, 262.453125, 262.453125, 262.453125, 262.453125, 262.453125, 262.453125], 86: [262.453125, 262.453125, 262.453125, 262.453125, 262.453125, 262.453125, 262.453125, 262.453125, 262.453125, 262.453125], 87: [262.453125, 262.453125, 262.453125, 262.453125, 262.453125, 262.453125, 262.453125, 262.453125, 262.453125, 262.453125], 88: [262.453125, 262.453125, 262.453125, 262.453125, 262.453125, 262.453125, 262.453125, 262.453125, 262.453125, 262.453125], 89: [262.453125, 262.453125, 262.453125, 262.453125, 262.453125, 262.453125, 262.453125, 262.453125, 262.453125, 262.453125], 91: [262.453125], 93: [262.453125], 95: [262.453125], 96: [262.453125], 97: [262.453125], 99: [262.453125], 100: [262.453125], 101: [262.453125], 102: [262.453125], 103: [262.453125], 104: [262.453125, 332.63671875, 376.19140625], 105: [262.453125, 332.63671875, 376.19140625], 106: [262.453125, 332.63671875]}}"
       ]
      },
      {
       "output_type": "stream",
       "stream": "stderr",
       "text": [
        "/users/ddm1/fipy/fipy/solvers/pysparse/pysparseSolver.py:76: DeprecationWarning: PyArray_FromDimsAndDataAndDescr: use PyArray_NewFromDescr.\n",
        "  self.iterations, P)\n",
        "Exception in thread Thread-2:\n",
        "Traceback (most recent call last):\n",
        "  File \"/usr/lib/python2.6/threading.py\", line 532, in __bootstrap_inner\n",
        "    self.run()\n",
        "  File \"/users/ddm1/.virtualenvs/venv1/lib/python2.6/site-packages/IPython/zmq/heartbeat.py\", line 47, in run\n",
        "    zmq.device(zmq.FORWARDER, self.socket, self.socket)\n",
        "  File \"device.pyx\", line 55, in zmq.core.device.device (zmq/core/device.c:754)\n",
        "ZMQError: Interrupted system call\n",
        "\n"
       ]
      },
      {
       "output_type": "stream",
       "stream": "stdout",
       "text": [
        "\n",
        "[110.29296875, 131.13671875, 164.375, 226.26171875, 332.63671875]\n",
        "[115.7421875, 139.15625, 179.34375, 252.125, 376.19140625]\n"
       ]
      },
      {
       "output_type": "display_data",
       "png": "[encoded data removed]"
      }
     ],
     "prompt_number": 1
    },
    {
     "cell_type": "code",
     "collapsed": false,
     "input": [
      "from profiling_memory import MemoryViewer\n",
      "from polyxtal import PolyxtalSimulation\n",
      "from polyxtal import func\n",
      "\n",
      "\n",
      "ncells = np.array(np.logspace(4, 5, 5), dtype=int)\n",
      "memoryViewer = MemoryViewer(ncells[1:2])\n",
      "memoryViewer.plot(PolyxtalSimulation.setup, func, line=12)\n",
      "plt.show()"
     ],
     "language": "python",
     "metadata": {},
     "outputs": [
      {
       "output_type": "stream",
       "stream": "stdout",
       "text": [
        "{<code object setup at 0x3e04210, file \"polyxtal.py\", line 11>: {13: [83.125], 14: [83.125], 15: [83.12890625], 17: [83.21875], 19: [83.21875], 21: [83.7265625], 23: [84.0078125], 24: [84.41796875], 27: [84.41796875], 28: [84.41796875], 29: [84.41796875], 30: [84.41796875], 33: [84.41796875], 35: [84.46875], 36: [84.46875], 37: [84.46875], 38: [84.46875], 39: [94.44921875], 40: [94.484375], 41: [94.5234375], 42: [94.53515625], 43: [94.5546875], 44: [94.578125], 45: [94.59375], 46: [94.59765625], 47: [94.59765625], 48: [94.59765625], 50: [94.6328125], 51: [94.6328125], 52: [94.6328125], 53: [94.6328125], 54: [94.6328125], 55: [94.6328125], 56: [94.65625], 57: [94.65625], 58: [94.65625], 59: [94.671875], 60: [94.671875], 62: [94.671875], 63: [94.671875], 64: [94.671875], 65: [94.671875], 66: [94.671875], 67: [94.671875], 68: [94.671875], 69: [94.671875], 70: [94.671875], 71: [94.671875], 72: [97.6640625], 73: [97.6640625], 74: [97.6640625], 75: [97.6640625], 76: [97.6640625], 78: [97.6640625], 79: [97.6640625], 80: [97.6640625], 82: [100.36328125], 83: [100.36328125], 84: [100.36328125], 85: [100.36328125, 100.3671875, 100.3671875, 100.3671875, 100.3671875, 100.3671875, 100.3671875, 100.3671875, 100.3671875, 100.3671875, 100.3671875], 86: [100.36328125, 100.3671875, 100.3671875, 100.3671875, 100.3671875, 100.3671875, 100.3671875, 100.3671875, 100.3671875, 100.3671875], 87: [100.36328125, 100.3671875, 100.3671875, 100.3671875, 100.3671875, 100.3671875, 100.3671875, 100.3671875, 100.3671875, 100.3671875], 88: [100.36328125, 100.3671875, 100.3671875, 100.3671875, 100.3671875, 100.3671875, 100.3671875, 100.3671875, 100.3671875, 100.3671875], 89: [100.3671875, 100.3671875, 100.3671875, 100.3671875, 100.3671875, 100.3671875, 100.3671875, 100.3671875, 100.3671875, 100.3671875], 91: [100.3671875], 93: [100.3671875], 95: [100.3671875], 96: [100.3671875], 97: [100.3671875], 99: [100.3671875], 100: [100.3671875], 101: [100.3671875], 102: [100.3671875], 103: [100.3671875], 104: [100.3671875, 127.36328125, 137.2890625], 105: [100.3671875, 127.36328125, 137.2890625], 106: [100.3671875, 127.36328125]}}\n",
        "[83.125]\n",
        "[137.2890625]\n"
       ]
      },
      {
       "output_type": "stream",
       "stream": "stderr",
       "text": [
        "/users/ddm1/fipy/fipy/solvers/pysparse/pysparseSolver.py:76: DeprecationWarning: PyArray_FromDimsAndDataAndDescr: use PyArray_NewFromDescr.\n",
        "  self.iterations, P)\n"
       ]
      },
      {
       "output_type": "display_data",
       "png": "[encoded data removed]"
      }
     ],
     "prompt_number": 1
    },
    {
     "cell_type": "code",
     "collapsed": false,
     "input": [
      "from fipyprofile import FiPyProfile\n",
      "from profiling_functions import FiPyProfileTime\n",
      "from polyxtal import PolyxtalSimulationGmsh\n",
      "import numpy as np\n",
      "from extremefill2D.simulation2D import Simulation2D\n",
      "from profiling_functions import ProfileViewer\n",
      "from fipy.solvers.pysparse.pysparseSolver import PysparseSolver \n",
      "class Simulation2DProfile(Simulation2D):\n",
      "    def _run(self, ncell):\n",
      "        self.run(totalSteps=10,\n",
      "                 Nx=int(np.sqrt(ncell * 7.34)),\n",
      "                 CFL=0.1,\n",
      "                 sweeps=4,\n",
      "                 tol=1e-10,\n",
      "                 areaRatio=2 * 0.093,\n",
      "                 solver_tol=1e-6,\n",
      "                 dtMax=1.,\n",
      "                 totalTime=5000.,\n",
      "                 PRINT=False,\n",
      "                 dt=0.01)\n",
      "        \n",
      "ncells = np.array(np.logspace(2, 6, 20), dtype=int)\n",
      "polyxtal = PolyxtalSimulationGmsh()\n",
      "#profilers = [FiPyProfileTime(sim2D._run, ncell, regenerate=True, funcString='extremefill2-') for ncell in ncells]\n",
      "gmshprofilers = [FiPyProfileTime(polyxtal.run, ncell, regenerate=True, funcString='polyxtal-gmsh-') for ncell in ncells]\n"
     ],
     "language": "python",
     "metadata": {},
     "outputs": [
      {
       "output_type": "stream",
       "stream": "stderr",
       "text": [
        "/users/mlh4/.virtualenvs/default/lib/python2.6/site-packages/memory_profiler.py:35: UserWarning: psutil module not found. memory_profiler will be slow\n",
        "  warnings.warn(\"psutil module not found. memory_profiler will be slow\")\n",
        "/users/mlh4/fipy/fipy/solvers/pysparse/pysparseSolver.py:76: DeprecationWarning: PyArray_FromDimsAndDataAndDescr: use PyArray_NewFromDescr.\n",
        "  self.iterations, P)\n"
       ]
      },
      {
       "output_type": "stream",
       "stream": "stdout",
       "text": [
        "\n",
        "generate data for  100\n",
        "time taken "
       ]
      },
      {
       "output_type": "stream",
       "stream": "stdout",
       "text": [
        " 2.93110704422\n",
        "\n",
        "\n",
        "generate data for  162\n",
        "time taken "
       ]
      },
      {
       "output_type": "stream",
       "stream": "stdout",
       "text": [
        " 2.89032888412\n",
        "\n",
        "\n",
        "generate data for  263\n",
        "time taken "
       ]
      },
      {
       "output_type": "stream",
       "stream": "stdout",
       "text": [
        " 3.02914190292\n",
        "\n",
        "\n",
        "generate data for  428\n",
        "time taken "
       ]
      },
      {
       "output_type": "stream",
       "stream": "stdout",
       "text": [
        " 3.07486104965\n",
        "\n",
        "\n",
        "generate data for  695\n",
        "time taken "
       ]
      },
      {
       "output_type": "stream",
       "stream": "stdout",
       "text": [
        " 3.18150401115\n",
        "\n",
        "\n",
        "generate data for  1128\n",
        "time taken "
       ]
      },
      {
       "output_type": "stream",
       "stream": "stdout",
       "text": [
        " 3.75708889961\n",
        "\n",
        "\n",
        "generate data for  1832\n",
        "time taken "
       ]
      },
      {
       "output_type": "stream",
       "stream": "stdout",
       "text": [
        " 3.80327296257\n",
        "\n",
        "\n",
        "generate data for  2976\n",
        "time taken "
       ]
      },
      {
       "output_type": "stream",
       "stream": "stdout",
       "text": [
        " 4.3839969635\n",
        "\n",
        "\n",
        "generate data for  4832\n",
        "time taken "
       ]
      },
      {
       "output_type": "stream",
       "stream": "stdout",
       "text": [
        " 4.88969802856\n",
        "\n",
        "\n",
        "generate data for  7847\n",
        "time taken "
       ]
      },
      {
       "output_type": "stream",
       "stream": "stdout",
       "text": [
        " 6.33833312988\n",
        "\n",
        "\n",
        "generate data for  12742\n",
        "time taken "
       ]
      },
      {
       "output_type": "stream",
       "stream": "stdout",
       "text": [
        " 8.46748900414\n",
        "\n",
        "\n",
        "generate data for  20691\n",
        "time taken "
       ]
      },
      {
       "output_type": "stream",
       "stream": "stdout",
       "text": [
        " 12.0440859795\n",
        "\n",
        "\n",
        "generate data for  33598\n",
        "time taken "
       ]
      },
      {
       "output_type": "stream",
       "stream": "stdout",
       "text": [
        " 18.1827831268\n",
        "\n",
        "\n",
        "generate data for  54555\n",
        "time taken "
       ]
      },
      {
       "output_type": "stream",
       "stream": "stdout",
       "text": [
        " 29.2376310825\n",
        "\n",
        "\n",
        "generate data for  88586\n",
        "time taken "
       ]
      },
      {
       "output_type": "stream",
       "stream": "stdout",
       "text": [
        " 45.9613208771\n",
        "\n",
        "\n",
        "generate data for  143844\n",
        "time taken "
       ]
      },
      {
       "output_type": "stream",
       "stream": "stdout",
       "text": [
        " 74.8776428699\n",
        "\n",
        "\n",
        "generate data for  233572\n",
        "time taken "
       ]
      },
      {
       "output_type": "stream",
       "stream": "stdout",
       "text": [
        " 122.656085014\n",
        "\n",
        "\n",
        "generate data for  379269\n",
        "time taken "
       ]
      },
      {
       "output_type": "stream",
       "stream": "stdout",
       "text": [
        " 201.068902016\n",
        "\n",
        "\n",
        "generate data for  615848\n",
        "time taken "
       ]
      },
      {
       "output_type": "stream",
       "stream": "stdout",
       "text": [
        " 336.011017084\n",
        "\n",
        "\n",
        "generate data for  1000000\n",
        "time taken "
       ]
      },
      {
       "output_type": "stream",
       "stream": "stdout",
       "text": [
        " 554.745023012\n",
        "\n"
       ]
      }
     ],
     "prompt_number": 1
    },
    {
     "cell_type": "code",
     "collapsed": false,
     "input": [
      "from fipyprofile import FiPyProfile\n",
      "from profiling_functions import FiPyProfileTime\n",
      "from polyxtal import PolyxtalSimulation\n",
      "import numpy as np\n",
      "from extremefill2D.simulation2D import Simulation2D\n",
      "from profiling_functions import ProfileViewer\n",
      "from fipy.solvers.pysparse.pysparseSolver import PysparseSolver \n",
      "class Simulation2DProfile(Simulation2D):\n",
      "    def _run(self, ncell):\n",
      "        self.run(totalSteps=10,\n",
      "                 Nx=int(np.sqrt(ncell * 7.34)),\n",
      "                 CFL=0.1,\n",
      "                 sweeps=4,\n",
      "                 tol=1e-10,\n",
      "                 areaRatio=2 * 0.093,\n",
      "                 solver_tol=1e-6,\n",
      "                 dtMax=1.,\n",
      "                 totalTime=5000.,\n",
      "                 PRINT=False,\n",
      "                 dt=0.01)\n",
      "        \n",
      "ncells = np.array(np.logspace(2, 6, 20), dtype=int)\n",
      "polyxtal = PolyxtalSimulation()\n",
      "#profilers = [FiPyProfileTime(sim2D._run, ncell, regenerate=True, funcString='extremefill2-') for ncell in ncells]\n",
      "profilers = [FiPyProfileTime(polyxtal.run, ncell, regenerate=True, funcString='polyxtal-notgmsh-') for ncell in ncells]\n"
     ],
     "language": "python",
     "metadata": {},
     "outputs": [
      {
       "output_type": "stream",
       "stream": "stderr",
       "text": [
        "/users/mlh4/.virtualenvs/default/lib/python2.6/site-packages/memory_profiler.py:35: UserWarning: psutil module not found. memory_profiler will be slow\n",
        "  warnings.warn(\"psutil module not found. memory_profiler will be slow\")\n",
        "/users/mlh4/fipy/fipy/solvers/pysparse/pysparseSolver.py:76: DeprecationWarning: PyArray_FromDimsAndDataAndDescr: use PyArray_NewFromDescr.\n",
        "  self.iterations, P)\n"
       ]
      },
      {
       "output_type": "stream",
       "stream": "stdout",
       "text": [
        "\n",
        "generate data for  100\n",
        "time taken "
       ]
      },
      {
       "output_type": "stream",
       "stream": "stdout",
       "text": [
        " 2.56171989441\n",
        "\n",
        "\n",
        "generate data for  162\n",
        "time taken "
       ]
      },
      {
       "output_type": "stream",
       "stream": "stdout",
       "text": [
        " 2.57123208046\n",
        "\n",
        "\n",
        "generate data for  263\n",
        "time taken "
       ]
      },
      {
       "output_type": "stream",
       "stream": "stdout",
       "text": [
        " 2.64742398262\n",
        "\n",
        "\n",
        "generate data for  428\n",
        "time taken "
       ]
      },
      {
       "output_type": "stream",
       "stream": "stdout",
       "text": [
        " 2.77200603485\n",
        "\n",
        "\n",
        "generate data for  695\n",
        "time taken "
       ]
      },
      {
       "output_type": "stream",
       "stream": "stdout",
       "text": [
        " 2.82724404335\n",
        "\n",
        "\n",
        "generate data for  1128\n",
        "time taken "
       ]
      },
      {
       "output_type": "stream",
       "stream": "stdout",
       "text": [
        " 2.85109305382\n",
        "\n",
        "\n",
        "generate data for  1832\n",
        "time taken "
       ]
      },
      {
       "output_type": "stream",
       "stream": "stdout",
       "text": [
        " 3.15568113327\n",
        "\n",
        "\n",
        "generate data for  2976\n",
        "time taken "
       ]
      },
      {
       "output_type": "stream",
       "stream": "stdout",
       "text": [
        " 3.27386879921\n",
        "\n",
        "\n",
        "generate data for  4832\n",
        "time taken "
       ]
      },
      {
       "output_type": "stream",
       "stream": "stdout",
       "text": [
        " 3.66099691391\n",
        "\n",
        "\n",
        "generate data for  7847\n",
        "time taken "
       ]
      },
      {
       "output_type": "stream",
       "stream": "stdout",
       "text": [
        " 4.23486804962\n",
        "\n",
        "\n",
        "generate data for  12742\n",
        "time taken "
       ]
      },
      {
       "output_type": "stream",
       "stream": "stdout",
       "text": [
        " 5.38576602936\n",
        "\n",
        "\n",
        "generate data for  20691\n",
        "time taken "
       ]
      },
      {
       "output_type": "stream",
       "stream": "stdout",
       "text": [
        " 7.0204269886\n",
        "\n",
        "\n",
        "generate data for  33598\n",
        "time taken "
       ]
      },
      {
       "output_type": "stream",
       "stream": "stdout",
       "text": [
        " 10.4683759212\n",
        "\n",
        "\n",
        "generate data for  54555\n",
        "time taken "
       ]
      },
      {
       "output_type": "stream",
       "stream": "stdout",
       "text": [
        " 15.9214990139\n",
        "\n",
        "\n",
        "generate data for  88586\n",
        "time taken "
       ]
      },
      {
       "output_type": "stream",
       "stream": "stdout",
       "text": [
        " 25.2875170708\n",
        "\n",
        "\n",
        "generate data for  143844\n",
        "time taken "
       ]
      },
      {
       "output_type": "stream",
       "stream": "stdout",
       "text": [
        " 40.9468851089\n",
        "\n",
        "\n",
        "generate data for  233572\n",
        "time taken "
       ]
      },
      {
       "output_type": "stream",
       "stream": "stdout",
       "text": [
        " 67.8566851616\n",
        "\n",
        "\n",
        "generate data for  379269\n",
        "time taken "
       ]
      },
      {
       "output_type": "stream",
       "stream": "stdout",
       "text": [
        " 111.474503994\n",
        "\n",
        "\n",
        "generate data for  615848\n",
        "time taken "
       ]
      },
      {
       "output_type": "stream",
       "stream": "stdout",
       "text": [
        " 184.604673862\n",
        "\n",
        "\n",
        "generate data for  1000000\n",
        "time taken "
       ]
      },
      {
       "output_type": "stream",
       "stream": "stdout",
       "text": [
        " 304.455579042\n",
        "\n"
       ]
      }
     ],
     "prompt_number": 1
    },
    {
     "cell_type": "code",
     "collapsed": false,
     "input": [
      "from fipyprofile import FiPyProfile\n",
      "from profiling_functions import FiPyProfileTime\n",
      "from polyxtal import PolyxtalSimulation\n",
      "from polyxtal import PolyxtalSimulationGmsh\n",
      "import numpy as np\n",
      "from profiling_functions import ProfileViewer\n",
      "from fipy.solvers.pysparse.pysparseSolver import PysparseSolver \n",
      "\n",
      "        \n",
      "ncells = np.array(np.logspace(2, 6, 20), dtype=int)\n",
      "polyxtal = PolyxtalSimulation()\n",
      "polyxtalgmsh = PolyxtalSimulationGmsh()\n",
      "profilers = [FiPyProfileTime(polyxtal, ncell, regenerate=False, funcString='polyxtal-gmsh-') for ncell in ncells]\n",
      "profilersgmsh = [FiPyProfileTime(polyxtal, ncell, regenerate=False, funcString='polyxtal-notgmsh-') for ncell in ncells]\n",
      "runkey = profilers[0].get_key_from_function_pointer(polyxtal.run)\n",
      "solvekey = profilers[0].get_key_from_function_pointer(PysparseSolver._solve_)\n",
      "\n",
      "keys = [solvekey, runkey]\n",
      "viewer = ProfileViewer()\n",
      "field = \"cumulative\"\n",
      "viewer.plot(profilers,\n",
      "            keys,\n",
      "            linetypes=('k--', 'k'),\n",
      "            field=field,\n",
      "            labels=['Solver', 'Total'],\n",
      "            ylabel=r'Cumulative Time (s)')\n",
      "\n",
      "prof = profilersgmsh[0]\n",
      "\n",
      "\n",
      "index = prof.getIndex(field)\n",
      "solvekey = prof.get_key_from_function_pointer(PysparseSolver._solve_)\n",
      "times = [p.get_time_for_function(solvekey, index) for p in profilersgmsh]\n",
      "plt.loglog(ncells, times, 'r--', label = 'Solver (Gmsh)', lw=2)\n",
      "\n",
      "index = prof.getIndex(field)\n",
      "runkey = prof.get_key_from_function_pointer(polyxtalgmsh.run)\n",
      "times = [p.get_time_for_function(runkey, index) for p in profilersgmsh]\n",
      "plt.loglog(ncells, times, 'r', label = 'Total (Gmsh)', lw=2)\n",
      "\n",
      "\n",
      "\n",
      "viewer.show()\n"
     ],
     "language": "python",
     "metadata": {},
     "outputs": [
      {
       "output_type": "stream",
       "stream": "stderr",
       "text": [
        "/users/mlh4/.virtualenvs/default/lib/python2.6/site-packages/memory_profiler.py:35: UserWarning: psutil module not found. memory_profiler will be slow\n",
        "  warnings.warn(\"psutil module not found. memory_profiler will be slow\")\n"
       ]
      },
      {
       "output_type": "display_data",
       "png": "[encoded data removed]"
      }
     ],
     "prompt_number": 1
    },
    {
     "cell_type": "code",
     "collapsed": false,
     "input": [
      "from fipyprofile import FiPyProfile\n",
      "from profiling_functions import FiPyProfileTime\n",
      "from polyxtal import PolyxtalSimulation\n",
      "from polyxtal import PolyxtalSimulationGmsh\n",
      "import numpy as np\n",
      "from profiling_functions import ProfileViewer\n",
      "from fipy.solvers.pysparse.pysparseSolver import PysparseSolver \n",
      "\n",
      "        \n",
      "ncells = np.array(np.logspace(2, 6, 20), dtype=int)\n",
      "polyxtal = PolyxtalSimulation()\n",
      "polyxtalgmsh = PolyxtalSimulationGmsh()\n",
      "profilers = [FiPyProfileTime(polyxtal, ncell, regenerate=False, funcString='polyxtal-gmsh-') for ncell in ncells]\n",
      "profilersgmsh = [FiPyProfileTime(polyxtal, ncell, regenerate=False, funcString='polyxtal-trilinos-') for ncell in ncells]\n",
      "runkey = profilers[0].get_key_from_function_pointer(polyxtal.run)\n",
      "solvekey = profilers[0].get_key_from_function_pointer(PysparseSolver._solve_)\n",
      "\n",
      "keys = [solvekey, runkey]\n",
      "viewer = ProfileViewer()\n",
      "field = \"cumulative\"\n",
      "viewer.plot(profilers,\n",
      "            keys,\n",
      "            linetypes=('k--', 'k'),\n",
      "            field=field,\n",
      "            labels=['Solver', 'Total'],\n",
      "            ylabel=r'Cumulative Time (s)')\n",
      "\n",
      "prof = profilersgmsh[0]\n",
      "\n",
      "\n",
      "index = prof.getIndex(field)\n",
      "solvekey = prof.get_key_from_function_pointer(PysparseSolver._solve_)\n",
      "times = [p.get_time_for_function(solvekey, index) for p in profilersgmsh]\n",
      "plt.loglog(ncells, times, 'r--', label = 'Solver (trilinos)', lw=2)\n",
      "\n",
      "index = prof.getIndex(field)\n",
      "runkey = prof.get_key_from_function_pointer(polyxtalgmsh.run)\n",
      "times = [p.get_time_for_function(runkey, index) for p in profilersgmsh]\n",
      "plt.loglog(ncells, times, 'r', label = 'Total (trilinos)', lw=2)\n",
      "\n",
      "\n",
      "\n",
      "viewer.show()\n"
     ],
     "language": "python",
     "metadata": {},
     "outputs": []
    },
    {
     "cell_type": "code",
     "collapsed": false,
     "input": [
      "import numpy as np\n",
      "import matplotlib.pyplot as plt\n",
      "from fipyprofile import FiPyProfile\n",
      "from profiling_functions import FiPyProfileTime\n",
      "from polyxtal import PolyxtalSimulation, PolyxtalSimulationTrilinos\n",
      "from profiling_functions import ProfileViewer\n",
      "        \n",
      "ncells = np.array(np.logspace(2, 5, 10), dtype=int)\n",
      "polyxtal = PolyxtalSimulationTrilinos()\n",
      "profilers = [FiPyProfileTime(polyxtal.run, ncell, regenerate=True, funcString='polyxtal_trilinos1-') for ncell in ncells]\n",
      "runkey = profilers[0].get_key_from_function_pointer(polyxtal.run)\n",
      "keys = [runkey,]\n",
      "viewer = ProfileViewer()\n",
      "field = \"cumulative\"\n"
     ],
     "language": "python",
     "metadata": {},
     "outputs": [
      {
       "output_type": "stream",
       "stream": "stdout",
       "text": [
        "\n",
        "generate data for  100\n",
        "elapsed time:"
       ]
      },
      {
       "output_type": "stream",
       "stream": "stdout",
       "text": [
        " 0.530476093292\n",
        "elapsed time:"
       ]
      },
      {
       "output_type": "stream",
       "stream": "stdout",
       "text": [
        " 0.124475002289\n",
        "elapsed time:"
       ]
      },
      {
       "output_type": "stream",
       "stream": "stdout",
       "text": [
        " 0.125128984451\n",
        "elapsed time:"
       ]
      },
      {
       "output_type": "stream",
       "stream": "stdout",
       "text": [
        " 0.125641107559\n",
        "elapsed time:"
       ]
      },
      {
       "output_type": "stream",
       "stream": "stdout",
       "text": [
        " 0.125891923904\n",
        "elapsed time:"
       ]
      },
      {
       "output_type": "stream",
       "stream": "stdout",
       "text": [
        " 0.125412940979\n",
        "elapsed time:"
       ]
      },
      {
       "output_type": "stream",
       "stream": "stdout",
       "text": [
        " 0.125194072723\n",
        "elapsed time:"
       ]
      },
      {
       "output_type": "stream",
       "stream": "stdout",
       "text": [
        " 0.130481004715\n",
        "elapsed time:"
       ]
      },
      {
       "output_type": "stream",
       "stream": "stdout",
       "text": [
        " 0.133248090744\n",
        "elapsed time:"
       ]
      },
      {
       "output_type": "stream",
       "stream": "stdout",
       "text": [
        " 0.126029014587\n",
        "time taken "
       ]
      },
      {
       "output_type": "stream",
       "stream": "stdout",
       "text": [
        " 3.46967291832\n",
        "\n",
        "\n",
        "generate data for  215\n",
        "elapsed time:"
       ]
      },
      {
       "output_type": "stream",
       "stream": "stdout",
       "text": [
        " 0.544525146484\n",
        "elapsed time:"
       ]
      },
      {
       "output_type": "stream",
       "stream": "stdout",
       "text": [
        " 0.135823011398\n",
        "elapsed time:"
       ]
      },
      {
       "output_type": "stream",
       "stream": "stdout",
       "text": [
        " 0.13569521904\n",
        "elapsed time:"
       ]
      },
      {
       "output_type": "stream",
       "stream": "stdout",
       "text": [
        " 0.13547205925\n",
        "elapsed time:"
       ]
      },
      {
       "output_type": "stream",
       "stream": "stdout",
       "text": [
        " 0.135632991791\n",
        "elapsed time:"
       ]
      },
      {
       "output_type": "stream",
       "stream": "stdout",
       "text": [
        " 0.134866952896\n",
        "elapsed time:"
       ]
      },
      {
       "output_type": "stream",
       "stream": "stdout",
       "text": [
        " 0.134698152542\n",
        "elapsed time:"
       ]
      },
      {
       "output_type": "stream",
       "stream": "stdout",
       "text": [
        " 0.137361049652\n",
        "elapsed time:"
       ]
      },
      {
       "output_type": "stream",
       "stream": "stdout",
       "text": [
        " 0.136575937271\n",
        "elapsed time:"
       ]
      },
      {
       "output_type": "stream",
       "stream": "stdout",
       "text": [
        " 0.135513067245\n",
        "time taken "
       ]
      },
      {
       "output_type": "stream",
       "stream": "stdout",
       "text": [
        " 3.40550303459\n",
        "\n",
        "\n",
        "generate data for  464\n",
        "elapsed time:"
       ]
      },
      {
       "output_type": "stream",
       "stream": "stdout",
       "text": [
        " 0.60906791687\n",
        "elapsed time:"
       ]
      },
      {
       "output_type": "stream",
       "stream": "stdout",
       "text": [
        " 0.14732503891\n",
        "elapsed time:"
       ]
      },
      {
       "output_type": "stream",
       "stream": "stdout",
       "text": [
        " 0.148797035217\n",
        "elapsed time:"
       ]
      },
      {
       "output_type": "stream",
       "stream": "stdout",
       "text": [
        " 0.148949861526\n",
        "elapsed time:"
       ]
      },
      {
       "output_type": "stream",
       "stream": "stdout",
       "text": [
        " 0.14861702919\n",
        "elapsed time:"
       ]
      },
      {
       "output_type": "stream",
       "stream": "stdout",
       "text": [
        " 0.148987054825\n",
        "elapsed time:"
       ]
      },
      {
       "output_type": "stream",
       "stream": "stdout",
       "text": [
        " 0.149764060974\n",
        "elapsed time:"
       ]
      },
      {
       "output_type": "stream",
       "stream": "stdout",
       "text": [
        " 0.147776126862\n",
        "elapsed time:"
       ]
      },
      {
       "output_type": "stream",
       "stream": "stdout",
       "text": [
        " 0.148478031158\n",
        "elapsed time:"
       ]
      },
      {
       "output_type": "stream",
       "stream": "stdout",
       "text": [
        " 0.148452997208\n",
        "time taken "
       ]
      },
      {
       "output_type": "stream",
       "stream": "stdout",
       "text": [
        " 3.83681607246\n",
        "\n",
        "\n",
        "generate data for  1000\n",
        "elapsed time:"
       ]
      },
      {
       "output_type": "stream",
       "stream": "stdout",
       "text": [
        " 0.590662002563\n",
        "elapsed time:"
       ]
      },
      {
       "output_type": "stream",
       "stream": "stdout",
       "text": [
        " 0.178589820862\n",
        "elapsed time:"
       ]
      },
      {
       "output_type": "stream",
       "stream": "stdout",
       "text": [
        " 0.176539182663\n",
        "elapsed time:"
       ]
      },
      {
       "output_type": "stream",
       "stream": "stdout",
       "text": [
        " 0.178248167038\n",
        "elapsed time:"
       ]
      },
      {
       "output_type": "stream",
       "stream": "stdout",
       "text": [
        " 0.177711009979\n",
        "elapsed time:"
       ]
      },
      {
       "output_type": "stream",
       "stream": "stdout",
       "text": [
        " 0.228430986404\n",
        "elapsed time:"
       ]
      },
      {
       "output_type": "stream",
       "stream": "stdout",
       "text": [
        " 0.183150053024\n",
        "elapsed time:"
       ]
      },
      {
       "output_type": "stream",
       "stream": "stdout",
       "text": [
        " 0.178968906403\n",
        "elapsed time:"
       ]
      },
      {
       "output_type": "stream",
       "stream": "stdout",
       "text": [
        " 0.179427862167\n",
        "elapsed time:"
       ]
      },
      {
       "output_type": "stream",
       "stream": "stdout",
       "text": [
        " 0.179723978043\n",
        "time taken "
       ]
      },
      {
       "output_type": "stream",
       "stream": "stdout",
       "text": [
        " 4.31879401207\n",
        "\n",
        "\n",
        "generate data for  2154\n",
        "elapsed time:"
       ]
      },
      {
       "output_type": "stream",
       "stream": "stdout",
       "text": [
        " 0.656524896622\n",
        "elapsed time:"
       ]
      },
      {
       "output_type": "stream",
       "stream": "stdout",
       "text": [
        " 0.235271930695\n",
        "elapsed time:"
       ]
      },
      {
       "output_type": "stream",
       "stream": "stdout",
       "text": [
        " 0.237706899643\n",
        "elapsed time:"
       ]
      },
      {
       "output_type": "stream",
       "stream": "stdout",
       "text": [
        " 0.240702867508\n",
        "elapsed time:"
       ]
      },
      {
       "output_type": "stream",
       "stream": "stdout",
       "text": [
        " 0.237072944641\n",
        "elapsed time:"
       ]
      },
      {
       "output_type": "stream",
       "stream": "stdout",
       "text": [
        " 0.237751960754\n",
        "elapsed time:"
       ]
      },
      {
       "output_type": "stream",
       "stream": "stdout",
       "text": [
        " 0.241077899933\n",
        "elapsed time:"
       ]
      },
      {
       "output_type": "stream",
       "stream": "stdout",
       "text": [
        " 0.235147953033\n",
        "elapsed time:"
       ]
      },
      {
       "output_type": "stream",
       "stream": "stdout",
       "text": [
        " 0.234414100647\n",
        "elapsed time:"
       ]
      },
      {
       "output_type": "stream",
       "stream": "stdout",
       "text": [
        " 0.237552165985\n",
        "time taken "
       ]
      },
      {
       "output_type": "stream",
       "stream": "stdout",
       "text": [
        " 5.67993688583\n",
        "\n",
        "\n",
        "generate data for  4641\n",
        "elapsed time:"
       ]
      },
      {
       "output_type": "stream",
       "stream": "stdout",
       "text": [
        " 0.82559800148\n",
        "elapsed time:"
       ]
      },
      {
       "output_type": "stream",
       "stream": "stdout",
       "text": [
        " 0.362149000168\n",
        "elapsed time:"
       ]
      },
      {
       "output_type": "stream",
       "stream": "stdout",
       "text": [
        " 0.364159822464\n",
        "elapsed time:"
       ]
      },
      {
       "output_type": "stream",
       "stream": "stdout",
       "text": [
        " 0.367465019226\n",
        "elapsed time:"
       ]
      },
      {
       "output_type": "stream",
       "stream": "stdout",
       "text": [
        " 0.370897054672\n",
        "elapsed time:"
       ]
      },
      {
       "output_type": "stream",
       "stream": "stdout",
       "text": [
        " 0.370036840439\n",
        "elapsed time:"
       ]
      },
      {
       "output_type": "stream",
       "stream": "stdout",
       "text": [
        " 0.368928909302\n",
        "elapsed time:"
       ]
      },
      {
       "output_type": "stream",
       "stream": "stdout",
       "text": [
        " 0.368050098419\n",
        "elapsed time:"
       ]
      },
      {
       "output_type": "stream",
       "stream": "stdout",
       "text": [
        " 0.367362976074\n",
        "elapsed time:"
       ]
      },
      {
       "output_type": "stream",
       "stream": "stdout",
       "text": [
        " 0.367562055588\n",
        "time taken "
       ]
      },
      {
       "output_type": "stream",
       "stream": "stdout",
       "text": [
        " 8.27120494843\n",
        "\n",
        "\n",
        "generate data for  10000\n",
        "elapsed time:"
       ]
      },
      {
       "output_type": "stream",
       "stream": "stdout",
       "text": [
        " 1.30324912071\n",
        "elapsed time:"
       ]
      },
      {
       "output_type": "stream",
       "stream": "stdout",
       "text": [
        " 0.662235021591\n",
        "elapsed time:"
       ]
      },
      {
       "output_type": "stream",
       "stream": "stdout",
       "text": [
        " 0.662887096405\n",
        "elapsed time:"
       ]
      },
      {
       "output_type": "stream",
       "stream": "stdout",
       "text": [
        " 0.675501823425\n",
        "elapsed time:"
       ]
      },
      {
       "output_type": "stream",
       "stream": "stdout",
       "text": [
        " 0.669559001923\n",
        "elapsed time:"
       ]
      },
      {
       "output_type": "stream",
       "stream": "stdout",
       "text": [
        " 0.666486978531\n",
        "elapsed time:"
       ]
      },
      {
       "output_type": "stream",
       "stream": "stdout",
       "text": [
        " 0.66348695755\n",
        "elapsed time:"
       ]
      },
      {
       "output_type": "stream",
       "stream": "stdout",
       "text": [
        " 0.660358905792\n",
        "elapsed time:"
       ]
      },
      {
       "output_type": "stream",
       "stream": "stdout",
       "text": [
        " 0.667882919312\n",
        "elapsed time:"
       ]
      },
      {
       "output_type": "stream",
       "stream": "stdout",
       "text": [
        " 0.675752878189\n",
        "time taken "
       ]
      },
      {
       "output_type": "stream",
       "stream": "stdout",
       "text": [
        " 14.3665349483\n",
        "\n",
        "\n",
        "generate data for  21544\n",
        "elapsed time:"
       ]
      },
      {
       "output_type": "stream",
       "stream": "stdout",
       "text": [
        " 2.48235607147\n",
        "elapsed time:"
       ]
      },
      {
       "output_type": "stream",
       "stream": "stdout",
       "text": [
        " 1.26130604744\n",
        "elapsed time:"
       ]
      },
      {
       "output_type": "stream",
       "stream": "stdout",
       "text": [
        " 1.26978302002\n",
        "elapsed time:"
       ]
      },
      {
       "output_type": "stream",
       "stream": "stdout",
       "text": [
        " 1.28282594681\n",
        "elapsed time:"
       ]
      },
      {
       "output_type": "stream",
       "stream": "stdout",
       "text": [
        " 1.28435111046\n",
        "elapsed time:"
       ]
      },
      {
       "output_type": "stream",
       "stream": "stdout",
       "text": [
        " 1.33359503746\n",
        "elapsed time:"
       ]
      },
      {
       "output_type": "stream",
       "stream": "stdout",
       "text": [
        " 1.27164697647\n",
        "elapsed time:"
       ]
      },
      {
       "output_type": "stream",
       "stream": "stdout",
       "text": [
        " 1.28318500519\n",
        "elapsed time:"
       ]
      },
      {
       "output_type": "stream",
       "stream": "stdout",
       "text": [
        " 1.29495620728\n",
        "elapsed time:"
       ]
      },
      {
       "output_type": "stream",
       "stream": "stdout",
       "text": [
        " 1.28152298927\n",
        "time taken "
       ]
      },
      {
       "output_type": "stream",
       "stream": "stdout",
       "text": [
        " 27.4097921848\n",
        "\n",
        "\n",
        "generate data for  46415\n",
        "elapsed time:"
       ]
      },
      {
       "output_type": "stream",
       "stream": "stdout",
       "text": [
        " 6.86453700066\n",
        "elapsed time:"
       ]
      },
      {
       "output_type": "stream",
       "stream": "stdout",
       "text": [
        " 2.6968319416\n",
        "elapsed time:"
       ]
      },
      {
       "output_type": "stream",
       "stream": "stdout",
       "text": [
        " 2.74495196342\n",
        "elapsed time:"
       ]
      },
      {
       "output_type": "stream",
       "stream": "stdout",
       "text": [
        " 2.77086997032\n",
        "elapsed time:"
       ]
      },
      {
       "output_type": "stream",
       "stream": "stdout",
       "text": [
        " 2.72695589066\n",
        "elapsed time:"
       ]
      },
      {
       "output_type": "stream",
       "stream": "stdout",
       "text": [
        " 2.72552800179\n",
        "elapsed time:"
       ]
      },
      {
       "output_type": "stream",
       "stream": "stdout",
       "text": [
        " 2.74615502357\n",
        "elapsed time:"
       ]
      },
      {
       "output_type": "stream",
       "stream": "stdout",
       "text": [
        " 2.74731993675\n",
        "elapsed time:"
       ]
      },
      {
       "output_type": "stream",
       "stream": "stdout",
       "text": [
        " 2.74052500725\n",
        "elapsed time:"
       ]
      },
      {
       "output_type": "stream",
       "stream": "stdout",
       "text": [
        " 2.73636698723\n",
        "time taken "
       ]
      },
      {
       "output_type": "stream",
       "stream": "stdout",
       "text": [
        " 60.3126399517\n",
        "\n",
        "\n",
        "generate data for  100000\n",
        "elapsed time:"
       ]
      },
      {
       "output_type": "stream",
       "stream": "stdout",
       "text": [
        " 23.0310909748\n",
        "elapsed time:"
       ]
      },
      {
       "output_type": "stream",
       "stream": "stdout",
       "text": [
        " 5.99547410011\n",
        "elapsed time:"
       ]
      },
      {
       "output_type": "stream",
       "stream": "stdout",
       "text": [
        " 6.22938895226\n",
        "elapsed time:"
       ]
      },
      {
       "output_type": "stream",
       "stream": "stdout",
       "text": [
        " 6.16689991951\n",
        "elapsed time:"
       ]
      },
      {
       "output_type": "stream",
       "stream": "stdout",
       "text": [
        " 6.14736104012\n",
        "elapsed time:"
       ]
      },
      {
       "output_type": "stream",
       "stream": "stdout",
       "text": [
        " 6.15631508827\n",
        "elapsed time:"
       ]
      },
      {
       "output_type": "stream",
       "stream": "stdout",
       "text": [
        " 6.18396902084\n",
        "elapsed time:"
       ]
      },
      {
       "output_type": "stream",
       "stream": "stdout",
       "text": [
        " 6.13893699646\n",
        "elapsed time:"
       ]
      },
      {
       "output_type": "stream",
       "stream": "stdout",
       "text": [
        " 6.14146280289\n",
        "elapsed time:"
       ]
      },
      {
       "output_type": "stream",
       "stream": "stdout",
       "text": [
        " 6.08014178276\n",
        "time taken "
       ]
      },
      {
       "output_type": "stream",
       "stream": "stdout",
       "text": [
        " 139.603633881\n",
        "\n"
       ]
      },
      {
       "output_type": "stream",
       "stream": "stderr",
       "text": [
        "/users/mlh4/.virtualenvs/default/lib/python2.6/site-packages/memory_profiler.py:35: UserWarning: psutil module not found. memory_profiler will be slow\n",
        "  warnings.warn(\"psutil module not found. memory_profiler will be slow\")\n"
       ]
      }
     ],
     "prompt_number": 1
    },
    {
     "cell_type": "code",
     "collapsed": false,
     "input": [
      "import numpy as np\n",
      "import matplotlib.pyplot as plt\n",
      "from fipyprofile import FiPyProfile\n",
      "from profiling_functions import FiPyProfileTime\n",
      "from polyxtal import PolyxtalSimulation, PolyxtalSimulationTrilinos\n",
      "from profiling_functions import ProfileViewer\n",
      "        \n",
      "ncells = np.array(np.logspace(2, 5, 10), dtype=int)\n",
      "polyxtal = PolyxtalSimulation()\n",
      "profilers = [FiPyProfileTime(polyxtal.run, ncell, regenerate=True, funcString='polyxtal_nottrilinos1-') for ncell in ncells]\n",
      "runkey = profilers[0].get_key_from_function_pointer(polyxtal.run)\n",
      "keys = [runkey,]\n",
      "viewer = ProfileViewer()\n",
      "field = \"cumulative\"\n"
     ],
     "language": "python",
     "metadata": {},
     "outputs": [
      {
       "output_type": "stream",
       "stream": "stderr",
       "text": [
        "/users/mlh4/.virtualenvs/default/lib/python2.6/site-packages/memory_profiler.py:35: UserWarning: psutil module not found. memory_profiler will be slow\n",
        "  warnings.warn(\"psutil module not found. memory_profiler will be slow\")\n",
        "/users/mlh4/fipy/fipy/solvers/pysparse/pysparseSolver.py:76: DeprecationWarning: PyArray_FromDimsAndDataAndDescr: use PyArray_NewFromDescr.\n",
        "  self.iterations, P)\n"
       ]
      },
      {
       "output_type": "stream",
       "stream": "stdout",
       "text": [
        "\n",
        "generate data for  100\n",
        "elapsed time:"
       ]
      },
      {
       "output_type": "stream",
       "stream": "stdout",
       "text": [
        " 0.493790149689\n",
        "elapsed time:"
       ]
      },
      {
       "output_type": "stream",
       "stream": "stdout",
       "text": [
        " 0.0949649810791\n",
        "elapsed time:"
       ]
      },
      {
       "output_type": "stream",
       "stream": "stdout",
       "text": [
        " 0.0961790084839\n",
        "elapsed time:"
       ]
      },
      {
       "output_type": "stream",
       "stream": "stdout",
       "text": [
        " 0.0955390930176\n",
        "elapsed time:"
       ]
      },
      {
       "output_type": "stream",
       "stream": "stdout",
       "text": [
        " 0.0945470333099\n",
        "elapsed time:"
       ]
      },
      {
       "output_type": "stream",
       "stream": "stdout",
       "text": [
        " 0.0980088710785\n",
        "elapsed time:"
       ]
      },
      {
       "output_type": "stream",
       "stream": "stdout",
       "text": [
        " 0.0956881046295\n",
        "elapsed time:"
       ]
      },
      {
       "output_type": "stream",
       "stream": "stdout",
       "text": [
        " 0.0964651107788\n",
        "elapsed time:"
       ]
      },
      {
       "output_type": "stream",
       "stream": "stdout",
       "text": [
        " 0.0949199199677\n",
        "elapsed time:"
       ]
      },
      {
       "output_type": "stream",
       "stream": "stdout",
       "text": [
        " 0.0948178768158\n",
        "time taken "
       ]
      },
      {
       "output_type": "stream",
       "stream": "stdout",
       "text": [
        " 2.78117418289\n",
        "\n",
        "\n",
        "generate data for  215\n",
        "elapsed time:"
       ]
      },
      {
       "output_type": "stream",
       "stream": "stdout",
       "text": [
        " 0.496455907822\n",
        "elapsed time:"
       ]
      },
      {
       "output_type": "stream",
       "stream": "stdout",
       "text": [
        " 0.0982439517975\n",
        "elapsed time:"
       ]
      },
      {
       "output_type": "stream",
       "stream": "stdout",
       "text": [
        " 0.0976800918579\n",
        "elapsed time:"
       ]
      },
      {
       "output_type": "stream",
       "stream": "stdout",
       "text": [
        " 0.0988149642944\n",
        "elapsed time:"
       ]
      },
      {
       "output_type": "stream",
       "stream": "stdout",
       "text": [
        " 0.0991821289062\n",
        "elapsed time:"
       ]
      },
      {
       "output_type": "stream",
       "stream": "stdout",
       "text": [
        " 0.0979270935059\n",
        "elapsed time:"
       ]
      },
      {
       "output_type": "stream",
       "stream": "stdout",
       "text": [
        " 0.097944021225\n",
        "elapsed time:"
       ]
      },
      {
       "output_type": "stream",
       "stream": "stdout",
       "text": [
        " 0.0979850292206\n",
        "elapsed time:"
       ]
      },
      {
       "output_type": "stream",
       "stream": "stdout",
       "text": [
        " 0.0994319915771\n",
        "elapsed time:"
       ]
      },
      {
       "output_type": "stream",
       "stream": "stdout",
       "text": [
        " 0.0982091426849\n",
        "time taken "
       ]
      },
      {
       "output_type": "stream",
       "stream": "stdout",
       "text": [
        " 2.85257196426\n",
        "\n",
        "\n",
        "generate data for  464\n",
        "elapsed time:"
       ]
      },
      {
       "output_type": "stream",
       "stream": "stdout",
       "text": [
        " 0.503401041031\n",
        "elapsed time:"
       ]
      },
      {
       "output_type": "stream",
       "stream": "stdout",
       "text": [
        " 0.101824045181\n",
        "elapsed time:"
       ]
      },
      {
       "output_type": "stream",
       "stream": "stdout",
       "text": [
        " 0.155131816864\n",
        "elapsed time:"
       ]
      },
      {
       "output_type": "stream",
       "stream": "stdout",
       "text": [
        " 0.101816177368\n",
        "elapsed time:"
       ]
      },
      {
       "output_type": "stream",
       "stream": "stdout",
       "text": [
        " 0.103224992752\n",
        "elapsed time:"
       ]
      },
      {
       "output_type": "stream",
       "stream": "stdout",
       "text": [
        " 0.103347063065\n",
        "elapsed time:"
       ]
      },
      {
       "output_type": "stream",
       "stream": "stdout",
       "text": [
        " 0.101110935211\n",
        "elapsed time:"
       ]
      },
      {
       "output_type": "stream",
       "stream": "stdout",
       "text": [
        " 0.10060095787\n",
        "elapsed time:"
       ]
      },
      {
       "output_type": "stream",
       "stream": "stdout",
       "text": [
        " 0.10142493248\n",
        "elapsed time:"
       ]
      },
      {
       "output_type": "stream",
       "stream": "stdout",
       "text": [
        " 0.100936889648\n",
        "time taken "
       ]
      },
      {
       "output_type": "stream",
       "stream": "stdout",
       "text": [
        " 2.72513890266\n",
        "\n",
        "\n",
        "generate data for  1000\n",
        "elapsed time:"
       ]
      },
      {
       "output_type": "stream",
       "stream": "stdout",
       "text": [
        " 0.513115882874\n",
        "elapsed time:"
       ]
      },
      {
       "output_type": "stream",
       "stream": "stdout",
       "text": [
        " 0.105488061905\n",
        "elapsed time:"
       ]
      },
      {
       "output_type": "stream",
       "stream": "stdout",
       "text": [
        " 0.107130050659\n",
        "elapsed time:"
       ]
      },
      {
       "output_type": "stream",
       "stream": "stdout",
       "text": [
        " 0.1062541008\n",
        "elapsed time:"
       ]
      },
      {
       "output_type": "stream",
       "stream": "stdout",
       "text": [
        " 0.105671167374\n",
        "elapsed time:"
       ]
      },
      {
       "output_type": "stream",
       "stream": "stdout",
       "text": [
        " 0.105941057205\n",
        "elapsed time:"
       ]
      },
      {
       "output_type": "stream",
       "stream": "stdout",
       "text": [
        " 0.106021881104\n",
        "elapsed time:"
       ]
      },
      {
       "output_type": "stream",
       "stream": "stdout",
       "text": [
        " 0.107523918152\n",
        "elapsed time:"
       ]
      },
      {
       "output_type": "stream",
       "stream": "stdout",
       "text": [
        " 0.105397224426\n",
        "elapsed time:"
       ]
      },
      {
       "output_type": "stream",
       "stream": "stdout",
       "text": [
        " 0.105437040329\n",
        "time taken "
       ]
      },
      {
       "output_type": "stream",
       "stream": "stdout",
       "text": [
        " 2.81241083145\n",
        "\n",
        "\n",
        "generate data for  2154\n",
        "elapsed time:"
       ]
      },
      {
       "output_type": "stream",
       "stream": "stdout",
       "text": [
        " 0.536736011505\n",
        "elapsed time:"
       ]
      },
      {
       "output_type": "stream",
       "stream": "stdout",
       "text": [
        " 0.116733074188\n",
        "elapsed time:"
       ]
      },
      {
       "output_type": "stream",
       "stream": "stdout",
       "text": [
        " 0.116169929504\n",
        "elapsed time:"
       ]
      },
      {
       "output_type": "stream",
       "stream": "stdout",
       "text": [
        " 0.116656064987\n",
        "elapsed time:"
       ]
      },
      {
       "output_type": "stream",
       "stream": "stdout",
       "text": [
        " 0.116031885147\n",
        "elapsed time:"
       ]
      },
      {
       "output_type": "stream",
       "stream": "stdout",
       "text": [
        " 0.116141796112\n",
        "elapsed time:"
       ]
      },
      {
       "output_type": "stream",
       "stream": "stdout",
       "text": [
        " 0.116031885147\n",
        "elapsed time:"
       ]
      },
      {
       "output_type": "stream",
       "stream": "stdout",
       "text": [
        " 0.114862203598\n",
        "elapsed time:"
       ]
      },
      {
       "output_type": "stream",
       "stream": "stdout",
       "text": [
        " 0.115889787674\n",
        "elapsed time:"
       ]
      },
      {
       "output_type": "stream",
       "stream": "stdout",
       "text": [
        " 0.115578889847\n",
        "time taken "
       ]
      },
      {
       "output_type": "stream",
       "stream": "stdout",
       "text": [
        " 3.02201008797\n",
        "\n",
        "\n",
        "generate data for  4641\n",
        "elapsed time:"
       ]
      },
      {
       "output_type": "stream",
       "stream": "stdout",
       "text": [
        " 0.636281013489\n",
        "elapsed time:"
       ]
      },
      {
       "output_type": "stream",
       "stream": "stdout",
       "text": [
        " 0.146702051163\n",
        "elapsed time:"
       ]
      },
      {
       "output_type": "stream",
       "stream": "stdout",
       "text": [
        " 0.141538858414\n",
        "elapsed time:"
       ]
      },
      {
       "output_type": "stream",
       "stream": "stdout",
       "text": [
        " 0.140594005585\n",
        "elapsed time:"
       ]
      },
      {
       "output_type": "stream",
       "stream": "stdout",
       "text": [
        " 0.142950057983\n",
        "elapsed time:"
       ]
      },
      {
       "output_type": "stream",
       "stream": "stdout",
       "text": [
        " 0.14058804512\n",
        "elapsed time:"
       ]
      },
      {
       "output_type": "stream",
       "stream": "stdout",
       "text": [
        " 0.147042036057\n",
        "elapsed time:"
       ]
      },
      {
       "output_type": "stream",
       "stream": "stdout",
       "text": [
        " 0.141559123993\n",
        "elapsed time:"
       ]
      },
      {
       "output_type": "stream",
       "stream": "stdout",
       "text": [
        " 0.14123415947\n",
        "elapsed time:"
       ]
      },
      {
       "output_type": "stream",
       "stream": "stdout",
       "text": [
        " 0.141772985458\n",
        "time taken "
       ]
      },
      {
       "output_type": "stream",
       "stream": "stdout",
       "text": [
        " 3.7419629097\n",
        "\n",
        "\n",
        "generate data for  10000\n",
        "elapsed time:"
       ]
      },
      {
       "output_type": "stream",
       "stream": "stdout",
       "text": [
        " 0.699304103851\n",
        "elapsed time:"
       ]
      },
      {
       "output_type": "stream",
       "stream": "stdout",
       "text": [
        " 0.19411611557\n",
        "elapsed time:"
       ]
      },
      {
       "output_type": "stream",
       "stream": "stdout",
       "text": [
        " 0.197129964828\n",
        "elapsed time:"
       ]
      },
      {
       "output_type": "stream",
       "stream": "stdout",
       "text": [
        " 0.196353912354\n",
        "elapsed time:"
       ]
      },
      {
       "output_type": "stream",
       "stream": "stdout",
       "text": [
        " 0.196494817734\n",
        "elapsed time:"
       ]
      },
      {
       "output_type": "stream",
       "stream": "stdout",
       "text": [
        " 0.197955846786\n",
        "elapsed time:"
       ]
      },
      {
       "output_type": "stream",
       "stream": "stdout",
       "text": [
        " 0.194737911224\n",
        "elapsed time:"
       ]
      },
      {
       "output_type": "stream",
       "stream": "stdout",
       "text": [
        " 0.195886135101\n",
        "elapsed time:"
       ]
      },
      {
       "output_type": "stream",
       "stream": "stdout",
       "text": [
        " 0.195453882217\n",
        "elapsed time:"
       ]
      },
      {
       "output_type": "stream",
       "stream": "stdout",
       "text": [
        " 0.195485115051\n",
        "time taken "
       ]
      },
      {
       "output_type": "stream",
       "stream": "stdout",
       "text": [
        " 4.78501391411\n",
        "\n",
        "\n"
       ]
      },
      {
       "output_type": "stream",
       "stream": "stdout",
       "text": [
        "generate data for  21544\n",
        "elapsed time:"
       ]
      },
      {
       "output_type": "stream",
       "stream": "stdout",
       "text": [
        " 0.96165394783\n",
        "elapsed time:"
       ]
      },
      {
       "output_type": "stream",
       "stream": "stdout",
       "text": [
        " 0.314735889435\n",
        "elapsed time:"
       ]
      },
      {
       "output_type": "stream",
       "stream": "stdout",
       "text": [
        " 0.311159133911\n",
        "elapsed time:"
       ]
      },
      {
       "output_type": "stream",
       "stream": "stdout",
       "text": [
        " 0.31337594986\n",
        "elapsed time:"
       ]
      },
      {
       "output_type": "stream",
       "stream": "stdout",
       "text": [
        " 0.313071966171\n",
        "elapsed time:"
       ]
      },
      {
       "output_type": "stream",
       "stream": "stdout",
       "text": [
        " 0.311151027679\n",
        "elapsed time:"
       ]
      },
      {
       "output_type": "stream",
       "stream": "stdout",
       "text": [
        " 0.314874172211\n",
        "elapsed time:"
       ]
      },
      {
       "output_type": "stream",
       "stream": "stdout",
       "text": [
        " 0.312604904175\n",
        "elapsed time:"
       ]
      },
      {
       "output_type": "stream",
       "stream": "stdout",
       "text": [
        " 0.313912153244\n",
        "elapsed time:"
       ]
      },
      {
       "output_type": "stream",
       "stream": "stdout",
       "text": [
        " 0.310653924942\n",
        "time taken "
       ]
      },
      {
       "output_type": "stream",
       "stream": "stdout",
       "text": [
        " 8.85053896904\n",
        "\n",
        "\n",
        "generate data for  46415\n",
        "elapsed time:"
       ]
      },
      {
       "output_type": "stream",
       "stream": "stdout",
       "text": [
        " 1.73798108101\n",
        "elapsed time:"
       ]
      },
      {
       "output_type": "stream",
       "stream": "stdout",
       "text": [
        " 0.629097938538\n",
        "elapsed time:"
       ]
      },
      {
       "output_type": "stream",
       "stream": "stdout",
       "text": [
        " 0.620852947235\n",
        "elapsed time:"
       ]
      },
      {
       "output_type": "stream",
       "stream": "stdout",
       "text": [
        " 0.610151052475\n",
        "elapsed time:"
       ]
      },
      {
       "output_type": "stream",
       "stream": "stdout",
       "text": [
        " 0.629006147385\n",
        "elapsed time:"
       ]
      },
      {
       "output_type": "stream",
       "stream": "stdout",
       "text": [
        " 0.748960018158\n",
        "elapsed time:"
       ]
      },
      {
       "output_type": "stream",
       "stream": "stdout",
       "text": [
        " 0.641541957855\n",
        "elapsed time:"
       ]
      },
      {
       "output_type": "stream",
       "stream": "stdout",
       "text": [
        " 0.625836133957\n",
        "elapsed time:"
       ]
      },
      {
       "output_type": "stream",
       "stream": "stdout",
       "text": [
        " 0.638792991638\n",
        "elapsed time:"
       ]
      },
      {
       "output_type": "stream",
       "stream": "stdout",
       "text": [
        " 0.612825870514\n",
        "time taken "
       ]
      },
      {
       "output_type": "stream",
       "stream": "stdout",
       "text": [
        " 14.5807049274\n",
        "\n",
        "\n",
        "generate data for  100000\n",
        "elapsed time:"
       ]
      },
      {
       "output_type": "stream",
       "stream": "stdout",
       "text": [
        " 3.41199111938\n",
        "elapsed time:"
       ]
      },
      {
       "output_type": "stream",
       "stream": "stdout",
       "text": [
        " 1.25774407387\n",
        "elapsed time:"
       ]
      },
      {
       "output_type": "stream",
       "stream": "stdout",
       "text": [
        " 1.25873303413\n",
        "elapsed time:"
       ]
      },
      {
       "output_type": "stream",
       "stream": "stdout",
       "text": [
        " 1.27593398094\n",
        "elapsed time:"
       ]
      },
      {
       "output_type": "stream",
       "stream": "stdout",
       "text": [
        " 1.29390001297\n",
        "elapsed time:"
       ]
      },
      {
       "output_type": "stream",
       "stream": "stdout",
       "text": [
        " 1.27676391602\n",
        "elapsed time:"
       ]
      },
      {
       "output_type": "stream",
       "stream": "stdout",
       "text": [
        " 1.27771115303\n",
        "elapsed time:"
       ]
      },
      {
       "output_type": "stream",
       "stream": "stdout",
       "text": [
        " 1.33565402031\n",
        "elapsed time:"
       ]
      },
      {
       "output_type": "stream",
       "stream": "stdout",
       "text": [
        " 1.30595684052\n",
        "elapsed time:"
       ]
      },
      {
       "output_type": "stream",
       "stream": "stdout",
       "text": [
        " 1.2879140377\n",
        "time taken "
       ]
      },
      {
       "output_type": "stream",
       "stream": "stdout",
       "text": [
        " 28.8810150623\n",
        "\n"
       ]
      }
     ],
     "prompt_number": 1
    },
    {
     "cell_type": "code",
     "collapsed": false,
     "input": [
      "import numpy as np\n",
      "import matplotlib.pyplot as plt\n",
      "from fipyprofile import FiPyProfile\n",
      "from profiling_functions import FiPyProfileTime\n",
      "from polyxtal import PolyxtalSimulation, PolyxtalSimulationTrilinos\n",
      "from profiling_functions import ProfileViewer\n",
      "from fipy.solvers.pysparse.pysparseSolver import PysparseSolver \n",
      "from fipy.solvers.trilinos.trilinosSolver import TrilinosSolver\n",
      "from fipy.solvers.trilinos.trilinosAztecOOSolver import TrilinosAztecOOSolver\n",
      "        \n",
      "ncells = np.array(np.logspace(2, 5, 10), dtype=int)\n",
      "polyxtal = PolyxtalSimulation()\n",
      "polyxtaltrilinos = PolyxtalSimulationTrilinos()\n",
      "profilers = [FiPyProfileTime(polyxtal, ncell, regenerate=False, funcString='polyxtal_nottrilinos1-') for ncell in ncells]\n",
      "profilerstrilinos = [FiPyProfileTime(polyxtaltrilinos, ncell, regenerate=False, funcString='polyxtal_trilinos1-') for ncell in ncells]\n",
      "\n",
      "viewer = ProfileViewer()\n",
      "field = \"cumulative\"\n",
      "\n",
      "\n",
      "prof = profilers[0]\n",
      "index = prof.getIndex(field)\n",
      "solvekey = prof.get_key_from_function_pointer(PysparseSolver._solve_)\n",
      "times = [p.get_time_for_function(solvekey, index) for p in profilers]\n",
      "plt.loglog(ncells, times, 'r', label = 'Solver', lw=2)\n",
      "\n",
      "index = prof.getIndex(field)\n",
      "runkey = prof.get_key_from_function_pointer(polyxtal.run)\n",
      "times = [p.get_time_for_function(runkey, index) for p in profilers]\n",
      "plt.loglog(ncells, times, 'k', label = 'Total', lw=2)\n",
      "\n",
      "\n",
      "prof = profilerstrilinos[0]\n",
      "index = prof.getIndex(field)\n",
      "solvekey = prof.get_key_from_function_pointer(TrilinosAztecOOSolver._solve_)\n",
      "times = [p.get_time_for_function(solvekey, index) for p in profilerstrilinos]\n",
      "plt.loglog(ncells, times, 'r--', label = 'Solver (trilinos)', lw=2)\n",
      "\n",
      "index = prof.getIndex(field)\n",
      "runkey = prof.get_key_from_function_pointer(polyxtaltrilinos.run)\n",
      "times = [p.get_time_for_function(runkey, index) for p in profilerstrilinos]\n",
      "plt.loglog(ncells, times, 'k--', label = 'Total (trilinos)', lw=2)\n",
      "\n",
      "viewer.show()"
     ],
     "language": "python",
     "metadata": {},
     "outputs": [
      {
       "output_type": "stream",
       "stream": "stderr",
       "text": [
        "/users/mlh4/.virtualenvs/default/lib/python2.6/site-packages/memory_profiler.py:35: UserWarning: psutil module not found. memory_profiler will be slow\n",
        "  warnings.warn(\"psutil module not found. memory_profiler will be slow\")\n"
       ]
      },
      {
       "output_type": "display_data",
       "png": "[encoded data removed]"
      }
     ],
     "prompt_number": 1
    },
    {
     "cell_type": "code",
     "collapsed": false,
     "input": [
      "import os\n",
      "\n",
      "os.environ['FIPY_SOLVERS'] = 'trilinos'\n",
      "#os.environ['FIPY_VERBOSE_SOLVER'] = ''\n",
      "\n",
      "from polyxtal import PolyxtalSimulationTrilinosNoPrecon\n",
      "from profiling_functions import FiPyProfileTime\n",
      "\n",
      "FiPyProfileTime(PolyxtalSimulationTrilinosNoPrecon(2), 100000, regenerate=True, funcString='polyxtal_trilinos_noprecon')"
     ],
     "language": "python",
     "metadata": {},
     "outputs": [
      {
       "output_type": "stream",
       "stream": "stderr",
       "text": [
        "/users/mlh4/.virtualenvs/default/lib/python2.6/site-packages/memory_profiler.py:35: UserWarning: psutil module not found. memory_profiler will be slow\n",
        "  warnings.warn(\"psutil module not found. memory_profiler will be slow\")\n",
        "0"
       ]
      },
      {
       "output_type": "stream",
       "stream": "stderr",
       "text": [
        " iterations: 449 / 1000 \n"
       ]
      },
      {
       "output_type": "stream",
       "stream": "stderr",
       "text": [
        "0 failure AztecOO.AZ_normal\n"
       ]
      },
      {
       "output_type": "stream",
       "stream": "stderr",
       "text": [
        "0 AztecOO.AZ_r: 1.39331771125e-06\n"
       ]
      },
      {
       "output_type": "stream",
       "stream": "stderr",
       "text": [
        "0 AztecOO.AZ_scaled_r: 6.69966979231e-11\n"
       ]
      },
      {
       "output_type": "stream",
       "stream": "stderr",
       "text": [
        "0 AztecOO.AZ_rec_r: 1.39331889097e-06\n"
       ]
      },
      {
       "output_type": "stream",
       "stream": "stderr",
       "text": [
        "0 AztecOO.AZ_solve_time: 0.886953830719\n"
       ]
      },
      {
       "output_type": "stream",
       "stream": "stderr",
       "text": [
        "0 AztecOO.AZ_Aztec_version: 2.109\n"
       ]
      },
      {
       "output_type": "stream",
       "stream": "stderr",
       "text": [
        "0 iterations: 30 / 1000 \n"
       ]
      },
      {
       "output_type": "stream",
       "stream": "stderr",
       "text": [
        "0 failure AztecOO.AZ_normal\n"
       ]
      },
      {
       "output_type": "stream",
       "stream": "stderr",
       "text": [
        "0 AztecOO.AZ_r: 5.64321680594e-13\n"
       ]
      },
      {
       "output_type": "stream",
       "stream": "stderr",
       "text": [
        "0 AztecOO.AZ_scaled_r: 5.42145324864e-11\n"
       ]
      },
      {
       "output_type": "stream",
       "stream": "stderr",
       "text": [
        "0 AztecOO.AZ_rec_r: 5.64321548317e-13\n"
       ]
      },
      {
       "output_type": "stream",
       "stream": "stderr",
       "text": [
        "0 AztecOO.AZ_solve_time: 0.13324713707\n"
       ]
      },
      {
       "output_type": "stream",
       "stream": "stderr",
       "text": [
        "0 AztecOO.AZ_Aztec_version: 2.109\n"
       ]
      },
      {
       "output_type": "stream",
       "stream": "stderr",
       "text": [
        "0 iterations: 39 / 1000 \n"
       ]
      },
      {
       "output_type": "stream",
       "stream": "stderr",
       "text": [
        "0 failure AztecOO.AZ_normal\n"
       ]
      },
      {
       "output_type": "stream",
       "stream": "stderr",
       "text": [
        "0 AztecOO.AZ_r: 1.6198257426e-08\n"
       ]
      },
      {
       "output_type": "stream",
       "stream": "stderr",
       "text": [
        "0 AztecOO.AZ_scaled_r: 8.18417691255e-11\n"
       ]
      },
      {
       "output_type": "stream",
       "stream": "stderr",
       "text": [
        "0 AztecOO.AZ_rec_r: 1.61982538339e-08\n"
       ]
      },
      {
       "output_type": "stream",
       "stream": "stderr",
       "text": [
        "0 AztecOO.AZ_solve_time: 0.17675614357\n"
       ]
      },
      {
       "output_type": "stream",
       "stream": "stderr",
       "text": [
        "0 AztecOO.AZ_Aztec_version: 2.109\n"
       ]
      },
      {
       "output_type": "stream",
       "stream": "stderr",
       "text": [
        "0 iterations: 1000 / 1000 \n"
       ]
      },
      {
       "output_type": "stream",
       "stream": "stderr",
       "text": [
        "0 failure AztecOO.AZ_maxits\n"
       ]
      },
      {
       "output_type": "stream",
       "stream": "stderr",
       "text": [
        "0 AztecOO.AZ_r: 0.00258130176726\n"
       ]
      },
      {
       "output_type": "stream",
       "stream": "stderr",
       "text": [
        "0 AztecOO.AZ_scaled_r: 1.40636741569e-07\n"
       ]
      },
      {
       "output_type": "stream",
       "stream": "stderr",
       "text": [
        "0 AztecOO.AZ_rec_r: 0.00258130176726\n"
       ]
      },
      {
       "output_type": "stream",
       "stream": "stderr",
       "text": [
        "0 AztecOO.AZ_solve_time: 2.35536384583\n"
       ]
      },
      {
       "output_type": "stream",
       "stream": "stderr",
       "text": [
        "0 AztecOO.AZ_Aztec_version: 2.109\n"
       ]
      },
      {
       "output_type": "stream",
       "stream": "stderr",
       "text": [
        "0 iterations: 28 / 1000 \n"
       ]
      },
      {
       "output_type": "stream",
       "stream": "stderr",
       "text": [
        "0 failure AztecOO.AZ_normal\n"
       ]
      },
      {
       "output_type": "stream",
       "stream": "stderr",
       "text": [
        "0 AztecOO.AZ_r: 8.14021820492e-13\n"
       ]
      },
      {
       "output_type": "stream",
       "stream": "stderr",
       "text": [
        "0 AztecOO.AZ_scaled_r: 8.02741022933e-11\n"
       ]
      },
      {
       "output_type": "stream",
       "stream": "stderr",
       "text": [
        "0 AztecOO.AZ_rec_r: 8.1402174773e-13\n"
       ]
      },
      {
       "output_type": "stream",
       "stream": "stderr",
       "text": [
        "0 AztecOO.AZ_solve_time: 0.129319906235\n"
       ]
      },
      {
       "output_type": "stream",
       "stream": "stderr",
       "text": [
        "0 AztecOO.AZ_Aztec_version: 2.109\n"
       ]
      },
      {
       "output_type": "stream",
       "stream": "stderr",
       "text": [
        "0 iterations: 38 / 1000 \n"
       ]
      },
      {
       "output_type": "stream",
       "stream": "stderr",
       "text": [
        "0 failure AztecOO.AZ_normal\n"
       ]
      },
      {
       "output_type": "stream",
       "stream": "stderr",
       "text": [
        "0 AztecOO.AZ_r: 1.25950500494e-08\n"
       ]
      },
      {
       "output_type": "stream",
       "stream": "stderr",
       "text": [
        "0 AztecOO.AZ_scaled_r: 6.37081087317e-11\n"
       ]
      },
      {
       "output_type": "stream",
       "stream": "stderr",
       "text": [
        "0 AztecOO.AZ_rec_r: 1.25950485944e-08\n"
       ]
      },
      {
       "output_type": "stream",
       "stream": "stderr",
       "text": [
        "0 AztecOO.AZ_solve_time: 0.164839029312\n"
       ]
      },
      {
       "output_type": "stream",
       "stream": "stderr",
       "text": [
        "0 AztecOO.AZ_Aztec_version: 2.109\n"
       ]
      },
      {
       "output_type": "stream",
       "stream": "stdout",
       "text": [
        "elapsed time: 7.73752999306\n",
        "elapsed time:"
       ]
      },
      {
       "output_type": "stream",
       "stream": "stdout",
       "text": [
        " 7.49731397629\n"
       ]
      }
     ],
     "prompt_number": 1
    },
    {
     "cell_type": "code",
     "collapsed": false,
     "input": [
      "import os\n",
      "\n",
      "os.environ['FIPY_SOLVERS'] = 'pysparse'\n",
      "os.environ['FIPY_VERBOSE_SOLVER'] = ''\n",
      "\n",
      "\n",
      "from polyxtal import PolyxtalSimulationPysparseNoPrecon\n",
      "\n",
      "PolyxtalSimulationPysparseNoPrecon(2).run(100000)"
     ],
     "language": "python",
     "metadata": {},
     "outputs": [
      {
       "output_type": "stream",
       "stream": "stderr",
       "text": [
        "/users/mlh4/.virtualenvs/default/lib/python2.6/site-packages/memory_profiler.py:35: UserWarning: psutil module not found. memory_profiler will be slow\n",
        "  warnings.warn(\"psutil module not found. memory_profiler will be slow\")\n",
        "/users/mlh4/fipy/fipy/solvers/pysparse/pysparseSolver.py:76: DeprecationWarning: PyArray_FromDimsAndDataAndDescr: use PyArray_NewFromDescr.\n",
        "  self.iterations, P)\n"
       ]
      },
      {
       "output_type": "stream",
       "stream": "stderr",
       "text": [
        "0 iterations: 449 / 1000 \n"
       ]
      },
      {
       "output_type": "stream",
       "stream": "stderr",
       "text": [
        "0 relres: 6.69967546492e-11\n"
       ]
      },
      {
       "output_type": "stream",
       "stream": "stderr",
       "text": [
        "0 iterations: 30 / 1000 \n"
       ]
      },
      {
       "output_type": "stream",
       "stream": "stderr",
       "text": [
        "0 relres: 5.42145197784e-11\n"
       ]
      },
      {
       "output_type": "stream",
       "stream": "stderr",
       "text": [
        "0 iterations: 39 / 1000 \n"
       ]
      },
      {
       "output_type": "stream",
       "stream": "stderr",
       "text": [
        "0 relres: 8.18417509765e-11\n"
       ]
      },
      {
       "output_type": "stream",
       "stream": "stderr",
       "text": [
        "polyxtal.py:130: MaximumIterationWarning: Iterations: 1001. Relative error: 1.40637e-07\n",
        "  e.solve(v, dt=self.dt, solver=s)\n",
        "0 iterations: 1001 / 1000 \n"
       ]
      },
      {
       "output_type": "stream",
       "stream": "stderr",
       "text": [
        "0 failure type\n"
       ]
      },
      {
       "output_type": "stream",
       "stream": "stderr",
       "text": [
        "0 relres: 1.40636741569e-07\n"
       ]
      },
      {
       "output_type": "stream",
       "stream": "stderr",
       "text": [
        "0 iterations: 28 / 1000 \n"
       ]
      },
      {
       "output_type": "stream",
       "stream": "stderr",
       "text": [
        "0 relres: 8.0274095118e-11\n"
       ]
      },
      {
       "output_type": "stream",
       "stream": "stderr",
       "text": [
        "0 iterations: 38 / 1000 \n"
       ]
      },
      {
       "output_type": "stream",
       "stream": "stderr",
       "text": [
        "0 relres: 6.37081013724e-11\n"
       ]
      },
      {
       "output_type": "stream",
       "stream": "stdout",
       "text": [
        "elapsed time: 4.84489512444\n",
        "elapsed time:"
       ]
      },
      {
       "output_type": "stream",
       "stream": "stdout",
       "text": [
        " 3.62121796608\n"
       ]
      }
     ],
     "prompt_number": 1
    },
    {
     "cell_type": "code",
     "collapsed": false,
     "input": [],
     "language": "python",
     "metadata": {},
     "outputs": []
    }
   ],
   "metadata": {}
  }
 ]
}