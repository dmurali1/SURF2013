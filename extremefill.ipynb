{
 "metadata": {
  "name": "extremefill"
 },
 "nbformat": 3,
 "nbformat_minor": 0,
 "worksheets": [
  {
   "cells": [
    {
     "cell_type": "markdown",
     "metadata": {},
     "source": [
      "What am I doing?\n",
      "\n",
      " * Get total time as number of cells increases\n",
      "\n",
      " * Caching data \n",
      "\n",
      " * Find how much time is used during solve \n",
      "\n",
      " * Find out how much memory is being used as problem scales \n",
      "\n",
      " * switching print to false turns off output \n",
      "\n",
      " * vary number of total steps \n",
      "\n",
      " * remove the initial steps and setup time which are different from other steps and calculate the time per step \n",
      "\n",
      " "
     ]
    },
    {
     "cell_type": "code",
     "collapsed": false,
     "input": [
      "from fipyprofile import FiPyProfile\n",
      "from profiling_functions import FiPyProfileTime\n",
      "from polyxtal import PolyxtalSimulation\n",
      "import numpy as np\n",
      "from extremefill2D.simulation2D import Simulation2D\n",
      "from profiling_functions import ProfileViewer\n",
      "\n",
      "import time\n",
      "t0= time.time()\n",
      "class Simulation2DProfile(Simulation2D):\n",
      "    def _run(self, ncell):\n",
      "        self.run(totalSteps=10,\n",
      "                 Nx=int(np.sqrt(ncell)),\n",
      "                 CFL=0.1,\n",
      "                 sweeps=4,\n",
      "                 tol=1e-10,\n",
      "                 areaRatio=2 * 0.093,\n",
      "                 solver_tol=1e-6,\n",
      "                 dtMax=1.,\n",
      "                 totalTime=5000.,\n",
      "                 PRINT=False,\n",
      "                 dt=0.01)\n",
      "        \n",
      "ncells = np.array(np.logspace(3, 5, 3), dtype=int)\n",
      "print np.sqrt(ncells)\n",
      "sim2D = Simulation2DProfile()\n",
      "profilers = [FiPyProfileTime(sim2D._run, ncell, regenerate=True, funcString='extremefill1') for ncell in ncells]\n",
      "##prof = FiPyProfileTime(sim2D._run, ncells, regenerate=False, funcString='extremefill0')\n",
      "keys = profilers[0].get_sorted_keys(sort_field=\"cumulative\")\n",
      "ProfileViewer().plot(profilers, keys[:5], \"cumulative\", doFullProfile=True) \n",
      "print time.time()-t0\n"
     ],
     "language": "python",
     "metadata": {},
     "outputs": [
      {
       "output_type": "stream",
       "stream": "stderr",
       "text": [
        "/users/mlh4/.virtualenvs/default/lib/python2.6/site-packages/memory_profiler.py:35: UserWarning: psutil module not found. memory_profiler will be slow\n",
        "  warnings.warn(\"psutil module not found. memory_profiler will be slow\")\n",
        "/users/mlh4/fipy/fipy/tools/numerix.py:190: DeprecationWarning: :func:`reshape` is deprecated, use :func:`numerix.reshape() <numpy.reshape>` instead!\n",
        "  return arr.reshape(shape)\n"
       ]
      },
      {
       "output_type": "stream",
       "stream": "stderr",
       "text": [
        "/users/mlh4/fipy/fipy/solvers/pysparse/pysparseSolver.py:76: DeprecationWarning: PyArray_FromDimsAndDataAndDescr: use PyArray_NewFromDescr.\n",
        "  self.iterations, P)\n",
        "/users/mlh4/extremefill2D/extremefill2D/simulation.py:287: DeprecationWarning: :func:`getNumberOfCells` is deprecated, use the :attr:`numberOfCells` property instead!\n",
        "  self.parameters['ncell'] = mesh.getNumberOfCells()\n"
       ]
      },
      {
       "output_type": "stream",
       "stream": "stdout",
       "text": [
        "[  31.6227766   100.          316.22776602]\n",
        "1000"
       ]
      },
      {
       "output_type": "stream",
       "stream": "stdout",
       "text": [
        " 10000 100000 <string> <module>\n",
        "1000 10000 100000 <ipython-input-1-ec8f39e122e1> _run\n",
        "1000 "
       ]
      },
      {
       "output_type": "stream",
       "stream": "stdout",
       "text": [
        "10000 100000 /users/mlh4/extremefill2D/extremefill2D/simulation.py run\n",
        "1000 10000 100000 /users/mlh4/fipy/fipy/terms/term.py _prepareLinearSystem\n",
        "1000 "
       ]
      },
      {
       "ename": "TypeError",
       "evalue": "unsupported operand type(s) for ** or pow(): 'list' and 'int'",
       "output_type": "pyerr",
       "traceback": [
        "\u001b[1;31m---------------------------------------------------------------------------\u001b[0m\n\u001b[1;31mTypeError\u001b[0m                                 Traceback (most recent call last)",
        "\u001b[1;32m<ipython-input-1-ec8f39e122e1>\u001b[0m in \u001b[0;36m<module>\u001b[1;34m()\u001b[0m\n\u001b[0;32m     28\u001b[0m \u001b[1;31m##prof = FiPyProfileTime(sim2D._run, ncells, regenerate=False, funcString='extremefill0')\u001b[0m\u001b[1;33m\u001b[0m\u001b[1;33m\u001b[0m\u001b[0m\n\u001b[0;32m     29\u001b[0m \u001b[0mkeys\u001b[0m \u001b[1;33m=\u001b[0m \u001b[0mprofilers\u001b[0m\u001b[1;33m[\u001b[0m\u001b[1;36m0\u001b[0m\u001b[1;33m]\u001b[0m\u001b[1;33m.\u001b[0m\u001b[0mget_sorted_keys\u001b[0m\u001b[1;33m(\u001b[0m\u001b[0msort_field\u001b[0m\u001b[1;33m=\u001b[0m\u001b[1;34m\"cumulative\"\u001b[0m\u001b[1;33m)\u001b[0m\u001b[1;33m\u001b[0m\u001b[0m\n\u001b[1;32m---> 30\u001b[1;33m \u001b[0mProfileViewer\u001b[0m\u001b[1;33m(\u001b[0m\u001b[1;33m)\u001b[0m\u001b[1;33m.\u001b[0m\u001b[0mplot\u001b[0m\u001b[1;33m(\u001b[0m\u001b[0mprofilers\u001b[0m\u001b[1;33m,\u001b[0m \u001b[0mkeys\u001b[0m\u001b[1;33m[\u001b[0m\u001b[1;33m:\u001b[0m\u001b[1;36m5\u001b[0m\u001b[1;33m]\u001b[0m\u001b[1;33m,\u001b[0m \u001b[1;34m\"cumulative\"\u001b[0m\u001b[1;33m,\u001b[0m \u001b[0mdoFullProfile\u001b[0m\u001b[1;33m=\u001b[0m\u001b[0mTrue\u001b[0m\u001b[1;33m)\u001b[0m\u001b[1;33m\u001b[0m\u001b[0m\n\u001b[0m\u001b[0;32m     31\u001b[0m \u001b[1;32mprint\u001b[0m \u001b[0mtime\u001b[0m\u001b[1;33m.\u001b[0m\u001b[0mtime\u001b[0m\u001b[1;33m(\u001b[0m\u001b[1;33m)\u001b[0m\u001b[1;33m-\u001b[0m\u001b[0mt0\u001b[0m\u001b[1;33m\u001b[0m\u001b[0m\n",
        "\u001b[1;32m/users/mlh4/work/work/profiling_functions.py\u001b[0m in \u001b[0;36mplot\u001b[1;34m(self, profilers, keys, field, doFullProfile, shortLabel)\u001b[0m\n\u001b[0;32m    101\u001b[0m \u001b[1;33m\u001b[0m\u001b[0m\n\u001b[0;32m    102\u001b[0m         \u001b[0mgs\u001b[0m\u001b[1;33m.\u001b[0m\u001b[0mtight_layout\u001b[0m\u001b[1;33m(\u001b[0m\u001b[0mfig\u001b[0m\u001b[1;33m,\u001b[0m \u001b[0mrect\u001b[0m\u001b[1;33m=\u001b[0m\u001b[1;33m[\u001b[0m\u001b[1;36m0\u001b[0m\u001b[1;33m,\u001b[0m\u001b[1;36m0\u001b[0m\u001b[1;33m,\u001b[0m\u001b[1;36m1\u001b[0m\u001b[1;33m,\u001b[0m\u001b[1;36m1\u001b[0m\u001b[1;33m]\u001b[0m\u001b[1;33m)\u001b[0m\u001b[1;33m\u001b[0m\u001b[0m\n\u001b[1;32m--> 103\u001b[1;33m         \u001b[0mplt\u001b[0m\u001b[1;33m.\u001b[0m\u001b[0mloglog\u001b[0m\u001b[1;33m(\u001b[0m\u001b[0mncells\u001b[0m\u001b[1;33m,\u001b[0m \u001b[0mncells\u001b[0m\u001b[1;33m**\u001b[0m\u001b[1;36m2\u001b[0m\u001b[1;33m,\u001b[0m \u001b[0mlabel\u001b[0m\u001b[1;33m=\u001b[0m\u001b[1;34m\"$ncells^2$\"\u001b[0m\u001b[1;33m)\u001b[0m\u001b[1;33m\u001b[0m\u001b[0m\n\u001b[0m\u001b[0;32m    104\u001b[0m         \u001b[0mplt\u001b[0m\u001b[1;33m.\u001b[0m\u001b[0mloglog\u001b[0m\u001b[1;33m(\u001b[0m\u001b[0mncells\u001b[0m\u001b[1;33m,\u001b[0m \u001b[0mncells\u001b[0m\u001b[1;33m*\u001b[0m\u001b[0mnp\u001b[0m\u001b[1;33m.\u001b[0m\u001b[0mlog\u001b[0m\u001b[1;33m(\u001b[0m\u001b[0mncells\u001b[0m\u001b[1;33m)\u001b[0m\u001b[1;33m,\u001b[0m \u001b[0mlabel\u001b[0m\u001b[1;33m=\u001b[0m\u001b[1;34m\"$n\\log(n)$\"\u001b[0m\u001b[1;33m)\u001b[0m\u001b[1;33m\u001b[0m\u001b[0m\n\u001b[0;32m    105\u001b[0m         \u001b[0mplt\u001b[0m\u001b[1;33m.\u001b[0m\u001b[0mlegend\u001b[0m\u001b[1;33m(\u001b[0m\u001b[0mbbox_to_anchor\u001b[0m\u001b[1;33m=\u001b[0m\u001b[1;33m(\u001b[0m\u001b[1;36m1.05\u001b[0m\u001b[1;33m,\u001b[0m \u001b[1;36m1\u001b[0m\u001b[1;33m)\u001b[0m\u001b[1;33m,\u001b[0m \u001b[0mloc\u001b[0m\u001b[1;33m=\u001b[0m\u001b[1;36m2\u001b[0m\u001b[1;33m,\u001b[0m \u001b[0mncol\u001b[0m\u001b[1;33m=\u001b[0m\u001b[1;36m1\u001b[0m\u001b[1;33m,\u001b[0m \u001b[0mmode\u001b[0m\u001b[1;33m=\u001b[0m\u001b[1;34m\"wrap\"\u001b[0m\u001b[1;33m,\u001b[0m \u001b[0mborderaxespad\u001b[0m\u001b[1;33m=\u001b[0m\u001b[1;36m0.\u001b[0m\u001b[1;33m,\u001b[0m \u001b[0mprop\u001b[0m\u001b[1;33m=\u001b[0m\u001b[1;33m{\u001b[0m\u001b[1;34m'size'\u001b[0m\u001b[1;33m:\u001b[0m \u001b[1;36m12\u001b[0m\u001b[1;33m}\u001b[0m\u001b[1;33m)\u001b[0m\u001b[1;33m\u001b[0m\u001b[0m\n",
        "\u001b[1;31mTypeError\u001b[0m: unsupported operand type(s) for ** or pow(): 'list' and 'int'"
       ]
      },
      {
       "output_type": "stream",
       "stream": "stdout",
       "text": [
        "10000 100000 /users/mlh4/fipy/fipy/terms/binaryTerm.py _buildAndAddMatrices\n",
        "1000\n",
        "10000\n",
        "100000\n"
       ]
      },
      {
       "output_type": "display_data",
       "png": "[encoded data removed]"
      }
     ],
     "prompt_number": 1
    },
    {
     "cell_type": "code",
     "collapsed": false,
     "input": [],
     "language": "python",
     "metadata": {},
     "outputs": [],
     "prompt_number": "*"
    },
    {
     "cell_type": "code",
     "collapsed": false,
     "input": [
      "ncells = np.array(np.logspace(1, 3, 10), dtype=int)\n",
      "sim2D = Simulation2DProfile()\n",
      "prof = FiPyProfileTime(sim2D._run, ncells, regenerate=False)\n",
      "keys = prof.get_sorted_keys(ncells[-1], sort_field=\"time\")\n",
      "prof.plot(keys[:5], \"time\", doFullProfile=True)"
     ],
     "language": "python",
     "metadata": {},
     "outputs": []
    },
    {
     "cell_type": "code",
     "collapsed": false,
     "input": [],
     "language": "python",
     "metadata": {},
     "outputs": []
    },
    {
     "cell_type": "code",
     "collapsed": false,
     "input": [
      "ncells = np.array(np.logspace(1, 5, 10), dtype=int)\n",
      "sim2D = Simulation2DProfile()\n",
      "prof = FiPyProfileTime(sim2D._run, ncells, regenerate=True)\n",
      "keys = prof.get_sorted_keys(ncells[0], sort_field=\"cumulative\")\n",
      "prof.plot(keys[:5], \"cumulative\", doFullProfile=True)"
     ],
     "language": "python",
     "metadata": {},
     "outputs": [
      {
       "output_type": "stream",
       "stream": "stderr",
       "text": [
        "/users/mlh4/fipy/fipy/tools/numerix.py:190: DeprecationWarning: :func:`reshape` is deprecated, use :func:`numerix.reshape() <numpy.reshape>` instead!\n",
        "  return arr.reshape(shape)\n",
        "/users/mlh4/fipy/fipy/solvers/pysparse/pysparseSolver.py:76: DeprecationWarning: PyArray_FromDimsAndDataAndDescr: use PyArray_NewFromDescr.\n",
        "  self.iterations, P)\n"
       ]
      },
      {
       "output_type": "stream",
       "stream": "stdout",
       "text": [
        "10 "
       ]
      },
      {
       "output_type": "stream",
       "stream": "stdout",
       "text": [
        "27 "
       ]
      },
      {
       "output_type": "stream",
       "stream": "stdout",
       "text": [
        "77 "
       ]
      },
      {
       "output_type": "stream",
       "stream": "stdout",
       "text": [
        "215 "
       ]
      },
      {
       "output_type": "stream",
       "stream": "stdout",
       "text": [
        "599 "
       ]
      },
      {
       "output_type": "stream",
       "stream": "stderr",
       "text": [
        "/users/mlh4/extremefill2D/extremefill2D/simulation.py:223: MaximumIterationWarning: Iterations: 1001. Relative error: 4.85632e-10\n",
        "  potentialRes = potentialEq.sweep(potential, dt=dt, solver=potentialSolver)\n",
        "/users/mlh4/extremefill2D/extremefill2D/simulation.py:223: MaximumIterationWarning: Iterations: 1001. Relative error: 5.79101e-10\n",
        "  potentialRes = potentialEq.sweep(potential, dt=dt, solver=potentialSolver)\n"
       ]
      },
      {
       "output_type": "stream",
       "stream": "stderr",
       "text": [
        "/users/mlh4/extremefill2D/extremefill2D/simulation.py:223: MaximumIterationWarning: Iterations: 1001. Relative error: 6.47444e-10\n",
        "  potentialRes = potentialEq.sweep(potential, dt=dt, solver=potentialSolver)\n",
        "/users/mlh4/extremefill2D/extremefill2D/simulation.py:223: MaximumIterationWarning: Iterations: 1001. Relative error: 7.39922e-10\n",
        "  potentialRes = potentialEq.sweep(potential, dt=dt, solver=potentialSolver)\n"
       ]
      },
      {
       "output_type": "stream",
       "stream": "stdout",
       "text": [
        "1668 "
       ]
      },
      {
       "output_type": "stream",
       "stream": "stderr",
       "text": [
        "/users/mlh4/extremefill2D/extremefill2D/simulation.py:223: MaximumIterationWarning: Iterations: 1001. Relative error: 1.03879e-09\n",
        "  potentialRes = potentialEq.sweep(potential, dt=dt, solver=potentialSolver)\n",
        "/users/mlh4/extremefill2D/extremefill2D/simulation.py:223: MaximumIterationWarning: Iterations: 1001. Relative error: 2.63062e-05\n",
        "  potentialRes = potentialEq.sweep(potential, dt=dt, solver=potentialSolver)\n"
       ]
      }
     ],
     "prompt_number": "*"
    },
    {
     "cell_type": "code",
     "collapsed": false,
     "input": [
      "import datetime\n",
      "now = datetime.datetime.now() \n",
      "print str(now)[:16].replace(\" \", \"_\")"
     ],
     "language": "python",
     "metadata": {},
     "outputs": [
      {
       "output_type": "stream",
       "stream": "stdout",
       "text": [
        "2013-07-11_14:57\n"
       ]
      }
     ],
     "prompt_number": 7
    },
    {
     "cell_type": "code",
     "collapsed": false,
     "input": [
      "now = datetime.datetime.now() \n",
      "print now.\n",
      "print type(now)\n"
     ],
     "language": "python",
     "metadata": {},
     "outputs": [
      {
       "output_type": "stream",
       "stream": "stdout",
       "text": [
        "7\n",
        "<type 'datetime.datetime'>\n"
       ]
      }
     ],
     "prompt_number": 12
    },
    {
     "cell_type": "code",
     "collapsed": false,
     "input": [],
     "language": "python",
     "metadata": {},
     "outputs": []
    }
   ],
   "metadata": {}
  }
 ]
}