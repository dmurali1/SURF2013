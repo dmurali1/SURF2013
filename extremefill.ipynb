{
 "metadata": {
  "name": "extremefill"
 },
 "nbformat": 3,
 "nbformat_minor": 0,
 "worksheets": [
  {
   "cells": [
    {
     "cell_type": "markdown",
     "metadata": {},
     "source": [
      "What am I doing?\n",
      "\n",
      " * Get total time as number of cells increases\n",
      "\n",
      " * Caching data \n",
      "\n",
      " * Find how much time is used during solve \n",
      "\n",
      " * Find out how much memory is being used as problem scales \n",
      "\n",
      " * switching print to false turns off output \n",
      "\n",
      " * vary number of total steps \n",
      "\n",
      " * remove the initial steps and setup time which are different from other steps and calculate the time per step \n",
      "\n",
      " "
     ]
    },
    {
     "cell_type": "markdown",
     "metadata": {},
     "source": [
      "only plot\n",
      "\n",
      " * run\n",
      " * timestepper\n",
      " * solve\n"
     ]
    },
    {
     "cell_type": "code",
     "collapsed": false,
     "input": [
      "from fipyprofile import FiPyProfile\n",
      "from profiling_functions import FiPyProfileTime\n",
      "from polyxtal import PolyxtalSimulation\n",
      "import numpy as np\n",
      "from extremefill2D.simulation2D import Simulation2D\n",
      "from profiling_functions import ProfileViewer\n",
      "\n",
      "import time\n",
      "t0= time.time()\n",
      "class Simulation2DProfile(Simulation2D):\n",
      "    def _run(self, ncell):\n",
      "        self.run(totalSteps=10,\n",
      "                 Nx=int(np.sqrt(ncell)),\n",
      "                 CFL=0.1,\n",
      "                 sweeps=4,\n",
      "                 tol=1e-10,\n",
      "                 areaRatio=2 * 0.093,\n",
      "                 solver_tol=1e-6,\n",
      "                 dtMax=1.,\n",
      "                 totalTime=5000.,\n",
      "                 PRINT=False,\n",
      "                 dt=0.01)\n",
      "ncells = np.array(np.logspace(3, 5, 3), dtype=int)\n",
      "        \n",
      "print np.sqrt(ncells)\n",
      "sim2D = Simulation2DProfile()\n",
      "profilers = [FiPyProfileTime(sim2D._run, ncell, regenerate=True, funcString='extremefill1') for ncell in ncells]\n",
      "##prof = FiPyProfileTime(sim2D._run, ncells, regenerate=False, funcString='extremefill0')\n",
      "#keys = profilers[0].get_sorted_keys(sort_field=\"cumulative\")\n",
      "runkey = profilers[0].get_key_from_function_pointer(sim2D.run)\n",
      "timestepperkey = profilers[0].get_key_from_function_pointer(sim2D.timestepper)\n",
      "solvekey = profilers[0].get_key_from_function_pointer(solve)\n",
      "keys = [runkey, timestepperkey, solvekey]\n",
      "print keys\n",
      "ProfileViewer().plot(profilers, keys, \"cumulative\", doFullProfile=False) \n",
      "print time.time()-t0\n"
     ],
     "language": "python",
     "metadata": {},
     "outputs": [
      {
       "output_type": "stream",
       "stream": "stdout",
       "text": [
        "[  31.6227766   100.          316.22776602]\n",
        "[('/users/mlh4/extremefill2D/extremefill2D/simulation.py', 15, 'run'), ('/users/mlh4/extremefill2D/extremefill2D/simulation.py', 229, 'timestepper'), ('/users/mlh4/.virtualenvs/default/lib/python2.6/site-packages/numpy/linalg/linalg.py', 244, 'solve')]"
       ]
      },
      {
       "output_type": "stream",
       "stream": "stdout",
       "text": [
        "\n",
        "key:"
       ]
      },
      {
       "output_type": "stream",
       "stream": "stdout",
       "text": [
        " ('/users/mlh4/extremefill2D/extremefill2D/simulation.py', 15, 'run')\n",
        "[6.1433049999999998, 7.8905699999999994, 30.239763999999997]\n",
        "/users/mlh4/extremefill2D/extremefill2D/simulation.py run\n",
        "key: ('/users/mlh4/extremefill2D/extremefill2D/simulation.py', 229, 'timestepper')\n",
        "[4.3810799999999999, 5.7328659999999996, 22.861955999999999]\n",
        "/users/mlh4/extremefill2D/extremefill2D/simulation.py timestepper\n",
        "key: ('/users/mlh4/.virtualenvs/default/lib/python2.6/site-packages/numpy/linalg/linalg.py', 244, 'solve')\n",
        "[nan, nan, nan]"
       ]
      },
      {
       "output_type": "stream",
       "stream": "stdout",
       "text": [
        "\n",
        "/users/mlh4/.virtualenvs/default/lib/python2.6/site-packages/numpy/linalg/linalg.py solve\n"
       ]
      },
      {
       "output_type": "display_data",
       "png": "[encoded data removed]"
      },
      {
       "output_type": "stream",
       "stream": "stdout",
       "text": [
        "45.7093110085\n"
       ]
      }
     ],
     "prompt_number": 21
    },
    {
     "cell_type": "code",
     "collapsed": false,
     "input": [],
     "language": "python",
     "metadata": {},
     "outputs": [],
     "prompt_number": "*"
    },
    {
     "cell_type": "code",
     "collapsed": false,
     "input": [
      "ncells = np.array(np.logspace(1, 3, 10), dtype=int)\n",
      "sim2D = Simulation2DProfile()\n",
      "prof = FiPyProfileTime(sim2D._run, ncells, regenerate=False)\n",
      "keys = prof.get_sorted_keys(ncells[-1], sort_field=\"time\")\n",
      "prof.plot(keys[:5], \"time\", doFullProfile=True)"
     ],
     "language": "python",
     "metadata": {},
     "outputs": []
    },
    {
     "cell_type": "code",
     "collapsed": false,
     "input": [],
     "language": "python",
     "metadata": {},
     "outputs": []
    },
    {
     "cell_type": "code",
     "collapsed": false,
     "input": [
      "ncells = np.array(np.logspace(1, 5, 10), dtype=int)\n",
      "sim2D = Simulation2DProfile()\n",
      "prof = FiPyProfileTime(sim2D._run, ncells, regenerate=True)\n",
      "keys = prof.get_sorted_keys(ncells[0], sort_field=\"cumulative\")\n",
      "prof.plot(keys[:5], \"cumulative\", doFullProfile=True)"
     ],
     "language": "python",
     "metadata": {},
     "outputs": [
      {
       "output_type": "stream",
       "stream": "stderr",
       "text": [
        "/users/mlh4/fipy/fipy/tools/numerix.py:190: DeprecationWarning: :func:`reshape` is deprecated, use :func:`numerix.reshape() <numpy.reshape>` instead!\n",
        "  return arr.reshape(shape)\n",
        "/users/mlh4/fipy/fipy/solvers/pysparse/pysparseSolver.py:76: DeprecationWarning: PyArray_FromDimsAndDataAndDescr: use PyArray_NewFromDescr.\n",
        "  self.iterations, P)\n"
       ]
      },
      {
       "output_type": "stream",
       "stream": "stdout",
       "text": [
        "10 "
       ]
      },
      {
       "output_type": "stream",
       "stream": "stdout",
       "text": [
        "27 "
       ]
      },
      {
       "output_type": "stream",
       "stream": "stdout",
       "text": [
        "77 "
       ]
      },
      {
       "output_type": "stream",
       "stream": "stdout",
       "text": [
        "215 "
       ]
      },
      {
       "output_type": "stream",
       "stream": "stdout",
       "text": [
        "599 "
       ]
      },
      {
       "output_type": "stream",
       "stream": "stderr",
       "text": [
        "/users/mlh4/extremefill2D/extremefill2D/simulation.py:223: MaximumIterationWarning: Iterations: 1001. Relative error: 4.85632e-10\n",
        "  potentialRes = potentialEq.sweep(potential, dt=dt, solver=potentialSolver)\n",
        "/users/mlh4/extremefill2D/extremefill2D/simulation.py:223: MaximumIterationWarning: Iterations: 1001. Relative error: 5.79101e-10\n",
        "  potentialRes = potentialEq.sweep(potential, dt=dt, solver=potentialSolver)\n"
       ]
      },
      {
       "output_type": "stream",
       "stream": "stderr",
       "text": [
        "/users/mlh4/extremefill2D/extremefill2D/simulation.py:223: MaximumIterationWarning: Iterations: 1001. Relative error: 6.47444e-10\n",
        "  potentialRes = potentialEq.sweep(potential, dt=dt, solver=potentialSolver)\n",
        "/users/mlh4/extremefill2D/extremefill2D/simulation.py:223: MaximumIterationWarning: Iterations: 1001. Relative error: 7.39922e-10\n",
        "  potentialRes = potentialEq.sweep(potential, dt=dt, solver=potentialSolver)\n"
       ]
      },
      {
       "output_type": "stream",
       "stream": "stdout",
       "text": [
        "1668 "
       ]
      },
      {
       "output_type": "stream",
       "stream": "stderr",
       "text": [
        "/users/mlh4/extremefill2D/extremefill2D/simulation.py:223: MaximumIterationWarning: Iterations: 1001. Relative error: 1.03879e-09\n",
        "  potentialRes = potentialEq.sweep(potential, dt=dt, solver=potentialSolver)\n",
        "/users/mlh4/extremefill2D/extremefill2D/simulation.py:223: MaximumIterationWarning: Iterations: 1001. Relative error: 2.63062e-05\n",
        "  potentialRes = potentialEq.sweep(potential, dt=dt, solver=potentialSolver)\n"
       ]
      }
     ],
     "prompt_number": "*"
    },
    {
     "cell_type": "code",
     "collapsed": false,
     "input": [
      "import datetime\n",
      "now = datetime.datetime.now() \n",
      "print str(now)[:16].replace(\" \", \"_\")"
     ],
     "language": "python",
     "metadata": {},
     "outputs": [
      {
       "output_type": "stream",
       "stream": "stdout",
       "text": [
        "2013-07-11_14:57\n"
       ]
      }
     ],
     "prompt_number": 7
    },
    {
     "cell_type": "code",
     "collapsed": false,
     "input": [
      "now = datetime.datetime.now() \n",
      "print now.\n",
      "print type(now)\n"
     ],
     "language": "python",
     "metadata": {},
     "outputs": [
      {
       "output_type": "stream",
       "stream": "stdout",
       "text": [
        "7\n",
        "<type 'datetime.datetime'>\n"
       ]
      }
     ],
     "prompt_number": 12
    },
    {
     "cell_type": "code",
     "collapsed": false,
     "input": [],
     "language": "python",
     "metadata": {},
     "outputs": []
    }
   ],
   "metadata": {}
  }
 ]
}