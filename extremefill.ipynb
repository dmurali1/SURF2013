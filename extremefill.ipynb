{
 "metadata": {
  "name": "extremefill"
 },
 "nbformat": 3,
 "nbformat_minor": 0,
 "worksheets": [
  {
   "cells": [
    {
     "cell_type": "markdown",
     "metadata": {},
     "source": [
      "What am I doing?\n",
      "\n",
      " * Get total time as number of cells increases\n",
      "\n",
      " * Caching data \n",
      "\n",
      " * Find how much time is used during solve \n",
      "\n",
      " * Find out how much memory is being used as problem scales \n",
      "\n",
      " * switching print to false turns off output \n",
      "\n",
      " * vary number of total steps \n",
      "\n",
      " * remove the initial steps and setup time which are different from other steps and calculate the time per step \n",
      "\n",
      " "
     ]
    },
    {
     "cell_type": "code",
     "collapsed": false,
     "input": [
      "from fipyprofile import FiPyProfile\n",
      "from profiling_functions import FiPyProfileTime\n",
      "from polyxtal import PolyxtalSimulation\n",
      "import numpy as np\n",
      "from extremefill2D.simulation2D import Simulation2D\n",
      "from profiling_memory import MemoryViewer\n",
      "import time\n",
      "t0= time.time()\n",
      "class Simulation2DProfile(Simulation2D):\n",
      "    def _run(self, ncell):\n",
      "        self.run(totalSteps=10,\n",
      "                 Nx=int(np.sqrt(ncell)),\n",
      "                 CFL=0.1,\n",
      "                 sweeps=4,\n",
      "                 tol=1e-10,\n",
      "                 areaRatio=2 * 0.093,\n",
      "                 solver_tol=1e-6,\n",
      "                 dtMax=1.,\n",
      "                 totalTime=5000.,\n",
      "                 PRINT=False,\n",
      "                 dt=0.01)\n",
      "        \n",
      "ncells = np.array(np.logspace(4, 5, 3), dtype=int)\n",
      "print np.sqrt(ncells)\n",
      "sim2D = Simulation2DProfile()\n",
      "prof = FiPyProfileTime(sim2D._run, ncells, regenerate=True)\n",
      "keys = prof.get_sorted_keys(ncells[0], sort_field=\"cumulative\")\n",
      "prof.plot(keys[:5], \"cumulative\", doFullProfile=True)   \n",
      "print time.time()-t0\n"
     ],
     "language": "python",
     "metadata": {},
     "outputs": [
      {
       "output_type": "stream",
       "stream": "stderr",
       "text": [
        "/users/mlh4/.virtualenvs/default/lib/python2.6/site-packages/memory_profiler.py:35: UserWarning: psutil module not found. memory_profiler will be slow\n",
        "  warnings.warn(\"psutil module not found. memory_profiler will be slow\")\n",
        "/users/mlh4/fipy/fipy/tools/numerix.py:190: DeprecationWarning: :func:`reshape` is deprecated, use :func:`numerix.reshape() <numpy.reshape>` instead!\n",
        "  return arr.reshape(shape)\n"
       ]
      },
      {
       "output_type": "stream",
       "stream": "stdout",
       "text": [
        "[ 100.          177.82575741  316.22776602]\n",
        "10000 "
       ]
      },
      {
       "output_type": "stream",
       "stream": "stdout",
       "text": [
        "[ 1.  1.  1.  1.]\n",
        "[ 0.34856484  0.62002798  0.02350079  0.0080704 ]"
       ]
      },
      {
       "output_type": "stream",
       "stream": "stdout",
       "text": [
        "\n",
        "[  1.23662723e-01   2.14055728e-01   1.90902498e-04   1.53109761e-03]"
       ]
      },
      {
       "output_type": "stream",
       "stream": "stdout",
       "text": [
        "\n",
        "[  3.88193084e-02   7.67684980e-02   3.60882632e-05   5.45291147e-04]"
       ]
      },
      {
       "output_type": "stream",
       "stream": "stdout",
       "text": [
        "\n",
        "Did not reach sufficient tolerance\n",
        "kPlus 150.0\n",
        "kMinus 24500000.0\n",
        "res [  1.03844325e-03   3.94083437e-09   3.68479400e-16   2.10254020e-10]\n",
        "\n",
        "theta 0.0\n",
        "cBar_supp 1.0\n",
        "cBar_cu 1.0\n",
        "potentialBar 1.0\n",
        "min(extension) 7.22965473284e-08\n",
        "min(depositionRate) 2.08766657954e-09\n",
        "min(current) 56.7404253314\n",
        "min(cupric) 998.185131798\n",
        "min(baseCurrent) 56.8166539214\n",
        "max(interfaceTheta) - 1: -0.970989117597\n",
        "min(interfaceTheta) 0.0\n",
        "min(I0) 38.8395647039\n",
        "dt 0.011\n",
        "elapsed time 0.0\n",
        "step 0\n",
        "\n",
        "[ 1.  1.  1.  1.]"
       ]
      },
      {
       "output_type": "stream",
       "stream": "stdout",
       "text": [
        "\n",
        "[ 0.11432697  0.02822635  0.0266427   0.00379507]"
       ]
      },
      {
       "output_type": "stream",
       "stream": "stdout",
       "text": [
        "\n",
        "[  1.57987881e-03   4.13217590e-03   1.01327678e-04   1.42470770e-05]"
       ]
      },
      {
       "output_type": "stream",
       "stream": "stdout",
       "text": [
        "\n",
        "[  3.03536624e-06   4.13220062e-03   2.98390878e-06   3.45700523e-10]"
       ]
      },
      {
       "output_type": "stream",
       "stream": "stdout",
       "text": [
        "\n",
        "Did not reach sufficient tolerance\n",
        "kPlus 150.0\n",
        "kMinus 24500000.0\n",
        "res [  7.72247358e-10   8.33274439e-12   2.21314215e-17   1.24428954e-16]\n",
        "\n",
        "theta 0.0\n",
        "cBar_supp 1.0\n",
        "cBar_cu 1.0\n",
        "potentialBar 1.0\n",
        "min(extension) 2.08766657954e-09\n",
        "min(depositionRate) 1.47732835412e-09\n",
        "min(current) 40.1521200698\n",
        "min(cupric) 997.124018252\n",
        "min(baseCurrent) 40.2280814124\n",
        "max(interfaceTheta) - 1: -0.942545149486\n",
        "min(interfaceTheta) 0.0\n",
        "min(I0) 37.7018059795\n",
        "dt 0.0121\n",
        "elapsed time 0.011\n",
        "step 1\n",
        "\n",
        "[ 1.  1.  1.  1.]"
       ]
      },
      {
       "output_type": "stream",
       "stream": "stdout",
       "text": [
        "\n",
        "[  3.96460376e+00   5.00255800e-03   2.95471899e-02   3.87324330e-03]"
       ]
      },
      {
       "output_type": "stream",
       "stream": "stdout",
       "text": [
        "\n",
        "[  3.79397952e-02   4.87749471e-03   1.15198452e-04   1.49440514e-05]"
       ]
      },
      {
       "output_type": "stream",
       "stream": "stdout",
       "text": [
        "\n",
        "[  1.58167125e-04   4.87789285e-03   3.94871226e-06   5.95736558e-10]"
       ]
      },
      {
       "output_type": "stream",
       "stream": "stdout",
       "text": [
        "\n",
        "Did not reach sufficient tolerance\n",
        "kPlus 150.0\n",
        "kMinus 24500000.0\n",
        "res [  5.83483899e-10   9.51098360e-12   2.21693686e-17   2.02744535e-16]\n",
        "\n",
        "theta 0.0\n",
        "cBar_supp 1.0\n",
        "cBar_cu 1.0\n",
        "potentialBar 1.0\n",
        "min(extension) 1.47732835412e-09\n",
        "min(depositionRate) 1.46495260979e-09\n",
        "min(current) 39.8157612832\n",
        "min(cupric) 996.079262658\n",
        "min(baseCurrent) 39.922321947\n",
        "max(interfaceTheta) - 1: -0.914369800787\n",
        "min(interfaceTheta) 0.0\n",
        "min(I0) 36.5747920315\n",
        "dt 0.01331\n",
        "elapsed time 0.0231\n",
        "step 2\n",
        "\n",
        "[ 1.  1.  1.  1.]"
       ]
      },
      {
       "output_type": "stream",
       "stream": "stdout",
       "text": [
        "\n",
        "[  9.27905064e+01   5.74088381e-03   3.18755298e-02   3.97767254e-03]"
       ]
      },
      {
       "output_type": "stream",
       "stream": "stdout",
       "text": [
        "\n",
        "[  8.75894409e-01   5.64038060e-03   1.28654569e-04   1.56297915e-05]"
       ]
      },
      {
       "output_type": "stream",
       "stream": "stdout",
       "text": [
        "\n",
        "[  3.79450265e-03   5.64077686e-03   5.14055153e-06   9.18446969e-10]"
       ]
      },
      {
       "output_type": "stream",
       "stream": "stdout",
       "text": [
        "\n",
        "Did not reach sufficient tolerance\n",
        "kPlus 150.0\n",
        "kMinus 24500000.0\n",
        "res [  5.85805982e-10   1.06848801e-11   2.29387559e-17   2.98630116e-16]\n",
        "\n",
        "theta 0.0\n",
        "cBar_supp 1.0\n",
        "cBar_cu 1.0\n",
        "potentialBar 1.0\n",
        "min(extension) 1.46495260979e-09\n",
        "min(depositionRate) 1.46171600279e-09\n",
        "min(current) 39.7277939519\n",
        "min(cupric) 995.001058353\n",
        "min(baseCurrent) 39.8596835366\n",
        "max(interfaceTheta) - 1: -0.886239164401\n",
        "min(interfaceTheta) 0.0\n",
        "min(I0) 35.449566576\n",
        "dt 0.014641\n",
        "elapsed time 0.03641\n",
        "step 3\n",
        "\n",
        "[ 1.  1.  1.  1.]"
       ]
      },
      {
       "output_type": "stream",
       "stream": "stdout",
       "text": [
        "\n",
        "[  7.42955644e+01   6.56690585e-03   3.34962454e-02   4.12022356e-03]"
       ]
      },
      {
       "output_type": "stream",
       "stream": "stdout",
       "text": [
        "\n",
        "[  6.89950285e-01   1.16734994e-03   1.41804163e-04   1.66892496e-05]"
       ]
      },
      {
       "output_type": "stream",
       "stream": "stdout",
       "text": [
        "\n",
        "[  3.04902014e-03   1.16725367e-03   6.62161829e-06   1.35929157e-09]"
       ]
      },
      {
       "output_type": "stream",
       "stream": "stdout",
       "text": [
        "\n",
        "Did not reach sufficient tolerance\n",
        "kPlus 150.0\n",
        "kMinus 24500000.0\n",
        "res [  5.80286706e-10   2.16736156e-12   2.45047389e-17   4.25518247e-16]\n",
        "\n",
        "theta 0.0\n",
        "cBar_supp 1.0\n",
        "cBar_cu 1.0\n",
        "potentialBar 1.0\n",
        "min(extension) 1.4614810893e-09\n",
        "min(depositionRate) 1.45846325674e-09\n",
        "min(current) 39.6393879793\n",
        "min(cupric) 993.857551287\n",
        "min(baseCurrent) 39.8069367017\n",
        "max(interfaceTheta) - 1: -0.857988500236\n",
        "min(interfaceTheta) 0.0\n",
        "min(I0) 34.3195400094\n",
        "dt 0.0161051\n",
        "elapsed time 0.051051\n",
        "step 4\n",
        "\n",
        "[ 1.  1.  1.  1.]"
       ]
      },
      {
       "output_type": "stream",
       "stream": "stdout",
       "text": [
        "\n",
        "[  7.91006791e+01   7.49162331e-03   3.46403706e-02   4.29522870e-03]"
       ]
      },
      {
       "output_type": "stream",
       "stream": "stdout",
       "text": [
        "\n",
        "[  7.30153722e-01   1.42598837e-03   1.55885978e-04   1.80962067e-05]"
       ]
      },
      {
       "output_type": "stream",
       "stream": "stdout",
       "text": [
        "\n",
        "[  3.37267655e-03   1.42588929e-03   8.53765028e-06   1.96637672e-09]"
       ]
      },
      {
       "output_type": "stream",
       "stream": "stdout",
       "text": [
        "\n",
        "Did not reach sufficient tolerance\n",
        "kPlus 150.0\n",
        "kMinus 24500000.0\n",
        "res [  5.98008960e-10   2.60641501e-12   2.69441278e-17   5.95716683e-16]\n",
        "\n",
        "theta 0.0\n",
        "cBar_supp 1.0\n",
        "cBar_cu 1.0\n",
        "potentialBar 1.0\n",
        "min(extension) 1.45785142625e-09\n",
        "min(depositionRate) 1.45531187397e-09\n",
        "min(current) 39.5537369465\n",
        "min(cupric) 992.643741737\n",
        "min(baseCurrent) 39.7499883797\n",
        "max(interfaceTheta) - 1: -0.829500391254\n",
        "min(interfaceTheta) 0.0\n",
        "min(I0) 33.1800156501\n",
        "dt 0.01771561\n",
        "elapsed time 0.0671561\n",
        "step 5\n",
        "\n",
        "[ 1.  1.  1.  1.]"
       ]
      },
      {
       "output_type": "stream",
       "stream": "stdout",
       "text": [
        "\n",
        "[  8.44193282e+01   8.54550534e-03   3.56430676e-02   4.49864688e-03]"
       ]
      },
      {
       "output_type": "stream",
       "stream": "stdout",
       "text": [
        "\n",
        "[  7.75046350e-01   1.74665161e-03   1.72952450e-04   1.98712842e-05]"
       ]
      },
      {
       "output_type": "stream",
       "stream": "stdout",
       "text": [
        "\n",
        "[  3.76216456e-03   1.74653661e-03   1.11342216e-05   2.80841644e-09]"
       ]
      },
      {
       "output_type": "stream",
       "stream": "stdout",
       "text": [
        "\n",
        "Did not reach sufficient tolerance\n",
        "kPlus 150.0\n",
        "kMinus 24500000.0\n",
        "res [  6.21745055e-10   3.15044133e-12   3.03837135e-17   8.25905739e-16]\n",
        "\n",
        "theta 0.0\n",
        "cBar_supp 1.0\n",
        "cBar_cu 1.0\n",
        "potentialBar 1.0\n",
        "min(extension) 1.45439934374e-09\n",
        "min(depositionRate) 1.44636448397e-09\n",
        "min(current) 39.3105569679\n",
        "min(cupric) 991.343653706\n",
        "min(baseCurrent) 39.421944362\n",
        "max(interfaceTheta) - 1: -0.800696784308\n",
        "min(interfaceTheta) 0.0\n",
        "min(I0) 32.0278713723\n",
        "dt 0.019487171\n",
        "elapsed time 0.08487171\n",
        "step 6\n",
        "\n",
        "[ 1.  1.  1.  1.]"
       ]
      },
      {
       "output_type": "stream",
       "stream": "stdout",
       "text": [
        "\n",
        "[  9.00739289e+01   9.75422188e-03   3.67751417e-02   4.73180844e-03]"
       ]
      },
      {
       "output_type": "stream",
       "stream": "stdout",
       "text": [
        "\n",
        "[  8.21974046e-01   2.14102998e-03   1.77294164e-04   2.20696352e-05]"
       ]
      },
      {
       "output_type": "stream",
       "stream": "stdout",
       "text": [
        "\n",
        "[  4.22244103e-03   2.14087854e-03   1.07668490e-05   4.00385649e-09]"
       ]
      },
      {
       "output_type": "stream",
       "stream": "stdout",
       "text": [
        "\n",
        "Did not reach sufficient tolerance\n",
        "kPlus 150.0\n",
        "kMinus 24500000.0\n",
        "res [  6.51443707e-10   3.81700195e-12   2.55178836e-17   1.14474893e-15]\n",
        "\n",
        "theta 0.0\n",
        "cBar_supp 1.0\n",
        "cBar_cu 1.0\n",
        "potentialBar 1.0\n",
        "min(extension) 1.44636448397e-09\n",
        "min(depositionRate) 1.42419416861e-09\n",
        "min(current) 38.7079927771\n",
        "min(cupric) 989.943226354\n",
        "min(baseCurrent) 38.8328985672\n",
        "max(interfaceTheta) - 1: -0.771532986246\n",
        "min(interfaceTheta) 0.0\n",
        "min(I0) 30.8613194499\n",
        "dt 0.0214358881\n",
        "elapsed time 0.104358881\n",
        "step 7\n",
        "\n",
        "[ 1.  1.  1.  1.]"
       ]
      },
      {
       "output_type": "stream",
       "stream": "stdout",
       "text": [
        "\n",
        "[  9.61554846e+01   1.01317461e-02   3.82431872e-02   5.00103726e-03]"
       ]
      },
      {
       "output_type": "stream",
       "stream": "stdout",
       "text": [
        "\n",
        "[  8.71629079e-01   2.87173966e-03   1.97267759e-04   2.49175436e-05]"
       ]
      },
      {
       "output_type": "stream",
       "stream": "stdout",
       "text": [
        "\n",
        "[  4.76558226e-03   2.87158288e-03   1.34105698e-05   5.71382163e-09]"
       ]
      },
      {
       "output_type": "stream",
       "stream": "stdout",
       "text": [
        "\n",
        "Did not reach sufficient tolerance\n",
        "kPlus 150.0\n",
        "kMinus 24500000.0\n",
        "res [  6.86338770e-10   5.06645915e-12   2.75830987e-17   1.58926279e-15]\n",
        "\n",
        "theta 0.0\n",
        "cBar_supp 1.0\n",
        "cBar_cu 1.0\n",
        "potentialBar 1.0\n",
        "min(extension) 1.42419416861e-09\n",
        "min(depositionRate) 1.39941285076e-09\n",
        "min(current) 38.0344644804\n",
        "min(cupric) 988.428924755\n",
        "min(baseCurrent) 38.172991659\n",
        "max(interfaceTheta) - 1: -0.741992516578\n",
        "min(interfaceTheta) 0.0\n",
        "min(I0) 29.6797006631\n",
        "dt 0.02357947691\n",
        "elapsed time 0.1257947691\n",
        "step 8\n",
        "\n",
        "[ 1.  1.  1.  1.]"
       ]
      },
      {
       "output_type": "stream",
       "stream": "stdout",
       "text": [
        "\n",
        "[  1.02783658e+02   1.15243316e-02   4.02359179e-02   5.31856799e-03]"
       ]
      },
      {
       "output_type": "stream",
       "stream": "stdout",
       "text": [
        "\n",
        "[  9.24668857e-01   3.57723062e-03   2.24381720e-04   2.86737977e-05]"
       ]
      },
      {
       "output_type": "stream",
       "stream": "stdout",
       "text": [
        "\n",
        "[  5.44901521e-03   3.57702729e-03   1.69642628e-05   8.23204083e-09]"
       ]
      },
      {
       "output_type": "stream",
       "stream": "stderr",
       "text": [
        "/users/mlh4/fipy/fipy/solvers/pysparse/pysparseSolver.py:76: DeprecationWarning: PyArray_FromDimsAndDataAndDescr: use PyArray_NewFromDescr.\n",
        "  self.iterations, P)\n",
        "/users/mlh4/extremefill2D/extremefill2D/simulation.py:287: DeprecationWarning: :func:`getNumberOfCells` is deprecated, use the :attr:`numberOfCells` property instead!\n",
        "  self.parameters['ncell'] = mesh.getNumberOfCells()\n"
       ]
      },
      {
       "output_type": "stream",
       "stream": "stdout",
       "text": [
        "\n",
        "Did not reach sufficient tolerance\n",
        "kPlus 150.0\n",
        "kMinus 24500000.0\n",
        "res [  7.31620418e-10   6.25133601e-12   3.01811445e-17   2.22818235e-15]\n",
        "\n",
        "theta 0.0\n",
        "cBar_supp 1.0\n",
        "cBar_cu 1.0\n",
        "potentialBar 1.0\n",
        "min(extension) 1.39941285076e-09\n",
        "min(depositionRate) 1.37189431835e-09\n",
        "min(current) 37.2865417762\n",
        "min(cupric) 986.786207087\n",
        "min(baseCurrent) 37.4387241308\n",
        "max(interfaceTheta) - 1: -0.712082340728\n",
        "min(interfaceTheta) 0.0\n",
        "min(I0) 28.4832936291\n",
        "dt 0.025937424601\n",
        "elapsed time 0.14937424601\n",
        "step 9\n",
        "\n",
        "31622"
       ]
      },
      {
       "output_type": "stream",
       "stream": "stdout",
       "text": [
        " [ 1.  1.  1.  1.]\n",
        "[ 0.34780461  0.61715821  0.02098083  0.00906857]"
       ]
      },
      {
       "output_type": "stream",
       "stream": "stdout",
       "text": [
        "\n",
        "[  1.23657716e-01   2.14066581e-01   1.92871973e-04   1.54687818e-03]"
       ]
      },
      {
       "output_type": "stream",
       "stream": "stdout",
       "text": [
        "\n",
        "[  3.88400711e-02   7.67770720e-02   3.51227957e-05   5.48950070e-04]"
       ]
      },
      {
       "output_type": "stream",
       "stream": "stdout",
       "text": [
        "\n",
        "Did not reach sufficient tolerance\n",
        "kPlus 150.0\n",
        "kMinus 24500000.0\n",
        "res [  7.92883401e-04   3.00786491e-09   2.73672175e-16   1.52478708e-10]\n",
        "\n",
        "theta 0.0\n",
        "cBar_supp 1.0\n",
        "cBar_cu 1.0\n",
        "potentialBar 1.0\n",
        "min(extension) 7.22965473284e-08\n",
        "min(depositionRate) 2.09658489981e-09\n",
        "min(current) 56.9828152276\n",
        "min(cupric) 997.587573358\n",
        "min(baseCurrent) 57.0704132181\n",
        "max(interfaceTheta) - 1: -0.97228107754\n",
        "min(interfaceTheta) 0.0\n",
        "min(I0) 38.8912431016\n",
        "dt 0.011\n",
        "elapsed time 0.0\n",
        "step 0\n",
        "\n",
        "[ 1.  1.  1.  1.]"
       ]
      },
      {
       "output_type": "stream",
       "stream": "stdout",
       "text": [
        "\n",
        "[ 0.10922802  0.03708783  0.02846362  0.00466929]"
       ]
      },
      {
       "output_type": "stream",
       "stream": "stdout",
       "text": [
        "\n",
        "[  1.49603330e-03   4.64792400e-03   1.37732341e-04   2.12952465e-05]"
       ]
      },
      {
       "output_type": "stream",
       "stream": "stdout",
       "text": [
        "\n",
        "[  3.44269463e-06   4.64769486e-03   1.58451381e-05   4.89176196e-10]"
       ]
      },
      {
       "output_type": "stream",
       "stream": "stdout",
       "text": [
        "\n",
        "Did not reach sufficient tolerance\n",
        "kPlus 150.0\n",
        "kMinus 24500000.0\n",
        "res [  6.69403245e-10   5.44013873e-12   7.15895102e-17   1.24006849e-16]\n",
        "\n",
        "theta 0.0\n",
        "cBar_supp 1.0\n",
        "cBar_cu 1.0\n",
        "potentialBar 1.0\n",
        "min(extension) 2.09643482395e-09\n",
        "min(depositionRate) 1.48584547383e-09\n",
        "min(current) 40.3836057866\n",
        "min(cupric) 996.486693093\n",
        "min(baseCurrent) 40.4825276172\n",
        "max(interfaceTheta) - 1: -0.945592330767\n",
        "min(interfaceTheta) 0.0\n",
        "min(I0) 37.8236932307\n",
        "dt 0.0121\n",
        "elapsed time 0.011\n",
        "step 1\n",
        "\n",
        "[ 1.  1.  1.  1.]"
       ]
      },
      {
       "output_type": "stream",
       "stream": "stdout",
       "text": [
        "\n",
        "[ 3.64787031  0.0082423   0.03496481  0.00470527]"
       ]
      },
      {
       "output_type": "stream",
       "stream": "stdout",
       "text": [
        "\n",
        "[  3.58127577e-02   2.79930596e-03   1.64626931e-04   2.17757350e-05]"
       ]
      },
      {
       "output_type": "stream",
       "stream": "stdout",
       "text": [
        "\n",
        "[  2.73546850e-04   2.79911233e-03   2.17003676e-05   8.15949274e-10]"
       ]
      },
      {
       "output_type": "stream",
       "stream": "stdout",
       "text": [
        "\n",
        "Did not reach sufficient tolerance\n",
        "kPlus 150.0\n",
        "kMinus 24500000.0\n",
        "res [  7.74128930e-10   3.06819846e-12   6.64956499e-17   1.95039442e-16]\n",
        "\n",
        "theta 0.0\n",
        "cBar_supp 1.0\n",
        "cBar_cu 1.0\n",
        "potentialBar 1.0\n",
        "min(extension) 1.48569700347e-09\n",
        "min(depositionRate) 1.47407799793e-09\n",
        "min(current) 40.0637790509\n",
        "min(cupric) 995.422862318\n",
        "min(baseCurrent) 40.1799295957\n",
        "max(interfaceTheta) - 1: -0.919286800483\n",
        "min(interfaceTheta) 0.0\n",
        "min(I0) 36.7714720193\n",
        "dt 0.01331\n",
        "elapsed time 0.0231\n",
        "step 2\n",
        "\n",
        "[ 1.  1.  1.  1.]"
       ]
      },
      {
       "output_type": "stream",
       "stream": "stdout",
       "text": [
        "\n",
        "[  9.66840335e+01   8.60812642e-03   3.98722901e-02   4.82394246e-03]"
       ]
      },
      {
       "output_type": "stream",
       "stream": "stdout",
       "text": [
        "\n",
        "[  9.42883537e-01   3.35346493e-03   1.92892865e-04   2.27247398e-05]"
       ]
      },
      {
       "output_type": "stream",
       "stream": "stdout",
       "text": [
        "\n",
        "[  7.52622758e-03   3.35323769e-03   2.78855865e-05   1.25087127e-09]"
       ]
      },
      {
       "output_type": "stream",
       "stream": "stdout",
       "text": [
        "\n",
        "Did not reach sufficient tolerance\n",
        "kPlus 150.0\n",
        "kMinus 24500000.0\n",
        "res [  7.91436571e-10   3.54584024e-12   6.51238693e-17   2.88033834e-16]\n",
        "\n",
        "theta 0.0\n",
        "cBar_supp 1.0\n",
        "cBar_cu 1.0\n",
        "potentialBar 1.0\n",
        "min(extension) 1.47353582511e-09\n",
        "min(depositionRate) 1.47083454435e-09\n",
        "min(current) 39.9756256372\n",
        "min(cupric) 994.346595728\n",
        "min(baseCurrent) 40.1187527182\n",
        "max(interfaceTheta) - 1: -0.892985624113\n",
        "min(interfaceTheta) 0.0\n",
        "min(I0) 35.7194249645\n",
        "dt 0.014641\n",
        "elapsed time 0.03641\n",
        "step 3\n",
        "\n",
        "[ 1.  1.  1.  1.]"
       ]
      },
      {
       "output_type": "stream",
       "stream": "stdout",
       "text": [
        "\n",
        "[  7.60399567e+01   9.57608767e-03   4.32885196e-02   5.01330468e-03]"
       ]
      },
      {
       "output_type": "stream",
       "stream": "stdout",
       "text": [
        "\n",
        "[  7.44423304e-01   3.99489680e-03   2.18276905e-04   2.43994234e-05]"
       ]
      },
      {
       "output_type": "stream",
       "stream": "stdout",
       "text": [
        "\n",
        "[  5.20479951e-03   3.99464824e-03   3.45120821e-05   1.85983086e-09]"
       ]
      },
      {
       "output_type": "stream",
       "stream": "stdout",
       "text": [
        "\n",
        "Did not reach sufficient tolerance\n",
        "kPlus 150.0\n",
        "kMinus 24500000.0\n",
        "res [  6.94769826e-10   4.12904781e-12   6.63082869e-17   4.18183820e-16]\n",
        "\n",
        "theta 0.0\n",
        "cBar_supp 1.0\n",
        "cBar_cu 1.0\n",
        "potentialBar 1.0\n",
        "min(extension) 1.47064394737e-09\n",
        "min(depositionRate) 1.46746794938e-09\n",
        "min(current) 39.8841253791\n",
        "min(cupric) 993.23089534\n",
        "min(baseCurrent) 40.0544867487\n",
        "max(interfaceTheta) - 1: -0.866453445439\n",
        "min(interfaceTheta) 0.0\n",
        "min(I0) 34.6581378175\n",
        "dt 0.0161051\n",
        "elapsed time 0.051051\n",
        "step 4\n",
        "\n",
        "[ 1.  1.  1.  1.]"
       ]
      },
      {
       "output_type": "stream",
       "stream": "stdout",
       "text": [
        "\n",
        "[  8.12558594e+01   1.09683872e-02   4.57233103e-02   5.25316901e-03]"
       ]
      },
      {
       "output_type": "stream",
       "stream": "stdout",
       "text": [
        "\n",
        "[  8.03306708e-01   4.78870782e-03   2.42521806e-04   2.66507811e-05]"
       ]
      },
      {
       "output_type": "stream",
       "stream": "stdout",
       "text": [
        "\n",
        "[  5.95024986e-03   4.78843419e-03   4.18467297e-05   2.71104853e-09]"
       ]
      },
      {
       "output_type": "stream",
       "stream": "stdout",
       "text": [
        "\n",
        "Did not reach sufficient tolerance\n",
        "kPlus 150.0\n",
        "kMinus 24500000.0\n",
        "res [  7.48054343e-10   4.86473396e-12   6.91573810e-17   6.00102563e-16]\n",
        "\n",
        "theta 0.0\n",
        "cBar_supp 1.0\n",
        "cBar_cu 1.0\n",
        "potentialBar 1.0\n",
        "min(extension) 1.46721942275e-09\n",
        "min(depositionRate) 1.46389751244e-09\n",
        "min(current) 39.7870849263\n",
        "min(cupric) 992.055707397\n",
        "min(baseCurrent) 39.986889735\n",
        "max(interfaceTheta) - 1: -0.839541398497\n",
        "min(interfaceTheta) 0.0\n",
        "min(I0) 33.5816559399\n",
        "dt 0.01771561\n",
        "elapsed time 0.0671561\n",
        "step 5\n",
        "\n",
        "[ 1.  1.  1.  1.]"
       ]
      },
      {
       "output_type": "stream",
       "stream": "stdout",
       "text": [
        "\n",
        "[  8.70305506e+01   1.02905748e-02   4.77241411e-02   5.52954238e-03]"
       ]
      },
      {
       "output_type": "stream",
       "stream": "stdout",
       "text": [
        "\n",
        "[  8.72323347e-01   5.03896017e-03   2.67963553e-04   2.93984836e-05]"
       ]
      },
      {
       "output_type": "stream",
       "stream": "stdout",
       "text": [
        "\n",
        "[  6.82963516e-03   5.03870920e-03   5.03682029e-05   3.89277147e-09]"
       ]
      },
      {
       "output_type": "stream",
       "stream": "stdout",
       "text": [
        "\n",
        "Did not reach sufficient tolerance\n",
        "kPlus 150.0\n",
        "kMinus 24500000.0\n",
        "res [  8.10348979e-10   5.04594311e-12   7.31860726e-17   8.51984027e-16]\n",
        "\n",
        "theta 0.0\n",
        "cBar_supp 1.0\n",
        "cBar_cu 1.0\n",
        "potentialBar 1.0\n",
        "min(extension) 1.46384512266e-09\n",
        "min(depositionRate) 1.45626531277e-09\n",
        "min(current) 39.5796503387\n",
        "min(cupric) 990.805240051\n",
        "min(baseCurrent) 39.7047986952\n",
        "max(interfaceTheta) - 1: -0.812159050834\n",
        "min(interfaceTheta) 0.0\n",
        "min(I0) 32.4863620334\n",
        "dt 0.019487171\n",
        "elapsed time 0.08487171\n",
        "step 6\n",
        "\n",
        "[ 1.  1.  1.  1.]"
       ]
      },
      {
       "output_type": "stream",
       "stream": "stdout",
       "text": [
        "\n",
        "[  9.32829751e+01   1.15946658e-02   4.96859736e-02   5.83662540e-03]"
       ]
      },
      {
       "output_type": "stream",
       "stream": "stdout",
       "text": [
        "\n",
        "[  9.45104611e-01   2.45194882e-03   2.96975877e-04   3.26384069e-05]"
       ]
      },
      {
       "output_type": "stream",
       "stream": "stdout",
       "text": [
        "\n",
        "[  6.56921759e-03   2.45186190e-03   6.07185963e-05   5.52936738e-09]"
       ]
      },
      {
       "output_type": "stream",
       "stream": "stdout",
       "text": [
        "\n",
        "Did not reach sufficient tolerance\n",
        "kPlus 150.0\n",
        "kMinus 24500000.0\n",
        "res [  7.36556826e-10   2.42478803e-12   7.82117053e-17   1.19867091e-15]\n",
        "\n",
        "theta 0.0\n",
        "cBar_supp 1.0\n",
        "cBar_cu 1.0\n",
        "potentialBar 1.0\n",
        "min(extension) 1.45626531277e-09\n",
        "min(depositionRate) 1.43638788325e-09\n",
        "min(current) 39.0394042016\n",
        "min(cupric) 989.464724989\n",
        "min(baseCurrent) 39.1786156218\n",
        "max(interfaceTheta) - 1: -0.784258995276\n",
        "min(interfaceTheta) 0.0\n",
        "min(I0) 31.370359811\n",
        "dt 0.0214358881\n",
        "elapsed time 0.104358881\n",
        "step 7\n",
        "\n",
        "[ 1.  1.  1.  1.]"
       ]
      },
      {
       "output_type": "stream",
       "stream": "stdout",
       "text": [
        "\n",
        "[  9.92715882e+01   1.30981701e-02   5.18451195e-02   6.17200832e-03]"
       ]
      },
      {
       "output_type": "stream",
       "stream": "stdout",
       "text": [
        "\n",
        "[  1.01735228e+00   3.01938334e-03   3.32024917e-04   3.64241386e-05]"
       ]
      },
      {
       "output_type": "stream",
       "stream": "stdout",
       "text": [
        "\n",
        "[  7.48328189e-03   3.01932834e-03   7.37405940e-05   7.79109549e-09]"
       ]
      },
      {
       "output_type": "stream",
       "stream": "stdout",
       "text": [
        "\n",
        "Did not reach sufficient tolerance\n",
        "kPlus 150.0\n",
        "kMinus 24500000.0\n",
        "res [  7.98838640e-10   2.95246677e-12   8.42958226e-17   1.67308350e-15]\n",
        "\n",
        "theta 0.0\n",
        "cBar_supp 1.0\n",
        "cBar_cu 1.0\n",
        "potentialBar 1.0\n",
        "min(extension) 1.43638788325e-09\n",
        "min(depositionRate) 1.41430372877e-09\n",
        "min(current) 38.4391817662\n",
        "min(cupric) 988.019837864\n",
        "min(baseCurrent) 38.5925951857\n",
        "max(interfaceTheta) - 1: -0.75582719568\n",
        "min(interfaceTheta) 0.0\n",
        "min(I0) 30.2330878272\n",
        "dt 0.02357947691\n",
        "elapsed time 0.1257947691\n",
        "step 8\n",
        "\n",
        "[ 1.  1.  1.  1.]"
       ]
      },
      {
       "output_type": "stream",
       "stream": "stdout",
       "text": [
        "\n",
        "[  1.06356513e+02   1.48205255e-02   5.43698185e-02   6.53956393e-03]"
       ]
      },
      {
       "output_type": "stream",
       "stream": "stdout",
       "text": [
        "\n",
        "[  1.10014585e+00   3.71388599e-03   3.66699491e-04   4.30869003e-05]"
       ]
      },
      {
       "output_type": "stream",
       "stream": "stdout",
       "text": [
        "\n",
        "[  8.70165474e-03   3.71387264e-03   1.97114543e-05   1.15067850e-08]"
       ]
      },
      {
       "output_type": "stream",
       "stream": "stdout",
       "text": [
        "\n",
        "Did not reach sufficient tolerance\n",
        "kPlus 150.0\n",
        "kMinus 24500000.0\n",
        "res [  8.77914633e-10   3.59420907e-12   1.99498474e-17   2.44565195e-15]\n",
        "\n",
        "theta 0.0\n",
        "cBar_supp 1.0\n",
        "cBar_cu 1.0\n",
        "potentialBar 1.0\n",
        "min(extension) 1.41430372877e-09\n",
        "min(depositionRate) 1.38985820601e-09\n",
        "min(current) 37.7747800018\n",
        "min(cupric) 986.458912943\n",
        "min(baseCurrent) 37.9425331249\n",
        "max(interfaceTheta) - 1: -0.726876079104\n",
        "min(interfaceTheta) 0.0\n",
        "min(I0) 29.0750431642\n",
        "dt 0.025937424601\n",
        "elapsed time 0.14937424601\n",
        "step 9\n",
        "\n",
        "100000"
       ]
      },
      {
       "output_type": "stream",
       "stream": "stdout",
       "text": [
        " [ 1.  1.  1.  1.]\n",
        "[ 0.34727053  0.6149746   0.01901539  0.00978771]"
       ]
      },
      {
       "output_type": "stream",
       "stream": "stdout",
       "text": [
        "\n",
        "[  1.23683509e-01   2.14125002e-01   1.87577205e-04   1.56056020e-03]"
       ]
      },
      {
       "output_type": "stream",
       "stream": "stdout",
       "text": [
        "\n",
        "[  3.88794092e-02   7.68448019e-02   3.42452680e-05   5.50242334e-04]"
       ]
      },
      {
       "output_type": "stream",
       "stream": "stdout",
       "text": [
        "\n",
        "Did not reach sufficient tolerance\n",
        "kPlus 150.0\n",
        "kMinus 24500000.0\n",
        "res [  5.93107784e-04   2.24976025e-09   1.99400753e-16   1.08654963e-10]\n",
        "\n",
        "theta 0.0\n",
        "cBar_supp 1.0\n",
        "cBar_cu 1.0\n",
        "potentialBar 1.0\n",
        "min(extension) 7.22965473284e-08\n",
        "min(depositionRate) 2.10195278505e-09\n",
        "min(current) 57.1287083001\n",
        "min(cupric) 997.112147831\n",
        "min(baseCurrent) 57.2259773578\n",
        "max(interfaceTheta) - 1: -0.972932026456\n",
        "min(interfaceTheta) 0.0\n",
        "min(I0) 38.9172810583\n",
        "dt 0.011\n",
        "elapsed time 0.0\n",
        "step 0\n",
        "\n",
        "[ 1.  1.  1.  1.]"
       ]
      },
      {
       "output_type": "stream",
       "stream": "stdout",
       "text": [
        "\n",
        "[ 0.10612756  0.04537025  0.03371802  0.00530537]"
       ]
      },
      {
       "output_type": "stream",
       "stream": "stdout",
       "text": [
        "\n",
        "[  1.45316313e-03   8.30455749e-03   1.79381274e-04   2.78232416e-05]"
       ]
      },
      {
       "output_type": "stream",
       "stream": "stdout",
       "text": [
        "\n",
        "[  4.62889297e-06   4.85912213e-03   1.66374627e-05   6.09196372e-10]"
       ]
      },
      {
       "output_type": "stream",
       "stream": "stdout",
       "text": [
        "\n",
        "Did not reach sufficient tolerance\n",
        "kPlus 150.0\n",
        "kMinus 24500000.0\n",
        "res [  6.73698339e-10   3.51979753e-12   4.23402701e-17   1.09035992e-16]\n",
        "\n",
        "theta 0.0\n",
        "cBar_supp 1.0\n",
        "cBar_cu 1.0\n",
        "potentialBar 1.0\n",
        "min(extension) 2.10192153298e-09\n",
        "min(depositionRate) 1.4906066394e-09\n",
        "min(current) 40.5130089021\n",
        "min(cupric) 996.043401091\n",
        "min(baseCurrent) 40.6149227864\n",
        "max(interfaceTheta) - 1: -0.946898912135\n",
        "min(interfaceTheta) 0.0\n",
        "min(I0) 37.8759564854\n",
        "dt 0.0121\n",
        "elapsed time 0.011\n",
        "step 1\n",
        "\n",
        "[ 1.  1.  1.  1.]"
       ]
      },
      {
       "output_type": "stream",
       "stream": "stdout",
       "text": [
        "\n",
        "[ 3.45183081  0.00950929  0.04406818  0.00532691]"
       ]
      },
      {
       "output_type": "stream",
       "stream": "stdout",
       "text": [
        "\n",
        "[  3.50195463e-02   5.94508755e-03   2.36063280e-04   2.81416406e-05]"
       ]
      },
      {
       "output_type": "stream",
       "stream": "stdout",
       "text": [
        "\n",
        "[  2.90296859e-04   5.94477658e-03   2.45848374e-05   1.00377898e-09]"
       ]
      },
      {
       "output_type": "stream",
       "stream": "stdout",
       "text": [
        "\n",
        "Did not reach sufficient tolerance\n",
        "kPlus 150.0\n",
        "kMinus 24500000.0\n",
        "res [  6.16354872e-10   3.57948546e-12   4.02104919e-17   1.70251776e-16]\n",
        "\n",
        "theta 0.0\n",
        "cBar_supp 1.0\n",
        "cBar_cu 1.0\n",
        "potentialBar 1.0\n",
        "min(extension) 1.49055336811e-09\n",
        "min(depositionRate) 1.4783848176e-09\n",
        "min(current) 40.1808335566\n",
        "min(cupric) 994.991167601\n",
        "min(baseCurrent) 40.3186003293\n",
        "max(interfaceTheta) - 1: -0.92114323955\n",
        "min(interfaceTheta) 0.0\n",
        "min(I0) 36.845729582\n",
        "dt 0.01331\n",
        "elapsed time 0.0231\n",
        "step 2\n",
        "\n",
        "[ 1.  1.  1.  1.]"
       ]
      },
      {
       "output_type": "stream",
       "stream": "stdout",
       "text": [
        "\n",
        "[  1.00196888e+02   1.10355773e-02   5.14465897e-02   5.45900717e-03]"
       ]
      },
      {
       "output_type": "stream",
       "stream": "stdout",
       "text": [
        "\n",
        "[  1.01570836e+00   6.95279142e-03   2.83745400e-04   2.94544619e-05]"
       ]
      },
      {
       "output_type": "stream",
       "stream": "stdout",
       "text": [
        "\n",
        "[  8.40704169e-03   6.95251811e-03   3.30237741e-05   1.54289997e-09]"
       ]
      },
      {
       "output_type": "stream",
       "stream": "stdout",
       "text": [
        "\n",
        "Did not reach sufficient tolerance\n",
        "kPlus 150.0\n",
        "kMinus 24500000.0\n",
        "res [  6.09370834e-10   4.00195449e-12   4.07793749e-17   2.54118372e-16]\n",
        "\n",
        "theta 0.0\n",
        "cBar_supp 1.0\n",
        "cBar_cu 1.0\n",
        "potentialBar 1.0\n",
        "min(extension) 1.47829330127e-09\n",
        "min(depositionRate) 1.47578365094e-09\n",
        "min(current) 40.1101367777\n",
        "min(cupric) 993.940143403\n",
        "min(baseCurrent) 40.2575837972\n",
        "max(interfaceTheta) - 1: -0.895276808188\n",
        "min(interfaceTheta) 0.0\n",
        "min(I0) 35.8110723275\n",
        "dt 0.014641\n",
        "elapsed time 0.03641\n",
        "step 3\n",
        "\n",
        "[ 1.  1.  1.  1.]"
       ]
      },
      {
       "output_type": "stream",
       "stream": "stdout",
       "text": [
        "\n",
        "[  7.71538397e+01   1.25361203e-02   5.70460550e-02   5.67526957e-03]"
       ]
      },
      {
       "output_type": "stream",
       "stream": "stdout",
       "text": [
        "\n",
        "[  7.91477453e-01   7.90645003e-03   3.29385453e-04   3.17533016e-05]"
       ]
      },
      {
       "output_type": "stream",
       "stream": "stdout",
       "text": [
        "\n",
        "[  5.76873626e-03   7.90614615e-03   4.26745700e-05   2.30420930e-09]"
       ]
      },
      {
       "output_type": "stream",
       "stream": "stdout",
       "text": [
        "\n",
        "Did not reach sufficient tolerance\n",
        "kPlus 150.0\n",
        "kMinus 24500000.0\n",
        "res [  5.46038371e-10   4.43452922e-12   4.31247336e-17   3.73898789e-16]\n",
        "\n",
        "theta 0.0\n",
        "cBar_supp 1.0\n",
        "cBar_cu 1.0\n",
        "potentialBar 1.0\n",
        "min(extension) 1.47577521977e-09\n",
        "min(depositionRate) 1.47236855613e-09\n",
        "min(current) 40.0173183488\n",
        "min(cupric) 992.864544654\n",
        "min(baseCurrent) 40.1909424528\n",
        "max(interfaceTheta) - 1: -0.869072274382\n",
        "min(interfaceTheta) 0.0\n",
        "min(I0) 34.7628909753\n",
        "dt 0.0161051\n",
        "elapsed time 0.051051\n",
        "step 4\n",
        "\n",
        "[ 1.  1.  1.  1.]"
       ]
      },
      {
       "output_type": "stream",
       "stream": "stdout",
       "text": [
        "\n",
        "[  8.25700215e+01   1.39672361e-02   6.13748864e-02   5.95177376e-03]"
       ]
      },
      {
       "output_type": "stream",
       "stream": "stdout",
       "text": [
        "\n",
        "[  8.60298521e-01   5.44211208e-03   3.75516061e-04   3.48595566e-05]"
       ]
      },
      {
       "output_type": "stream",
       "stream": "stdout",
       "text": [
        "\n",
        "[  6.55918840e-03   5.44191452e-03   5.39811288e-05   3.37944442e-09]"
       ]
      },
      {
       "output_type": "stream",
       "stream": "stdout",
       "text": [
        "\n",
        "Did not reach sufficient tolerance\n",
        "kPlus 150.0\n",
        "kMinus 24500000.0\n",
        "res [  5.88542031e-10   2.99581553e-12   4.68512669e-17   5.45019737e-16]\n",
        "\n",
        "theta 0.0\n",
        "cBar_supp 1.0\n",
        "cBar_cu 1.0\n",
        "potentialBar 1.0\n",
        "min(extension) 1.47236756845e-09\n",
        "min(depositionRate) 1.46862313477e-09\n",
        "min(current) 39.9155220163\n",
        "min(cupric) 991.737659804\n",
        "min(baseCurrent) 40.0587165719\n",
        "max(interfaceTheta) - 1: -0.842388504159\n",
        "min(interfaceTheta) 0.0\n",
        "min(I0) 33.6955401663\n",
        "dt 0.01771561\n",
        "elapsed time 0.0671561\n",
        "step 5\n",
        "\n",
        "[ 1.  1.  1.  1.]"
       ]
      },
      {
       "output_type": "stream",
       "stream": "stdout",
       "text": [
        "\n",
        "[  8.85976594e+01   1.56620068e-02   6.49474771e-02   6.27387541e-03]"
       ]
      },
      {
       "output_type": "stream",
       "stream": "stdout",
       "text": [
        "\n",
        "[  9.43522104e-01   6.57163749e-03   4.15859620e-04   3.85721222e-05]"
       ]
      },
      {
       "output_type": "stream",
       "stream": "stdout",
       "text": [
        "\n",
        "[  7.51394356e-03   6.57142049e-03   6.45385972e-05   4.87377670e-09]"
       ]
      },
      {
       "output_type": "stream",
       "stream": "stdout",
       "text": [
        "\n",
        "Did not reach sufficient tolerance\n",
        "kPlus 150.0\n",
        "kMinus 24500000.0\n",
        "res [  6.40820383e-10   3.56305940e-12   4.94546415e-17   7.85124050e-16]\n",
        "\n",
        "theta 0.0\n",
        "cBar_supp 1.0\n",
        "cBar_cu 1.0\n",
        "potentialBar 1.0\n",
        "min(extension) 1.46862313446e-09\n",
        "min(depositionRate) 1.45166781594e-09\n",
        "min(current) 39.4546955552\n",
        "min(cupric) 990.54646461\n",
        "min(baseCurrent) 39.5820426438\n",
        "max(interfaceTheta) - 1: -0.815139704897\n",
        "min(interfaceTheta) 0.0\n",
        "min(I0) 32.6055881959\n",
        "dt 0.019487171\n",
        "elapsed time 0.08487171\n",
        "step 6\n",
        "\n",
        "[ 1.  1.  1.  1.]"
       ]
      },
      {
       "output_type": "stream",
       "stream": "stdout",
       "text": [
        "\n",
        "[  9.51890835e+01   1.52465826e-02   6.82491720e-02   6.63216357e-03]"
       ]
      },
      {
       "output_type": "stream",
       "stream": "stdout",
       "text": [
        "\n",
        "[  1.03656746e+00   7.26067332e-03   4.66105400e-04   4.30140997e-05]"
       ]
      },
      {
       "output_type": "stream",
       "stream": "stdout",
       "text": [
        "\n",
        "[  7.74420920e-03   7.26061659e-03   7.91886688e-05   6.96224515e-09]"
       ]
      },
      {
       "output_type": "stream",
       "stream": "stdout",
       "text": [
        "\n",
        "Did not reach sufficient tolerance\n",
        "kPlus 150.0\n",
        "kMinus 24500000.0\n",
        "res [  6.28645981e-10   3.88532316e-12   5.42900158e-17   1.12293701e-15]\n",
        "\n",
        "theta 0.0\n",
        "cBar_supp 1.0\n",
        "cBar_cu 1.0\n",
        "potentialBar 1.0\n",
        "min(extension) 1.45166781594e-09\n",
        "min(depositionRate) 1.43175499667e-09\n",
        "min(current) 38.9134875645\n",
        "min(cupric) 989.276880499\n",
        "min(baseCurrent) 39.0544153132\n",
        "max(interfaceTheta) - 1: -0.787280803666\n",
        "min(interfaceTheta) 0.0\n",
        "min(I0) 31.4912321466\n",
        "dt 0.0214358881\n",
        "elapsed time 0.104358881\n",
        "step 7\n",
        "\n",
        "[ 1.  1.  1.  1.]"
       ]
      },
      {
       "output_type": "stream",
       "stream": "stdout",
       "text": [
        "\n",
        "[  1.01718620e+02   1.71641347e-02   7.16658134e-02   7.02213179e-03]"
       ]
      },
      {
       "output_type": "stream",
       "stream": "stdout",
       "text": [
        "\n",
        "[  1.13081896e+00   5.40223910e-03   5.13743196e-04   4.92414439e-05]"
       ]
      },
      {
       "output_type": "stream",
       "stream": "stdout",
       "text": [
        "\n",
        "[  8.94810389e-03   5.40222653e-03   3.79916576e-05   1.00797870e-08]"
       ]
      },
      {
       "output_type": "stream",
       "stream": "stdout",
       "text": [
        "\n",
        "Did not reach sufficient tolerance\n",
        "kPlus 150.0\n",
        "kMinus 24500000.0\n",
        "res [  6.95780228e-10   2.85691574e-12   2.34074391e-17   1.62857656e-15]\n",
        "\n",
        "theta 0.0\n",
        "cBar_supp 1.0\n",
        "cBar_cu 1.0\n",
        "potentialBar 1.0\n",
        "min(extension) 1.43175499667e-09\n",
        "min(depositionRate) 1.40982125036e-09\n",
        "min(current) 38.3173530538\n",
        "min(cupric) 987.913794255\n",
        "min(baseCurrent) 38.4720218631\n",
        "max(interfaceTheta) - 1: -0.758799259382\n",
        "min(interfaceTheta) 0.0\n",
        "min(I0) 30.3519703753\n",
        "dt 0.02357947691\n",
        "elapsed time 0.1257947691\n",
        "step 8\n",
        "\n",
        "[ 1.  1.  1.  1.]"
       ]
      },
      {
       "output_type": "stream",
       "stream": "stdout",
       "text": [
        "\n",
        "[  1.08572201e+02   1.92958190e-02   7.53513275e-02   7.44018581e-03]"
       ]
      },
      {
       "output_type": "stream",
       "stream": "stdout",
       "text": [
        "\n",
        "[  1.23068517e+00   6.59000552e-03   5.76388416e-04   5.54223274e-05]"
       ]
      },
      {
       "output_type": "stream",
       "stream": "stdout",
       "text": [
        "\n",
        "[  9.12966504e-03   6.59001062e-03   4.83772709e-05   1.42012518e-08]"
       ]
      },
      {
       "output_type": "stream",
       "stream": "stdout",
       "text": [
        "\n",
        "Did not reach sufficient tolerance\n",
        "kPlus 150.0\n",
        "kMinus 24500000.0\n",
        "res [  6.80562224e-10   3.44737489e-12   2.67771010e-17   2.29668817e-15]\n",
        "\n",
        "theta 0.0\n",
        "cBar_supp 1.0\n",
        "cBar_cu 1.0\n",
        "potentialBar 1.0\n",
        "min(extension) 1.40982125036e-09\n",
        "min(depositionRate) 1.38572207602e-09\n",
        "min(current) 37.6623646493\n",
        "min(cupric) 986.445445117\n",
        "min(baseCurrent) 37.8309476125\n",
        "max(interfaceTheta) - 1: -0.729709712689\n",
        "min(interfaceTheta) 0.0\n",
        "min(I0) 29.1883885076\n",
        "dt 0.025937424601\n",
        "elapsed time 0.14937424601\n",
        "step 9\n",
        "\n",
        "10000"
       ]
      },
      {
       "output_type": "stream",
       "stream": "stdout",
       "text": [
        " 31622 100000 <string> <module>\n",
        "10000 31622 100000 <ipython-input-1-c45c13597937> _run\n",
        "10000 "
       ]
      },
      {
       "output_type": "stream",
       "stream": "stdout",
       "text": [
        "31622 100000 /users/mlh4/extremefill2D/extremefill2D/simulation.py run\n",
        "10000 31622 100000 /users/mlh4/fipy/fipy/terms/term.py sweep\n",
        "10000 "
       ]
      },
      {
       "output_type": "stream",
       "stream": "stdout",
       "text": [
        "31622 100000 /users/mlh4/fipy/fipy/terms/term.py _prepareLinearSystem\n",
        "10000 31622 100000"
       ]
      },
      {
       "output_type": "display_data",
       "png": "[encoded data removed]"
      },
      {
       "output_type": "stream",
       "stream": "stdout",
       "text": [
        " 51.5601489544\n"
       ]
      }
     ],
     "prompt_number": 1
    },
    {
     "cell_type": "code",
     "collapsed": false,
     "input": [],
     "language": "python",
     "metadata": {},
     "outputs": [],
     "prompt_number": "*"
    },
    {
     "cell_type": "code",
     "collapsed": false,
     "input": [
      "ncells = np.array(np.logspace(1, 3, 10), dtype=int)\n",
      "sim2D = Simulation2DProfile()\n",
      "prof = FiPyProfileTime(sim2D._run, ncells, regenerate=False)\n",
      "keys = prof.get_sorted_keys(ncells[-1], sort_field=\"time\")\n",
      "prof.plot(keys[:5], \"time\", doFullProfile=True)"
     ],
     "language": "python",
     "metadata": {},
     "outputs": []
    },
    {
     "cell_type": "code",
     "collapsed": false,
     "input": [],
     "language": "python",
     "metadata": {},
     "outputs": []
    },
    {
     "cell_type": "code",
     "collapsed": false,
     "input": [
      "ncells = np.array(np.logspace(1, 5, 10), dtype=int)\n",
      "sim2D = Simulation2DProfile()\n",
      "prof = FiPyProfileTime(sim2D._run, ncells, regenerate=True)\n",
      "keys = prof.get_sorted_keys(ncells[0], sort_field=\"cumulative\")\n",
      "prof.plot(keys[:5], \"cumulative\", doFullProfile=True)"
     ],
     "language": "python",
     "metadata": {},
     "outputs": [
      {
       "output_type": "stream",
       "stream": "stderr",
       "text": [
        "/users/mlh4/fipy/fipy/tools/numerix.py:190: DeprecationWarning: :func:`reshape` is deprecated, use :func:`numerix.reshape() <numpy.reshape>` instead!\n",
        "  return arr.reshape(shape)\n",
        "/users/mlh4/fipy/fipy/solvers/pysparse/pysparseSolver.py:76: DeprecationWarning: PyArray_FromDimsAndDataAndDescr: use PyArray_NewFromDescr.\n",
        "  self.iterations, P)\n"
       ]
      },
      {
       "output_type": "stream",
       "stream": "stdout",
       "text": [
        "10 "
       ]
      },
      {
       "output_type": "stream",
       "stream": "stdout",
       "text": [
        "27 "
       ]
      },
      {
       "output_type": "stream",
       "stream": "stdout",
       "text": [
        "77 "
       ]
      },
      {
       "output_type": "stream",
       "stream": "stdout",
       "text": [
        "215 "
       ]
      },
      {
       "output_type": "stream",
       "stream": "stdout",
       "text": [
        "599 "
       ]
      },
      {
       "output_type": "stream",
       "stream": "stderr",
       "text": [
        "/users/mlh4/extremefill2D/extremefill2D/simulation.py:223: MaximumIterationWarning: Iterations: 1001. Relative error: 4.85632e-10\n",
        "  potentialRes = potentialEq.sweep(potential, dt=dt, solver=potentialSolver)\n",
        "/users/mlh4/extremefill2D/extremefill2D/simulation.py:223: MaximumIterationWarning: Iterations: 1001. Relative error: 5.79101e-10\n",
        "  potentialRes = potentialEq.sweep(potential, dt=dt, solver=potentialSolver)\n"
       ]
      },
      {
       "output_type": "stream",
       "stream": "stderr",
       "text": [
        "/users/mlh4/extremefill2D/extremefill2D/simulation.py:223: MaximumIterationWarning: Iterations: 1001. Relative error: 6.47444e-10\n",
        "  potentialRes = potentialEq.sweep(potential, dt=dt, solver=potentialSolver)\n",
        "/users/mlh4/extremefill2D/extremefill2D/simulation.py:223: MaximumIterationWarning: Iterations: 1001. Relative error: 7.39922e-10\n",
        "  potentialRes = potentialEq.sweep(potential, dt=dt, solver=potentialSolver)\n"
       ]
      },
      {
       "output_type": "stream",
       "stream": "stdout",
       "text": [
        "1668 "
       ]
      },
      {
       "output_type": "stream",
       "stream": "stderr",
       "text": [
        "/users/mlh4/extremefill2D/extremefill2D/simulation.py:223: MaximumIterationWarning: Iterations: 1001. Relative error: 1.03879e-09\n",
        "  potentialRes = potentialEq.sweep(potential, dt=dt, solver=potentialSolver)\n",
        "/users/mlh4/extremefill2D/extremefill2D/simulation.py:223: MaximumIterationWarning: Iterations: 1001. Relative error: 2.63062e-05\n",
        "  potentialRes = potentialEq.sweep(potential, dt=dt, solver=potentialSolver)\n"
       ]
      }
     ],
     "prompt_number": "*"
    },
    {
     "cell_type": "code",
     "collapsed": false,
     "input": [
      "import datetime\n",
      "now = datetime.datetime.now() \n",
      "print str(now)[:16].replace(\" \", \"_\")"
     ],
     "language": "python",
     "metadata": {},
     "outputs": [
      {
       "output_type": "stream",
       "stream": "stdout",
       "text": [
        "2013-07-11_14:57\n"
       ]
      }
     ],
     "prompt_number": 7
    },
    {
     "cell_type": "code",
     "collapsed": false,
     "input": [
      "now = datetime.datetime.now() \n",
      "print now.\n",
      "print type(now)\n"
     ],
     "language": "python",
     "metadata": {},
     "outputs": [
      {
       "output_type": "stream",
       "stream": "stdout",
       "text": [
        "7\n",
        "<type 'datetime.datetime'>\n"
       ]
      }
     ],
     "prompt_number": 12
    },
    {
     "cell_type": "code",
     "collapsed": false,
     "input": [],
     "language": "python",
     "metadata": {},
     "outputs": []
    }
   ],
   "metadata": {}
  }
 ]
}