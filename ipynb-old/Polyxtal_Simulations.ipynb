{
 "metadata": {
  "name": "Polyxtal_Simulations"
 },
 "nbformat": 3,
 "nbformat_minor": 0,
 "worksheets": [
  {
   "cells": [
    {
     "cell_type": "markdown",
     "metadata": {},
     "source": [
      "This notebook contains the time and memory profiling for the Polyxtal example of FiPy. "
     ]
    },
    {
     "cell_type": "heading",
     "level": 3,
     "metadata": {},
     "source": [
      "Time Profiling"
     ]
    },
    {
     "cell_type": "code",
     "collapsed": false,
     "input": [
      "from profiling_functions import FiPyProfileTime\n",
      "from polyxtal import PolyxtalSimulation\n",
      "from fipyprofile import FiPyProfile\n",
      "import numpy as np\n",
      "ncells = np.array(np.logspace(1, 6, 25), dtype=int)\n",
      "polyxtal = PolyxtalSimulation()\n",
      "prof = FiPyProfileTime(polyxtal.setup, ncells, regenerate=False)\n",
      "keys = prof.get_sorted_keys(ncells[-1], sort_field=\"cumulative\")\n",
      "prof.plot(keys[:5], \"cumulative\", doFullProfile=True)"
     ],
     "language": "python",
     "metadata": {},
     "outputs": [],
     "prompt_number": "*"
    }
   ],
   "metadata": {}
  }
 ]
}